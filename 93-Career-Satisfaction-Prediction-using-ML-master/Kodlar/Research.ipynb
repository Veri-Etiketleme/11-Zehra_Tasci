{
 "cells": [
  {
   "cell_type": "code",
   "execution_count": 1,
   "metadata": {},
   "outputs": [],
   "source": [
    "import pandas as pd\n",
    "import numpy as np\n",
    "import matplotlib.pyplot as plt\n",
    "%matplotlib inline   \n",
    "\n",
    "from sklearn.preprocessing import LabelEncoder\n",
    "from collections import defaultdict"
   ]
  },
  {
   "cell_type": "code",
   "execution_count": 2,
   "metadata": {
    "scrolled": true
   },
   "outputs": [
    {
     "name": "stderr",
     "output_type": "stream",
     "text": [
      "C:\\ProgramData\\Anaconda3\\lib\\site-packages\\IPython\\core\\interactiveshell.py:3063: DtypeWarning: Columns (8,12,13,14,15,16,50,51,52,53,55,56,57,58,59,60,61,62,63,64,65,66,67,68,69,70,71,72,73,74,75,76,77,78,79,80,81,82,83,84,85,93,94,95,96,97,98,99,100,101,102,103,104,105,106,107,108,109,110,111,112,113,114,115,116,117,118,119,120,121,122,123,124,125,126,127,128) have mixed types.Specify dtype option on import or set low_memory=False.\n",
      "  interactivity=interactivity, compiler=compiler, result=result)\n"
     ]
    }
   ],
   "source": [
    "data = pd.read_csv('survey_results_public.csv')"
   ]
  },
  {
   "cell_type": "code",
   "execution_count": 3,
   "metadata": {
    "scrolled": true
   },
   "outputs": [
    {
     "data": {
      "text/html": [
       "<div>\n",
       "<style scoped>\n",
       "    .dataframe tbody tr th:only-of-type {\n",
       "        vertical-align: middle;\n",
       "    }\n",
       "\n",
       "    .dataframe tbody tr th {\n",
       "        vertical-align: top;\n",
       "    }\n",
       "\n",
       "    .dataframe thead th {\n",
       "        text-align: right;\n",
       "    }\n",
       "</style>\n",
       "<table border=\"1\" class=\"dataframe\">\n",
       "  <thead>\n",
       "    <tr style=\"text-align: right;\">\n",
       "      <th></th>\n",
       "      <th>Respondent</th>\n",
       "      <th>Hobby</th>\n",
       "      <th>OpenSource</th>\n",
       "      <th>Country</th>\n",
       "      <th>Student</th>\n",
       "      <th>Employment</th>\n",
       "      <th>FormalEducation</th>\n",
       "      <th>UndergradMajor</th>\n",
       "      <th>CompanySize</th>\n",
       "      <th>DevType</th>\n",
       "      <th>...</th>\n",
       "      <th>Exercise</th>\n",
       "      <th>Gender</th>\n",
       "      <th>SexualOrientation</th>\n",
       "      <th>EducationParents</th>\n",
       "      <th>RaceEthnicity</th>\n",
       "      <th>Age</th>\n",
       "      <th>Dependents</th>\n",
       "      <th>MilitaryUS</th>\n",
       "      <th>SurveyTooLong</th>\n",
       "      <th>SurveyEasy</th>\n",
       "    </tr>\n",
       "  </thead>\n",
       "  <tbody>\n",
       "    <tr>\n",
       "      <th>0</th>\n",
       "      <td>1</td>\n",
       "      <td>Yes</td>\n",
       "      <td>No</td>\n",
       "      <td>Kenya</td>\n",
       "      <td>No</td>\n",
       "      <td>Employed part-time</td>\n",
       "      <td>Bachelor’s degree (BA, BS, B.Eng., etc.)</td>\n",
       "      <td>Mathematics or statistics</td>\n",
       "      <td>20 to 99 employees</td>\n",
       "      <td>Full-stack developer</td>\n",
       "      <td>...</td>\n",
       "      <td>3 - 4 times per week</td>\n",
       "      <td>Male</td>\n",
       "      <td>Straight or heterosexual</td>\n",
       "      <td>Bachelor’s degree (BA, BS, B.Eng., etc.)</td>\n",
       "      <td>Black or of African descent</td>\n",
       "      <td>25 - 34 years old</td>\n",
       "      <td>Yes</td>\n",
       "      <td>NaN</td>\n",
       "      <td>The survey was an appropriate length</td>\n",
       "      <td>Very easy</td>\n",
       "    </tr>\n",
       "    <tr>\n",
       "      <th>1</th>\n",
       "      <td>3</td>\n",
       "      <td>Yes</td>\n",
       "      <td>Yes</td>\n",
       "      <td>United Kingdom</td>\n",
       "      <td>No</td>\n",
       "      <td>Employed full-time</td>\n",
       "      <td>Bachelor’s degree (BA, BS, B.Eng., etc.)</td>\n",
       "      <td>A natural science (ex. biology, chemistry, phy...</td>\n",
       "      <td>10,000 or more employees</td>\n",
       "      <td>Database administrator;DevOps specialist;Full-...</td>\n",
       "      <td>...</td>\n",
       "      <td>Daily or almost every day</td>\n",
       "      <td>Male</td>\n",
       "      <td>Straight or heterosexual</td>\n",
       "      <td>Bachelor’s degree (BA, BS, B.Eng., etc.)</td>\n",
       "      <td>White or of European descent</td>\n",
       "      <td>35 - 44 years old</td>\n",
       "      <td>Yes</td>\n",
       "      <td>NaN</td>\n",
       "      <td>The survey was an appropriate length</td>\n",
       "      <td>Somewhat easy</td>\n",
       "    </tr>\n",
       "    <tr>\n",
       "      <th>2</th>\n",
       "      <td>4</td>\n",
       "      <td>Yes</td>\n",
       "      <td>Yes</td>\n",
       "      <td>United States</td>\n",
       "      <td>No</td>\n",
       "      <td>Employed full-time</td>\n",
       "      <td>Associate degree</td>\n",
       "      <td>Computer science, computer engineering, or sof...</td>\n",
       "      <td>20 to 99 employees</td>\n",
       "      <td>Engineering manager;Full-stack developer</td>\n",
       "      <td>...</td>\n",
       "      <td>NaN</td>\n",
       "      <td>NaN</td>\n",
       "      <td>NaN</td>\n",
       "      <td>NaN</td>\n",
       "      <td>NaN</td>\n",
       "      <td>NaN</td>\n",
       "      <td>NaN</td>\n",
       "      <td>NaN</td>\n",
       "      <td>NaN</td>\n",
       "      <td>NaN</td>\n",
       "    </tr>\n",
       "    <tr>\n",
       "      <th>3</th>\n",
       "      <td>5</td>\n",
       "      <td>No</td>\n",
       "      <td>No</td>\n",
       "      <td>United States</td>\n",
       "      <td>No</td>\n",
       "      <td>Employed full-time</td>\n",
       "      <td>Bachelor’s degree (BA, BS, B.Eng., etc.)</td>\n",
       "      <td>Computer science, computer engineering, or sof...</td>\n",
       "      <td>100 to 499 employees</td>\n",
       "      <td>Full-stack developer</td>\n",
       "      <td>...</td>\n",
       "      <td>I don't typically exercise</td>\n",
       "      <td>Male</td>\n",
       "      <td>Straight or heterosexual</td>\n",
       "      <td>Some college/university study without earning ...</td>\n",
       "      <td>White or of European descent</td>\n",
       "      <td>35 - 44 years old</td>\n",
       "      <td>No</td>\n",
       "      <td>No</td>\n",
       "      <td>The survey was an appropriate length</td>\n",
       "      <td>Somewhat easy</td>\n",
       "    </tr>\n",
       "    <tr>\n",
       "      <th>4</th>\n",
       "      <td>7</td>\n",
       "      <td>Yes</td>\n",
       "      <td>No</td>\n",
       "      <td>South Africa</td>\n",
       "      <td>Yes, part-time</td>\n",
       "      <td>Employed full-time</td>\n",
       "      <td>Some college/university study without earning ...</td>\n",
       "      <td>Computer science, computer engineering, or sof...</td>\n",
       "      <td>10,000 or more employees</td>\n",
       "      <td>Data or business analyst;Desktop or enterprise...</td>\n",
       "      <td>...</td>\n",
       "      <td>3 - 4 times per week</td>\n",
       "      <td>Male</td>\n",
       "      <td>Straight or heterosexual</td>\n",
       "      <td>Some college/university study without earning ...</td>\n",
       "      <td>White or of European descent</td>\n",
       "      <td>18 - 24 years old</td>\n",
       "      <td>Yes</td>\n",
       "      <td>NaN</td>\n",
       "      <td>The survey was an appropriate length</td>\n",
       "      <td>Somewhat easy</td>\n",
       "    </tr>\n",
       "  </tbody>\n",
       "</table>\n",
       "<p>5 rows × 129 columns</p>\n",
       "</div>"
      ],
      "text/plain": [
       "   Respondent Hobby OpenSource         Country         Student  \\\n",
       "0           1   Yes         No           Kenya              No   \n",
       "1           3   Yes        Yes  United Kingdom              No   \n",
       "2           4   Yes        Yes   United States              No   \n",
       "3           5    No         No   United States              No   \n",
       "4           7   Yes         No    South Africa  Yes, part-time   \n",
       "\n",
       "           Employment                                    FormalEducation  \\\n",
       "0  Employed part-time           Bachelor’s degree (BA, BS, B.Eng., etc.)   \n",
       "1  Employed full-time           Bachelor’s degree (BA, BS, B.Eng., etc.)   \n",
       "2  Employed full-time                                   Associate degree   \n",
       "3  Employed full-time           Bachelor’s degree (BA, BS, B.Eng., etc.)   \n",
       "4  Employed full-time  Some college/university study without earning ...   \n",
       "\n",
       "                                      UndergradMajor  \\\n",
       "0                          Mathematics or statistics   \n",
       "1  A natural science (ex. biology, chemistry, phy...   \n",
       "2  Computer science, computer engineering, or sof...   \n",
       "3  Computer science, computer engineering, or sof...   \n",
       "4  Computer science, computer engineering, or sof...   \n",
       "\n",
       "                CompanySize  \\\n",
       "0        20 to 99 employees   \n",
       "1  10,000 or more employees   \n",
       "2        20 to 99 employees   \n",
       "3      100 to 499 employees   \n",
       "4  10,000 or more employees   \n",
       "\n",
       "                                             DevType  ...  \\\n",
       "0                               Full-stack developer  ...   \n",
       "1  Database administrator;DevOps specialist;Full-...  ...   \n",
       "2           Engineering manager;Full-stack developer  ...   \n",
       "3                               Full-stack developer  ...   \n",
       "4  Data or business analyst;Desktop or enterprise...  ...   \n",
       "\n",
       "                     Exercise Gender         SexualOrientation  \\\n",
       "0        3 - 4 times per week   Male  Straight or heterosexual   \n",
       "1   Daily or almost every day   Male  Straight or heterosexual   \n",
       "2                         NaN    NaN                       NaN   \n",
       "3  I don't typically exercise   Male  Straight or heterosexual   \n",
       "4        3 - 4 times per week   Male  Straight or heterosexual   \n",
       "\n",
       "                                    EducationParents  \\\n",
       "0           Bachelor’s degree (BA, BS, B.Eng., etc.)   \n",
       "1           Bachelor’s degree (BA, BS, B.Eng., etc.)   \n",
       "2                                                NaN   \n",
       "3  Some college/university study without earning ...   \n",
       "4  Some college/university study without earning ...   \n",
       "\n",
       "                  RaceEthnicity                Age Dependents  MilitaryUS  \\\n",
       "0   Black or of African descent  25 - 34 years old        Yes         NaN   \n",
       "1  White or of European descent  35 - 44 years old        Yes         NaN   \n",
       "2                           NaN                NaN        NaN         NaN   \n",
       "3  White or of European descent  35 - 44 years old         No          No   \n",
       "4  White or of European descent  18 - 24 years old        Yes         NaN   \n",
       "\n",
       "                          SurveyTooLong     SurveyEasy  \n",
       "0  The survey was an appropriate length      Very easy  \n",
       "1  The survey was an appropriate length  Somewhat easy  \n",
       "2                                   NaN            NaN  \n",
       "3  The survey was an appropriate length  Somewhat easy  \n",
       "4  The survey was an appropriate length  Somewhat easy  \n",
       "\n",
       "[5 rows x 129 columns]"
      ]
     },
     "execution_count": 3,
     "metadata": {},
     "output_type": "execute_result"
    }
   ],
   "source": [
    "data.head()"
   ]
  },
  {
   "cell_type": "code",
   "execution_count": 4,
   "metadata": {},
   "outputs": [
    {
     "data": {
      "text/plain": [
       "array(['Respondent', 'Hobby', 'OpenSource', 'Country', 'Student',\n",
       "       'Employment', 'FormalEducation', 'UndergradMajor', 'CompanySize',\n",
       "       'DevType', 'YearsCoding', 'YearsCodingProf', 'JobSatisfaction',\n",
       "       'CareerSatisfaction', 'HopeFiveYears', 'JobSearchStatus',\n",
       "       'LastNewJob', 'AssessJob1', 'AssessJob2', 'AssessJob3',\n",
       "       'AssessJob4', 'AssessJob5', 'AssessJob6', 'AssessJob7',\n",
       "       'AssessJob8', 'AssessJob9', 'AssessJob10', 'AssessBenefits1',\n",
       "       'AssessBenefits2', 'AssessBenefits3', 'AssessBenefits4',\n",
       "       'AssessBenefits5', 'AssessBenefits6', 'AssessBenefits7',\n",
       "       'AssessBenefits8', 'AssessBenefits9', 'AssessBenefits10',\n",
       "       'AssessBenefits11', 'JobContactPriorities1',\n",
       "       'JobContactPriorities2', 'JobContactPriorities3',\n",
       "       'JobContactPriorities4', 'JobContactPriorities5',\n",
       "       'JobEmailPriorities1', 'JobEmailPriorities2',\n",
       "       'JobEmailPriorities3', 'JobEmailPriorities4',\n",
       "       'JobEmailPriorities5', 'JobEmailPriorities6',\n",
       "       'JobEmailPriorities7', 'UpdateCV', 'Currency', 'Salary',\n",
       "       'SalaryType', 'ConvertedSalary', 'CurrencySymbol',\n",
       "       'CommunicationTools', 'TimeFullyProductive', 'EducationTypes',\n",
       "       'SelfTaughtTypes', 'TimeAfterBootcamp', 'HackathonReasons',\n",
       "       'AgreeDisagree1', 'AgreeDisagree2', 'AgreeDisagree3',\n",
       "       'LanguageWorkedWith', 'LanguageDesireNextYear',\n",
       "       'DatabaseWorkedWith', 'DatabaseDesireNextYear',\n",
       "       'PlatformWorkedWith', 'PlatformDesireNextYear',\n",
       "       'FrameworkWorkedWith', 'FrameworkDesireNextYear', 'IDE',\n",
       "       'OperatingSystem', 'NumberMonitors', 'Methodology',\n",
       "       'VersionControl', 'CheckInCode', 'AdBlocker', 'AdBlockerDisable',\n",
       "       'AdBlockerReasons', 'AdsAgreeDisagree1', 'AdsAgreeDisagree2',\n",
       "       'AdsAgreeDisagree3', 'AdsActions', 'AdsPriorities1',\n",
       "       'AdsPriorities2', 'AdsPriorities3', 'AdsPriorities4',\n",
       "       'AdsPriorities5', 'AdsPriorities6', 'AdsPriorities7',\n",
       "       'AIDangerous', 'AIInteresting', 'AIResponsible', 'AIFuture',\n",
       "       'EthicsChoice', 'EthicsReport', 'EthicsResponsible',\n",
       "       'EthicalImplications', 'StackOverflowRecommend',\n",
       "       'StackOverflowVisit', 'StackOverflowHasAccount',\n",
       "       'StackOverflowParticipate', 'StackOverflowJobs',\n",
       "       'StackOverflowDevStory', 'StackOverflowJobsRecommend',\n",
       "       'StackOverflowConsiderMember', 'HypotheticalTools1',\n",
       "       'HypotheticalTools2', 'HypotheticalTools3', 'HypotheticalTools4',\n",
       "       'HypotheticalTools5', 'WakeTime', 'HoursComputer', 'HoursOutside',\n",
       "       'SkipMeals', 'ErgonomicDevices', 'Exercise', 'Gender',\n",
       "       'SexualOrientation', 'EducationParents', 'RaceEthnicity', 'Age',\n",
       "       'Dependents', 'MilitaryUS', 'SurveyTooLong', 'SurveyEasy'],\n",
       "      dtype=object)"
      ]
     },
     "execution_count": 4,
     "metadata": {},
     "output_type": "execute_result"
    }
   ],
   "source": [
    "data.columns.values"
   ]
  },
  {
   "cell_type": "code",
   "execution_count": 5,
   "metadata": {},
   "outputs": [
    {
     "data": {
      "text/plain": [
       "(98855, 129)"
      ]
     },
     "execution_count": 5,
     "metadata": {},
     "output_type": "execute_result"
    }
   ],
   "source": [
    "data.shape"
   ]
  },
  {
   "cell_type": "code",
   "execution_count": 6,
   "metadata": {},
   "outputs": [],
   "source": [
    "df = pd.DataFrame (data, columns = ['Respondent', 'Hobby', 'OpenSource', 'Country', 'Student',\n",
    "       'Employment', 'FormalEducation', 'UndergradMajor', 'CompanySize',\n",
    "       'DevType', 'YearsCoding', 'YearsCodingProf', 'JobSatisfaction',\n",
    "       'CareerSatisfaction', 'HopeFiveYears', 'JobSearchStatus',\n",
    "       'LastNewJob', 'AssessJob1', 'AssessJob2', 'AssessJob3',\n",
    "       'AssessJob4', 'AssessJob5', 'AssessJob6', 'AssessJob7',\n",
    "       'AssessJob8', 'AssessJob9', 'AssessJob10', 'AssessBenefits1',\n",
    "       'AssessBenefits2', 'AssessBenefits3', 'AssessBenefits4',\n",
    "       'AssessBenefits5', 'AssessBenefits6', 'AssessBenefits7',\n",
    "       'AssessBenefits8', 'AssessBenefits9', 'AssessBenefits10',\n",
    "       'AssessBenefits11', 'JobContactPriorities1',\n",
    "       'JobContactPriorities2', 'JobContactPriorities3',\n",
    "       'JobContactPriorities4', 'JobContactPriorities5',\n",
    "       'JobEmailPriorities1', 'JobEmailPriorities2',\n",
    "       'JobEmailPriorities3', 'JobEmailPriorities4',\n",
    "       'JobEmailPriorities5', 'JobEmailPriorities6',\n",
    "       'JobEmailPriorities7', 'UpdateCV', 'Currency', 'Salary',\n",
    "       'SalaryType', 'ConvertedSalary', 'CurrencySymbol',\n",
    "       'CommunicationTools', 'TimeFullyProductive', 'EducationTypes',\n",
    "       'SelfTaughtTypes', 'TimeAfterBootcamp', 'HackathonReasons',\n",
    "       'AgreeDisagree1', 'AgreeDisagree2', 'AgreeDisagree3',\n",
    "       'LanguageWorkedWith', 'LanguageDesireNextYear',\n",
    "       'DatabaseWorkedWith', 'DatabaseDesireNextYear',\n",
    "       'PlatformWorkedWith', 'PlatformDesireNextYear',\n",
    "       'FrameworkWorkedWith', 'FrameworkDesireNextYear', 'IDE',\n",
    "       'OperatingSystem', 'NumberMonitors', 'Methodology',\n",
    "       'VersionControl', 'CheckInCode', 'AdBlocker', 'AdBlockerDisable',\n",
    "       'AdBlockerReasons', 'AdsAgreeDisagree1', 'AdsAgreeDisagree2',\n",
    "       'AdsAgreeDisagree3', 'AdsActions', 'AdsPriorities1',\n",
    "       'AdsPriorities2', 'AdsPriorities3', 'AdsPriorities4',\n",
    "       'AdsPriorities5', 'AdsPriorities6', 'AdsPriorities7',\n",
    "       'AIDangerous', 'AIInteresting', 'AIResponsible', 'AIFuture',\n",
    "       'EthicsChoice', 'EthicsReport', 'EthicsResponsible',\n",
    "       'EthicalImplications', 'StackOverflowRecommend',\n",
    "       'StackOverflowVisit', 'StackOverflowHasAccount',\n",
    "       'StackOverflowParticipate', 'StackOverflowJobs',\n",
    "       'StackOverflowDevStory', 'StackOverflowJobsRecommend',\n",
    "       'StackOverflowConsiderMember', 'HypotheticalTools1',\n",
    "       'HypotheticalTools2', 'HypotheticalTools3', 'HypotheticalTools4',\n",
    "       'HypotheticalTools5', 'WakeTime', 'HoursComputer', 'HoursOutside',\n",
    "       'SkipMeals', 'ErgonomicDevices', 'Exercise', 'Gender',\n",
    "       'SexualOrientation', 'EducationParents', 'RaceEthnicity', 'Age',\n",
    "       'Dependents', 'MilitaryUS', 'SurveyTooLong', 'SurveyEasy'])"
   ]
  },
  {
   "cell_type": "code",
   "execution_count": 7,
   "metadata": {},
   "outputs": [
    {
     "data": {
      "text/plain": [
       "Respondent        int64\n",
       "Hobby            object\n",
       "OpenSource       object\n",
       "Country          object\n",
       "Student          object\n",
       "                  ...  \n",
       "Age              object\n",
       "Dependents       object\n",
       "MilitaryUS       object\n",
       "SurveyTooLong    object\n",
       "SurveyEasy       object\n",
       "Length: 129, dtype: object"
      ]
     },
     "execution_count": 7,
     "metadata": {},
     "output_type": "execute_result"
    }
   ],
   "source": [
    "df.dtypes"
   ]
  },
  {
   "cell_type": "code",
   "execution_count": 8,
   "metadata": {},
   "outputs": [
    {
     "data": {
      "text/plain": [
       "Respondent           0\n",
       "Hobby                0\n",
       "OpenSource           0\n",
       "Country            412\n",
       "Student           3954\n",
       "                 ...  \n",
       "Age              34281\n",
       "Dependents       36259\n",
       "MilitaryUS       83074\n",
       "SurveyTooLong    32914\n",
       "SurveyEasy       32976\n",
       "Length: 129, dtype: int64"
      ]
     },
     "execution_count": 8,
     "metadata": {},
     "output_type": "execute_result"
    }
   ],
   "source": [
    "df.isna().sum()"
   ]
  },
  {
   "cell_type": "code",
   "execution_count": 9,
   "metadata": {},
   "outputs": [],
   "source": [
    "df.drop(['Respondent','Country','AssessJob1', 'AssessJob2', 'AssessJob3', 'DevType', 'IDE',\n",
    "       'AssessJob4', 'AssessJob5', 'AssessJob6', 'AssessJob7',\n",
    "       'AssessJob8', 'AssessJob9', 'AssessJob10','AssessBenefits2', 'AssessBenefits3', 'AssessBenefits4',\n",
    "       'AssessBenefits5', 'AssessBenefits6', 'AssessBenefits7',\n",
    "       'AssessBenefits8', 'AssessBenefits9', 'AssessBenefits10',\n",
    "       'AssessBenefits11', 'JobContactPriorities1',\n",
    "       'JobContactPriorities2', 'JobContactPriorities3',\n",
    "       'JobContactPriorities4', 'JobContactPriorities5',\n",
    "       'JobEmailPriorities1', 'JobEmailPriorities2',\n",
    "       'JobEmailPriorities3', 'JobEmailPriorities4',\n",
    "       'JobEmailPriorities5', 'JobEmailPriorities6',\n",
    "       'JobEmailPriorities7','Salary',\n",
    "       'SalaryType', 'ConvertedSalary', 'CurrencySymbol',\n",
    "       'CommunicationTools', 'TimeFullyProductive', 'SelfTaughtTypes', 'TimeAfterBootcamp','AdsPriorities1',\n",
    "       'AdsPriorities2', 'AdsPriorities3', 'AdsPriorities4',\n",
    "       'AdsPriorities5', 'AdsPriorities6', 'AdsPriorities7','MilitaryUS'], axis=1, inplace=True)"
   ]
  },
  {
   "cell_type": "code",
   "execution_count": 10,
   "metadata": {},
   "outputs": [],
   "source": [
    "#df.head()"
   ]
  },
  {
   "cell_type": "code",
   "execution_count": 11,
   "metadata": {},
   "outputs": [
    {
     "data": {
      "text/plain": [
       "Male                                                                         59458\n",
       "Female                                                                        4025\n",
       "Non-binary, genderqueer, or gender non-conforming                              284\n",
       "Female;Transgender                                                             145\n",
       "Male;Non-binary, genderqueer, or gender non-conforming                         128\n",
       "Transgender                                                                    105\n",
       "Female;Male                                                                     98\n",
       "Transgender;Non-binary, genderqueer, or gender non-conforming                   51\n",
       "Female;Male;Transgender;Non-binary, genderqueer, or gender non-conforming       50\n",
       "Female;Non-binary, genderqueer, or gender non-conforming                        50\n",
       "Male;Transgender                                                                29\n",
       "Female;Transgender;Non-binary, genderqueer, or gender non-conforming            24\n",
       "Female;Male;Transgender                                                         14\n",
       "Male;Transgender;Non-binary, genderqueer, or gender non-conforming               5\n",
       "Female;Male;Non-binary, genderqueer, or gender non-conforming                    3\n",
       "Name: Gender, dtype: int64"
      ]
     },
     "execution_count": 11,
     "metadata": {},
     "output_type": "execute_result"
    }
   ],
   "source": [
    "#value count of each category in Gender\n",
    "df.Gender.value_counts()"
   ]
  },
  {
   "cell_type": "code",
   "execution_count": 12,
   "metadata": {},
   "outputs": [],
   "source": [
    "# Get names of indexes for which column 'Gender' has values other than Male, Female and nan\n",
    "indexNames = df[df.Gender.isin(['Non-binary, genderqueer', 'Transgender', 'Female;Male', 'Transgender;Non-binary, genderqueer, or gender non-conforming', 'Non-binary, genderqueer, or gender non-conforming', 'Female;Transgender', 'Male;Non-binary, genderqueer, or gender non-conforming', 'Female;Non-binary, genderqueer, or gender non-conforming', 'Female;Male;Transgender;Non-binary, genderqueer, or gender non-conforming', 'Male;Transgender', 'Female;Transgender;Non-binary, genderqueer, or gender non-conforming', 'Female;Male;Transgender', 'Male;Transgender;Non-binary, genderqueer, or gender non-conforming', 'Female;Male;Non-binary, genderqueer, or gender non-conforming'])].index\n",
    "\n",
    "# Delete these row indexes from the dataFrame\n",
    "df.drop(indexNames , inplace=True)"
   ]
  },
  {
   "cell_type": "code",
   "execution_count": 13,
   "metadata": {},
   "outputs": [
    {
     "data": {
      "text/plain": [
       "Male      59458\n",
       "Female     4025\n",
       "Name: Gender, dtype: int64"
      ]
     },
     "execution_count": 13,
     "metadata": {},
     "output_type": "execute_result"
    }
   ],
   "source": [
    "#value count of each category in Gender\n",
    "df.Gender.value_counts()"
   ]
  },
  {
   "cell_type": "code",
   "execution_count": 14,
   "metadata": {},
   "outputs": [
    {
     "data": {
      "text/plain": [
       "Index(['Hobby', 'OpenSource', 'Student', 'Employment', 'FormalEducation',\n",
       "       'UndergradMajor', 'CompanySize', 'YearsCoding', 'YearsCodingProf',\n",
       "       'JobSatisfaction', 'CareerSatisfaction', 'HopeFiveYears',\n",
       "       'JobSearchStatus', 'LastNewJob', 'AssessBenefits1', 'UpdateCV',\n",
       "       'Currency', 'EducationTypes', 'HackathonReasons', 'AgreeDisagree1',\n",
       "       'AgreeDisagree2', 'AgreeDisagree3', 'LanguageWorkedWith',\n",
       "       'LanguageDesireNextYear', 'DatabaseWorkedWith',\n",
       "       'DatabaseDesireNextYear', 'PlatformWorkedWith',\n",
       "       'PlatformDesireNextYear', 'FrameworkWorkedWith',\n",
       "       'FrameworkDesireNextYear', 'OperatingSystem', 'NumberMonitors',\n",
       "       'Methodology', 'VersionControl', 'CheckInCode', 'AdBlocker',\n",
       "       'AdBlockerDisable', 'AdBlockerReasons', 'AdsAgreeDisagree1',\n",
       "       'AdsAgreeDisagree2', 'AdsAgreeDisagree3', 'AdsActions', 'AIDangerous',\n",
       "       'AIInteresting', 'AIResponsible', 'AIFuture', 'EthicsChoice',\n",
       "       'EthicsReport', 'EthicsResponsible', 'EthicalImplications',\n",
       "       'StackOverflowRecommend', 'StackOverflowVisit',\n",
       "       'StackOverflowHasAccount', 'StackOverflowParticipate',\n",
       "       'StackOverflowJobs', 'StackOverflowDevStory',\n",
       "       'StackOverflowJobsRecommend', 'StackOverflowConsiderMember',\n",
       "       'HypotheticalTools1', 'HypotheticalTools2', 'HypotheticalTools3',\n",
       "       'HypotheticalTools4', 'HypotheticalTools5', 'WakeTime', 'HoursComputer',\n",
       "       'HoursOutside', 'SkipMeals', 'ErgonomicDevices', 'Exercise', 'Gender',\n",
       "       'SexualOrientation', 'EducationParents', 'RaceEthnicity', 'Age',\n",
       "       'Dependents', 'SurveyTooLong', 'SurveyEasy'],\n",
       "      dtype='object')"
      ]
     },
     "execution_count": 14,
     "metadata": {},
     "output_type": "execute_result"
    }
   ],
   "source": [
    "df.columns"
   ]
  },
  {
   "cell_type": "code",
   "execution_count": 15,
   "metadata": {},
   "outputs": [
    {
     "data": {
      "text/plain": [
       "(97869, 77)"
      ]
     },
     "execution_count": 15,
     "metadata": {},
     "output_type": "execute_result"
    }
   ],
   "source": [
    "df.shape"
   ]
  },
  {
   "cell_type": "code",
   "execution_count": 16,
   "metadata": {},
   "outputs": [],
   "source": [
    "#replace missing values with mode\n",
    "for column in df.columns:\n",
    "    df[column].fillna(df[column].mode()[0], inplace=True)"
   ]
  },
  {
   "cell_type": "code",
   "execution_count": 17,
   "metadata": {},
   "outputs": [
    {
     "data": {
      "text/plain": [
       "0        False\n",
       "1        False\n",
       "2        False\n",
       "3        False\n",
       "4        False\n",
       "         ...  \n",
       "98850    False\n",
       "98851    False\n",
       "98852    False\n",
       "98853    False\n",
       "98854    False\n",
       "Name: CareerSatisfaction, Length: 97869, dtype: bool"
      ]
     },
     "execution_count": 17,
     "metadata": {},
     "output_type": "execute_result"
    }
   ],
   "source": [
    "#Check for missing values\n",
    "#df.isna().sum()\n",
    "df['CareerSatisfaction'].isnull()"
   ]
  },
  {
   "cell_type": "code",
   "execution_count": 18,
   "metadata": {},
   "outputs": [
    {
     "data": {
      "text/plain": [
       "Moderately satisfied                  49922\n",
       "Extremely satisfied                   14160\n",
       "Slightly satisfied                    13330\n",
       "Slightly dissatisfied                  6492\n",
       "Neither satisfied nor dissatisfied     6216\n",
       "Moderately dissatisfied                5185\n",
       "Extremely dissatisfied                 2564\n",
       "Name: CareerSatisfaction, dtype: int64"
      ]
     },
     "execution_count": 18,
     "metadata": {},
     "output_type": "execute_result"
    }
   ],
   "source": [
    "df['CareerSatisfaction'].value_counts()"
   ]
  },
  {
   "cell_type": "code",
   "execution_count": 19,
   "metadata": {},
   "outputs": [
    {
     "data": {
      "text/plain": [
       "([0, 1, 2, 3, 4, 5, 6], <a list of 7 Text xticklabel objects>)"
      ]
     },
     "execution_count": 19,
     "metadata": {},
     "output_type": "execute_result"
    },
    {
     "data": {
      "image/png": "[encoded data removed]",
      "text/plain": [
       "<Figure size 432x288 with 1 Axes>"
      ]
     },
     "metadata": {
      "needs_background": "light"
     },
     "output_type": "display_data"
    }
   ],
   "source": [
    "# matplotlib histogram\n",
    "plt.hist(df['CareerSatisfaction'], color = 'blue', edgecolor = 'black', bins = int(30/5))\n",
    "plt.xticks(rotation='vertical')"
   ]
  },
  {
   "cell_type": "code",
   "execution_count": 20,
   "metadata": {},
   "outputs": [],
   "source": [
    "# aggregrate categories of Label\n",
    "CareerSatisfactionLevel = {\n",
    "    \"Extremely satisfied\":'Extremely satisfied',\n",
    "    \"Moderately satisfied\":'Satisfied',\n",
    "    'Slightly satisfied':'Satisfied',\n",
    "    'Neither satisfied nor dissatisfied':'Neither satisfied nor dissatisfied',\n",
    "    'Slightly dissatisfied':'Dissatisfied',\n",
    "    'Moderately dissatisfied':'Dissatisfied',\n",
    "    'Extremely dissatisfied':'Extremely Dissatisfied'\n",
    "}\n",
    "\n",
    "df['CareerSatisfaction']=[CareerSatisfactionLevel[x] for x in df['CareerSatisfaction']]"
   ]
  },
  {
   "cell_type": "code",
   "execution_count": 21,
   "metadata": {},
   "outputs": [
    {
     "data": {
      "text/plain": [
       "Satisfied                             63252\n",
       "Extremely satisfied                   14160\n",
       "Dissatisfied                          11677\n",
       "Neither satisfied nor dissatisfied     6216\n",
       "Extremely Dissatisfied                 2564\n",
       "Name: CareerSatisfaction, dtype: int64"
      ]
     },
     "execution_count": 21,
     "metadata": {},
     "output_type": "execute_result"
    }
   ],
   "source": [
    "df['CareerSatisfaction'].value_counts()"
   ]
  },
  {
   "cell_type": "code",
   "execution_count": 22,
   "metadata": {},
   "outputs": [
    {
     "data": {
      "text/plain": [
       "(array([14160.,  6216., 63252., 11677.,  2564.]),\n",
       " array([0. , 0.8, 1.6, 2.4, 3.2, 4. ]),\n",
       " <a list of 5 Patch objects>)"
      ]
     },
     "execution_count": 22,
     "metadata": {},
     "output_type": "execute_result"
    },
    {
     "data": {
      "image/png": "[encoded data removed]",
      "text/plain": [
       "<Figure size 432x288 with 1 Axes>"
      ]
     },
     "metadata": {
      "needs_background": "light"
     },
     "output_type": "display_data"
    }
   ],
   "source": [
    "# matplotlib histogram\n",
    "plt.hist(df['CareerSatisfaction'], color = 'blue', edgecolor = 'black', bins = int(25/5))"
   ]
  },
  {
   "cell_type": "code",
   "execution_count": 23,
   "metadata": {},
   "outputs": [],
   "source": [
    "# aggregrate categories of Label\n",
    "CareerSatisfactionLevel = {\n",
    "    \"Extremely satisfied\":'Satisfied',\n",
    "    'Satisfied':'Satisfied',\n",
    "    'Neither satisfied nor dissatisfied':'Neither satisfied nor dissatisfied',\n",
    "    'Dissatisfied':'Dissatisfied',\n",
    "    'Extremely Dissatisfied':'Dissatisfied'\n",
    "}\n",
    "\n",
    "df['CareerSatisfaction']=[CareerSatisfactionLevel[x] for x in df['CareerSatisfaction']]"
   ]
  },
  {
   "cell_type": "code",
   "execution_count": 24,
   "metadata": {
    "scrolled": true
   },
   "outputs": [
    {
     "data": {
      "text/plain": [
       "Satisfied                             77412\n",
       "Dissatisfied                          14241\n",
       "Neither satisfied nor dissatisfied     6216\n",
       "Name: CareerSatisfaction, dtype: int64"
      ]
     },
     "execution_count": 24,
     "metadata": {},
     "output_type": "execute_result"
    }
   ],
   "source": [
    "df['CareerSatisfaction'].value_counts()"
   ]
  },
  {
   "cell_type": "code",
   "execution_count": 25,
   "metadata": {},
   "outputs": [
    {
     "data": {
      "text/plain": [
       "(array([77412.,     0.,  6216.,     0., 14241.]),\n",
       " array([0. , 0.4, 0.8, 1.2, 1.6, 2. ]),\n",
       " <a list of 5 Patch objects>)"
      ]
     },
     "execution_count": 25,
     "metadata": {},
     "output_type": "execute_result"
    },
    {
     "data": {
      "image/png": "[encoded data removed]",
      "text/plain": [
       "<Figure size 432x288 with 1 Axes>"
      ]
     },
     "metadata": {
      "needs_background": "light"
     },
     "output_type": "display_data"
    }
   ],
   "source": [
    "# matplotlib histogram\n",
    "plt.hist(df['CareerSatisfaction'], color = 'blue', edgecolor = 'black', bins = int(25/5))"
   ]
  },
  {
   "cell_type": "code",
   "execution_count": 26,
   "metadata": {},
   "outputs": [
    {
     "data": {
      "text/html": [
       "<div>\n",
       "<style scoped>\n",
       "    .dataframe tbody tr th:only-of-type {\n",
       "        vertical-align: middle;\n",
       "    }\n",
       "\n",
       "    .dataframe tbody tr th {\n",
       "        vertical-align: top;\n",
       "    }\n",
       "\n",
       "    .dataframe thead th {\n",
       "        text-align: right;\n",
       "    }\n",
       "</style>\n",
       "<table border=\"1\" class=\"dataframe\">\n",
       "  <thead>\n",
       "    <tr style=\"text-align: right;\">\n",
       "      <th></th>\n",
       "      <th>Hobby</th>\n",
       "      <th>OpenSource</th>\n",
       "      <th>Student</th>\n",
       "      <th>Employment</th>\n",
       "      <th>FormalEducation</th>\n",
       "      <th>UndergradMajor</th>\n",
       "      <th>CompanySize</th>\n",
       "      <th>YearsCoding</th>\n",
       "      <th>YearsCodingProf</th>\n",
       "      <th>JobSatisfaction</th>\n",
       "      <th>...</th>\n",
       "      <th>ErgonomicDevices</th>\n",
       "      <th>Exercise</th>\n",
       "      <th>Gender</th>\n",
       "      <th>SexualOrientation</th>\n",
       "      <th>EducationParents</th>\n",
       "      <th>RaceEthnicity</th>\n",
       "      <th>Age</th>\n",
       "      <th>Dependents</th>\n",
       "      <th>SurveyTooLong</th>\n",
       "      <th>SurveyEasy</th>\n",
       "    </tr>\n",
       "  </thead>\n",
       "  <tbody>\n",
       "    <tr>\n",
       "      <th>0</th>\n",
       "      <td>1</td>\n",
       "      <td>0</td>\n",
       "      <td>0</td>\n",
       "      <td>1</td>\n",
       "      <td>1</td>\n",
       "      <td>10</td>\n",
       "      <td>4</td>\n",
       "      <td>7</td>\n",
       "      <td>7</td>\n",
       "      <td>1</td>\n",
       "      <td>...</td>\n",
       "      <td>6</td>\n",
       "      <td>1</td>\n",
       "      <td>1</td>\n",
       "      <td>7</td>\n",
       "      <td>1</td>\n",
       "      <td>0</td>\n",
       "      <td>1</td>\n",
       "      <td>1</td>\n",
       "      <td>0</td>\n",
       "      <td>4</td>\n",
       "    </tr>\n",
       "    <tr>\n",
       "      <th>1</th>\n",
       "      <td>1</td>\n",
       "      <td>1</td>\n",
       "      <td>0</td>\n",
       "      <td>0</td>\n",
       "      <td>1</td>\n",
       "      <td>3</td>\n",
       "      <td>2</td>\n",
       "      <td>8</td>\n",
       "      <td>3</td>\n",
       "      <td>2</td>\n",
       "      <td>...</td>\n",
       "      <td>0</td>\n",
       "      <td>2</td>\n",
       "      <td>1</td>\n",
       "      <td>7</td>\n",
       "      <td>1</td>\n",
       "      <td>63</td>\n",
       "      <td>2</td>\n",
       "      <td>1</td>\n",
       "      <td>0</td>\n",
       "      <td>2</td>\n",
       "    </tr>\n",
       "    <tr>\n",
       "      <th>2</th>\n",
       "      <td>1</td>\n",
       "      <td>1</td>\n",
       "      <td>0</td>\n",
       "      <td>0</td>\n",
       "      <td>0</td>\n",
       "      <td>6</td>\n",
       "      <td>4</td>\n",
       "      <td>5</td>\n",
       "      <td>9</td>\n",
       "      <td>3</td>\n",
       "      <td>...</td>\n",
       "      <td>0</td>\n",
       "      <td>3</td>\n",
       "      <td>1</td>\n",
       "      <td>7</td>\n",
       "      <td>1</td>\n",
       "      <td>63</td>\n",
       "      <td>1</td>\n",
       "      <td>0</td>\n",
       "      <td>0</td>\n",
       "      <td>2</td>\n",
       "    </tr>\n",
       "    <tr>\n",
       "      <th>3</th>\n",
       "      <td>0</td>\n",
       "      <td>0</td>\n",
       "      <td>0</td>\n",
       "      <td>0</td>\n",
       "      <td>1</td>\n",
       "      <td>6</td>\n",
       "      <td>3</td>\n",
       "      <td>3</td>\n",
       "      <td>1</td>\n",
       "      <td>4</td>\n",
       "      <td>...</td>\n",
       "      <td>0</td>\n",
       "      <td>3</td>\n",
       "      <td>1</td>\n",
       "      <td>7</td>\n",
       "      <td>7</td>\n",
       "      <td>63</td>\n",
       "      <td>2</td>\n",
       "      <td>0</td>\n",
       "      <td>0</td>\n",
       "      <td>2</td>\n",
       "    </tr>\n",
       "    <tr>\n",
       "      <th>4</th>\n",
       "      <td>1</td>\n",
       "      <td>0</td>\n",
       "      <td>2</td>\n",
       "      <td>0</td>\n",
       "      <td>8</td>\n",
       "      <td>6</td>\n",
       "      <td>2</td>\n",
       "      <td>9</td>\n",
       "      <td>0</td>\n",
       "      <td>6</td>\n",
       "      <td>...</td>\n",
       "      <td>0</td>\n",
       "      <td>1</td>\n",
       "      <td>1</td>\n",
       "      <td>7</td>\n",
       "      <td>7</td>\n",
       "      <td>63</td>\n",
       "      <td>0</td>\n",
       "      <td>1</td>\n",
       "      <td>0</td>\n",
       "      <td>2</td>\n",
       "    </tr>\n",
       "    <tr>\n",
       "      <th>...</th>\n",
       "      <td>...</td>\n",
       "      <td>...</td>\n",
       "      <td>...</td>\n",
       "      <td>...</td>\n",
       "      <td>...</td>\n",
       "      <td>...</td>\n",
       "      <td>...</td>\n",
       "      <td>...</td>\n",
       "      <td>...</td>\n",
       "      <td>...</td>\n",
       "      <td>...</td>\n",
       "      <td>...</td>\n",
       "      <td>...</td>\n",
       "      <td>...</td>\n",
       "      <td>...</td>\n",
       "      <td>...</td>\n",
       "      <td>...</td>\n",
       "      <td>...</td>\n",
       "      <td>...</td>\n",
       "      <td>...</td>\n",
       "      <td>...</td>\n",
       "    </tr>\n",
       "    <tr>\n",
       "      <th>98850</th>\n",
       "      <td>1</td>\n",
       "      <td>1</td>\n",
       "      <td>0</td>\n",
       "      <td>0</td>\n",
       "      <td>1</td>\n",
       "      <td>6</td>\n",
       "      <td>4</td>\n",
       "      <td>7</td>\n",
       "      <td>0</td>\n",
       "      <td>3</td>\n",
       "      <td>...</td>\n",
       "      <td>0</td>\n",
       "      <td>3</td>\n",
       "      <td>1</td>\n",
       "      <td>7</td>\n",
       "      <td>1</td>\n",
       "      <td>63</td>\n",
       "      <td>1</td>\n",
       "      <td>0</td>\n",
       "      <td>0</td>\n",
       "      <td>2</td>\n",
       "    </tr>\n",
       "    <tr>\n",
       "      <th>98851</th>\n",
       "      <td>0</td>\n",
       "      <td>1</td>\n",
       "      <td>1</td>\n",
       "      <td>4</td>\n",
       "      <td>1</td>\n",
       "      <td>6</td>\n",
       "      <td>4</td>\n",
       "      <td>0</td>\n",
       "      <td>0</td>\n",
       "      <td>3</td>\n",
       "      <td>...</td>\n",
       "      <td>0</td>\n",
       "      <td>3</td>\n",
       "      <td>1</td>\n",
       "      <td>7</td>\n",
       "      <td>1</td>\n",
       "      <td>63</td>\n",
       "      <td>1</td>\n",
       "      <td>0</td>\n",
       "      <td>0</td>\n",
       "      <td>2</td>\n",
       "    </tr>\n",
       "    <tr>\n",
       "      <th>98852</th>\n",
       "      <td>1</td>\n",
       "      <td>1</td>\n",
       "      <td>1</td>\n",
       "      <td>0</td>\n",
       "      <td>1</td>\n",
       "      <td>6</td>\n",
       "      <td>4</td>\n",
       "      <td>7</td>\n",
       "      <td>0</td>\n",
       "      <td>3</td>\n",
       "      <td>...</td>\n",
       "      <td>0</td>\n",
       "      <td>3</td>\n",
       "      <td>1</td>\n",
       "      <td>7</td>\n",
       "      <td>1</td>\n",
       "      <td>63</td>\n",
       "      <td>1</td>\n",
       "      <td>0</td>\n",
       "      <td>0</td>\n",
       "      <td>2</td>\n",
       "    </tr>\n",
       "    <tr>\n",
       "      <th>98853</th>\n",
       "      <td>1</td>\n",
       "      <td>0</td>\n",
       "      <td>0</td>\n",
       "      <td>2</td>\n",
       "      <td>8</td>\n",
       "      <td>6</td>\n",
       "      <td>4</td>\n",
       "      <td>7</td>\n",
       "      <td>0</td>\n",
       "      <td>3</td>\n",
       "      <td>...</td>\n",
       "      <td>0</td>\n",
       "      <td>3</td>\n",
       "      <td>1</td>\n",
       "      <td>7</td>\n",
       "      <td>1</td>\n",
       "      <td>63</td>\n",
       "      <td>1</td>\n",
       "      <td>0</td>\n",
       "      <td>0</td>\n",
       "      <td>2</td>\n",
       "    </tr>\n",
       "    <tr>\n",
       "      <th>98854</th>\n",
       "      <td>1</td>\n",
       "      <td>1</td>\n",
       "      <td>0</td>\n",
       "      <td>0</td>\n",
       "      <td>1</td>\n",
       "      <td>6</td>\n",
       "      <td>4</td>\n",
       "      <td>7</td>\n",
       "      <td>0</td>\n",
       "      <td>3</td>\n",
       "      <td>...</td>\n",
       "      <td>0</td>\n",
       "      <td>3</td>\n",
       "      <td>1</td>\n",
       "      <td>7</td>\n",
       "      <td>1</td>\n",
       "      <td>63</td>\n",
       "      <td>1</td>\n",
       "      <td>0</td>\n",
       "      <td>0</td>\n",
       "      <td>2</td>\n",
       "    </tr>\n",
       "  </tbody>\n",
       "</table>\n",
       "<p>97869 rows × 77 columns</p>\n",
       "</div>"
      ],
      "text/plain": [
       "       Hobby  OpenSource  Student  Employment  FormalEducation  \\\n",
       "0          1           0        0           1                1   \n",
       "1          1           1        0           0                1   \n",
       "2          1           1        0           0                0   \n",
       "3          0           0        0           0                1   \n",
       "4          1           0        2           0                8   \n",
       "...      ...         ...      ...         ...              ...   \n",
       "98850      1           1        0           0                1   \n",
       "98851      0           1        1           4                1   \n",
       "98852      1           1        1           0                1   \n",
       "98853      1           0        0           2                8   \n",
       "98854      1           1        0           0                1   \n",
       "\n",
       "       UndergradMajor  CompanySize  YearsCoding  YearsCodingProf  \\\n",
       "0                  10            4            7                7   \n",
       "1                   3            2            8                3   \n",
       "2                   6            4            5                9   \n",
       "3                   6            3            3                1   \n",
       "4                   6            2            9                0   \n",
       "...               ...          ...          ...              ...   \n",
       "98850               6            4            7                0   \n",
       "98851               6            4            0                0   \n",
       "98852               6            4            7                0   \n",
       "98853               6            4            7                0   \n",
       "98854               6            4            7                0   \n",
       "\n",
       "       JobSatisfaction  ...  ErgonomicDevices  Exercise  Gender  \\\n",
       "0                    1  ...                 6         1       1   \n",
       "1                    2  ...                 0         2       1   \n",
       "2                    3  ...                 0         3       1   \n",
       "3                    4  ...                 0         3       1   \n",
       "4                    6  ...                 0         1       1   \n",
       "...                ...  ...               ...       ...     ...   \n",
       "98850                3  ...                 0         3       1   \n",
       "98851                3  ...                 0         3       1   \n",
       "98852                3  ...                 0         3       1   \n",
       "98853                3  ...                 0         3       1   \n",
       "98854                3  ...                 0         3       1   \n",
       "\n",
       "       SexualOrientation  EducationParents  RaceEthnicity  Age  Dependents  \\\n",
       "0                      7                 1              0    1           1   \n",
       "1                      7                 1             63    2           1   \n",
       "2                      7                 1             63    1           0   \n",
       "3                      7                 7             63    2           0   \n",
       "4                      7                 7             63    0           1   \n",
       "...                  ...               ...            ...  ...         ...   \n",
       "98850                  7                 1             63    1           0   \n",
       "98851                  7                 1             63    1           0   \n",
       "98852                  7                 1             63    1           0   \n",
       "98853                  7                 1             63    1           0   \n",
       "98854                  7                 1             63    1           0   \n",
       "\n",
       "       SurveyTooLong  SurveyEasy  \n",
       "0                  0           4  \n",
       "1                  0           2  \n",
       "2                  0           2  \n",
       "3                  0           2  \n",
       "4                  0           2  \n",
       "...              ...         ...  \n",
       "98850              0           2  \n",
       "98851              0           2  \n",
       "98852              0           2  \n",
       "98853              0           2  \n",
       "98854              0           2  \n",
       "\n",
       "[97869 rows x 77 columns]"
      ]
     },
     "execution_count": 26,
     "metadata": {},
     "output_type": "execute_result"
    }
   ],
   "source": [
    "d = defaultdict(LabelEncoder)\n",
    "\n",
    "# Encoding the variable\n",
    "encoded_columns = df.apply(lambda x: d[x.name].fit_transform(x))\n",
    "encoded_columns"
   ]
  },
  {
   "cell_type": "code",
   "execution_count": 27,
   "metadata": {},
   "outputs": [
    {
     "data": {
      "image/png": "[encoded data removed]",
      "text/plain": [
       "<Figure size 1008x288 with 1 Axes>"
      ]
     },
     "metadata": {
      "needs_background": "light"
     },
     "output_type": "display_data"
    },
    {
     "name": "stdout",
     "output_type": "stream",
     "text": [
      "Number features: 3\n",
      "Total Variance Explained: 0.9634486575454267\n",
      "0.9355991296559927\n"
     ]
    }
   ],
   "source": [
    "# Importing the library\n",
    "from sklearn.decomposition import PCA\n",
    "\n",
    "X = encoded_columns.drop('CareerSatisfaction', axis=1)\n",
    "\n",
    "# Instantiating PCA\n",
    "pca = PCA()\n",
    "\n",
    "# Fitting and Transforming the DF\n",
    "df_pca = pca.fit_transform(X)\n",
    "\n",
    "# Plotting to determine how many features should the dataset be reduced to\n",
    "plt.style.use(\"bmh\")\n",
    "plt.figure(figsize=(14,4))\n",
    "plt.plot(range(1,X.shape[1]+1), pca.explained_variance_ratio_.cumsum())\n",
    "plt.show()\n",
    "\n",
    "# Finding the exact number of features that explain at least 95% of the variance in the dataset\n",
    "total_explained_variance = pca.explained_variance_ratio_.cumsum()\n",
    "n_over_95 = len(total_explained_variance[total_explained_variance>=.95])\n",
    "n_to_reach_95 = X.shape[1] - n_over_95\n",
    "\n",
    "# Printing out the number of features needed to retain 95% variance\n",
    "print(f\"Number features: {n_to_reach_95}\\nTotal Variance Explained: {total_explained_variance[n_to_reach_95]}\")\n",
    "\n",
    "# Reducing the dataset to the number of features determined before\n",
    "pca = PCA(n_components=n_to_reach_95)\n",
    "\n",
    "# Fitting and transforming the dataset to the stated number of features and creating a new DF\n",
    "df_pca = pca.fit_transform(X)\n",
    "\n",
    "# Seeing the variance ratio that still remains after the dataset has been reduced\n",
    "print(pca.explained_variance_ratio_.cumsum()[-1])"
   ]
  },
  {
   "cell_type": "code",
   "execution_count": 28,
   "metadata": {},
   "outputs": [],
   "source": [
    "X = encoded_columns.drop('CareerSatisfaction', axis=1)\n",
    "y = encoded_columns['CareerSatisfaction']"
   ]
  },
  {
   "cell_type": "code",
   "execution_count": 29,
   "metadata": {},
   "outputs": [],
   "source": [
    "from sklearn.model_selection import train_test_split\n",
    "\n",
    "X_train, X_test, y_train, y_test = train_test_split(X, y, test_size=0.2)"
   ]
  },
  {
   "cell_type": "code",
   "execution_count": 90,
   "metadata": {},
   "outputs": [
    {
     "data": {
      "text/plain": [
       "2    61960\n",
       "0    11354\n",
       "1     4981\n",
       "Name: CareerSatisfaction, dtype: int64"
      ]
     },
     "execution_count": 90,
     "metadata": {},
     "output_type": "execute_result"
    }
   ],
   "source": [
    "#pip install scikit-learn\n",
    "y_train.value_counts()"
   ]
  },
  {
   "cell_type": "code",
   "execution_count": 31,
   "metadata": {},
   "outputs": [
    {
     "name": "stdout",
     "output_type": "stream",
     "text": [
      "0.7.0\n"
     ]
    },
    {
     "data": {
      "text/plain": [
       "'0.23.2'"
      ]
     },
     "execution_count": 31,
     "metadata": {},
     "output_type": "execute_result"
    }
   ],
   "source": [
    "# check version number\n",
    "import imblearn\n",
    "print(imblearn.__version__)\n",
    "import sklearn\n",
    "sklearn.__version__"
   ]
  },
  {
   "cell_type": "code",
   "execution_count": 32,
   "metadata": {},
   "outputs": [
    {
     "name": "stdout",
     "output_type": "stream",
     "text": [
      "Before OverSampling, counts of label '1': 4922\n",
      "Before OverSampling, counts of label '0': 11396 \n",
      "\n",
      "Before OverSampling, counts of label '2': 61977 \n",
      "\n"
     ]
    }
   ],
   "source": [
    "from imblearn.over_sampling import SMOTE\n",
    "from imblearn.pipeline import make_pipeline\n",
    "\n",
    "unique, count = np.unique(y_train, return_counts=True)\n",
    "Y_train_dict_value_count = { k:v for (k,v) in zip(unique, count)}\n",
    "Y_train_dict_value_count\n",
    "\n",
    "print(\"Before OverSampling, counts of label '1': {}\".format(sum(y_train == 1))) \n",
    "print(\"Before OverSampling, counts of label '0': {} \\n\".format(sum(y_train == 0)))\n",
    "print(\"Before OverSampling, counts of label '2': {} \\n\".format(sum(y_train == 2)))"
   ]
  },
  {
   "cell_type": "code",
   "execution_count": 33,
   "metadata": {},
   "outputs": [],
   "source": [
    "sm = SMOTE(random_state= 2)\n",
    "X_train_res, y_train_res = sm.fit_sample(X_train, y_train)\n",
    "#X_train_res, y_train_res = sm.fit_sample(X_train, y_train.ravel())"
   ]
  },
  {
   "cell_type": "code",
   "execution_count": 34,
   "metadata": {},
   "outputs": [
    {
     "data": {
      "text/plain": [
       "{0: 61977, 1: 61977, 2: 61977}"
      ]
     },
     "execution_count": 34,
     "metadata": {},
     "output_type": "execute_result"
    }
   ],
   "source": [
    "unique, count = np.unique(y_train_res, return_counts=True)\n",
    "y_train_smote_value_count = { k:v for (k,v) in zip(unique, count)}\n",
    "y_train_smote_value_count"
   ]
  },
  {
   "cell_type": "code",
   "execution_count": 35,
   "metadata": {},
   "outputs": [
    {
     "name": "stdout",
     "output_type": "stream",
     "text": [
      "After OverSampling, the shape of train_X: (185931, 76)\n",
      "After OverSampling, the shape of train_y: (185931,) \n",
      "\n",
      "After OverSampling, counts of label '1': 61977\n",
      "After OverSampling, counts of label '0': 61977\n",
      "After OverSampling, counts of label '2': 61977\n"
     ]
    }
   ],
   "source": [
    "print('After OverSampling, the shape of train_X: {}'.format(X_train_res.shape)) \n",
    "print('After OverSampling, the shape of train_y: {} \\n'.format(y_train_res.shape)) \n",
    "  \n",
    "print(\"After OverSampling, counts of label '1': {}\".format(sum(y_train_res == 1))) \n",
    "print(\"After OverSampling, counts of label '0': {}\".format(sum(y_train_res == 0)))\n",
    "print(\"After OverSampling, counts of label '2': {}\".format(sum(y_train_res == 2)))"
   ]
  },
  {
   "cell_type": "code",
   "execution_count": 36,
   "metadata": {},
   "outputs": [
    {
     "data": {
      "text/plain": [
       "(array([11396.,     0.,  4922.,     0., 61977.]),\n",
       " array([0. , 0.4, 0.8, 1.2, 1.6, 2. ]),\n",
       " <a list of 5 Patch objects>)"
      ]
     },
     "execution_count": 36,
     "metadata": {},
     "output_type": "execute_result"
    },
    {
     "data": {
      "image/png": "[encoded data removed]",
      "text/plain": [
       "<Figure size 432x288 with 1 Axes>"
      ]
     },
     "metadata": {
      "needs_background": "light"
     },
     "output_type": "display_data"
    }
   ],
   "source": [
    "plt.hist(y_train, color = 'blue', edgecolor = 'black', bins = int(25/5))"
   ]
  },
  {
   "cell_type": "code",
   "execution_count": 37,
   "metadata": {},
   "outputs": [
    {
     "data": {
      "text/plain": [
       "(array([61977.,     0., 61977.,     0., 61977.]),\n",
       " array([0. , 0.4, 0.8, 1.2, 1.6, 2. ]),\n",
       " <a list of 5 Patch objects>)"
      ]
     },
     "execution_count": 37,
     "metadata": {},
     "output_type": "execute_result"
    },
    {
     "data": {
      "image/png": "[encoded data removed]",
      "text/plain": [
       "<Figure size 432x288 with 1 Axes>"
      ]
     },
     "metadata": {
      "needs_background": "light"
     },
     "output_type": "display_data"
    }
   ],
   "source": [
    "plt.hist(y_train_res, color = 'blue', edgecolor = 'black', bins = int(25/5))"
   ]
  },
  {
   "cell_type": "markdown",
   "metadata": {},
   "source": [
    "<h3>Random Forest Model</h3>"
   ]
  },
  {
   "cell_type": "code",
   "execution_count": 23,
   "metadata": {},
   "outputs": [],
   "source": [
    "from sklearn.ensemble import RandomForestClassifier"
   ]
  },
  {
   "cell_type": "code",
   "execution_count": 24,
   "metadata": {},
   "outputs": [],
   "source": [
    "rfc = RandomForestClassifier(n_estimators=20, criterion='entropy', random_state=0)"
   ]
  },
  {
   "cell_type": "code",
   "execution_count": 25,
   "metadata": {},
   "outputs": [
    {
     "data": {
      "text/plain": [
       "RandomForestClassifier(criterion='entropy', n_estimators=20, random_state=0)"
      ]
     },
     "execution_count": 25,
     "metadata": {},
     "output_type": "execute_result"
    }
   ],
   "source": [
    "rfc.fit(X_train,y_train)\n",
    "#rfc.fit(X_train_res, y_train_res)"
   ]
  },
  {
   "cell_type": "code",
   "execution_count": 26,
   "metadata": {},
   "outputs": [],
   "source": [
    "rfc_pred = rfc.predict(X_test)"
   ]
  },
  {
   "cell_type": "code",
   "execution_count": 27,
   "metadata": {
    "scrolled": true
   },
   "outputs": [
    {
     "name": "stdout",
     "output_type": "stream",
     "text": [
      "Accuracy on training data :  0.9980969410562616\n",
      "\n",
      "\n",
      "[[  40   82   44  269   21    8   34]\n",
      " [  13 1032   21 1708   20   10  103]\n",
      " [  32   94  121  581   25   43  106]\n",
      " [  18  760   70 8543   70   53  422]\n",
      " [   9   79   34  871   56   36  175]\n",
      " [  15   92   72  839   38   63  202]\n",
      " [  16  205   56 1930   52   63  328]]\n",
      "\n",
      "\n",
      "              precision    recall  f1-score   support\n",
      "\n",
      "           0       0.28      0.08      0.12       498\n",
      "           1       0.44      0.36      0.39      2907\n",
      "           2       0.29      0.12      0.17      1002\n",
      "           3       0.58      0.86      0.69      9936\n",
      "           4       0.20      0.04      0.07      1260\n",
      "           5       0.23      0.05      0.08      1321\n",
      "           6       0.24      0.12      0.16      2650\n",
      "\n",
      "    accuracy                           0.52     19574\n",
      "   macro avg       0.32      0.23      0.24     19574\n",
      "weighted avg       0.44      0.52      0.45     19574\n",
      "\n"
     ]
    }
   ],
   "source": [
    "from sklearn.metrics import classification_report,confusion_matrix\n",
    "\n",
    "#print(\"Accuracy on training data : \",rfc.score(X_train_res,y_train_res))\n",
    "print(\"Accuracy on training data : \",rfc.score(X_train,y_train))\n",
    "print('\\n')\n",
    "print(confusion_matrix(y_test,rfc_pred))\n",
    "print('\\n')\n",
    "print(classification_report(y_test,rfc_pred))"
   ]
  },
  {
   "cell_type": "code",
   "execution_count": 105,
   "metadata": {},
   "outputs": [],
   "source": [
    "data1=pd.DataFrame({\"feature\":X_train.columns,\"counts\":rfc.feature_importances_},columns=[\"feature\",\"counts\"])"
   ]
  },
  {
   "cell_type": "code",
   "execution_count": null,
   "metadata": {},
   "outputs": [],
   "source": []
  },
  {
   "cell_type": "code",
   "execution_count": 28,
   "metadata": {},
   "outputs": [
    {
     "name": "stdout",
     "output_type": "stream",
     "text": [
      "y [[0 1 0]\n",
      " [0 0 0]\n",
      " [0 0 0]\n",
      " ...\n",
      " [0 0 0]\n",
      " [0 0 0]\n",
      " [0 0 0]]\n",
      "[[0 0 0]\n",
      " [0 0 0]\n",
      " [0 0 0]\n",
      " ...\n",
      " [0 0 0]\n",
      " [0 0 0]\n",
      " [0 0 0]]\n"
     ]
    },
    {
     "name": "stderr",
     "output_type": "stream",
     "text": [
      "C:\\ProgramData\\Anaconda3\\lib\\site-packages\\sklearn\\svm\\_base.py:977: ConvergenceWarning: Liblinear failed to converge, increase the number of iterations.\n",
      "  \"the number of iterations.\", ConvergenceWarning)\n",
      "C:\\ProgramData\\Anaconda3\\lib\\site-packages\\sklearn\\svm\\_base.py:977: ConvergenceWarning: Liblinear failed to converge, increase the number of iterations.\n",
      "  \"the number of iterations.\", ConvergenceWarning)\n",
      "C:\\ProgramData\\Anaconda3\\lib\\site-packages\\sklearn\\svm\\_base.py:977: ConvergenceWarning: Liblinear failed to converge, increase the number of iterations.\n",
      "  \"the number of iterations.\", ConvergenceWarning)\n"
     ]
    },
    {
     "name": "stdout",
     "output_type": "stream",
     "text": [
      "y_score [[-0.30728874  0.27413479 -0.72927711]\n",
      " [-0.979193    0.518936   -1.09707912]\n",
      " [-0.91949238 -0.04556326 -1.07845377]\n",
      " ...\n",
      " [-1.08329161  0.64759646 -0.98887051]\n",
      " [-0.40111911  0.4021016  -0.75885173]\n",
      " [-1.36464426  0.40401713 -0.85374728]]\n"
     ]
    },
    {
     "data": {
      "image/png": "[encoded data removed]",
      "text/plain": [
       "<Figure size 432x288 with 1 Axes>"
      ]
     },
     "metadata": {
      "needs_background": "light"
     },
     "output_type": "display_data"
    },
    {
     "data": {
      "image/png": "[encoded data removed]",
      "text/plain": [
       "<Figure size 432x288 with 1 Axes>"
      ]
     },
     "metadata": {
      "needs_background": "light"
     },
     "output_type": "display_data"
    },
    {
     "data": {
      "image/png": "[encoded data removed]",
      "text/plain": [
       "<Figure size 432x288 with 1 Axes>"
      ]
     },
     "metadata": {
      "needs_background": "light"
     },
     "output_type": "display_data"
    }
   ],
   "source": [
    "from sklearn.metrics import roc_curve, auc\n",
    "from sklearn.multiclass import OneVsRestClassifier\n",
    "from sklearn.svm import LinearSVC\n",
    "from sklearn.preprocessing import label_binarize\n",
    "#from sklearn.cross_validation import train_test_split\n",
    "import matplotlib.pyplot as plt\n",
    "\n",
    "y = label_binarize(y, classes=[0,1,2])\n",
    "n_classes = 3\n",
    "print('y', y)\n",
    "\n",
    "# shuffle and split training and test sets\n",
    "X_train, X_test, y_train, y_test =\\\n",
    "            train_test_split(X, y, test_size=0.2, random_state=0)\n",
    "\n",
    "# classifier\n",
    "clf = OneVsRestClassifier(LinearSVC(random_state=0))\n",
    "print(y_train)\n",
    "y_score = clf.fit(X_train, y_train).decision_function(X_test)\n",
    "print('y_score', y_score)\n",
    "\n",
    "# Compute ROC curve and ROC area for each class\n",
    "fpr = dict()\n",
    "tpr = dict()\n",
    "roc_auc = dict()\n",
    "for i in range(n_classes):\n",
    "    fpr[i], tpr[i], _ = roc_curve(y_test[:, i], y_score[:, i])\n",
    "    roc_auc[i] = auc(fpr[i], tpr[i])\n",
    "\n",
    "# Plot of a ROC curve for a specific class\n",
    "for i in range(n_classes):\n",
    "    plt.figure()\n",
    "    #plt.plot(fpr[i], tpr[i], label='ROC curve (area = %0.2f)' % roc_auc[i])\n",
    "    for i in range(n_classes):\n",
    "        plt.plot(fpr[i], tpr[i], label='ROC curve (area = %0.2f) for label %i' % (roc_auc[i], i))\n",
    "    plt.plot([0, 1], [0, 1], 'k--')\n",
    "    plt.xlim([0.0, 1.0])\n",
    "    plt.ylim([0.0, 1.05])\n",
    "    plt.xlabel('False Positive Rate')\n",
    "    plt.ylabel('True Positive Rate')\n",
    "    plt.title('Receiver operating characteristic example')\n",
    "    plt.legend(loc=\"lower right\")\n",
    "    plt.show()"
   ]
  },
  {
   "cell_type": "code",
   "execution_count": 95,
   "metadata": {},
   "outputs": [
    {
     "data": {
      "text/plain": [
       "<matplotlib.axes._subplots.AxesSubplot at 0x2bfa4e02f48>"
      ]
     },
     "execution_count": 95,
     "metadata": {},
     "output_type": "execute_result"
    },
    {
     "data": {
      "image/png": "[encoded data removed]",
      "text/plain": [
       "<Figure size 432x288 with 1 Axes>"
      ]
     },
     "metadata": {
      "needs_background": "light"
     },
     "output_type": "display_data"
    }
   ],
   "source": [
    "#importance features\n",
    "(pd.Series(rfc.feature_importances_, index=X.columns)\n",
    "   .nlargest(22)\n",
    "   .plot(kind='barh', color='black'))        # some method chaining, because it's sexy!"
   ]
  },
  {
   "cell_type": "code",
   "execution_count": 107,
   "metadata": {},
   "outputs": [
    {
     "name": "stdout",
     "output_type": "stream",
     "text": [
      "{'bootstrap': True, 'ccp_alpha': 0.0, 'class_weight': None, 'criterion': 'entropy', 'max_depth': None, 'max_features': 'auto', 'max_leaf_nodes': None, 'max_samples': None, 'min_impurity_decrease': 0.0, 'min_impurity_split': None, 'min_samples_leaf': 1, 'min_samples_split': 2, 'min_weight_fraction_leaf': 0.0, 'n_estimators': 20, 'n_jobs': None, 'oob_score': False, 'random_state': 0, 'verbose': 0, 'warm_start': False}\n"
     ]
    }
   ],
   "source": [
    "#Default parameters\n",
    "print(rfc.get_params())"
   ]
  },
  {
   "cell_type": "markdown",
   "metadata": {},
   "source": [
    "<h5>Hyper parameter tuning for rfc</h5>"
   ]
  },
  {
   "cell_type": "code",
   "execution_count": 52,
   "metadata": {},
   "outputs": [],
   "source": [
    "from sklearn.model_selection import GridSearchCV\n",
    "\n",
    "forest = RandomForestClassifier(random_state = 2)\n",
    "\n",
    "param_grid = [{'n_estimators': [10, 25],\n",
    "               'max_features': [5, 50, 75], \n",
    "               'max_depth': [5, 8, 10, 12, 15], \n",
    "               'bootstrap': [True, False]}]\n",
    "\n",
    "grid_search_forest = GridSearchCV(forest, param_grid, cv=10, scoring='neg_mean_squared_error')\n",
    "#print(grid_search_forest.best_params_)"
   ]
  },
  {
   "cell_type": "code",
   "execution_count": 53,
   "metadata": {},
   "outputs": [
    {
     "data": {
      "text/plain": [
       "GridSearchCV(cv=10, estimator=RandomForestClassifier(random_state=2),\n",
       "             param_grid=[{'bootstrap': [True, False],\n",
       "                          'max_depth': [5, 8, 10, 12, 15],\n",
       "                          'max_features': [5, 50, 75],\n",
       "                          'n_estimators': [10, 25]}],\n",
       "             scoring='neg_mean_squared_error')"
      ]
     },
     "execution_count": 53,
     "metadata": {},
     "output_type": "execute_result"
    }
   ],
   "source": [
    "grid_search_forest.fit(X_train, y_train)"
   ]
  },
  {
   "cell_type": "code",
   "execution_count": 54,
   "metadata": {},
   "outputs": [
    {
     "name": "stdout",
     "output_type": "stream",
     "text": [
      "{'bootstrap': True, 'max_depth': 10, 'max_features': 50, 'n_estimators': 25}\n"
     ]
    }
   ],
   "source": [
    "grid_pred = grid_search_forest.predict(X_test)\n",
    "print(grid_search_forest.best_params_)"
   ]
  },
  {
   "cell_type": "code",
   "execution_count": 55,
   "metadata": {},
   "outputs": [
    {
     "name": "stdout",
     "output_type": "stream",
     "text": [
      "[[ 1098     1  1792]\n",
      " [  148     3  1102]\n",
      " [  534     2 14894]]\n",
      "\n",
      "\n",
      "              precision    recall  f1-score   support\n",
      "\n",
      "           0       0.62      0.38      0.47      2891\n",
      "           1       0.50      0.00      0.00      1253\n",
      "           2       0.84      0.97      0.90     15430\n",
      "\n",
      "    accuracy                           0.82     19574\n",
      "   macro avg       0.65      0.45      0.46     19574\n",
      "weighted avg       0.78      0.82      0.78     19574\n",
      "\n"
     ]
    }
   ],
   "source": [
    "print(confusion_matrix(y_test,grid_pred))\n",
    "print('\\n')\n",
    "print(classification_report(y_test,grid_pred))"
   ]
  },
  {
   "cell_type": "code",
   "execution_count": null,
   "metadata": {},
   "outputs": [],
   "source": []
  },
  {
   "cell_type": "markdown",
   "metadata": {},
   "source": [
    "<h3>SVM model</h3>"
   ]
  },
  {
   "cell_type": "code",
   "execution_count": 35,
   "metadata": {},
   "outputs": [],
   "source": [
    "from sklearn.svm import SVC"
   ]
  },
  {
   "cell_type": "code",
   "execution_count": 32,
   "metadata": {},
   "outputs": [],
   "source": [
    "#kernel = ['linear', 'rbf', 'poly', 'sigmoid']\n",
    "#for i in kernel:\n",
    "  #  model = SVC(kernel=i, C=1.0)\n",
    "   # model.fit(X_train, y_train)\n",
    "    #print(\"For kernel \", i)\n",
    "    #print(\"Accuracy is \", (X_test, y_test))"
   ]
  },
  {
   "cell_type": "code",
   "execution_count": 36,
   "metadata": {},
   "outputs": [],
   "source": [
    "model = SVC()"
   ]
  },
  {
   "cell_type": "code",
   "execution_count": 37,
   "metadata": {},
   "outputs": [
    {
     "data": {
      "text/plain": [
       "SVC()"
      ]
     },
     "execution_count": 37,
     "metadata": {},
     "output_type": "execute_result"
    }
   ],
   "source": [
    "model.fit(X_train, y_train)"
   ]
  },
  {
   "cell_type": "code",
   "execution_count": 38,
   "metadata": {},
   "outputs": [],
   "source": [
    "predictions = model.predict(X_test)"
   ]
  },
  {
   "cell_type": "code",
   "execution_count": 39,
   "metadata": {},
   "outputs": [
    {
     "name": "stdout",
     "output_type": "stream",
     "text": [
      "[[   0    0    0  542    0    0    0]\n",
      " [   0    0    0 2876    0    0    0]\n",
      " [   0    0    0 1025    0    0    0]\n",
      " [   0    0    0 9946    0    0    0]\n",
      " [   0    0    0 1213    0    0    0]\n",
      " [   0    0    0 1286    0    0    0]\n",
      " [   0    0    0 2686    0    0    0]]\n",
      "              precision    recall  f1-score   support\n",
      "\n",
      "           0       0.00      0.00      0.00       542\n",
      "           1       0.00      0.00      0.00      2876\n",
      "           2       0.00      0.00      0.00      1025\n",
      "           3       0.51      1.00      0.67      9946\n",
      "           4       0.00      0.00      0.00      1213\n",
      "           5       0.00      0.00      0.00      1286\n",
      "           6       0.00      0.00      0.00      2686\n",
      "\n",
      "    accuracy                           0.51     19574\n",
      "   macro avg       0.07      0.14      0.10     19574\n",
      "weighted avg       0.26      0.51      0.34     19574\n",
      "\n"
     ]
    },
    {
     "name": "stderr",
     "output_type": "stream",
     "text": [
      "C:\\ProgramData\\Anaconda3\\lib\\site-packages\\sklearn\\metrics\\_classification.py:1221: UndefinedMetricWarning: Precision and F-score are ill-defined and being set to 0.0 in labels with no predicted samples. Use `zero_division` parameter to control this behavior.\n",
      "  _warn_prf(average, modifier, msg_start, len(result))\n"
     ]
    }
   ],
   "source": [
    "from sklearn.metrics import classification_report,confusion_matrix\n",
    "\n",
    "print(confusion_matrix(y_test,predictions))\n",
    "print(classification_report(y_test,predictions))"
   ]
  },
  {
   "cell_type": "code",
   "execution_count": 41,
   "metadata": {},
   "outputs": [
    {
     "name": "stdout",
     "output_type": "stream",
     "text": [
      "y [[0 1 0]\n",
      " [0 0 0]\n",
      " [0 0 0]\n",
      " ...\n",
      " [0 0 0]\n",
      " [0 0 0]\n",
      " [0 0 0]]\n"
     ]
    },
    {
     "data": {
      "image/png": "[encoded data removed]",
      "text/plain": [
       "<Figure size 432x288 with 1 Axes>"
      ]
     },
     "metadata": {
      "needs_background": "light"
     },
     "output_type": "display_data"
    },
    {
     "data": {
      "image/png": "[encoded data removed]",
      "text/plain": [
       "<Figure size 432x288 with 1 Axes>"
      ]
     },
     "metadata": {
      "needs_background": "light"
     },
     "output_type": "display_data"
    },
    {
     "data": {
      "image/png": "[encoded data removed]",
      "text/plain": [
       "<Figure size 432x288 with 1 Axes>"
      ]
     },
     "metadata": {
      "needs_background": "light"
     },
     "output_type": "display_data"
    }
   ],
   "source": [
    "from sklearn.metrics import roc_curve, auc\n",
    "from sklearn.multiclass import OneVsRestClassifier\n",
    "from sklearn.svm import LinearSVC\n",
    "from sklearn.preprocessing import label_binarize\n",
    "#from sklearn.cross_validation import train_test_split\n",
    "import matplotlib.pyplot as plt\n",
    "\n",
    "# shuffle and split training and test sets\n",
    "X_train, X_test, y_train, y_test =\\\n",
    "            train_test_split(X, y, test_size=0.2, random_state=0)\n",
    "\n",
    "#Calculate the y_score\n",
    "y_score = rfc.predict_proba(X_test)\n",
    "\n",
    "y = label_binarize(y, classes=[0,1,2])\n",
    "n_classes = 3\n",
    "print('y', y)\n",
    "\n",
    "# Compute ROC curve and ROC area for each class\n",
    "fpr = dict()\n",
    "tpr = dict()\n",
    "roc_auc = dict()\n",
    "for i in range(n_classes):\n",
    "    fpr[i], tpr[i], _ = roc_curve(y_test[:, i], y_score[:, i])\n",
    "    roc_auc[i] = auc(fpr[i], tpr[i])\n",
    "\n",
    "# Plot of a ROC curve for a specific class\n",
    "for i in range(n_classes):\n",
    "    plt.figure()\n",
    "    #plt.plot(fpr[i], tpr[i], label='ROC curve (area = %0.2f)' % roc_auc[i])\n",
    "    for i in range(n_classes):\n",
    "        plt.plot(fpr[i], tpr[i], label='ROC curve (area = %0.2f) for label %i' % (roc_auc[i], i))\n",
    "    plt.plot([0, 1], [0, 1], 'k--')\n",
    "    plt.xlim([0.0, 1.0])\n",
    "    plt.ylim([0.0, 1.05])\n",
    "    plt.xlabel('False Positive Rate')\n",
    "    plt.ylabel('True Positive Rate')\n",
    "    plt.title('Receiver operating characteristic example')\n",
    "    plt.legend(loc=\"lower right\")\n",
    "    plt.show()"
   ]
  },
  {
   "cell_type": "markdown",
   "metadata": {},
   "source": [
    "<h5>Hyper parameter tuting for SVM </h5>"
   ]
  },
  {
   "cell_type": "code",
   "execution_count": 44,
   "metadata": {},
   "outputs": [],
   "source": [
    "from sklearn.model_selection import GridSearchCV\n",
    "\n",
    "param_grid = {'C':[0.1,1,10,100], \n",
    "              'kernel':['linear', 'rbf', 'poly', 'sigmoid'], \n",
    "              'gamma':[1,0.1,0.01], \n",
    "              'degree':[1,2,3,4,5]}"
   ]
  },
  {
   "cell_type": "code",
   "execution_count": 45,
   "metadata": {},
   "outputs": [],
   "source": [
    "grid = GridSearchCV(SVC(),param_grid,verbose=3)"
   ]
  },
  {
   "cell_type": "code",
   "execution_count": null,
   "metadata": {},
   "outputs": [
    {
     "name": "stdout",
     "output_type": "stream",
     "text": [
      "Fitting 5 folds for each of 240 candidates, totalling 1200 fits\n",
      "[CV] C=0.1, degree=1, gamma=1, kernel=linear .........................\n"
     ]
    },
    {
     "name": "stderr",
     "output_type": "stream",
     "text": [
      "[Parallel(n_jobs=1)]: Using backend SequentialBackend with 1 concurrent workers.\n"
     ]
    },
    {
     "name": "stdout",
     "output_type": "stream",
     "text": [
      "[CV]  C=0.1, degree=1, gamma=1, kernel=linear, score=0.771, total=237.8min\n",
      "[CV] C=0.1, degree=1, gamma=1, kernel=linear .........................\n"
     ]
    },
    {
     "name": "stderr",
     "output_type": "stream",
     "text": [
      "[Parallel(n_jobs=1)]: Done   1 out of   1 | elapsed: 237.8min remaining:    0.0s\n"
     ]
    }
   ],
   "source": [
    "grid.fit(X_train,y_train)"
   ]
  },
  {
   "cell_type": "code",
   "execution_count": null,
   "metadata": {},
   "outputs": [],
   "source": [
    "print(grid.best_params_)\n",
    "print(grid.score(X_test,y_test))"
   ]
  },
  {
   "cell_type": "code",
   "execution_count": null,
   "metadata": {},
   "outputs": [],
   "source": [
    "grid_predict = grid.predict(X_test)"
   ]
  },
  {
   "cell_type": "code",
   "execution_count": null,
   "metadata": {},
   "outputs": [],
   "source": [
    "print(classification_report(y_test,grid_predict))\n",
    "print(confusion_matrix(y_test,grid_predict))"
   ]
  },
  {
   "cell_type": "markdown",
   "metadata": {},
   "source": [
    "<h3>Neural Network</h3>"
   ]
  },
  {
   "cell_type": "code",
   "execution_count": 30,
   "metadata": {},
   "outputs": [
    {
     "name": "stderr",
     "output_type": "stream",
     "text": [
      "Using TensorFlow backend.\n"
     ]
    }
   ],
   "source": [
    "#importing the Keras libraries and packages\n",
    "import keras\n",
    "from tensorflow.keras import Sequential\n",
    "from tensorflow.keras.layers import Conv2D, Flatten, Dense"
   ]
  },
  {
   "cell_type": "code",
   "execution_count": 31,
   "metadata": {},
   "outputs": [],
   "source": [
    "#initializing the ANN:\n",
    "classifier = Sequential()"
   ]
  },
  {
   "cell_type": "code",
   "execution_count": 32,
   "metadata": {},
   "outputs": [],
   "source": [
    "from tensorflow.python.framework import tensor_util\n",
    "def is_tensor(x):                                                                                                                                                      \n",
    "    return tensor_util.is_tensor(x)\n",
    "\n",
    "#Adding the input layer and the first hidden layer\n",
    "classifier.add(Dense(units = 76, kernel_initializer = 'uniform', activation = 'relu', input_dim = 76))"
   ]
  },
  {
   "cell_type": "code",
   "execution_count": 33,
   "metadata": {},
   "outputs": [],
   "source": [
    "# Adding the second hidden layer\n",
    "classifier.add(Dense(units = 80, \n",
    "                     kernel_initializer = 'uniform', \n",
    "                     activation = 'relu'))"
   ]
  },
  {
   "cell_type": "code",
   "execution_count": 34,
   "metadata": {},
   "outputs": [],
   "source": [
    "# Adding the third hidden layer\n",
    "classifier.add(Dense(units = 90, \n",
    "                     kernel_initializer = 'uniform', \n",
    "                     activation = 'relu'))"
   ]
  },
  {
   "cell_type": "code",
   "execution_count": 35,
   "metadata": {},
   "outputs": [],
   "source": [
    "# Adding the output layer\n",
    "classifier.add(Dense(units = 7, \n",
    "                     kernel_initializer = 'uniform', \n",
    "                     activation = 'softmax'))"
   ]
  },
  {
   "cell_type": "code",
   "execution_count": 36,
   "metadata": {},
   "outputs": [],
   "source": [
    "# Compiling the ANN\n",
    "classifier.compile(optimizer='adam', \n",
    "                   loss='sparse_categorical_crossentropy', \n",
    "                   metrics=['accuracy'])"
   ]
  },
  {
   "cell_type": "code",
   "execution_count": 37,
   "metadata": {},
   "outputs": [
    {
     "name": "stdout",
     "output_type": "stream",
     "text": [
      "Epoch 1/100\n",
      "7830/7830 [==============================] - 15s 2ms/step - loss: 0.6585 - accuracy: 0.7907\n",
      "Epoch 2/100\n",
      "7830/7830 [==============================] - 13s 2ms/step - loss: 0.6403 - accuracy: 0.7914\n",
      "Epoch 3/100\n",
      "7830/7830 [==============================] - 11s 1ms/step - loss: 0.6381 - accuracy: 0.7914\n",
      "Epoch 4/100\n",
      "7830/7830 [==============================] - 12s 2ms/step - loss: 0.6370 - accuracy: 0.7914\n",
      "Epoch 5/100\n",
      "7830/7830 [==============================] - 12s 1ms/step - loss: 0.6373 - accuracy: 0.7914\n",
      "Epoch 6/100\n",
      "7830/7830 [==============================] - 11s 1ms/step - loss: 0.6369 - accuracy: 0.7914\n",
      "Epoch 7/100\n",
      "7830/7830 [==============================] - 11s 1ms/step - loss: 0.6372 - accuracy: 0.7914\n",
      "Epoch 8/100\n",
      "7830/7830 [==============================] - 11s 1ms/step - loss: 0.6411 - accuracy: 0.7914\n",
      "Epoch 9/100\n",
      "7830/7830 [==============================] - 11s 1ms/step - loss: 0.6402 - accuracy: 0.7914\n",
      "Epoch 10/100\n",
      "7830/7830 [==============================] - 11s 1ms/step - loss: 0.6401 - accuracy: 0.7914\n",
      "Epoch 11/100\n",
      "7830/7830 [==============================] - 13s 2ms/step - loss: 0.6402 - accuracy: 0.7914\n",
      "Epoch 12/100\n",
      "7830/7830 [==============================] - 11s 1ms/step - loss: 0.6401 - accuracy: 0.7914\n",
      "Epoch 13/100\n",
      "7830/7830 [==============================] - 10s 1ms/step - loss: 0.6401 - accuracy: 0.7914\n",
      "Epoch 14/100\n",
      "7830/7830 [==============================] - 10s 1ms/step - loss: 0.6401 - accuracy: 0.7914\n",
      "Epoch 15/100\n",
      "7830/7830 [==============================] - 11s 1ms/step - loss: 0.6400 - accuracy: 0.7914\n",
      "Epoch 16/100\n",
      "7830/7830 [==============================] - 11s 1ms/step - loss: 0.6401 - accuracy: 0.7914\n",
      "Epoch 17/100\n",
      "7830/7830 [==============================] - 11s 1ms/step - loss: 0.6401 - accuracy: 0.7914\n",
      "Epoch 18/100\n",
      "7830/7830 [==============================] - 11s 1ms/step - loss: 0.6400 - accuracy: 0.7914\n",
      "Epoch 19/100\n",
      "7830/7830 [==============================] - 11s 1ms/step - loss: 0.6400 - accuracy: 0.7914\n",
      "Epoch 20/100\n",
      "7830/7830 [==============================] - 12s 2ms/step - loss: 0.6400 - accuracy: 0.7914\n",
      "Epoch 21/100\n",
      "7830/7830 [==============================] - 12s 1ms/step - loss: 0.6400 - accuracy: 0.7914\n",
      "Epoch 22/100\n",
      "7830/7830 [==============================] - 11s 1ms/step - loss: 0.6400 - accuracy: 0.7914\n",
      "Epoch 23/100\n",
      "7830/7830 [==============================] - 10s 1ms/step - loss: 0.6400 - accuracy: 0.7914\n",
      "Epoch 24/100\n",
      "7830/7830 [==============================] - 10s 1ms/step - loss: 0.6400 - accuracy: 0.7914\n",
      "Epoch 25/100\n",
      "7830/7830 [==============================] - 11s 1ms/step - loss: 0.6400 - accuracy: 0.7914\n",
      "Epoch 26/100\n",
      "7830/7830 [==============================] - 10s 1ms/step - loss: 0.6400 - accuracy: 0.7914\n",
      "Epoch 27/100\n",
      "7830/7830 [==============================] - 10s 1ms/step - loss: 0.6400 - accuracy: 0.7914\n",
      "Epoch 28/100\n",
      "7830/7830 [==============================] - 11s 1ms/step - loss: 0.6400 - accuracy: 0.7914\n",
      "Epoch 29/100\n",
      "7830/7830 [==============================] - 10s 1ms/step - loss: 0.6400 - accuracy: 0.7914\n",
      "Epoch 30/100\n",
      "7830/7830 [==============================] - 10s 1ms/step - loss: 0.6400 - accuracy: 0.7914\n",
      "Epoch 31/100\n",
      "7830/7830 [==============================] - 11s 1ms/step - loss: 0.6400 - accuracy: 0.7914\n",
      "Epoch 32/100\n",
      "7830/7830 [==============================] - 10s 1ms/step - loss: 0.6400 - accuracy: 0.7914\n",
      "Epoch 33/100\n",
      "7830/7830 [==============================] - 12s 2ms/step - loss: 0.6401 - accuracy: 0.7914\n",
      "Epoch 34/100\n",
      "7830/7830 [==============================] - 10s 1ms/step - loss: 0.6400 - accuracy: 0.7914\n",
      "Epoch 35/100\n",
      "7830/7830 [==============================] - 10s 1ms/step - loss: 0.6400 - accuracy: 0.7914\n",
      "Epoch 36/100\n",
      "7830/7830 [==============================] - 12s 1ms/step - loss: 0.6400 - accuracy: 0.7914\n",
      "Epoch 37/100\n",
      "7830/7830 [==============================] - 10s 1ms/step - loss: 0.6400 - accuracy: 0.7914\n",
      "Epoch 38/100\n",
      "7830/7830 [==============================] - 10s 1ms/step - loss: 0.6400 - accuracy: 0.7914\n",
      "Epoch 39/100\n",
      "7830/7830 [==============================] - 10s 1ms/step - loss: 0.6400 - accuracy: 0.7914\n",
      "Epoch 40/100\n",
      "7830/7830 [==============================] - 9s 1ms/step - loss: 0.6400 - accuracy: 0.7914\n",
      "Epoch 41/100\n",
      "7830/7830 [==============================] - 10s 1ms/step - loss: 0.6400 - accuracy: 0.7914\n",
      "Epoch 42/100\n",
      "7830/7830 [==============================] - 10s 1ms/step - loss: 0.6400 - accuracy: 0.7914\n",
      "Epoch 43/100\n",
      "7830/7830 [==============================] - 10s 1ms/step - loss: 0.6401 - accuracy: 0.7914\n",
      "Epoch 44/100\n",
      "7830/7830 [==============================] - 10s 1ms/step - loss: 0.6400 - accuracy: 0.7914\n",
      "Epoch 45/100\n",
      "7830/7830 [==============================] - 10s 1ms/step - loss: 0.6400 - accuracy: 0.7914\n",
      "Epoch 46/100\n",
      "7830/7830 [==============================] - 13s 2ms/step - loss: 0.6400 - accuracy: 0.7914\n",
      "Epoch 47/100\n",
      "7830/7830 [==============================] - 10s 1ms/step - loss: 0.6400 - accuracy: 0.7914\n",
      "Epoch 48/100\n",
      "7830/7830 [==============================] - 10s 1ms/step - loss: 0.6400 - accuracy: 0.7914\n",
      "Epoch 49/100\n",
      "7830/7830 [==============================] - 10s 1ms/step - loss: 0.6400 - accuracy: 0.7914\n",
      "Epoch 50/100\n",
      "7830/7830 [==============================] - 12s 2ms/step - loss: 0.6400 - accuracy: 0.7914\n",
      "Epoch 51/100\n",
      "7830/7830 [==============================] - 10s 1ms/step - loss: 0.6400 - accuracy: 0.7914\n",
      "Epoch 52/100\n",
      "7830/7830 [==============================] - 10s 1ms/step - loss: 0.6401 - accuracy: 0.7914\n",
      "Epoch 53/100\n",
      "7830/7830 [==============================] - 13s 2ms/step - loss: 0.6400 - accuracy: 0.7914\n",
      "Epoch 54/100\n",
      "7830/7830 [==============================] - 12s 1ms/step - loss: 0.6400 - accuracy: 0.7914\n",
      "Epoch 55/100\n",
      "7830/7830 [==============================] - 11s 1ms/step - loss: 0.6400 - accuracy: 0.7914\n",
      "Epoch 56/100\n",
      "7830/7830 [==============================] - 13s 2ms/step - loss: 0.6400 - accuracy: 0.7914\n",
      "Epoch 57/100\n",
      "7830/7830 [==============================] - 12s 2ms/step - loss: 0.6400 - accuracy: 0.7914\n",
      "Epoch 58/100\n",
      "7830/7830 [==============================] - 12s 2ms/step - loss: 0.6400 - accuracy: 0.7914\n",
      "Epoch 59/100\n",
      "7830/7830 [==============================] - 12s 1ms/step - loss: 0.6400 - accuracy: 0.7914\n",
      "Epoch 60/100\n",
      "7830/7830 [==============================] - 11s 1ms/step - loss: 0.6400 - accuracy: 0.7914\n",
      "Epoch 61/100\n",
      "7830/7830 [==============================] - 12s 2ms/step - loss: 0.6400 - accuracy: 0.7914\n",
      "Epoch 62/100\n",
      "7830/7830 [==============================] - 12s 1ms/step - loss: 0.6400 - accuracy: 0.7914\n",
      "Epoch 63/100\n",
      "7830/7830 [==============================] - 11s 1ms/step - loss: 0.6400 - accuracy: 0.7914\n",
      "Epoch 64/100\n",
      "7830/7830 [==============================] - 13s 2ms/step - loss: 0.6400 - accuracy: 0.7914\n",
      "Epoch 65/100\n",
      "7830/7830 [==============================] - 12s 2ms/step - loss: 0.6401 - accuracy: 0.7914\n",
      "Epoch 66/100\n",
      "7830/7830 [==============================] - 11s 1ms/step - loss: 0.6400 - accuracy: 0.7914\n",
      "Epoch 67/100\n",
      "7830/7830 [==============================] - 11s 1ms/step - loss: 0.6400 - accuracy: 0.7914\n",
      "Epoch 68/100\n",
      "7830/7830 [==============================] - 12s 2ms/step - loss: 0.6400 - accuracy: 0.7914\n",
      "Epoch 69/100\n",
      "7830/7830 [==============================] - 11s 1ms/step - loss: 0.6400 - accuracy: 0.7914\n",
      "Epoch 70/100\n",
      "7830/7830 [==============================] - 9s 1ms/step - loss: 0.6400 - accuracy: 0.7914\n",
      "Epoch 71/100\n",
      "7830/7830 [==============================] - 10s 1ms/step - loss: 0.6400 - accuracy: 0.7914\n",
      "Epoch 72/100\n",
      "7830/7830 [==============================] - 12s 2ms/step - loss: 0.6400 - accuracy: 0.7914\n",
      "Epoch 73/100\n",
      "7830/7830 [==============================] - 13s 2ms/step - loss: 0.6400 - accuracy: 0.7914\n",
      "Epoch 74/100\n",
      "7830/7830 [==============================] - 11s 1ms/step - loss: 0.6400 - accuracy: 0.7914\n",
      "Epoch 75/100\n",
      "7830/7830 [==============================] - 11s 1ms/step - loss: 0.6400 - accuracy: 0.7914\n",
      "Epoch 76/100\n",
      "7830/7830 [==============================] - 10s 1ms/step - loss: 0.6400 - accuracy: 0.7914\n",
      "Epoch 77/100\n",
      "7830/7830 [==============================] - 10s 1ms/step - loss: 0.6400 - accuracy: 0.7914\n",
      "Epoch 78/100\n",
      "7830/7830 [==============================] - 11s 1ms/step - loss: 0.6400 - accuracy: 0.7914\n",
      "Epoch 79/100\n"
     ]
    },
    {
     "name": "stdout",
     "output_type": "stream",
     "text": [
      "7830/7830 [==============================] - 11s 1ms/step - loss: 0.6400 - accuracy: 0.7914\n",
      "Epoch 80/100\n",
      "7830/7830 [==============================] - 11s 1ms/step - loss: 0.6400 - accuracy: 0.7914\n",
      "Epoch 81/100\n",
      "7830/7830 [==============================] - 12s 2ms/step - loss: 0.6400 - accuracy: 0.7914\n",
      "Epoch 82/100\n",
      "7830/7830 [==============================] - 13s 2ms/step - loss: 0.6400 - accuracy: 0.7914\n",
      "Epoch 83/100\n",
      "7830/7830 [==============================] - 11s 1ms/step - loss: 0.6400 - accuracy: 0.7914\n",
      "Epoch 84/100\n",
      "7830/7830 [==============================] - 11s 1ms/step - loss: 0.6400 - accuracy: 0.7914\n",
      "Epoch 85/100\n",
      "7830/7830 [==============================] - 11s 1ms/step - loss: 0.6400 - accuracy: 0.7914\n",
      "Epoch 86/100\n",
      "7830/7830 [==============================] - 11s 1ms/step - loss: 0.6400 - accuracy: 0.7914\n",
      "Epoch 87/100\n",
      "7830/7830 [==============================] - 10s 1ms/step - loss: 0.6400 - accuracy: 0.7914\n",
      "Epoch 88/100\n",
      "7830/7830 [==============================] - 11s 1ms/step - loss: 0.6400 - accuracy: 0.7914\n",
      "Epoch 89/100\n",
      "7830/7830 [==============================] - 11s 1ms/step - loss: 0.6400 - accuracy: 0.7914\n",
      "Epoch 90/100\n",
      "7830/7830 [==============================] - 11s 1ms/step - loss: 0.6400 - accuracy: 0.7914\n",
      "Epoch 91/100\n",
      "7830/7830 [==============================] - 11s 1ms/step - loss: 0.6400 - accuracy: 0.7914\n",
      "Epoch 92/100\n",
      "7830/7830 [==============================] - 11s 1ms/step - loss: 0.6400 - accuracy: 0.7914\n",
      "Epoch 93/100\n",
      "7830/7830 [==============================] - 11s 1ms/step - loss: 0.6400 - accuracy: 0.7914\n",
      "Epoch 94/100\n",
      "7830/7830 [==============================] - 11s 1ms/step - loss: 0.6400 - accuracy: 0.7914\n",
      "Epoch 95/100\n",
      "7830/7830 [==============================] - 11s 1ms/step - loss: 0.6400 - accuracy: 0.7914\n",
      "Epoch 96/100\n",
      "7830/7830 [==============================] - 11s 1ms/step - loss: 0.6400 - accuracy: 0.7914\n",
      "Epoch 97/100\n",
      "7830/7830 [==============================] - 11s 1ms/step - loss: 0.6400 - accuracy: 0.7914\n",
      "Epoch 98/100\n",
      "7830/7830 [==============================] - 11s 1ms/step - loss: 0.6400 - accuracy: 0.7914\n",
      "Epoch 99/100\n",
      "7830/7830 [==============================] - 11s 1ms/step - loss: 0.6401 - accuracy: 0.7914\n",
      "Epoch 100/100\n",
      "7830/7830 [==============================] - 11s 1ms/step - loss: 0.6400 - accuracy: 0.7914\n",
      "Epoch 1/100\n",
      "7830/7830 [==============================] - 11s 1ms/step - loss: 0.6400 - accuracy: 0.7914\n",
      "Epoch 2/100\n",
      "7830/7830 [==============================] - 11s 1ms/step - loss: 0.6400 - accuracy: 0.7914\n",
      "Epoch 3/100\n",
      "7830/7830 [==============================] - 11s 1ms/step - loss: 0.6400 - accuracy: 0.7914\n",
      "Epoch 4/100\n",
      "7830/7830 [==============================] - 11s 1ms/step - loss: 0.6400 - accuracy: 0.7914\n",
      "Epoch 5/100\n",
      "7830/7830 [==============================] - 12s 2ms/step - loss: 0.6400 - accuracy: 0.7914\n",
      "Epoch 6/100\n",
      "7830/7830 [==============================] - 11s 1ms/step - loss: 0.6400 - accuracy: 0.7914\n",
      "Epoch 7/100\n",
      "7830/7830 [==============================] - 11s 1ms/step - loss: 0.6400 - accuracy: 0.7914\n",
      "Epoch 8/100\n",
      "7830/7830 [==============================] - 11s 1ms/step - loss: 0.6400 - accuracy: 0.7914\n",
      "Epoch 9/100\n",
      "7830/7830 [==============================] - 11s 1ms/step - loss: 0.6400 - accuracy: 0.7914\n",
      "Epoch 10/100\n",
      "7830/7830 [==============================] - 12s 2ms/step - loss: 0.6400 - accuracy: 0.7914\n",
      "Epoch 11/100\n",
      "7830/7830 [==============================] - 11s 1ms/step - loss: 0.6400 - accuracy: 0.7914\n",
      "Epoch 12/100\n",
      "7830/7830 [==============================] - 12s 1ms/step - loss: 0.6400 - accuracy: 0.7914\n",
      "Epoch 13/100\n",
      "7830/7830 [==============================] - 11s 1ms/step - loss: 0.6400 - accuracy: 0.7914\n",
      "Epoch 14/100\n",
      "7830/7830 [==============================] - 11s 1ms/step - loss: 0.6400 - accuracy: 0.7914\n",
      "Epoch 15/100\n",
      "7830/7830 [==============================] - 11s 1ms/step - loss: 0.6400 - accuracy: 0.7914\n",
      "Epoch 16/100\n",
      "7830/7830 [==============================] - 11s 1ms/step - loss: 0.6400 - accuracy: 0.7914\n",
      "Epoch 17/100\n",
      "7830/7830 [==============================] - 11s 1ms/step - loss: 0.6400 - accuracy: 0.7914\n",
      "Epoch 18/100\n",
      "7830/7830 [==============================] - 11s 1ms/step - loss: 0.6399 - accuracy: 0.7914\n",
      "Epoch 19/100\n",
      "7830/7830 [==============================] - 11s 1ms/step - loss: 0.6401 - accuracy: 0.7914\n",
      "Epoch 20/100\n",
      "7830/7830 [==============================] - 11s 1ms/step - loss: 0.6400 - accuracy: 0.7914\n",
      "Epoch 21/100\n",
      "7830/7830 [==============================] - 12s 1ms/step - loss: 0.6400 - accuracy: 0.7914\n",
      "Epoch 22/100\n",
      "7830/7830 [==============================] - 11s 1ms/step - loss: 0.6400 - accuracy: 0.7914\n",
      "Epoch 23/100\n",
      "7830/7830 [==============================] - 11s 1ms/step - loss: 0.6400 - accuracy: 0.7914\n",
      "Epoch 24/100\n",
      "7830/7830 [==============================] - 11s 1ms/step - loss: 0.6400 - accuracy: 0.7914\n",
      "Epoch 25/100\n",
      "7830/7830 [==============================] - 11s 1ms/step - loss: 0.6400 - accuracy: 0.7914\n",
      "Epoch 26/100\n",
      "7830/7830 [==============================] - 11s 1ms/step - loss: 0.6400 - accuracy: 0.7914\n",
      "Epoch 27/100\n",
      "7830/7830 [==============================] - 11s 1ms/step - loss: 0.6400 - accuracy: 0.7914\n",
      "Epoch 28/100\n",
      "7830/7830 [==============================] - 11s 1ms/step - loss: 0.6400 - accuracy: 0.7914\n",
      "Epoch 29/100\n",
      "7830/7830 [==============================] - 11s 1ms/step - loss: 0.6400 - accuracy: 0.7914\n",
      "Epoch 30/100\n",
      "7830/7830 [==============================] - 11s 1ms/step - loss: 0.6401 - accuracy: 0.7914\n",
      "Epoch 31/100\n",
      "7830/7830 [==============================] - 11s 1ms/step - loss: 0.6400 - accuracy: 0.7914\n",
      "Epoch 32/100\n",
      "7830/7830 [==============================] - 11s 1ms/step - loss: 0.6400 - accuracy: 0.7914\n",
      "Epoch 33/100\n",
      "7830/7830 [==============================] - 11s 1ms/step - loss: 0.6400 - accuracy: 0.7914\n",
      "Epoch 34/100\n",
      "7830/7830 [==============================] - 11s 1ms/step - loss: 0.6400 - accuracy: 0.7914\n",
      "Epoch 35/100\n",
      "7830/7830 [==============================] - 11s 1ms/step - loss: 0.6400 - accuracy: 0.7914\n",
      "Epoch 36/100\n",
      "7830/7830 [==============================] - 11s 1ms/step - loss: 0.6400 - accuracy: 0.7914\n",
      "Epoch 37/100\n",
      "7830/7830 [==============================] - 11s 1ms/step - loss: 0.6400 - accuracy: 0.7914\n",
      "Epoch 38/100\n",
      "7830/7830 [==============================] - 11s 1ms/step - loss: 0.6400 - accuracy: 0.7914\n",
      "Epoch 39/100\n",
      "7830/7830 [==============================] - 11s 1ms/step - loss: 0.6400 - accuracy: 0.7914\n",
      "Epoch 40/100\n",
      "7830/7830 [==============================] - 11s 1ms/step - loss: 0.6400 - accuracy: 0.7914\n",
      "Epoch 41/100\n",
      "7830/7830 [==============================] - 11s 1ms/step - loss: 0.6400 - accuracy: 0.7914\n",
      "Epoch 42/100\n",
      "7830/7830 [==============================] - 11s 1ms/step - loss: 0.6400 - accuracy: 0.7914\n",
      "Epoch 43/100\n",
      "7830/7830 [==============================] - 11s 1ms/step - loss: 0.6400 - accuracy: 0.7914\n",
      "Epoch 44/100\n",
      "7830/7830 [==============================] - 11s 1ms/step - loss: 0.6400 - accuracy: 0.7914\n",
      "Epoch 45/100\n",
      "7830/7830 [==============================] - 11s 1ms/step - loss: 0.6400 - accuracy: 0.7914\n",
      "Epoch 46/100\n",
      "7830/7830 [==============================] - 11s 1ms/step - loss: 0.6400 - accuracy: 0.7914\n",
      "Epoch 47/100\n",
      "7830/7830 [==============================] - 11s 1ms/step - loss: 0.6400 - accuracy: 0.7914\n",
      "Epoch 48/100\n",
      "7830/7830 [==============================] - 11s 1ms/step - loss: 0.6400 - accuracy: 0.7914\n",
      "Epoch 49/100\n",
      "7830/7830 [==============================] - 11s 1ms/step - loss: 0.6401 - accuracy: 0.7914\n",
      "Epoch 50/100\n",
      "7830/7830 [==============================] - 11s 1ms/step - loss: 0.6400 - accuracy: 0.7914\n",
      "Epoch 51/100\n",
      "7830/7830 [==============================] - 11s 1ms/step - loss: 0.6400 - accuracy: 0.7914\n",
      "Epoch 52/100\n",
      "7830/7830 [==============================] - 11s 1ms/step - loss: 0.6400 - accuracy: 0.7914\n",
      "Epoch 53/100\n",
      "7830/7830 [==============================] - 11s 1ms/step - loss: 0.6400 - accuracy: 0.7914\n",
      "Epoch 54/100\n",
      "7830/7830 [==============================] - 11s 1ms/step - loss: 0.6400 - accuracy: 0.7914\n",
      "Epoch 55/100\n",
      "7830/7830 [==============================] - 11s 1ms/step - loss: 0.6400 - accuracy: 0.7914\n",
      "Epoch 56/100\n",
      "7830/7830 [==============================] - 11s 1ms/step - loss: 0.6400 - accuracy: 0.7914\n",
      "Epoch 57/100\n"
     ]
    },
    {
     "name": "stdout",
     "output_type": "stream",
     "text": [
      "7830/7830 [==============================] - 11s 1ms/step - loss: 0.6400 - accuracy: 0.7914\n",
      "Epoch 58/100\n",
      "7830/7830 [==============================] - 10s 1ms/step - loss: 0.6400 - accuracy: 0.7914\n",
      "Epoch 59/100\n",
      "7830/7830 [==============================] - 11s 1ms/step - loss: 0.6401 - accuracy: 0.7914\n",
      "Epoch 60/100\n",
      "7830/7830 [==============================] - 11s 1ms/step - loss: 0.6400 - accuracy: 0.7914\n",
      "Epoch 61/100\n",
      "7830/7830 [==============================] - 10s 1ms/step - loss: 0.6400 - accuracy: 0.7914\n",
      "Epoch 62/100\n",
      "7830/7830 [==============================] - 11s 1ms/step - loss: 0.6400 - accuracy: 0.7914\n",
      "Epoch 63/100\n",
      "7830/7830 [==============================] - 11s 1ms/step - loss: 0.6400 - accuracy: 0.7914\n",
      "Epoch 64/100\n",
      "7830/7830 [==============================] - 10s 1ms/step - loss: 0.6400 - accuracy: 0.7914\n",
      "Epoch 65/100\n",
      "7830/7830 [==============================] - 11s 1ms/step - loss: 0.6400 - accuracy: 0.7914\n",
      "Epoch 66/100\n",
      "7830/7830 [==============================] - 11s 1ms/step - loss: 0.6400 - accuracy: 0.7914\n",
      "Epoch 67/100\n",
      "7830/7830 [==============================] - 10s 1ms/step - loss: 0.6400 - accuracy: 0.7914\n",
      "Epoch 68/100\n",
      "7830/7830 [==============================] - 11s 1ms/step - loss: 0.6400 - accuracy: 0.7914\n",
      "Epoch 69/100\n",
      "7830/7830 [==============================] - 11s 1ms/step - loss: 0.6400 - accuracy: 0.7914\n",
      "Epoch 70/100\n",
      "7830/7830 [==============================] - 10s 1ms/step - loss: 0.6400 - accuracy: 0.7914\n",
      "Epoch 71/100\n",
      "7830/7830 [==============================] - 11s 1ms/step - loss: 0.6400 - accuracy: 0.7914\n",
      "Epoch 72/100\n",
      "7830/7830 [==============================] - 11s 1ms/step - loss: 0.6400 - accuracy: 0.7914\n",
      "Epoch 73/100\n",
      "7830/7830 [==============================] - 10s 1ms/step - loss: 0.6400 - accuracy: 0.7914\n",
      "Epoch 74/100\n",
      "7830/7830 [==============================] - 11s 1ms/step - loss: 0.6400 - accuracy: 0.7914\n",
      "Epoch 75/100\n",
      "7830/7830 [==============================] - 11s 1ms/step - loss: 0.6400 - accuracy: 0.7914\n",
      "Epoch 76/100\n",
      "7830/7830 [==============================] - 10s 1ms/step - loss: 0.6400 - accuracy: 0.7914\n",
      "Epoch 77/100\n",
      "7830/7830 [==============================] - 11s 1ms/step - loss: 0.6400 - accuracy: 0.7914\n",
      "Epoch 78/100\n",
      "7830/7830 [==============================] - 11s 1ms/step - loss: 0.6400 - accuracy: 0.7914\n",
      "Epoch 79/100\n",
      "7830/7830 [==============================] - 10s 1ms/step - loss: 0.6401 - accuracy: 0.7914\n",
      "Epoch 80/100\n",
      "7830/7830 [==============================] - 11s 1ms/step - loss: 0.6400 - accuracy: 0.7914\n",
      "Epoch 81/100\n",
      "7830/7830 [==============================] - 11s 1ms/step - loss: 0.6400 - accuracy: 0.7914\n",
      "Epoch 82/100\n",
      "7830/7830 [==============================] - 10s 1ms/step - loss: 0.6400 - accuracy: 0.7914\n",
      "Epoch 83/100\n",
      "7830/7830 [==============================] - 11s 1ms/step - loss: 0.6400 - accuracy: 0.7914\n",
      "Epoch 84/100\n",
      "7830/7830 [==============================] - 11s 1ms/step - loss: 0.6400 - accuracy: 0.7914\n",
      "Epoch 85/100\n",
      "7830/7830 [==============================] - 11s 1ms/step - loss: 0.6400 - accuracy: 0.7914\n",
      "Epoch 86/100\n",
      "7830/7830 [==============================] - 12s 1ms/step - loss: 0.6400 - accuracy: 0.7914\n",
      "Epoch 87/100\n",
      "7830/7830 [==============================] - 12s 2ms/step - loss: 0.6400 - accuracy: 0.7914\n",
      "Epoch 88/100\n",
      "7830/7830 [==============================] - 13s 2ms/step - loss: 0.6400 - accuracy: 0.7914\n",
      "Epoch 89/100\n",
      "7830/7830 [==============================] - 15s 2ms/step - loss: 0.6400 - accuracy: 0.7914\n",
      "Epoch 90/100\n",
      "7830/7830 [==============================] - 16s 2ms/step - loss: 0.6400 - accuracy: 0.7914\n",
      "Epoch 91/100\n",
      "7830/7830 [==============================] - 11s 1ms/step - loss: 0.6400 - accuracy: 0.7914\n",
      "Epoch 92/100\n",
      "7830/7830 [==============================] - 12s 2ms/step - loss: 0.6400 - accuracy: 0.7914\n",
      "Epoch 93/100\n",
      "7830/7830 [==============================] - 15s 2ms/step - loss: 0.6400 - accuracy: 0.7914\n",
      "Epoch 94/100\n",
      "7830/7830 [==============================] - 12s 2ms/step - loss: 0.6399 - accuracy: 0.7914\n",
      "Epoch 95/100\n",
      "7830/7830 [==============================] - 10s 1ms/step - loss: 0.6400 - accuracy: 0.7914\n",
      "Epoch 96/100\n",
      "7830/7830 [==============================] - 13s 2ms/step - loss: 0.6400 - accuracy: 0.7914\n",
      "Epoch 97/100\n",
      "7830/7830 [==============================] - 11s 1ms/step - loss: 0.6400 - accuracy: 0.7914\n",
      "Epoch 98/100\n",
      "7830/7830 [==============================] - 11s 1ms/step - loss: 0.6400 - accuracy: 0.7914\n",
      "Epoch 99/100\n",
      "7830/7830 [==============================] - 10s 1ms/step - loss: 0.6400 - accuracy: 0.7914\n",
      "Epoch 100/100\n",
      "7830/7830 [==============================] - 12s 2ms/step - loss: 0.6400 - accuracy: 0.7914\n"
     ]
    }
   ],
   "source": [
    "#Fitting the ANN to the Training set\n",
    "classifier.fit(X_train, y_train, batch_size=10, epochs=100)\n",
    "lr_model_history = classifier.fit(X_train, y_train, batch_size=10, epochs=100)"
   ]
  },
  {
   "cell_type": "code",
   "execution_count": 38,
   "metadata": {},
   "outputs": [],
   "source": [
    "predictions = classifier.predict(X_test)"
   ]
  },
  {
   "cell_type": "code",
   "execution_count": 39,
   "metadata": {},
   "outputs": [
    {
     "name": "stdout",
     "output_type": "stream",
     "text": [
      "[[    0     0  2847]\n",
      " [    0     0  1278]\n",
      " [    0     0 15449]]\n",
      "              precision    recall  f1-score   support\n",
      "\n",
      "           0       0.00      0.00      0.00      2847\n",
      "           1       0.00      0.00      0.00      1278\n",
      "           2       0.79      1.00      0.88     15449\n",
      "\n",
      "    accuracy                           0.79     19574\n",
      "   macro avg       0.26      0.33      0.29     19574\n",
      "weighted avg       0.62      0.79      0.70     19574\n",
      "\n"
     ]
    },
    {
     "name": "stderr",
     "output_type": "stream",
     "text": [
      "C:\\ProgramData\\Anaconda3\\lib\\site-packages\\sklearn\\metrics\\_classification.py:1221: UndefinedMetricWarning: Precision and F-score are ill-defined and being set to 0.0 in labels with no predicted samples. Use `zero_division` parameter to control this behavior.\n",
      "  _warn_prf(average, modifier, msg_start, len(result))\n"
     ]
    }
   ],
   "source": [
    "from sklearn.metrics import classification_report,confusion_matrix\n",
    "\n",
    "print(confusion_matrix(y_test, np.argmax(predictions, axis = 1)))\n",
    "print(classification_report (y_test, np.argmax(predictions, axis = 1)))"
   ]
  },
  {
   "cell_type": "code",
   "execution_count": 44,
   "metadata": {},
   "outputs": [
    {
     "name": "stdout",
     "output_type": "stream",
     "text": [
      "[[1.4979774e-01 6.2593326e-02 7.8760886e-01 ... 9.4517269e-11\n",
      "  9.4517096e-11 9.4517269e-11]\n",
      " [1.4979774e-01 6.2593326e-02 7.8760886e-01 ... 9.4517269e-11\n",
      "  9.4517096e-11 9.4517269e-11]\n",
      " [1.4979774e-01 6.2593326e-02 7.8760886e-01 ... 9.4517269e-11\n",
      "  9.4517096e-11 9.4517269e-11]\n",
      " ...\n",
      " [1.4979774e-01 6.2593326e-02 7.8760886e-01 ... 9.4517269e-11\n",
      "  9.4517096e-11 9.4517269e-11]\n",
      " [1.4979774e-01 6.2593326e-02 7.8760886e-01 ... 9.4517269e-11\n",
      "  9.4517096e-11 9.4517269e-11]\n",
      " [1.4979774e-01 6.2593326e-02 7.8760886e-01 ... 9.4517269e-11\n",
      "  9.4517096e-11 9.4517269e-11]]\n",
      "y [[0 0 1]\n",
      " [0 1 0]\n",
      " [0 0 1]\n",
      " ...\n",
      " [0 0 1]\n",
      " [0 0 1]\n",
      " [0 0 1]]\n",
      "frp [0. 1.]\n",
      "frp [0. 1.]\n",
      "frp [0. 1.]\n"
     ]
    },
    {
     "data": {
      "image/png": "[encoded data removed]",
      "text/plain": [
       "<Figure size 432x288 with 1 Axes>"
      ]
     },
     "metadata": {
      "needs_background": "light"
     },
     "output_type": "display_data"
    },
    {
     "data": {
      "image/png": "[encoded data removed]",
      "text/plain": [
       "<Figure size 432x288 with 1 Axes>"
      ]
     },
     "metadata": {
      "needs_background": "light"
     },
     "output_type": "display_data"
    },
    {
     "data": {
      "image/png": "[encoded data removed]",
      "text/plain": [
       "<Figure size 432x288 with 1 Axes>"
      ]
     },
     "metadata": {
      "needs_background": "light"
     },
     "output_type": "display_data"
    }
   ],
   "source": [
    "from sklearn.metrics import roc_curve, auc\n",
    "from sklearn.multiclass import OneVsRestClassifier\n",
    "from sklearn.svm import LinearSVC\n",
    "from sklearn.preprocessing import label_binarize\n",
    "#from sklearn.cross_validation import train_test_split\n",
    "import matplotlib.pyplot as plt\n",
    "\n",
    "# shuffle and split training and test sets\n",
    "X_train, X_test, y_train, y_test =\\\n",
    "            train_test_split(X, y, test_size=0.2, random_state=0)\n",
    "\n",
    "#Calculate the y_score\n",
    "y_score = classifier.predict_proba(X_test)\n",
    "print(y_score)\n",
    "\n",
    "y = label_binarize(y, classes=[0,1,2])\n",
    "n_classes = 3\n",
    "print('y', y)\n",
    "\n",
    "# Compute ROC curve and ROC area for each class\n",
    "fpr = dict()\n",
    "tpr = dict()\n",
    "roc_auc = dict()\n",
    "for i in range(n_classes):\n",
    "    fpr[i], tpr[i], _ = roc_curve(y_test[:, i], y_score[:, i])\n",
    "    print('frp', fpr[i])\n",
    "    roc_auc[i] = auc(fpr[i], tpr[i])\n",
    "\n",
    "# Plot of a ROC curve for a specific class\n",
    "for i in range(n_classes):\n",
    "    plt.figure()\n",
    "    #plt.plot(fpr[i], tpr[i], label='ROC curve (area = %0.2f)' % roc_auc[i])\n",
    "    for i in range(n_classes):\n",
    "        plt.plot(fpr[i], tpr[i], label='ROC curve (area = %0.2f) for label %i' % (roc_auc[i], i))\n",
    "    plt.plot([0, 1], [0, 1], 'k--')\n",
    "    plt.xlim([0.0, 1.0])\n",
    "    plt.ylim([0.0, 1.05])\n",
    "    plt.xlabel('False Positive Rate')\n",
    "    plt.ylabel('True Positive Rate')\n",
    "    plt.title('Receiver operating characteristic example')\n",
    "    plt.legend(loc=\"lower right\")\n",
    "    plt.show()"
   ]
  },
  {
   "cell_type": "code",
   "execution_count": null,
   "metadata": {},
   "outputs": [],
   "source": []
  },
  {
   "cell_type": "code",
   "execution_count": null,
   "metadata": {},
   "outputs": [],
   "source": []
  },
  {
   "cell_type": "code",
   "execution_count": null,
   "metadata": {},
   "outputs": [],
   "source": []
  },
  {
   "cell_type": "code",
   "execution_count": null,
   "metadata": {},
   "outputs": [],
   "source": []
  }
 ],
 "metadata": {
  "kernelspec": {
   "display_name": "Python 3",
   "language": "python",
   "name": "python3"
  },
  "language_info": {
   "codemirror_mode": {
    "name": "ipython",
    "version": 3
   },
   "file_extension": ".py",
   "mimetype": "text/x-python",
   "name": "python",
   "nbconvert_exporter": "python",
   "pygments_lexer": "ipython3",
   "version": "3.7.6"
  }
 },
 "nbformat": 4,
 "nbformat_minor": 4
}
