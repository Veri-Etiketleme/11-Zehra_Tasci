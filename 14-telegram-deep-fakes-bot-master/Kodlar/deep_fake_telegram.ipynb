{
  "nbformat": 4,
  "nbformat_minor": 0,
  "metadata": {
    "colab": {
      "name": "deep_fake_telegram.ipynb",
      "provenance": [],
      "collapsed_sections": [],
      "include_colab_link": true
    },
    "kernelspec": {
      "name": "python3",
      "display_name": "Python 3"
    },
    "accelerator": "GPU"
  },
  "cells": [
    {
      "cell_type": "markdown",
      "metadata": {
        "id": "view-in-github",
        "colab_type": "text"
      },
      "source": [
        "<a href=\"https://colab.research.google.com/github/albertoxamin/telegram-deep-fakes-bot/blob/master/deep_fake_telegram.ipynb\" target=\"_parent\"><img src=\"https://colab.research.google.com/assets/colab-badge.svg\" alt=\"Open In Colab\"/></a>"
      ]
    },
    {
      "cell_type": "markdown",
      "metadata": {
        "id": "cdO_RxQZLahB"
      },
      "source": [
        "# Telegram deep fake bot\n",
        "\n",
        "[Github repo](https://github.com/albertoxamin/telegram-deep-fakes-bot)"
      ]
    },
    {
      "cell_type": "markdown",
      "metadata": {
        "id": "GCDNKsEGLtR6"
      },
      "source": [
        "**Clone deep-fake repository**"
      ]
    },
    {
      "cell_type": "code",
      "metadata": {
        "id": "UCMFMJV7K-ag",
        "colab": {
          "base_uri": "https://localhost:8080/"
        },
        "outputId": "9796e65c-a865-4ac9-d190-3129e0a221ba"
      },
      "source": [
        "!git clone https://github.com/AliaksandrSiarohin/first-order-model"
      ],
      "execution_count": 1,
      "outputs": [
        {
          "output_type": "stream",
          "text": [
            "Cloning into 'first-order-model'...\n",
            "remote: Enumerating objects: 299, done.\u001b[K\n",
            "remote: Counting objects: 100% (6/6), done.\u001b[K\n",
            "remote: Compressing objects: 100% (6/6), done.\u001b[K\n",
            "remote: Total 299 (delta 2), reused 2 (delta 0), pack-reused 293\u001b[K\n",
            "Receiving objects: 100% (299/299), 72.15 MiB | 29.72 MiB/s, done.\n",
            "Resolving deltas: 100% (153/153), done.\n"
          ],
          "name": "stdout"
        }
      ]
    },
    {
      "cell_type": "code",
      "metadata": {
        "id": "PBp6l_4bBYUL",
        "colab": {
          "base_uri": "https://localhost:8080/"
        },
        "outputId": "4e66e811-8e07-4c1b-a9bc-3c9132083330"
      },
      "source": [
        "cd first-order-model"
      ],
      "execution_count": 2,
      "outputs": [
        {
          "output_type": "stream",
          "text": [
            "/content/first-order-model\n"
          ],
          "name": "stdout"
        }
      ]
    },
    {
      "cell_type": "markdown",
      "metadata": {
        "id": "IcMX7ueZO0Oa"
      },
      "source": [
        "**Mount your Google drive folder on Colab**"
      ]
    },
    {
      "cell_type": "code",
      "metadata": {
        "id": "tDbMA8R9OuUo",
        "colab": {
          "base_uri": "https://localhost:8080/"
        },
        "outputId": "ff5619e0-a378-433f-90a2-7d35779bedd1"
      },
      "source": [
        "\n",
        "from google.colab import drive\n",
        "drive.mount('/content/gdrive')"
      ],
      "execution_count": 3,
      "outputs": [
        {
          "output_type": "stream",
          "text": [
            "Mounted at /content/gdrive\n"
          ],
          "name": "stdout"
        }
      ]
    },
    {
      "cell_type": "markdown",
      "metadata": {
        "id": "VsgVK1EURXkd"
      },
      "source": [
        "**Add folder https://drive.google.com/drive/folders/1kZ1gCnpfU0BnpdU47pLM_TQ6RypDDqgw?usp=sharing  to your google drive.**"
      ]
    },
    {
      "cell_type": "markdown",
      "metadata": {
        "id": "rW-ipQXPOWUo"
      },
      "source": [
        "**Load the deep fake libraries**"
      ]
    },
    {
      "cell_type": "code",
      "metadata": {
        "id": "Oxi6-riLOgnm"
      },
      "source": [
        "import imageio\n",
        "import numpy as np\n",
        "import matplotlib.pyplot as plt\n",
        "import matplotlib.animation as animation\n",
        "from skimage.transform import resize\n",
        "from IPython.display import HTML\n",
        "import warnings\n",
        "warnings.filterwarnings(\"ignore\")\n",
        "from demo import load_checkpoints\n",
        "from demo import make_animation\n",
        "from skimage import img_as_ubyte\n",
        "cpu = False\n",
        "generator, kp_detector = load_checkpoints(config_path='config/vox-adv-256.yaml', \n",
        "                            checkpoint_path='/content/gdrive/My Drive/first-order-motion-model/vox-adv-cpk.pth.tar',cpu=cpu)"
      ],
      "execution_count": 4,
      "outputs": []
    },
    {
      "cell_type": "markdown",
      "metadata": {
        "id": "xjM7ubVfWrwT"
      },
      "source": [
        "**Install the telegram bot framework**"
      ]
    },
    {
      "cell_type": "code",
      "metadata": {
        "id": "wFGm3aa8Nnq4",
        "colab": {
          "base_uri": "https://localhost:8080/"
        },
        "outputId": "b337b3f5-760f-49e9-89b7-ce4345f1f4a2"
      },
      "source": [
        "!pip install pyTelegramBotAPI"
      ],
      "execution_count": 5,
      "outputs": [
        {
          "output_type": "stream",
          "text": [
            "Collecting pyTelegramBotAPI\n",
            "  Downloading pyTelegramBotAPI-3.8.2.tar.gz (102 kB)\n",
            "\u001b[?25l\r\u001b[K     |███▏                            | 10 kB 36.5 MB/s eta 0:00:01\r\u001b[K     |██████▍                         | 20 kB 29.3 MB/s eta 0:00:01\r\u001b[K     |█████████▌                      | 30 kB 19.0 MB/s eta 0:00:01\r\u001b[K     |████████████▊                   | 40 kB 15.7 MB/s eta 0:00:01\r\u001b[K     |████████████████                | 51 kB 9.9 MB/s eta 0:00:01\r\u001b[K     |███████████████████             | 61 kB 9.6 MB/s eta 0:00:01\r\u001b[K     |██████████████████████▎         | 71 kB 9.8 MB/s eta 0:00:01\r\u001b[K     |█████████████████████████▌      | 81 kB 11.0 MB/s eta 0:00:01\r\u001b[K     |████████████████████████████▋   | 92 kB 8.7 MB/s eta 0:00:01\r\u001b[K     |███████████████████████████████▉| 102 kB 9.3 MB/s eta 0:00:01\r\u001b[K     |████████████████████████████████| 102 kB 9.3 MB/s \n",
            "\u001b[?25hRequirement already satisfied: requests in /usr/local/lib/python3.7/dist-packages (from pyTelegramBotAPI) (2.23.0)\n",
            "Requirement already satisfied: idna<3,>=2.5 in /usr/local/lib/python3.7/dist-packages (from requests->pyTelegramBotAPI) (2.10)\n",
            "Requirement already satisfied: chardet<4,>=3.0.2 in /usr/local/lib/python3.7/dist-packages (from requests->pyTelegramBotAPI) (3.0.4)\n",
            "Requirement already satisfied: urllib3!=1.25.0,!=1.25.1,<1.26,>=1.21.1 in /usr/local/lib/python3.7/dist-packages (from requests->pyTelegramBotAPI) (1.24.3)\n",
            "Requirement already satisfied: certifi>=2017.4.17 in /usr/local/lib/python3.7/dist-packages (from requests->pyTelegramBotAPI) (2021.5.30)\n",
            "Building wheels for collected packages: pyTelegramBotAPI\n",
            "  Building wheel for pyTelegramBotAPI (setup.py) ... \u001b[?25l\u001b[?25hdone\n",
            "  Created wheel for pyTelegramBotAPI: filename=pyTelegramBotAPI-3.8.2-py3-none-any.whl size=78015 sha256=3e7218cee8534ef4201cbd5f5e4dcda06416d85178be82b7a78dcc29b9987b58\n",
            "  Stored in directory: /root/.cache/pip/wheels/05/20/79/0ec340bba3293984eac13cbd480839b754e4edffe1e517f606\n",
            "Successfully built pyTelegramBotAPI\n",
            "Installing collected packages: pyTelegramBotAPI\n",
            "Successfully installed pyTelegramBotAPI-3.8.2\n"
          ],
          "name": "stdout"
        }
      ]
    },
    {
      "cell_type": "markdown",
      "metadata": {
        "id": "xMBUah6_p4q2"
      },
      "source": [
        "## Make it a telegram bot\n",
        "\n",
        "contact the [@BotFather](https://t.me/BotFather) on telegram and create a new bot with the command `/newbot` \n",
        "\n",
        "After you've given the bot a name and username you should receive a message that looks like this ![alt text](https://i.imgur.com/BT8hHEL.png)\n",
        "\n",
        "\n",
        "Now copy and the paste the token below in the `API_TOKEN`.\n",
        "\n",
        "Now you can run this cell and start chatting with the bot."
      ]
    },
    {
      "cell_type": "code",
      "metadata": {
        "id": "jMSzRMloD8Mr",
        "colab": {
          "base_uri": "https://localhost:8080/"
        },
        "outputId": "800294de-1109-4c50-dcb2-22067083d18c"
      },
      "source": [
        "import telebot\n",
        "import requests\n",
        "import shutil\n",
        "import subprocess\n",
        "import os.path\n",
        "\n",
        "API_TOKEN = ''\n",
        "bot = telebot.TeleBot(API_TOKEN)\n",
        "settings = {}\n",
        "enabled = []\n",
        "\n",
        "def isEnabled(id):\n",
        "  return id in enabled if len(enabled)>0 else True\n",
        "\n",
        "@bot.message_handler(commands=['start', 'help'])\n",
        "def send_welcome(message):\n",
        "  if isEnabled(message.chat.id):\n",
        "\t  bot.reply_to(message, \"Hi send me a photo (with square aspect ratio), you will then be able to use this face\\n\"\n",
        "    \"Switch output between video mode and video note mode with /output\\nSwitch relative position with /relative\\n\\nIssues with speed?\\nChange to dynamic mode with /speed\")\n",
        "\n",
        "def get(key,id_utente,default_value=False):\n",
        "  if not id_utente in settings:\n",
        "    settings[id_utente]={}\n",
        "  if not key in settings[id_utente]:\n",
        "    settings[id_utente][key]=default_value\n",
        "  return settings[id_utente][key]\n",
        "\n",
        "def set(key,value,id_utente):\n",
        "  get(key,id_utente) #init\n",
        "  settings[id_utente][key]=value\n",
        "\n",
        "#fix for wrong length speedup on OnePlus\n",
        "def get_length(filename):\n",
        "    result = subprocess.run([\"ffprobe\", \"-v\", \"error\", \"-show_entries\",\n",
        "                             \"format=duration\", \"-of\",\n",
        "                             \"default=noprint_wrappers=1:nokey=1\", filename],\n",
        "        stdout=subprocess.PIPE,\n",
        "        stderr=subprocess.STDOUT)\n",
        "    return float(result.stdout)\n",
        "\n",
        "@bot.message_handler(commands=['output'])\n",
        "def videomode(message):\n",
        "  if isEnabled(message.chat.id):\n",
        "    if get('mode',message.chat.id):\n",
        "      set('mode',False,message.chat.id)\n",
        "    else:\n",
        "      set('mode',True,message.chat.id)\n",
        "    bot.reply_to(message, \"I've changed mode correctly.\")\n",
        "\n",
        "@bot.message_handler(commands=['speed'])\n",
        "def speedmode(message):\n",
        "  if isEnabled(message.chat.id):\n",
        "    if get('dynamic_scale',message.chat.id):\n",
        "      set('dynamic_scale',False,message.chat.id)\n",
        "    else:\n",
        "      set('dynamic_scale',True,message.chat.id)\n",
        "    bot.reply_to(message, \"I've changed the speed adaptation correctly.\")\n",
        "\n",
        "@bot.message_handler(commands=['relative'])\n",
        "def relativemode(message):\n",
        "  if isEnabled(message.chat.id):\n",
        "    if get('relative',message.chat.id,default_value=True):\n",
        "      set('relative',False,message.chat.id)\n",
        "    else:\n",
        "      set('relative',True,message.chat.id)\n",
        "    bot.reply_to(message, f\"I've changed the relative mode to {get('relative',message.chat.id)} correctly.\")\n",
        "\n",
        "@bot.message_handler(content_types=['photo'])\n",
        "def download_pic(message):\n",
        "  if isEnabled(message.chat.id):\n",
        "    file_info = bot.get_file([ph.file_id for ph in message.photo if ph.file_size== max([photo.file_size for photo in message.photo])][0])\n",
        "    file = requests.get('https://api.telegram.org/file/bot{0}/{1}'.format(API_TOKEN, file_info.file_path))\n",
        "    id = message.chat.id;\n",
        "    open(f'../src{id}.jpg', 'wb').write(file.content)\n",
        "    bot.reply_to(message, \"Perfect, now send me a video note or a video! (for best results keep head movements to a minimum and keep a static background)\")\n",
        "\n",
        "@bot.message_handler(content_types=['video_note','video'])\n",
        "def download_video(message):\n",
        "  if isEnabled(message.chat.id):\n",
        "    try:\n",
        "      id = message.chat.id;\n",
        "      file_info = bot.get_file(message.video_note.file_id if message.content_type == 'video_note' else message.video.file_id)\n",
        "      print('https://api.telegram.org/file/bot{0}/{1}'.format(API_TOKEN, file_info.file_path));\n",
        "      file = requests.get('https://api.telegram.org/file/bot{0}/{1}'.format(API_TOKEN, file_info.file_path))\n",
        "      open(f'../target{id}.mp4', 'wb').write(file.content)\n",
        "      #extract audio\n",
        "      subprocess.call(['ffmpeg', '-i', f'../target{id}.mp4', '-vn', '-acodec','copy', f'../out{id}.aac'])\n",
        "      if os.path.exists(f'../src{id}.jpg'):\n",
        "        bot.reply_to(message, \"I'm generating the deep fake...\")\n",
        "        bot.send_chat_action(id, 'record_video')\n",
        "        source_image = imageio.imread(f'../src{id}.jpg')\n",
        "        source_image = resize(source_image, (256, 256))[..., :3]\n",
        "      else:\n",
        "        bot.reply_to(message, \"You have to send me an image first!\")\n",
        "        return\n",
        "      try:\n",
        "        driving_video = imageio.mimread(f'../target{id}.mp4')\n",
        "      except Exception as e:\n",
        "        reader = imageio.get_reader(f'../target{id}.mp4')\n",
        "        driving_video = []\n",
        "        try:\n",
        "            for im in reader:\n",
        "                driving_video.append(im)\n",
        "        except RuntimeError:\n",
        "            pass\n",
        "      driving_video = [resize(frame, (256, 256))[..., :3] for frame in driving_video]\n",
        "      predictions = make_animation(source_image, driving_video, generator, kp_detector, relative=get('relative',message.chat.id,default_value=True),cpu=cpu)\n",
        "      imageio.mimsave(f'../generated{id}.mp4', [img_as_ubyte(frame) for frame in predictions])\n",
        "      #normal speed\n",
        "      if get('dynamic_scale',message.chat.id):\n",
        "        dynamic_scale=1/(get_length(f'../generated{id}.mp4')/get_length(f'../target{id}.mp4'))\n",
        "      else:\n",
        "        dynamic_scale=0.33334\n",
        "\n",
        "      subprocess.call(['ffmpeg', '-itsscale',f'{dynamic_scale}', '-i', f'../generated{id}.mp4', '-c','copy', f'../generated_fast{id}.mp4'])\n",
        "      print(get_length(f'../generated_fast{id}.mp4'))\n",
        "      #add audio\n",
        "      subprocess.call(['ffmpeg', '-i', f'../generated_fast{id}.mp4', '-i',f'../out{id}.aac', '-c', 'copy','-map','0:v:0','-map','1:a:0', f'../tosend{id}.mp4'])\n",
        "      videonote = open(f'../tosend{id}.mp4', 'rb')\n",
        "      if get('mode',message.chat.id):\n",
        "        bot.send_video(id, videonote)\n",
        "      else:\n",
        "        bot.send_video_note(id,videonote)\n",
        "    finally:\n",
        "      #cleanup\n",
        "      if os.path.exists(f'../target{id}.mp4'):\n",
        "        os.remove(f'../target{id}.mp4')\n",
        "      if os.path.exists(f'../generated{id}.mp4'):\n",
        "        os.remove(f'../generated{id}.mp4')\n",
        "      if os.path.exists(f'../generated_fast{id}.mp4'):\n",
        "        os.remove(f'../generated_fast{id}.mp4')\n",
        "      if os.path.exists(f'../tosend{id}.mp4'):\n",
        "        os.remove(f'../tosend{id}.mp4')\n",
        "      if os.path.exists(f'../out{id}.aac'):\n",
        "        os.remove(f'../out{id}.aac')\n",
        "      if os.path.exists(f'../src{id}.jpg'):\n",
        "        os.remove(f'../src{id}.jpg')\n",
        "\n",
        "bot.polling()"
      ],
      "execution_count": null,
      "outputs": [
        {
          "output_type": "stream",
          "text": [
            "https://api.telegram.org/file/bot993771052:AAECNAJXqOW02t4F67djnEGwyMCY5r0_J8U/video_notes/file_42.mp4\n"
          ],
          "name": "stdout"
        },
        {
          "output_type": "stream",
          "text": [
            "100%|██████████| 74/74 [00:03<00:00, 24.61it/s]\n"
          ],
          "name": "stderr"
        },
        {
          "output_type": "stream",
          "text": [
            "2.534\n"
          ],
          "name": "stdout"
        }
      ]
    }
  ]
}