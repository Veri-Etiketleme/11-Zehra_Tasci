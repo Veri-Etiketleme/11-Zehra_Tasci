{
 "cells": [
  {
   "cell_type": "markdown",
   "metadata": {},
   "source": [
    "# Spotify and Machine Learning\n",
    "\n",
    "The music recommendation problem - why is this a challenge:\n",
    "1. Scale of catalog - over 30 million songs available, how to determine which ones a user will like and listen to next?\n",
    "2. Repeated consumption - unlike movies, television or books, users will listen to the same or similar tracks over and over, which can generate a lot of noise in the data\n",
    "3. Music taste tends to be quite idiosyncratic and each user can have _vastly_ different preferences\n",
    "4. Implicit versus explicit rating - e.g. with Netflix, users explicitly rate movies, but feedback for music is implicit through streaming behaviour (how many times you listen to a song, do you listen to the whole song, etc.)\n",
    "\n",
    "The diagram below illustrates the stack that Spotify uses to generate the now famous \"Discover Weekly\" playlist for each of its individual users:\n",
    "    \n",
    "![spotify-ecosystem](images/spotify-ecosystem.png)"
   ]
  },
  {
   "cell_type": "markdown",
   "metadata": {},
   "source": [
    "# How do they do it?\n",
    "\n",
    "Spotify uses three primary types of modelling techniques to create the \"Discover Weekly\" playlist and other music recommendation applications/algorithms:\n",
    "\n",
    "## Collaborative filtering\n",
    "1. Analysis and comparison of a user's behaviour and preferences versus other users and their preferences\n",
    "2. Focus is on using user data to make predictions (e.g. number of times a particular song is played, songs saved on playlists, etc.)\n",
    "3. Aggregate and remove temporal aspects of user data and then create (very large, sometimes sparse) matrices that represent user behaviour across genres, demographics, etc.\n",
    "4. Theoretical size of MxN, where M is number of users (140 million users) and N is number of songs available (30 million songs)\n",
    "5. Basically a lot of matrix multiplication, but optimization techniques are needed due to the large volume of data and high number of features (matrix factorization, probabilistic latent semantic analysis)\n",
    "6. Spotify uses Luigi (Python) to build complex pipelines of ETL jobs in order to enable collaborative filtering model workflow\n",
    "\n",
    "## Natural Language Processing\n",
    "1. Analysis of track metadata, music blogs, forums, social media, etc. to determine what adjectives and descriptions are available for specific songs or artists\n",
    "2. Categorise into buckets and then assign weights to each song/artist to determine probability that a particular description will be used to describe that item\n",
    "3. These weighted categorical representations are then converted to a vector representation of a song/artist, which can then be used for comparison to determine similarity between songs or artists\n",
    "\n",
    "## Raw audio analysis\n",
    "1. Used primarily to include new songs that might not have enough social media/mainstream data or user playtime data\n",
    "2. Analysis of raw features of the audio track (e.g. key, tempo, valence, duration, time signatures, verse/chorus frequency and breakdown, mode, etc.)\n",
    "3. Spotify uses convolutional neural networks (CNNs) to analyse time-frequency representations of audio frames (basically excerpts of songs) and compute statistics of individual songs based on more musically objective factors"
   ]
  },
  {
   "cell_type": "markdown",
   "metadata": {},
   "source": [
    "# Can we do better than Spotify?\n",
    "\n",
    "The correct answer here is \"probably not,\" but that doesn't mean we shouldn't try.\n",
    "\n",
    "How about using classification models to determine whether a song is \"good\" or \"bad\" based on an individual's preferences? We will need a way to access Spotify data first - this can be done via the Spotify web API.\n",
    "\n",
    "## Classification with Spotify data\n",
    "Fortunately, there are a variety of libraries available across multiple programming languages that provider wrappers around this API. The library we will be using is called _spotipy_ (click [here](https://github.com/plamere/spotipy) for more details), which will allow us to extract song data available through the Spotify web API using Python.\n",
    "\n",
    "For the purposes of showing how the _spotipy_ library works and how machine learning can be used to classify songs, we will be performing binomial classification on two playlists - one playlist will contain only \"country\" songs and the other will contain \"hip hop\" songs.\n",
    "\n",
    "## Step 1 - Create Spotify client object\n",
    "First, we need to create a Spotify client object in Python using app credentials created via the Spotify Developer website (you can create your own apps, which you can access via a \"client ID\" and \"client secret\" that Spotify generates for you). Since I want to keep my client ID and client secret confidential, I store them on a local .env file which is not contained in this repository."
   ]
  },
  {
   "cell_type": "code",
   "execution_count": 24,
   "metadata": {},
   "outputs": [],
   "source": [
    "import os\n",
    "import sys\n",
    "\n",
    "# add the 'src' directory as one where we can import modules\n",
    "src_dir = os.path.join(os.getcwd(), os.pardir, 'src')\n",
    "sys.path.append(src_dir)\n",
    "\n",
    "# import user modules\n",
    "from visualisation.ipython import *\n",
    "from visualisation.graphs import *\n",
    "from features.generate_features import *\n",
    "from models.predict_model import *\n",
    "from models.train_model import *\n",
    "\n",
    "# import sklearn classifiers and functions\n",
    "from sklearn.model_selection import train_test_split\n",
    "from sklearn.naive_bayes import GaussianNB\n",
    "from sklearn.neighbors import KNeighborsClassifier\n",
    "from sklearn.ensemble import RandomForestClassifier\n",
    "from sklearn.ensemble import AdaBoostClassifier\n",
    "from xgboost import XGBClassifier\n",
    "from xgboost import plot_importance\n",
    "\n",
    "from IPython.display import HTML\n",
    "\n",
    "plt.rcParams[\"axes.grid\"] = False\n",
    "%matplotlib inline"
   ]
  },
  {
   "cell_type": "code",
   "execution_count": 2,
   "metadata": {},
   "outputs": [],
   "source": [
    "filepath = os.path.join(os.getcwd(), os.pardir, '.env')  # specifies path of .env file\n",
    "sp = access_spotify(filepath)  # returns a Spotify client object"
   ]
  },
  {
   "cell_type": "markdown",
   "metadata": {},
   "source": [
    "## Step 2 - Get tracks and song data from playlists\n",
    "\n",
    "Once we have the Spotify client object, we can access playlist data for user playlists created through the Spotify application using a username and set of playlist IDs. These can be obtained via the application or a web browser running the Spotify Web application. A typical playlist URL link, which includes the playlist ID, will look like this:\n",
    "\n",
    "https://open.spotify.com/user/federicociner/playlist/7ieLWhjh16EPCRV721NyPl\n",
    "\n",
    "The URLs for the hip-hop and country playlists we will use for this exercise are as follows:\n",
    "* Hip-hop: https://open.spotify.com/user/federicociner/playlist/74RF9FPZV75ILPK3Vk7hxg\n",
    "* Country: https://open.spotify.com/user/federicociner/playlist/5NQnP4gJMAAhmgnvYdRyqz\n",
    "\n",
    "In order to get song-specific details, we need to extract the song IDs from the items in the playlist array. We will do this by iterating through the \"tracks\" in each playlist and extracting the track features into a separate list."
   ]
  },
  {
   "cell_type": "code",
   "execution_count": 5,
   "metadata": {},
   "outputs": [
    {
     "name": "stdout",
     "output_type": "stream",
     "text": [
      "Country song IDs:\n",
      "\n",
      "3Ze8nX7ZYOnAgf8A1hDQQ9\n",
      "7iDa6hUg2VgEL1o1HjmfBn\n",
      "2OFvjqQ5xHaWqH3EQ4K3S9\n",
      "6caDnpIOivsjLRXqlJJxCD\n",
      "2N2EoS0dVmkNT0tfI0OYUA\n",
      "\n",
      "\n",
      "Hip-hop song IDs:\n",
      "\n",
      "7wGoVu4Dady5GV0Sv4UIsx\n",
      "5eqK0tbzUPo2SoeZsov04s\n",
      "43ZyHQITOjhciSUUNPVRHc\n",
      "2Xqd0wUttjueBfdcltADOv\n",
      "6GNifiuBPrKFpwNBYnooFm\n"
     ]
    }
   ],
   "source": [
    "# set user name and playlist ID variables\n",
    "username = 'federicociner'\n",
    "country_playlist_id = '5NQnP4gJMAAhmgnvYdRyqz'\n",
    "hiphop_playlist_id = '74RF9FPZV75ILPK3Vk7hxg'\n",
    "\n",
    "# load playlist object\n",
    "country_playlist = sp.user_playlist(username, country_playlist_id)\n",
    "hiphop_playlist = sp.user_playlist(username, hiphop_playlist_id)\n",
    "\n",
    "# get track objects from country playlist object\n",
    "country_tracks = country_playlist['tracks']\n",
    "country_songs = country_tracks['items']\n",
    "while country_tracks['next']:\n",
    "    country_tracks = sp.next(country_tracks)\n",
    "    [country_songs.append(item) for item in country_tracks['items']]\n",
    "\n",
    "# get track objects from hip-hop playlist object\n",
    "hiphop_tracks = hiphop_playlist['tracks']\n",
    "hiphop_songs = hiphop_tracks['items']\n",
    "while hiphop_tracks['next']:\n",
    "    hiphop_tracks = sp.next(hiphop_tracks)\n",
    "    [hiphop_songs.append(item) for item in hiphop_tracks['items']]\n",
    "\n",
    "# get unique identifiers for each song in both playlists\n",
    "country_ids = [country_songs[i]['track']['id'] for i in range(0, len(country_songs))]\n",
    "hiphop_ids = [hiphop_songs[i]['track']['id'] for i in range(0, len(hiphop_songs))]\n",
    "\n",
    "print 'Country song IDs:\\n'\n",
    "print '\\n'.join([str(country_ids[i]) for i in range(0,5)])\n",
    "print '\\n'\n",
    "print 'Hip-hop song IDs:\\n'\n",
    "print '\\n'.join([str(hiphop_ids[i]) for i in range(0,5)])"
   ]
  },
  {
   "cell_type": "markdown",
   "metadata": {},
   "source": [
    "## Step 3 - Get song features\n",
    "\n",
    "Using these song IDs, we can extract features for each song via the *audio_features* method in the Spotify client object. This method allows us to access the \"audio features\" object of a specific song, and contains all sorts of useful information:\n",
    "* Technical and structural features such as tempo, key, mode, duration, time signature, etc\n",
    "* Derived/descriptive features such as \"instrumentalness,\" \"speechiness,\" \"loudness\", and valence (measure of how happy or sad a song is)\n",
    "\n",
    "Further, since we will be using this feature set for binomial classification, we will need to label each observation so that our classifiers are able to distinguish a country song from a  hip-hop song during the training phase. To keep things simple, we assign a class of 1 to all country songs and a class of 0 to hip-hop songs (the integer values here are irrelevant as long as they are not the same value)."
   ]
  },
  {
   "cell_type": "code",
   "execution_count": 6,
   "metadata": {},
   "outputs": [],
   "source": [
    "features = []\n",
    "\n",
    "# get features for country songs and assign a class of '1'\n",
    "for i in range(0, len(country_ids), 50):\n",
    "    audio_features = sp.audio_features(country_ids[i:i + 50])\n",
    "    for track in audio_features:\n",
    "        if track is not None:\n",
    "            features.append(track)\n",
    "            features[len(features) - 1]['class'] = 1\n",
    "\n",
    "# get features for hip-hop songs and assign a class of '0'\n",
    "for i in range(0, len(hiphop_ids), 100):\n",
    "    audio_features = sp.audio_features(hiphop_ids[i:i + 100])\n",
    "    for track in audio_features:\n",
    "        if track is not None:\n",
    "            features.append(track)\n",
    "            features[-1]['class'] = 0"
   ]
  },
  {
   "cell_type": "markdown",
   "metadata": {},
   "source": [
    "Now that we have all the features for each song in one list, we can take a closer look at the data. From the example below, we can see that the feature set for any given song is stored as a JSON data structure within the list. "
   ]
  },
  {
   "cell_type": "code",
   "execution_count": 7,
   "metadata": {
    "scrolled": true
   },
   "outputs": [
    {
     "data": {
      "text/plain": [
       "{u'acousticness': 0.177,\n",
       " u'analysis_url': u'https://api.spotify.com/v1/audio-analysis/6s4kWgzQwsueo3mfllY1s6',\n",
       " 'class': 0,\n",
       " u'danceability': 0.682,\n",
       " u'duration_ms': 297427,\n",
       " u'energy': 0.92,\n",
       " u'id': u'6s4kWgzQwsueo3mfllY1s6',\n",
       " u'instrumentalness': 0.00158,\n",
       " u'key': 10,\n",
       " u'liveness': 0.0443,\n",
       " u'loudness': -1.544,\n",
       " u'mode': 1,\n",
       " u'speechiness': 0.278,\n",
       " u'tempo': 82.228,\n",
       " u'time_signature': 4,\n",
       " u'track_href': u'https://api.spotify.com/v1/tracks/6s4kWgzQwsueo3mfllY1s6',\n",
       " u'type': u'audio_features',\n",
       " u'uri': u'spotify:track:6s4kWgzQwsueo3mfllY1s6',\n",
       " u'valence': 0.835}"
      ]
     },
     "execution_count": 7,
     "metadata": {},
     "output_type": "execute_result"
    }
   ],
   "source": [
    "features[-1]"
   ]
  },
  {
   "cell_type": "markdown",
   "metadata": {},
   "source": [
    "Unfortunately, this is not the easiest type of data to use for our purposes, and therefore we are going to convert it to a data frame format using Pandas (and later on, to Numpy multi-dimensional arrays for model training and predictions). We are also going to remove irrelevant features, such as the song ID, analysis URL, and other non-descriptive values."
   ]
  },
  {
   "cell_type": "code",
   "execution_count": 8,
   "metadata": {},
   "outputs": [
    {
     "data": {
      "text/html": [
       "<div>\n",
       "<style scoped>\n",
       "    .dataframe tbody tr th:only-of-type {\n",
       "        vertical-align: middle;\n",
       "    }\n",
       "\n",
       "    .dataframe tbody tr th {\n",
       "        vertical-align: top;\n",
       "    }\n",
       "\n",
       "    .dataframe thead th {\n",
       "        text-align: right;\n",
       "    }\n",
       "</style>\n",
       "<table border=\"1\" class=\"dataframe\">\n",
       "  <thead>\n",
       "    <tr style=\"text-align: right;\">\n",
       "      <th></th>\n",
       "      <th>class</th>\n",
       "      <th>acousticness</th>\n",
       "      <th>danceability</th>\n",
       "      <th>duration_ms</th>\n",
       "      <th>energy</th>\n",
       "      <th>instrumentalness</th>\n",
       "      <th>key</th>\n",
       "      <th>liveness</th>\n",
       "      <th>loudness</th>\n",
       "      <th>mode</th>\n",
       "      <th>speechiness</th>\n",
       "      <th>tempo</th>\n",
       "      <th>time_signature</th>\n",
       "      <th>valence</th>\n",
       "    </tr>\n",
       "  </thead>\n",
       "  <tbody>\n",
       "    <tr>\n",
       "      <th>0</th>\n",
       "      <td>1</td>\n",
       "      <td>0.1820</td>\n",
       "      <td>0.562</td>\n",
       "      <td>194000</td>\n",
       "      <td>0.474</td>\n",
       "      <td>0.000098</td>\n",
       "      <td>8</td>\n",
       "      <td>0.1140</td>\n",
       "      <td>-8.762</td>\n",
       "      <td>0</td>\n",
       "      <td>0.0351</td>\n",
       "      <td>84.999</td>\n",
       "      <td>4</td>\n",
       "      <td>0.345</td>\n",
       "    </tr>\n",
       "    <tr>\n",
       "      <th>1</th>\n",
       "      <td>1</td>\n",
       "      <td>0.0470</td>\n",
       "      <td>0.643</td>\n",
       "      <td>163870</td>\n",
       "      <td>0.783</td>\n",
       "      <td>0.000000</td>\n",
       "      <td>10</td>\n",
       "      <td>0.0830</td>\n",
       "      <td>-6.458</td>\n",
       "      <td>1</td>\n",
       "      <td>0.0856</td>\n",
       "      <td>154.084</td>\n",
       "      <td>4</td>\n",
       "      <td>0.579</td>\n",
       "    </tr>\n",
       "    <tr>\n",
       "      <th>2</th>\n",
       "      <td>1</td>\n",
       "      <td>0.0528</td>\n",
       "      <td>0.460</td>\n",
       "      <td>191733</td>\n",
       "      <td>0.821</td>\n",
       "      <td>0.000000</td>\n",
       "      <td>4</td>\n",
       "      <td>0.0818</td>\n",
       "      <td>-5.333</td>\n",
       "      <td>0</td>\n",
       "      <td>0.0404</td>\n",
       "      <td>164.144</td>\n",
       "      <td>4</td>\n",
       "      <td>0.438</td>\n",
       "    </tr>\n",
       "    <tr>\n",
       "      <th>3</th>\n",
       "      <td>1</td>\n",
       "      <td>0.0886</td>\n",
       "      <td>0.603</td>\n",
       "      <td>237461</td>\n",
       "      <td>0.644</td>\n",
       "      <td>0.000000</td>\n",
       "      <td>4</td>\n",
       "      <td>0.0905</td>\n",
       "      <td>-6.447</td>\n",
       "      <td>1</td>\n",
       "      <td>0.0322</td>\n",
       "      <td>112.047</td>\n",
       "      <td>4</td>\n",
       "      <td>0.244</td>\n",
       "    </tr>\n",
       "    <tr>\n",
       "      <th>4</th>\n",
       "      <td>1</td>\n",
       "      <td>0.1610</td>\n",
       "      <td>0.587</td>\n",
       "      <td>184156</td>\n",
       "      <td>0.863</td>\n",
       "      <td>0.000000</td>\n",
       "      <td>4</td>\n",
       "      <td>0.1590</td>\n",
       "      <td>-4.803</td>\n",
       "      <td>1</td>\n",
       "      <td>0.0400</td>\n",
       "      <td>160.167</td>\n",
       "      <td>4</td>\n",
       "      <td>0.537</td>\n",
       "    </tr>\n",
       "  </tbody>\n",
       "</table>\n",
       "</div>"
      ],
      "text/plain": [
       "   class  acousticness  danceability  duration_ms  energy  instrumentalness  \\\n",
       "0      1        0.1820         0.562       194000   0.474          0.000098   \n",
       "1      1        0.0470         0.643       163870   0.783          0.000000   \n",
       "2      1        0.0528         0.460       191733   0.821          0.000000   \n",
       "3      1        0.0886         0.603       237461   0.644          0.000000   \n",
       "4      1        0.1610         0.587       184156   0.863          0.000000   \n",
       "\n",
       "   key  liveness  loudness  mode  speechiness    tempo  time_signature  \\\n",
       "0    8    0.1140    -8.762     0       0.0351   84.999               4   \n",
       "1   10    0.0830    -6.458     1       0.0856  154.084               4   \n",
       "2    4    0.0818    -5.333     0       0.0404  164.144               4   \n",
       "3    4    0.0905    -6.447     1       0.0322  112.047               4   \n",
       "4    4    0.1590    -4.803     1       0.0400  160.167               4   \n",
       "\n",
       "   valence  \n",
       "0    0.345  \n",
       "1    0.579  \n",
       "2    0.438  \n",
       "3    0.244  \n",
       "4    0.537  "
      ]
     },
     "execution_count": 8,
     "metadata": {},
     "output_type": "execute_result"
    }
   ],
   "source": [
    "# convert to data frame remove irrelevant features\n",
    "df = pd.DataFrame(features)\n",
    "non_features = ['analysis_url', 'id', 'track_href', 'type', 'uri']\n",
    "df.drop(labels=non_features, axis=1, inplace=True)\n",
    "\n",
    "# move class column to the left of the dataframe\n",
    "col_class = df['class']\n",
    "df.drop(labels=['class'], axis=1, inplace=True)\n",
    "df.insert(0, 'class', col_class)\n",
    "\n",
    "df.head()"
   ]
  },
  {
   "cell_type": "markdown",
   "metadata": {},
   "source": [
    "Furthermore, using some handy built-in functions in Pandas, we can get a set of general descriptive statistics for the various features in the data set. This information can be useful for determining additional transformations that we might want to perform on the data, such as Z-score normalisation. "
   ]
  },
  {
   "cell_type": "code",
   "execution_count": 15,
   "metadata": {},
   "outputs": [
    {
     "data": {
      "text/html": [
       "<div>\n",
       "<style scoped>\n",
       "    .dataframe tbody tr th:only-of-type {\n",
       "        vertical-align: middle;\n",
       "    }\n",
       "\n",
       "    .dataframe tbody tr th {\n",
       "        vertical-align: top;\n",
       "    }\n",
       "\n",
       "    .dataframe thead th {\n",
       "        text-align: right;\n",
       "    }\n",
       "</style>\n",
       "<table border=\"1\" class=\"dataframe\">\n",
       "  <thead>\n",
       "    <tr style=\"text-align: right;\">\n",
       "      <th></th>\n",
       "      <th>class</th>\n",
       "      <th>acousticness</th>\n",
       "      <th>danceability</th>\n",
       "      <th>duration_ms</th>\n",
       "      <th>energy</th>\n",
       "      <th>instrumentalness</th>\n",
       "      <th>key</th>\n",
       "      <th>liveness</th>\n",
       "      <th>loudness</th>\n",
       "      <th>mode</th>\n",
       "      <th>speechiness</th>\n",
       "      <th>tempo</th>\n",
       "      <th>time_signature</th>\n",
       "      <th>valence</th>\n",
       "    </tr>\n",
       "  </thead>\n",
       "  <tbody>\n",
       "    <tr>\n",
       "      <th>count</th>\n",
       "      <td>2847.000000</td>\n",
       "      <td>2847.000000</td>\n",
       "      <td>2847.000000</td>\n",
       "      <td>2847.000000</td>\n",
       "      <td>2847.000000</td>\n",
       "      <td>2847.000000</td>\n",
       "      <td>2847.000000</td>\n",
       "      <td>2847.000000</td>\n",
       "      <td>2847.000000</td>\n",
       "      <td>2847.000000</td>\n",
       "      <td>2847.000000</td>\n",
       "      <td>2847.000000</td>\n",
       "      <td>2847.000000</td>\n",
       "      <td>2847.000000</td>\n",
       "    </tr>\n",
       "    <tr>\n",
       "      <th>mean</th>\n",
       "      <td>0.499473</td>\n",
       "      <td>0.236402</td>\n",
       "      <td>0.640746</td>\n",
       "      <td>217593.543730</td>\n",
       "      <td>0.660644</td>\n",
       "      <td>0.018228</td>\n",
       "      <td>5.293642</td>\n",
       "      <td>0.192613</td>\n",
       "      <td>-7.090447</td>\n",
       "      <td>0.703899</td>\n",
       "      <td>0.137839</td>\n",
       "      <td>119.749855</td>\n",
       "      <td>3.959958</td>\n",
       "      <td>0.543931</td>\n",
       "    </tr>\n",
       "    <tr>\n",
       "      <th>std</th>\n",
       "      <td>0.500088</td>\n",
       "      <td>0.245976</td>\n",
       "      <td>0.139725</td>\n",
       "      <td>53227.374381</td>\n",
       "      <td>0.183879</td>\n",
       "      <td>0.104989</td>\n",
       "      <td>3.566383</td>\n",
       "      <td>0.157757</td>\n",
       "      <td>3.291180</td>\n",
       "      <td>0.456616</td>\n",
       "      <td>0.143952</td>\n",
       "      <td>30.213988</td>\n",
       "      <td>0.329737</td>\n",
       "      <td>0.217863</td>\n",
       "    </tr>\n",
       "    <tr>\n",
       "      <th>min</th>\n",
       "      <td>0.000000</td>\n",
       "      <td>0.000031</td>\n",
       "      <td>0.000000</td>\n",
       "      <td>14536.000000</td>\n",
       "      <td>0.018300</td>\n",
       "      <td>0.000000</td>\n",
       "      <td>0.000000</td>\n",
       "      <td>0.017000</td>\n",
       "      <td>-33.490000</td>\n",
       "      <td>0.000000</td>\n",
       "      <td>0.000000</td>\n",
       "      <td>0.000000</td>\n",
       "      <td>0.000000</td>\n",
       "      <td>0.000000</td>\n",
       "    </tr>\n",
       "    <tr>\n",
       "      <th>25%</th>\n",
       "      <td>0.000000</td>\n",
       "      <td>0.038750</td>\n",
       "      <td>0.544000</td>\n",
       "      <td>187397.000000</td>\n",
       "      <td>0.538000</td>\n",
       "      <td>0.000000</td>\n",
       "      <td>2.000000</td>\n",
       "      <td>0.097750</td>\n",
       "      <td>-8.526500</td>\n",
       "      <td>0.000000</td>\n",
       "      <td>0.035600</td>\n",
       "      <td>94.068500</td>\n",
       "      <td>4.000000</td>\n",
       "      <td>0.378000</td>\n",
       "    </tr>\n",
       "    <tr>\n",
       "      <th>50%</th>\n",
       "      <td>0.000000</td>\n",
       "      <td>0.141000</td>\n",
       "      <td>0.633000</td>\n",
       "      <td>213736.000000</td>\n",
       "      <td>0.684000</td>\n",
       "      <td>0.000000</td>\n",
       "      <td>5.000000</td>\n",
       "      <td>0.129000</td>\n",
       "      <td>-6.329000</td>\n",
       "      <td>1.000000</td>\n",
       "      <td>0.060900</td>\n",
       "      <td>116.977000</td>\n",
       "      <td>4.000000</td>\n",
       "      <td>0.548000</td>\n",
       "    </tr>\n",
       "    <tr>\n",
       "      <th>75%</th>\n",
       "      <td>1.000000</td>\n",
       "      <td>0.365000</td>\n",
       "      <td>0.743000</td>\n",
       "      <td>243297.500000</td>\n",
       "      <td>0.808000</td>\n",
       "      <td>0.000026</td>\n",
       "      <td>8.000000</td>\n",
       "      <td>0.237000</td>\n",
       "      <td>-4.895000</td>\n",
       "      <td>1.000000</td>\n",
       "      <td>0.229000</td>\n",
       "      <td>140.951500</td>\n",
       "      <td>4.000000</td>\n",
       "      <td>0.717000</td>\n",
       "    </tr>\n",
       "    <tr>\n",
       "      <th>max</th>\n",
       "      <td>1.000000</td>\n",
       "      <td>0.972000</td>\n",
       "      <td>0.972000</td>\n",
       "      <td>717093.000000</td>\n",
       "      <td>0.996000</td>\n",
       "      <td>0.966000</td>\n",
       "      <td>11.000000</td>\n",
       "      <td>0.962000</td>\n",
       "      <td>-0.158000</td>\n",
       "      <td>1.000000</td>\n",
       "      <td>0.960000</td>\n",
       "      <td>210.040000</td>\n",
       "      <td>5.000000</td>\n",
       "      <td>0.971000</td>\n",
       "    </tr>\n",
       "  </tbody>\n",
       "</table>\n",
       "</div>"
      ],
      "text/plain": [
       "             class  acousticness  danceability    duration_ms       energy  \\\n",
       "count  2847.000000   2847.000000   2847.000000    2847.000000  2847.000000   \n",
       "mean      0.499473      0.236402      0.640746  217593.543730     0.660644   \n",
       "std       0.500088      0.245976      0.139725   53227.374381     0.183879   \n",
       "min       0.000000      0.000031      0.000000   14536.000000     0.018300   \n",
       "25%       0.000000      0.038750      0.544000  187397.000000     0.538000   \n",
       "50%       0.000000      0.141000      0.633000  213736.000000     0.684000   \n",
       "75%       1.000000      0.365000      0.743000  243297.500000     0.808000   \n",
       "max       1.000000      0.972000      0.972000  717093.000000     0.996000   \n",
       "\n",
       "       instrumentalness          key     liveness     loudness         mode  \\\n",
       "count       2847.000000  2847.000000  2847.000000  2847.000000  2847.000000   \n",
       "mean           0.018228     5.293642     0.192613    -7.090447     0.703899   \n",
       "std            0.104989     3.566383     0.157757     3.291180     0.456616   \n",
       "min            0.000000     0.000000     0.017000   -33.490000     0.000000   \n",
       "25%            0.000000     2.000000     0.097750    -8.526500     0.000000   \n",
       "50%            0.000000     5.000000     0.129000    -6.329000     1.000000   \n",
       "75%            0.000026     8.000000     0.237000    -4.895000     1.000000   \n",
       "max            0.966000    11.000000     0.962000    -0.158000     1.000000   \n",
       "\n",
       "       speechiness        tempo  time_signature      valence  \n",
       "count  2847.000000  2847.000000     2847.000000  2847.000000  \n",
       "mean      0.137839   119.749855        3.959958     0.543931  \n",
       "std       0.143952    30.213988        0.329737     0.217863  \n",
       "min       0.000000     0.000000        0.000000     0.000000  \n",
       "25%       0.035600    94.068500        4.000000     0.378000  \n",
       "50%       0.060900   116.977000        4.000000     0.548000  \n",
       "75%       0.229000   140.951500        4.000000     0.717000  \n",
       "max       0.960000   210.040000        5.000000     0.971000  "
      ]
     },
     "execution_count": 15,
     "metadata": {},
     "output_type": "execute_result"
    }
   ],
   "source": [
    "df.describe()"
   ]
  },
  {
   "cell_type": "markdown",
   "metadata": {},
   "source": [
    "## Step 5 - Data exploration and visualisation\n",
    "\n",
    "Now that our data is in a nice tabular format, we can do some basic data exploration and analysis to understand the feature set that we have available and determine how best to use it to get optimal results. Since our feature set does not have that many observations (around ~3000 individual songs), we will need to be very precise with how we use our features and any additional transformations that we need to perform.\n",
    "\n",
    "### Histograms\n",
    "\n",
    "Histograms are a quick and easy way to get a sense of the distribution of each attribute. This way, we will be able to understand what kind of probability distribution the data follows (e.g. Gaussian, Poisson, Bernoulli) and what other unique characteristics it might exhibit, such as skew and kurtosis.\n",
    "\n",
    "If you are interested in the code that makes up the graphs below, please refer to the histograms() function in the _visualisation.graphs_ module."
   ]
  },
  {
   "cell_type": "code",
   "execution_count": 16,
   "metadata": {},
   "outputs": [
    {
     "data": {
      "image/png": "[encoded data removed]",
      "text/plain": [
       "<matplotlib.figure.Figure at 0x7f4f0322bf50>"
      ]
     },
     "metadata": {},
     "output_type": "display_data"
    }
   ],
   "source": [
    "country_labels = df[df['class'] == 1]\n",
    "hiphop_labels = df[df['class'] == 0]\n",
    "\n",
    "histograms(country_labels, hiphop_labels, pos_name='country', neg_name='hip-hop')"
   ]
  },
  {
   "cell_type": "markdown",
   "metadata": {},
   "source": [
    "### Correlation Matrix\n",
    "\n",
    "Using a correlation matrix, we can get an indication of how different variables in the dataset are related to one another. This is important to consider for our particular use case due to the following reasons:\n",
    "* Our datasets are relatively small, and thus if we have too many features relative to the number of observations, we risk undersampling and suffering from the \"curse of dimensionality\"\n",
    "* If we have two highly correlated features, then one of them will not any additional information. In this case, it might be useful to reduce the number of features we are using\n",
    "\n",
    "If our base classifier performance is suffering due to a high number of correlated features, there are techniques that we can use to extract relevant features and discard features that do not add any value, such as principal component analysis (PCA)."
   ]
  },
  {
   "cell_type": "code",
   "execution_count": 17,
   "metadata": {},
   "outputs": [
    {
     "data": {
      "image/png": "[encoded data removed]",
      "text/plain": [
       "<matplotlib.figure.Figure at 0x7f4f02742c90>"
      ]
     },
     "metadata": {},
     "output_type": "display_data"
    }
   ],
   "source": [
    "correlation_matrix(df)"
   ]
  },
  {
   "cell_type": "markdown",
   "metadata": {},
   "source": [
    "Based on the correlation matrix, it looks like \"loudness\" and \"energy\" have a high positive correlation, and acousticness has a high negative correlation with both \"energy\" and \"loudness.\" However, after looking at the values behind the correlation matrix, it doesn't seem like any of these features are perfectly correlated with one another. \n",
    "\n",
    "The correlation coefficient between \"energy\" and \"loudness\" is around **0.74**, and the correlation coefficients between \"acousticness\" and \"energy\", \"loudness\" are around **-0.55** and **-0.49** respectively. Therefore, there is value in keeping all of these features in our training data because each one will provide some degree of information gain."
   ]
  },
  {
   "cell_type": "code",
   "execution_count": 18,
   "metadata": {},
   "outputs": [
    {
     "name": "stdout",
     "output_type": "stream",
     "text": [
      "Correlation coefficients for energy\n",
      "energy              1.000000\n",
      "loudness            0.744786\n",
      "valence             0.337772\n",
      "duration_ms         0.123358\n",
      "tempo               0.119154\n",
      "time_signature      0.109868\n",
      "liveness            0.102365\n",
      "key                 0.003536\n",
      "speechiness        -0.024601\n",
      "mode               -0.038928\n",
      "danceability       -0.045552\n",
      "instrumentalness   -0.166925\n",
      "acousticness       -0.548577\n",
      "Name: energy, dtype: float64\n",
      "\n",
      "\n",
      "Correlation coefficients for acousticness\n",
      "energy             -0.548577\n",
      "loudness           -0.489477\n",
      "duration_ms        -0.180373\n",
      "tempo              -0.124375\n",
      "time_signature     -0.105764\n",
      "danceability       -0.101198\n",
      "valence            -0.049905\n",
      "key                -0.004449\n",
      "speechiness         0.000451\n",
      "liveness            0.012820\n",
      "mode                0.062179\n",
      "instrumentalness    0.111535\n",
      "acousticness        1.000000\n",
      "Name: acousticness, dtype: float64\n"
     ]
    }
   ],
   "source": [
    "correlations = df.drop(['class'], axis=1).corr()\n",
    "print \"Correlation coefficients for energy\"\n",
    "print correlations.loc['energy'].sort_values(ascending=False)\n",
    "print '\\n'\n",
    "print \"Correlation coefficients for acousticness\"\n",
    "print correlations.loc['acousticness'].sort_values(ascending=True)"
   ]
  },
  {
   "cell_type": "markdown",
   "metadata": {},
   "source": [
    "## Step 6 - Model benchmarking and selection"
   ]
  },
  {
   "cell_type": "markdown",
   "metadata": {},
   "source": [
    "After some very basic data exploration and analysis, we are ready to start benchmarking different classifiers to determine which one we should use to help us predict \"good\" versus \"bad\" songs.\n",
    "\n",
    "Firstly, we will convert the Pandas data frame object into its Numpy ndarray representation, since most scikit-learn models require an array-like data set with integer or float values. Then, we will need to split our data into features and classes (X and y, respectively) and create our train and test datasets. We will reserve 20% of the total data for our test dataset."
   ]
  },
  {
   "cell_type": "code",
   "execution_count": 13,
   "metadata": {},
   "outputs": [],
   "source": [
    "# convert data frame to ndarray\n",
    "data = df.as_matrix()\n",
    "\n",
    "# split data into labels and features\n",
    "X = data[:, 1:]\n",
    "y = data[:, 0]\n",
    "\n",
    "# split into train and test sets\n",
    "X_train, X_test, y_train, y_test = train_test_split(X, y, test_size=0.2)"
   ]
  },
  {
   "cell_type": "markdown",
   "metadata": {},
   "source": [
    "We will be benchmarking a number of base classifiers from the scikit-learn library, without too many modifications to the default parameters for each classifier. Once we have identified the strongest base classifier based on the area under the receiver operating characteristic curve (AUROC), we will improve on that classifier's performance through a few techniques. The classifiers that we will look at are:\n",
    "* Gaussian Naive Bayes classifier\n",
    "* K-nearest neighbors classifier\n",
    "* Random forest classifier\n",
    "* Adapative boosting (AdaBoost) classifier\n",
    "* Extreme gradient boosted classifier (XGBoost)"
   ]
  },
  {
   "cell_type": "markdown",
   "metadata": {},
   "source": [
    "### Gaussian naive Bayes\n",
    "\n",
    "The Gaussian naive Bayes classifier is based on applying Bayes' theorem with the assumption of independence between every pair of features. Without getting into too much detail, it works through maximum a posteriori (MAP) estimation to calculate the probability of a class variable _y_ given a dependent feature vector _x1_ and the relative frequency of class _y_ in the training set. \n",
    "\n",
    "The Gaussian implementation of naive Bayes assumes that the likelihood of the features is Gaussian, and estimates the mean and standard deviation of a given class variable _y_ through maximum likelihood estimation (MLE)."
   ]
  },
  {
   "cell_type": "code",
   "execution_count": 20,
   "metadata": {},
   "outputs": [
    {
     "name": "stdout",
     "output_type": "stream",
     "text": [
      "AUROC: 0.594969281343 \n",
      "Accuracy: 0.59649122807 \n",
      "Average precision score: 0.557231411166 \n",
      "F1: 0.669540229885 \n",
      "Hamming loss: 0.40350877193 \n",
      "\n",
      "             precision    recall  f1-score   support\n",
      "\n",
      "        0.0       0.66      0.38      0.48       283\n",
      "        1.0       0.57      0.81      0.67       287\n",
      "\n",
      "avg / total       0.62      0.60      0.58       570\n",
      "\n"
     ]
    },
    {
     "data": {
      "image/png": "[encoded data removed]",
      "text/plain": [
       "<matplotlib.figure.Figure at 0x7f4efc9cb990>"
      ]
     },
     "metadata": {},
     "output_type": "display_data"
    }
   ],
   "source": [
    "gnb = GaussianNB()  # instantiate model\n",
    "y_pred = gnb.fit(X_train, y_train).predict(X_test)  # train model and get predictions\n",
    "\n",
    "# get classification metrics\n",
    "report = model_report(y_pred=y_pred, y_true=y_test)\n",
    "print report\n",
    "plot_confusion_matrix(y_test, y_pred)"
   ]
  },
  {
   "cell_type": "markdown",
   "metadata": {},
   "source": [
    "### K-nearest neighbors\n",
    "\n",
    "The K-nearest neighbors (KNN) classifier implements the KNN algorithm to perform instance-based classification - it doesn't actually build an internal model, but rather stores instances of the training data. Classification is computed from a majority vote of the nearest neighbors of each point - a query point is assigned the data class which has the most representatives within the nearest neighbors of the point. Since the default _k_ value of 5 is a little high given the small size of our dataset, we will set _k_ to 3."
   ]
  },
  {
   "cell_type": "code",
   "execution_count": 21,
   "metadata": {},
   "outputs": [
    {
     "name": "stdout",
     "output_type": "stream",
     "text": [
      "AUROC: 0.529629036825 \n",
      "Accuracy: 0.529824561404 \n",
      "Average precision score: 0.519147902168 \n",
      "F1: 0.544217687075 \n",
      "Hamming loss: 0.470175438596 \n",
      "\n",
      "             precision    recall  f1-score   support\n",
      "\n",
      "        0.0       0.53      0.50      0.51       283\n",
      "        1.0       0.53      0.56      0.54       287\n",
      "\n",
      "avg / total       0.53      0.53      0.53       570\n",
      "\n"
     ]
    },
    {
     "data": {
      "image/png": "[encoded data removed]",
      "text/plain": [
       "<matplotlib.figure.Figure at 0x7f4f02e26710>"
      ]
     },
     "metadata": {},
     "output_type": "display_data"
    }
   ],
   "source": [
    "knn = KNeighborsClassifier(n_neighbors=3)  # instantiate model\n",
    "y_pred = knn.fit(X_train, y_train).predict(X_test)  # train model and get predictions\n",
    "\n",
    "# get classification metrics\n",
    "report = model_report(y_pred=y_pred, y_true=y_test)\n",
    "print report\n",
    "plot_confusion_matrix(y_test, y_pred)"
   ]
  },
  {
   "cell_type": "markdown",
   "metadata": {},
   "source": [
    "### Random forest\n",
    "\n",
    "Now we will move on to the world of ensemble learners. A random forest is a meta estimator that fits a number of decision tree classifiers on various sub-samples of the dataset and use averaging to improve the predictive accuracy and control over-fitting. They are very popular ensemble learning techniques due to their simplicity and ease of use. One of the differences between the scikit-learn implementation and the original publication is that the scikit-learn implementation combines classifiers by averaging their probabilistic prediction, instead of letting each classifier vote for a single class."
   ]
  },
  {
   "cell_type": "code",
   "execution_count": 22,
   "metadata": {},
   "outputs": [
    {
     "name": "stdout",
     "output_type": "stream",
     "text": [
      "AUROC: 0.957966535748 \n",
      "Accuracy: 0.957894736842 \n",
      "Average precision score: 0.943696473194 \n",
      "F1: 0.957746478873 \n",
      "Hamming loss: 0.0421052631579 \n",
      "\n",
      "             precision    recall  f1-score   support\n",
      "\n",
      "        0.0       0.95      0.97      0.96       283\n",
      "        1.0       0.97      0.95      0.96       287\n",
      "\n",
      "avg / total       0.96      0.96      0.96       570\n",
      "\n"
     ]
    },
    {
     "data": {
      "image/png": "[encoded data removed]",
      "text/plain": [
       "<matplotlib.figure.Figure at 0x7f4f02ea6410>"
      ]
     },
     "metadata": {},
     "output_type": "display_data"
    }
   ],
   "source": [
    "rf = RandomForestClassifier()  # instantiate model\n",
    "y_pred = rf.fit(X_train, y_train).predict(X_test)  # train model and get predictions\n",
    "y_pred = rf.predict(X_test)  # get predictions\n",
    "\n",
    "# get classification metrics\n",
    "report = model_report(y_pred=y_pred, y_true=y_test)\n",
    "print report\n",
    "plot_confusion_matrix(y_test, y_pred)"
   ]
  },
  {
   "cell_type": "markdown",
   "metadata": {},
   "source": [
    "### AdaBoost\n",
    "\n",
    "Adaptive boosting (AdaBoost) is a technique that is used to fit a sequence of weak learners (i.e., models that are only slightly better than random guessing, such as small decision trees) on repeatedly modified versions of the data. The predictions from all of them are then combined through a weighted majority vote (or sum) to produce the final prediction. These modifications are done through a \"boosting\" iteration that applies weights to each of the training samples. These iterations are performed repeatedly, and samples that were incorrectly predicted by the boosted model in the previous step have their weights increased. Thus, this forces each subsequent learner to focus on the examples that are not predicted correctly in the previous sequence. One drawback of AdaBoost is that it is prone to overfitting on noisy datasets."
   ]
  },
  {
   "cell_type": "code",
   "execution_count": 23,
   "metadata": {},
   "outputs": [
    {
     "name": "stdout",
     "output_type": "stream",
     "text": [
      "AUROC: 0.943783011783 \n",
      "Accuracy: 0.943859649123 \n",
      "Average precision score: 0.915601728036 \n",
      "F1: 0.944827586207 \n",
      "Hamming loss: 0.0561403508772 \n",
      "\n",
      "             precision    recall  f1-score   support\n",
      "\n",
      "        0.0       0.95      0.93      0.94       283\n",
      "        1.0       0.94      0.95      0.94       287\n",
      "\n",
      "avg / total       0.94      0.94      0.94       570\n",
      "\n"
     ]
    },
    {
     "data": {
      "image/png": "[encoded data removed]",
      "text/plain": [
       "<matplotlib.figure.Figure at 0x7f4f024bda90>"
      ]
     },
     "metadata": {},
     "output_type": "display_data"
    }
   ],
   "source": [
    "ada = AdaBoostClassifier()  # instantiate model\n",
    "y_pred = ada.fit(X_train, y_train).predict(X_test)  # train model and get predictions\n",
    "y_pred = ada.predict(X_test)  # get predictions\n",
    "\n",
    "# get classification metrics\n",
    "report = model_report(y_pred=y_pred, y_true=y_test)\n",
    "print report\n",
    "plot_confusion_matrix(y_test, y_pred)"
   ]
  },
  {
   "cell_type": "markdown",
   "metadata": {},
   "source": [
    "### XGBoost\n",
    "\n",
    "XGBoost is another ensemble learning library that provides a gradient boosting framework for tree algorithms. It is very popular on Kaggle and also in many production environments due to the fact that it supports various distributed processing frameworks, such as Hadoop, Spark and Flink. Like AdaBoost, a gradient boosted model comprises of an ensemble method that sequentially adds predictors and corrects previous models. However, instead of assigning different weights to the classifiers after every iteration, this method fits the new model to new residuals of the previous prediction and then minimizes the loss when adding the latest prediction (essentially, gradient descent). XGBoost implements the gradient boosting algorithm for decision tree boosting with an additional custom regularization term in the objective function."
   ]
  },
  {
   "cell_type": "code",
   "execution_count": 14,
   "metadata": {},
   "outputs": [
    {
     "name": "stdout",
     "output_type": "stream",
     "text": [
      "AUROC: 0.964890167044 \n",
      "Accuracy: 0.965034965035 \n",
      "Average precision score: 0.949318697624 \n",
      "F1: 0.966216216216 \n",
      "Hamming loss: 0.034965034965 \n",
      "\n",
      "             precision    recall  f1-score   support\n",
      "\n",
      "        0.0       0.97      0.96      0.96       277\n",
      "        1.0       0.96      0.97      0.97       295\n",
      "\n",
      "avg / total       0.97      0.97      0.97       572\n",
      "\n"
     ]
    },
    {
     "data": {
      "image/png": "[encoded data removed]",
      "text/plain": [
       "<matplotlib.figure.Figure at 0x7f466abdca10>"
      ]
     },
     "metadata": {},
     "output_type": "display_data"
    }
   ],
   "source": [
    "xgb = XGBClassifier()  # instantiate model\n",
    "y_pred = xgb.fit(X_train, y_train).predict(X_test)  # train model and get predictions\n",
    "y_pred = xgb.predict(X_test)  # get predictions\n",
    "\n",
    "# get classification metrics\n",
    "report = model_report(y_pred=y_pred, y_true=y_test)\n",
    "print report\n",
    "plot_confusion_matrix(y_test, y_pred)"
   ]
  },
  {
   "cell_type": "markdown",
   "metadata": {},
   "source": [
    "In order to rank the classifiers and determine the best base performance, we are going to use the AUROC score, otherwise known as the area under the receiver operating curve. This is a widely used measure of performance for classification problems, which measures the probability that a classifier will rank a randomly chosen positive  instance higher than a randomly chosen negative one. The higher the AUROC, the better our classifier performed:\n",
    "\n",
    "1. XGBoost: **0.9648**\n",
    "2. Random forest: **0.9579**\n",
    "3. AdaBoost: **0.9437**\n",
    "4. Naive Bayes: **0.5949**\n",
    "5. KNN: **0.5296**\n",
    "\n",
    "XGBoost comes out on top by a very small margin, followed closely by the random forest and AdaBoost classifiers. Unfortunately, our untuned naive Bayes and KNN classifiers did not perform as well for this particular problem set. Based on these results, it looks like the XGBoost classifier is going to be our best base choice."
   ]
  },
  {
   "cell_type": "markdown",
   "metadata": {},
   "source": [
    "## Step 7 - Model tuning\n",
    "\n",
    "Now that we have selected our model, we can use hyperparameter optimization techniques to improve the performance of the model and help us find the optimal set of hyperparameters to use for our final XGBoost model."
   ]
  },
  {
   "cell_type": "code",
   "execution_count": 26,
   "metadata": {},
   "outputs": [
    {
     "data": {
      "text/plain": [
       "{'gamma': [0.05, 0.075, 0.1, 0.125, 0.15],\n",
       " 'learning_rate': [0.075, 0.1, 0.125, 0.15, 0.175],\n",
       " 'max_depth': [4, 5, 6, 7, 8, 9, 10, 12, 14],\n",
       " 'n_estimators': [10, 50, 100, 200, 400, 600, 800],\n",
       " 'reg_lambda': [0.005, 0.01, 0.015, 0.2, 0.25],\n",
       " 'subsample': [0.6, 0.7, 0.8, 0.9, 1.0]}"
      ]
     },
     "execution_count": 26,
     "metadata": {},
     "output_type": "execute_result"
    }
   ],
   "source": [
    "param_grid = generate_param_grid()  # get parameters to tune\n",
    "param_grid"
   ]
  },
  {
   "cell_type": "markdown",
   "metadata": {},
   "source": [
    "Since we are not going to be tuning that many hyperparameters, a traditional grid search over the parameter space will suffice for the purposes of this exercise. A grid search is simply an exhaustive search through a manually specified subset of the hyperparameter space of a learning algorithm. The GridSearchCV function we will be using here will be guided by the AUROC performance metric and measured through cross validation."
   ]
  },
  {
   "cell_type": "code",
   "execution_count": 15,
   "metadata": {},
   "outputs": [
    {
     "name": "stdout",
     "output_type": "stream",
     "text": [
      "AUROC: 0.996500030594 \n",
      "Accuracy: 0.996503496503 \n",
      "Average precision score: 0.994980081682 \n",
      "F1: 0.996610169492 \n",
      "Hamming loss: 0.0034965034965 \n",
      "\n",
      "             precision    recall  f1-score   support\n",
      "\n",
      "        0.0       1.00      1.00      1.00       277\n",
      "        1.0       1.00      1.00      1.00       295\n",
      "\n",
      "avg / total       1.00      1.00      1.00       572\n",
      "\n"
     ]
    },
    {
     "data": {
      "image/png": "[encoded data removed]",
      "text/plain": [
       "<matplotlib.figure.Figure at 0x7f463fcbabd0>"
      ]
     },
     "metadata": {},
     "output_type": "display_data"
    }
   ],
   "source": [
    "# grid search over subset of the hyperparameter space\n",
    "clf_initial = XGBClassifier()\n",
    "grid = GridSearchCV(clf_initial, cv=4, n_jobs=-1, param_grid=param_grid, scoring='roc_auc')\n",
    "grid.fit(X_train, y_train)\n",
    "best_clf = grid.best_estimator_\n",
    "save_model(model_object=best_clf, filepath='/home/notebook/github/spotify-ml/models/xgb_best.pkl')\n",
    "best_params = grid.best_params_\n",
    "\n",
    "# load pickled model\n",
    "best_clf = load_model(filepath='/home/notebook/github/spotify-ml/models/xgb_country_hiphop.pkl')\n",
    "y_pred = best_clf.predict(X_test)  # get predictions\n",
    "\n",
    "# get classification metrics\n",
    "report = model_report(y_pred=y_pred, y_true=y_test)\n",
    "print report\n",
    "plot_confusion_matrix(y_test, y_pred)"
   ]
  },
  {
   "cell_type": "markdown",
   "metadata": {},
   "source": [
    "Using grid search, it looks like we were able to improve the accuracy of the model by finding better hyperparameter values and thus reducing the false positive and false negative rates. Our AUROC went up from **0.96** to **0.99**, which, although better, does not represent a significant gain since the model was already quite good to begin with. Now that we have a good base classifier and a better set of hyperparameters to use for training, we can now determine how good this particular type of machine learning algorithm is at classifying \"good\" versus \"bad\" songs based on my individual music taste."
   ]
  },
  {
   "cell_type": "markdown",
   "metadata": {},
   "source": [
    "## Step 8 - Putting it all together\n",
    "\n",
    "In order to simplify things, we are going to generate our feature datasets using custom functions from the user modules in this project. These feature sets will be based on two playlists - one playlist that contains songs that I consider to be \"good\" (regardless of genre, artist, etc.) and another playlist with songs that I dislike, or consider to be \"bad\" (again, no bias in terms of artist, genre, etc.)."
   ]
  },
  {
   "cell_type": "code",
   "execution_count": 10,
   "metadata": {},
   "outputs": [
    {
     "name": "stdout",
     "output_type": "stream",
     "text": [
      "AUROC: 0.818181818182 \n",
      "Accuracy: 0.838383838384 \n",
      "Average precision score: 0.654729109275 \n",
      "F1: 0.757575757576 \n",
      "Hamming loss: 0.161616161616 \n",
      "\n",
      "             precision    recall  f1-score   support\n",
      "\n",
      "        0.0       0.88      0.88      0.88       132\n",
      "        1.0       0.76      0.76      0.76        66\n",
      "\n",
      "avg / total       0.84      0.84      0.84       198\n",
      "\n"
     ]
    },
    {
     "data": {
      "image/png": "[encoded data removed]",
      "text/plain": [
       "<matplotlib.figure.Figure at 0x7f5e26974610>"
      ]
     },
     "metadata": {},
     "output_type": "display_data"
    }
   ],
   "source": [
    "# load model and set params\n",
    "best_clf = load_model(filepath='/home/notebook/github/spotify-ml/models/xgb_country_hiphop.pkl')\n",
    "username = 'federicociner'\n",
    "good_playlist_id = '13O0SyeB4mbT1ADUEHXHM0'\n",
    "bad_playlist_id = '6EXOEyuEW55wYrwJvi5gMf'\n",
    "\n",
    "# get song IDs\n",
    "good_ids = get_song_ids(sp, username, good_playlist_id)\n",
    "bad_ids = get_song_ids(sp, username, bad_playlist_id)\n",
    "\n",
    "# generate feature sets as Numpy arrays\n",
    "good_features = get_features(sp, good_ids, label_value=1, as_array=True)\n",
    "bad_features = get_features(sp, bad_ids, label_value=0, as_array=True)\n",
    "\n",
    "# combine features into one array\n",
    "datasets = (good_features, bad_features)\n",
    "data = combine_features(datasets, type='ndarray')\n",
    "\n",
    "# load model \n",
    "best_clf = load_model(filepath='/home/notebook/github/spotify-ml/models/xgb_country_hiphop.pkl')\n",
    "\n",
    "# split data into labels and features\n",
    "X = data[:, 1:]\n",
    "y = data[:, 0]\n",
    "\n",
    "# split into train and test sets\n",
    "X_train, X_test, y_train, y_test = train_test_split(X, y, test_size=0.2)\n",
    "\n",
    "# get predictions \n",
    "y_pred = best_clf.fit(X_train, y_train).predict(X_test)\n",
    "\n",
    "# get classification metrics\n",
    "report = model_report(y_pred=y_pred, y_true=y_test)\n",
    "print report\n",
    "plot_confusion_matrix(y_test, y_pred)"
   ]
  },
  {
   "cell_type": "markdown",
   "metadata": {},
   "source": [
    "Now that we have a trained model, we just need to get a list of songs from a playlist that we want to classify into \"good\" versus \"bad\" categories. As before, we can use imported user functions to get the song IDs and generate a feature set."
   ]
  },
  {
   "cell_type": "code",
   "execution_count": 18,
   "metadata": {},
   "outputs": [],
   "source": [
    "new_playlist_id = '1MoOKCVBKarwWBAZ9KBgrc'\n",
    "\n",
    "# get test song IDs\n",
    "new_ids = get_song_ids(sp, username, new_playlist_id)\n",
    "\n",
    "# get test features\n",
    "df = get_new_features(sp, username, new_playlist_id)\n",
    "\n",
    "# create test set for the classifier, excluding irrelevant features\n",
    "non_features = ['analysis_url', 'artist', 'song_title', 'id', 'track_href', 'type', 'uri']\n",
    "X_test = df.drop(labels=non_features, axis=1).as_matrix()\n",
    "\n",
    "# get predictions and append them to existing data frame\n",
    "y_pred = best_clf.predict(X_test)\n",
    "df['class'] = y_pred"
   ]
  },
  {
   "cell_type": "markdown",
   "metadata": {},
   "source": [
    "So we finally have a list of new songs that my classifier thinks I'm going to like based on the data it was trained on. Now here comes the hard part - how can we tell whether it works or not? Obviously, the results and performance of the model are highly subjective in this particular case, since they are based on my personal music preferences, and therefore I could easily say that the model predicted everything with 100% accuracy. \n",
    "\n",
    "However, for the sake of the intellectual exercise, I will test the model on a small playlist that has 20 songs that I already _know_ I like or dislike - 10 songs that I consider \"good\" and 10 songs that I consider \"bad.\""
   ]
  },
  {
   "cell_type": "code",
   "execution_count": 21,
   "metadata": {},
   "outputs": [
    {
     "data": {
      "text/html": [
       "<div>\n",
       "<style scoped>\n",
       "    .dataframe tbody tr th:only-of-type {\n",
       "        vertical-align: middle;\n",
       "    }\n",
       "\n",
       "    .dataframe tbody tr th {\n",
       "        vertical-align: top;\n",
       "    }\n",
       "\n",
       "    .dataframe thead th {\n",
       "        text-align: right;\n",
       "    }\n",
       "</style>\n",
       "<table border=\"1\" class=\"dataframe\">\n",
       "  <thead>\n",
       "    <tr style=\"text-align: right;\">\n",
       "      <th></th>\n",
       "      <th>artist</th>\n",
       "      <th>song_title</th>\n",
       "      <th>class</th>\n",
       "    </tr>\n",
       "  </thead>\n",
       "  <tbody>\n",
       "    <tr>\n",
       "      <th>0</th>\n",
       "      <td>Christina Aguilera</td>\n",
       "      <td>Genie in a Bottle</td>\n",
       "      <td>1.0</td>\n",
       "    </tr>\n",
       "    <tr>\n",
       "      <th>1</th>\n",
       "      <td>Ayreon</td>\n",
       "      <td>Sea Of Machines</td>\n",
       "      <td>1.0</td>\n",
       "    </tr>\n",
       "    <tr>\n",
       "      <th>2</th>\n",
       "      <td>Dream Theater</td>\n",
       "      <td>The Enemy Inside</td>\n",
       "      <td>1.0</td>\n",
       "    </tr>\n",
       "    <tr>\n",
       "      <th>4</th>\n",
       "      <td>Julio Iglesias</td>\n",
       "      <td>Para Todas las Chicas</td>\n",
       "      <td>1.0</td>\n",
       "    </tr>\n",
       "    <tr>\n",
       "      <th>10</th>\n",
       "      <td>Eric Clapton</td>\n",
       "      <td>Layla</td>\n",
       "      <td>1.0</td>\n",
       "    </tr>\n",
       "    <tr>\n",
       "      <th>14</th>\n",
       "      <td>Rush</td>\n",
       "      <td>Tom Sawyer</td>\n",
       "      <td>1.0</td>\n",
       "    </tr>\n",
       "    <tr>\n",
       "      <th>15</th>\n",
       "      <td>KISS</td>\n",
       "      <td>Detroit Rock City</td>\n",
       "      <td>1.0</td>\n",
       "    </tr>\n",
       "    <tr>\n",
       "      <th>16</th>\n",
       "      <td>Coldplay</td>\n",
       "      <td>Yellow</td>\n",
       "      <td>1.0</td>\n",
       "    </tr>\n",
       "    <tr>\n",
       "      <th>19</th>\n",
       "      <td>Nickelback</td>\n",
       "      <td>Rockstar</td>\n",
       "      <td>1.0</td>\n",
       "    </tr>\n",
       "  </tbody>\n",
       "</table>\n",
       "</div>"
      ],
      "text/plain": [
       "                artist             song_title  class\n",
       "0   Christina Aguilera      Genie in a Bottle    1.0\n",
       "1               Ayreon        Sea Of Machines    1.0\n",
       "2        Dream Theater       The Enemy Inside    1.0\n",
       "4       Julio Iglesias  Para Todas las Chicas    1.0\n",
       "10        Eric Clapton                  Layla    1.0\n",
       "14                Rush             Tom Sawyer    1.0\n",
       "15                KISS      Detroit Rock City    1.0\n",
       "16            Coldplay                 Yellow    1.0\n",
       "19          Nickelback               Rockstar    1.0"
      ]
     },
     "execution_count": 21,
     "metadata": {},
     "output_type": "execute_result"
    }
   ],
   "source": [
    "df.loc[df['class'] == 1, ['artist', 'song_title', 'class']]"
   ]
  },
  {
   "cell_type": "markdown",
   "metadata": {},
   "source": [
    "Of the songs that the classifier predicted as \"good,\" only 1 of them (the Christina Aguilera song) is a song that I consider \"bad,\" while the other 8 are songs that were correctly predicted as \"good.\""
   ]
  },
  {
   "cell_type": "code",
   "execution_count": 22,
   "metadata": {},
   "outputs": [
    {
     "data": {
      "text/html": [
       "<div>\n",
       "<style scoped>\n",
       "    .dataframe tbody tr th:only-of-type {\n",
       "        vertical-align: middle;\n",
       "    }\n",
       "\n",
       "    .dataframe tbody tr th {\n",
       "        vertical-align: top;\n",
       "    }\n",
       "\n",
       "    .dataframe thead th {\n",
       "        text-align: right;\n",
       "    }\n",
       "</style>\n",
       "<table border=\"1\" class=\"dataframe\">\n",
       "  <thead>\n",
       "    <tr style=\"text-align: right;\">\n",
       "      <th></th>\n",
       "      <th>artist</th>\n",
       "      <th>song_title</th>\n",
       "      <th>class</th>\n",
       "    </tr>\n",
       "  </thead>\n",
       "  <tbody>\n",
       "    <tr>\n",
       "      <th>3</th>\n",
       "      <td>P!nk</td>\n",
       "      <td>What About Us</td>\n",
       "      <td>0.0</td>\n",
       "    </tr>\n",
       "    <tr>\n",
       "      <th>5</th>\n",
       "      <td>The All-American Rejects</td>\n",
       "      <td>It Ends Tonight</td>\n",
       "      <td>0.0</td>\n",
       "    </tr>\n",
       "    <tr>\n",
       "      <th>6</th>\n",
       "      <td>Dr. Dre</td>\n",
       "      <td>Forgot About Dre</td>\n",
       "      <td>0.0</td>\n",
       "    </tr>\n",
       "    <tr>\n",
       "      <th>7</th>\n",
       "      <td>PSY</td>\n",
       "      <td>Gangnam Style (강남스타일)</td>\n",
       "      <td>0.0</td>\n",
       "    </tr>\n",
       "    <tr>\n",
       "      <th>8</th>\n",
       "      <td>Khalid</td>\n",
       "      <td>Young Dumb &amp; Broke</td>\n",
       "      <td>0.0</td>\n",
       "    </tr>\n",
       "    <tr>\n",
       "      <th>9</th>\n",
       "      <td>Ed Sheeran</td>\n",
       "      <td>Perfect</td>\n",
       "      <td>0.0</td>\n",
       "    </tr>\n",
       "    <tr>\n",
       "      <th>11</th>\n",
       "      <td>Hillsong Worship</td>\n",
       "      <td>What A Beautiful Name</td>\n",
       "      <td>0.0</td>\n",
       "    </tr>\n",
       "    <tr>\n",
       "      <th>12</th>\n",
       "      <td>3 Doors Down</td>\n",
       "      <td>Here Without You</td>\n",
       "      <td>0.0</td>\n",
       "    </tr>\n",
       "    <tr>\n",
       "      <th>13</th>\n",
       "      <td>T-Pain</td>\n",
       "      <td>2 Fine</td>\n",
       "      <td>0.0</td>\n",
       "    </tr>\n",
       "    <tr>\n",
       "      <th>17</th>\n",
       "      <td>Beyoncé</td>\n",
       "      <td>Crazy In Love</td>\n",
       "      <td>0.0</td>\n",
       "    </tr>\n",
       "    <tr>\n",
       "      <th>18</th>\n",
       "      <td>The Black Eyed Peas</td>\n",
       "      <td>My Humps</td>\n",
       "      <td>0.0</td>\n",
       "    </tr>\n",
       "  </tbody>\n",
       "</table>\n",
       "</div>"
      ],
      "text/plain": [
       "                      artist             song_title  class\n",
       "3                       P!nk          What About Us    0.0\n",
       "5   The All-American Rejects        It Ends Tonight    0.0\n",
       "6                    Dr. Dre       Forgot About Dre    0.0\n",
       "7                        PSY  Gangnam Style (강남스타일)    0.0\n",
       "8                     Khalid     Young Dumb & Broke    0.0\n",
       "9                 Ed Sheeran                Perfect    0.0\n",
       "11          Hillsong Worship  What A Beautiful Name    0.0\n",
       "12              3 Doors Down       Here Without You    0.0\n",
       "13                    T-Pain                 2 Fine    0.0\n",
       "17                   Beyoncé          Crazy In Love    0.0\n",
       "18       The Black Eyed Peas               My Humps    0.0"
      ]
     },
     "execution_count": 22,
     "metadata": {},
     "output_type": "execute_result"
    }
   ],
   "source": [
    "df.loc[df['class'] == 0, ['artist', 'song_title', 'class']]"
   ]
  },
  {
   "cell_type": "markdown",
   "metadata": {},
   "source": [
    "As for the \"bad\" songs, the classifier correctly predicted 9 out of 10 of the songs I dislike. It did, however, predict that I would not like _It Ends Tonight_ by The All-American Rejects and _Here Without You_ by 3 Doors Down as \"bad\" songs, even though I do actually enjoy both of these songs.\n",
    "\n",
    "So if we do a quick accuracy calculation ((TP + TN) / (P + N)), we get an accuracy score of **85%** for our XGBoost classifier. Not bad for a first attempt!"
   ]
  },
  {
   "cell_type": "markdown",
   "metadata": {},
   "source": [
    "# Closing remarks\n",
    "\n",
    "One of the main limitations of this exercise is generating datasets that are large enough to provide a breadth of training and testing examples for a classification algorithm. Creating playlists of \"good\" songs and \"bad\" songs of around 400-600 songs each took me hours to do, so creating larger datasets (10,000 songs or more) is clearly not feasible in this scenario. \n",
    "\n",
    "This is one of the main advantages that Spotify leverages in creating the Discover Weekly playlist, and the more users it is able to get onto its platform, the more data it can collect and use to generate accurate and targeted playlists. In any case, it is important to understand that machine learning algorithms do not always have to be extremely complex or state-of-the-art to provide reasonable predictions for simple uses cases such as this one. Furthermore, we can get a sense of how important it is to have a large and diverse set of data to develop classifiers that can generalise better on unseen data."
   ]
  },
  {
   "cell_type": "markdown",
   "metadata": {},
   "source": [
    "# Further reading\n",
    "\n",
    "[Spotify’s Discover Weekly: How machine learning finds your new music](https://hackernoon.com/spotifys-discover-weekly-how-machine-learning-finds-your-new-music-19a41ab76efe)\n",
    "\n",
    "[Making Your Own Discovery Weekly](https://towardsdatascience.com/making-your-own-discover-weekly-f1ac7546fedb)\n",
    "\n",
    "[Algorithmic Music Recommendations at Spotify](https://www.slideshare.net/MrChrisJohnson/algorithmic-music-recommendations-at-spotify/16-Section_nameMonday_January_13_1416)\n",
    "\n",
    "[Collaborative Filtering at Spotify](https://www.slideshare.net/erikbern/collaborative-filtering-at-spotify-16182818/63)\n",
    "\n",
    "[Python Spotipy API](https://spotipy.readthedocs.io/en/latest/)\n",
    "\n",
    "[Spotify Web API](https://developer.spotify.com/web-api/)"
   ]
  }
 ],
 "metadata": {
  "kernelspec": {
   "display_name": "Python 2",
   "language": "python",
   "name": "python2"
  },
  "language_info": {
   "codemirror_mode": {
    "name": "ipython",
    "version": 2
   },
   "file_extension": ".py",
   "mimetype": "text/x-python",
   "name": "python",
   "nbconvert_exporter": "python",
   "pygments_lexer": "ipython2",
   "version": "2.7.12"
  }
 },
 "nbformat": 4,
 "nbformat_minor": 2
}
