{
 "cells": [
  {
   "cell_type": "markdown",
   "metadata": {},
   "source": [
    "In this project we will build an app that can identify landmarks on the face. \n",
    "The app identifies a total of 68 landmarks around the face, this type of function is used in many apps such as snapchat, instagram or facebook for applying filters."
   ]
  },
  {
   "cell_type": "code",
   "execution_count": 1,
   "metadata": {},
   "outputs": [],
   "source": [
    "# importing Libraries\n",
    "import cv2\n",
    "import dlib # A C++ library that can be used to build machine learning algorithms in C++, it also has a wrapper for python\n",
    "import numpy as np"
   ]
  },
  {
   "cell_type": "code",
   "execution_count": 2,
   "metadata": {},
   "outputs": [],
   "source": [
    "#Start Video Capture\n",
    "cap = cv2.VideoCapture(0)\n",
    "detector = dlib.get_frontal_face_detector()\n",
    "predictor = dlib.shape_predictor(\"shape_predictor_68_face_landmarks1.dat\") #We are using a pre-trained weights file here, to identify the landmarks"
   ]
  },
  {
   "cell_type": "code",
   "execution_count": 3,
   "metadata": {},
   "outputs": [],
   "source": [
    "while True:\n",
    "    _, Frame = cap.read()\n",
    "    Frame = cv2.flip(Frame, 1)\n",
    "    gray = cv2.cvtColor(Frame, cv2.COLOR_BGR2GRAY)\n",
    "    FaceBoundingBoxes = detector(gray)\n",
    "    for FaceBoundingBox in FaceBoundingBoxes:\n",
    "        x1 = FaceBoundingBox.left()\n",
    "        x2 = FaceBoundingBox.right()\n",
    "        y1 = FaceBoundingBox.top()\n",
    "        y2 = FaceBoundingBox.bottom()\n",
    "        #cv2.rectangle(Frame, (x1,y1), (x2,y2), (0,255,0), 3)\n",
    "        landmarks = predictor(gray, FaceBoundingBox)\n",
    "        for n in range(0,68):            \n",
    "            x = landmarks.part(n).x\n",
    "            y = landmarks.part(n).y\n",
    "            cv2.circle(Frame, (x,y), 3, (0,255,0), -1)\n",
    "        \n",
    "    cv2.imshow(\"Frame\", Frame)\n",
    "    \n",
    "    key = cv2.waitKey(1)\n",
    "    if key==27: #Press ESC to quit\n",
    "        break\n",
    "# close all windows\n",
    "cv2.destroyAllWindows()"
   ]
  }
 ],
 "metadata": {
  "kernelspec": {
   "display_name": "Python 3",
   "language": "python",
   "name": "python3"
  },
  "language_info": {
   "codemirror_mode": {
    "name": "ipython",
    "version": 3
   },
   "file_extension": ".py",
   "mimetype": "text/x-python",
   "name": "python",
   "nbconvert_exporter": "python",
   "pygments_lexer": "ipython3",
   "version": "3.7.3"
  }
 },
 "nbformat": 4,
 "nbformat_minor": 2
}
