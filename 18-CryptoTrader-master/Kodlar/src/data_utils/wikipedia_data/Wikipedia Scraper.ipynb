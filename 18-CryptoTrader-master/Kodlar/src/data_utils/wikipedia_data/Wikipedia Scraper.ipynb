{
 "cells": [
  {
   "cell_type": "code",
   "execution_count": 13,
   "metadata": {},
   "outputs": [],
   "source": [
    "from selenium import webdriver\n",
    "from selenium.webdriver.common.keys import Keys\n",
    "from selenium.webdriver.support import expected_conditions as EC\n",
    "from selenium.webdriver.common.by import By\n",
    "from selenium.webdriver.common.action_chains import ActionChains\n",
    "from selenium.webdriver.support.ui import Select, WebDriverWait\n",
    "from selenium.common.exceptions import TimeoutException\n",
    "\n",
    "import time\n",
    "\n",
    "import os"
   ]
  },
  {
   "cell_type": "code",
   "execution_count": 26,
   "metadata": {},
   "outputs": [],
   "source": [
    "profile = webdriver.FirefoxProfile()\n",
    "profile.set_preference(\"browser.download.folderList\", 2)\n",
    "profile.set_preference(\"browser.download.manager.showWhenStarting\", False)\n",
    "profile.set_preference(\"browser.download.dir\", os.getcwd())\n",
    "profile.set_preference(\"browser.helperApps.neverAsk.saveToDisk\", \"application/json, application/x-download, text/csv, application/csv\")\n",
    "\n",
    "driver = webdriver.Firefox(profile)\n",
    "driver.get('https://tools.wmflabs.org/pageviews/?project=en.wikipedia.org&platform=all-access&agent=user&range=all-time&pages=Bitcoin|Litecoin|Ethereum|Dash_(cryptocurrency)|Dogecoin|Stellar_(payment_network)|Ripple_(payment_protocol)|Monero_(cryptocurrency)')\n",
    "\n",
    "try:\n",
    "    elem = WebDriverWait(driver, 2).until(EC.presence_of_element_located((By.CSS_SELECTOR, 'span.glyphicon.glyphicon-download-alt')))\n",
    "except TimeoutException:\n",
    "    sys.exit(\"Too much time\")\n",
    "    \n",
    "time.sleep(4)\n",
    "    \n",
    "driver.find_element_by_css_selector('span.glyphicon.glyphicon-download-alt').click()\n",
    "\n",
    "time.sleep(1)\n",
    "\n",
    "try:\n",
    "    elem = WebDriverWait(driver, 2).until(EC.presence_of_element_located((By.CSS_SELECTOR, 'a.download-csv')))\n",
    "except TimeoutException:\n",
    "    sys.exit(\"Too much time\")\n",
    "\n",
    "driver.find_element_by_css_selector('a.download-csv').click()\n",
    "time.sleep(4)\n",
    "\n",
    "driver.close()\n",
    "\n",
    "for file in os.listdir(os.getcwd()):\n",
    "    if ('pageviews-' in file):\n",
    "        \n",
    "        try: \n",
    "            os.rename(\"{}\\\\{}\".format(os.getcwd(), file), \"{}\\\\pageviews.csv\".format(os.getcwd()))\n",
    "        except:\n",
    "            os.delete(\"{}\\\\pageviews.csv\".format(os.getcwd()))\n",
    "            os.rename(\"{}\\\\{}\".format(os.getcwd(), file), \"{}\\\\pageviews.csv\".format(os.getcwd()))"
   ]
  },
  {
   "cell_type": "code",
   "execution_count": null,
   "metadata": {},
   "outputs": [],
   "source": []
  }
 ],
 "metadata": {
  "kernelspec": {
   "display_name": "Python 3",
   "language": "python",
   "name": "python3"
  },
  "language_info": {
   "codemirror_mode": {
    "name": "ipython",
    "version": 3
   },
   "file_extension": ".py",
   "mimetype": "text/x-python",
   "name": "python",
   "nbconvert_exporter": "python",
   "pygments_lexer": "ipython3",
   "version": "3.6.1"
  }
 },
 "nbformat": 4,
 "nbformat_minor": 2
}
