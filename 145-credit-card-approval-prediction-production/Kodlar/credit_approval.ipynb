{
  "nbformat": 4,
  "nbformat_minor": 2,
  "metadata": {
    "interpreter": {
      "hash": "f4bd8bb79a609dcda553f87b1b7bf203915e49db290f52a52d95739cfde08084"
    },
    "kernelspec": {
      "name": "python3",
      "display_name": "Python 3.9.1 64-bit"
    },
    "language_info": {
      "codemirror_mode": {
        "name": "ipython",
        "version": 3
      },
      "file_extension": ".py",
      "mimetype": "text/x-python",
      "name": "python",
      "nbconvert_exporter": "python",
      "pygments_lexer": "ipython3",
      "version": "3.9.1"
    },
    "colab": {
      "name": "credit_approval.ipynb",
      "provenance": []
    }
  },
  "cells": [
    {
      "cell_type": "markdown",
      "source": [
        "## Introduction\n",
        "Numerous online lending platforms have emerged in recent times, offering loan opportunities to businesses,\n",
        "similar to banks. However, they are also faced with the risk of user loan default, which is correlated to the\n",
        "sustainability and healthy development of the platforms.\n",
        "The importance of calculating and predicting credit risks cannot be overemphasised. Evaluating an\n",
        "individual’s financial information and historical data is pivotal to predicting whether he/she would default\n",
        "on a loan or not.\n",
        "\n",
        "\n",
        "Credit score cards are a common risk control method in the financial industry. It uses personal information,\n",
        "and data submitted by credit card applicants to predict the probability of future defaults and credit card\n",
        "borrowings. The bank or lending company is able to decide whether to issue a credit card to the applicant or\n",
        "not. Credit scores can objectively quantify the magnitude of risk.\n",
        "The project will focus on predicting whether an applicant is qualified to receive a loan or not."
      ],
      "metadata": {
        "id": "ufLR8XQIUA8B"
      }
    },
    {
      "cell_type": "code",
      "execution_count": 190,
      "source": [
        "import pandas as pd\r\n",
        "import numpy as np\r\n",
        "import seaborn as sns\r\n",
        "import matplotlib.pyplot as plt\r\n",
        "from sklearn.preprocessing import LabelEncoder"
      ],
      "outputs": [],
      "metadata": {
        "id": "TvDxOIxnUA8K"
      }
    },
    {
      "cell_type": "markdown",
      "source": [
        "## Introduction to the Dataset\r\n",
        "\r\n",
        "We'll use the [Credit Card Approval](http://archive.ics.uci.edu/ml/datasets/credit+approval) dataset from the UCI Machine Learning Repository. This data is confidential and so the contributor of the dataset anonymized the feature names.\r\n",
        "The work flow of this notebook is as follows:\r\n",
        "\r\n",
        "- First, we will start by loading and viewing the dataset.\r\n",
        "- We will see that the dataset has both numerical and non-numerical features and that it contains a number of missing entries.\r\n",
        "- We will then take care of the missing values.\r\n",
        "- After we have cleaned and prepared our data, we will do some exploratory data analysis to improve our understanding.\r\n",
        "- We will have to preprocess the dataset to ensure the machine learning model we choose can make good predictions.\r\n",
        "- Finally, we will build a machine learning model that can predict if an individual's application for a credit card will be approved.\r\n"
      ],
      "metadata": {
        "id": "-wIbtosaUA8J"
      }
    },
    {
      "cell_type": "markdown",
      "source": [
        "The features of this dataset have been anonymized to protect the privacy, but this [blog](http://rstudio-pubs-static.s3.amazonaws.com/73039_9946de135c0a49daa7a0a9eda4a67a72.html) gives us a pretty good overview of the probable features. The probable features in a typical credit card application are Gender, Age, Debt, Married, BankCustomer, EducationLevel, Ethnicity, YearsEmployed, PriorDefault, Employed, CreditScore, DriversLicense, Citizen, ZipCode, Income and finally the ApprovalStatus."
      ],
      "metadata": {
        "id": "ybyfgu1bUA8M"
      }
    },
    {
      "cell_type": "code",
      "execution_count": 191,
      "source": [
        "credit_card_app = pd.read_csv('Data/credit_approval.data', header=None)\r\n",
        "credit_card_app.info()"
      ],
      "outputs": [
        {
          "output_type": "stream",
          "name": "stdout",
          "text": [
            "<class 'pandas.core.frame.DataFrame'>\n",
            "RangeIndex: 690 entries, 0 to 689\n",
            "Data columns (total 16 columns):\n",
            " #   Column  Non-Null Count  Dtype  \n",
            "---  ------  --------------  -----  \n",
            " 0   0       690 non-null    object \n",
            " 1   1       690 non-null    object \n",
            " 2   2       690 non-null    float64\n",
            " 3   3       690 non-null    object \n",
            " 4   4       690 non-null    object \n",
            " 5   5       690 non-null    object \n",
            " 6   6       690 non-null    object \n",
            " 7   7       690 non-null    float64\n",
            " 8   8       690 non-null    object \n",
            " 9   9       690 non-null    object \n",
            " 10  10      690 non-null    int64  \n",
            " 11  11      690 non-null    object \n",
            " 12  12      690 non-null    object \n",
            " 13  13      690 non-null    object \n",
            " 14  14      690 non-null    int64  \n",
            " 15  15      690 non-null    object \n",
            "dtypes: float64(2), int64(2), object(12)\n",
            "memory usage: 86.4+ KB\n"
          ]
        }
      ],
      "metadata": {
        "colab": {
          "base_uri": "https://localhost:8080/"
        },
        "id": "xlbgrOwiUA8N",
        "outputId": "a22830ad-a6d5-4bb8-f0a3-95dba73bd9af"
      }
    },
    {
      "cell_type": "code",
      "execution_count": 192,
      "source": [
        "#Display first few rows\r\n",
        "credit_card_app.head()"
      ],
      "outputs": [
        {
          "output_type": "execute_result",
          "data": {
            "text/html": [
              "<div>\n",
              "<style scoped>\n",
              "    .dataframe tbody tr th:only-of-type {\n",
              "        vertical-align: middle;\n",
              "    }\n",
              "\n",
              "    .dataframe tbody tr th {\n",
              "        vertical-align: top;\n",
              "    }\n",
              "\n",
              "    .dataframe thead th {\n",
              "        text-align: right;\n",
              "    }\n",
              "</style>\n",
              "<table border=\"1\" class=\"dataframe\">\n",
              "  <thead>\n",
              "    <tr style=\"text-align: right;\">\n",
              "      <th></th>\n",
              "      <th>0</th>\n",
              "      <th>1</th>\n",
              "      <th>2</th>\n",
              "      <th>3</th>\n",
              "      <th>4</th>\n",
              "      <th>5</th>\n",
              "      <th>6</th>\n",
              "      <th>7</th>\n",
              "      <th>8</th>\n",
              "      <th>9</th>\n",
              "      <th>10</th>\n",
              "      <th>11</th>\n",
              "      <th>12</th>\n",
              "      <th>13</th>\n",
              "      <th>14</th>\n",
              "      <th>15</th>\n",
              "    </tr>\n",
              "  </thead>\n",
              "  <tbody>\n",
              "    <tr>\n",
              "      <th>0</th>\n",
              "      <td>b</td>\n",
              "      <td>30.83</td>\n",
              "      <td>0.000</td>\n",
              "      <td>u</td>\n",
              "      <td>g</td>\n",
              "      <td>w</td>\n",
              "      <td>v</td>\n",
              "      <td>1.25</td>\n",
              "      <td>t</td>\n",
              "      <td>t</td>\n",
              "      <td>1</td>\n",
              "      <td>f</td>\n",
              "      <td>g</td>\n",
              "      <td>00202</td>\n",
              "      <td>0</td>\n",
              "      <td>+</td>\n",
              "    </tr>\n",
              "    <tr>\n",
              "      <th>1</th>\n",
              "      <td>a</td>\n",
              "      <td>58.67</td>\n",
              "      <td>4.460</td>\n",
              "      <td>u</td>\n",
              "      <td>g</td>\n",
              "      <td>q</td>\n",
              "      <td>h</td>\n",
              "      <td>3.04</td>\n",
              "      <td>t</td>\n",
              "      <td>t</td>\n",
              "      <td>6</td>\n",
              "      <td>f</td>\n",
              "      <td>g</td>\n",
              "      <td>00043</td>\n",
              "      <td>560</td>\n",
              "      <td>+</td>\n",
              "    </tr>\n",
              "    <tr>\n",
              "      <th>2</th>\n",
              "      <td>a</td>\n",
              "      <td>24.50</td>\n",
              "      <td>0.500</td>\n",
              "      <td>u</td>\n",
              "      <td>g</td>\n",
              "      <td>q</td>\n",
              "      <td>h</td>\n",
              "      <td>1.50</td>\n",
              "      <td>t</td>\n",
              "      <td>f</td>\n",
              "      <td>0</td>\n",
              "      <td>f</td>\n",
              "      <td>g</td>\n",
              "      <td>00280</td>\n",
              "      <td>824</td>\n",
              "      <td>+</td>\n",
              "    </tr>\n",
              "    <tr>\n",
              "      <th>3</th>\n",
              "      <td>b</td>\n",
              "      <td>27.83</td>\n",
              "      <td>1.540</td>\n",
              "      <td>u</td>\n",
              "      <td>g</td>\n",
              "      <td>w</td>\n",
              "      <td>v</td>\n",
              "      <td>3.75</td>\n",
              "      <td>t</td>\n",
              "      <td>t</td>\n",
              "      <td>5</td>\n",
              "      <td>t</td>\n",
              "      <td>g</td>\n",
              "      <td>00100</td>\n",
              "      <td>3</td>\n",
              "      <td>+</td>\n",
              "    </tr>\n",
              "    <tr>\n",
              "      <th>4</th>\n",
              "      <td>b</td>\n",
              "      <td>20.17</td>\n",
              "      <td>5.625</td>\n",
              "      <td>u</td>\n",
              "      <td>g</td>\n",
              "      <td>w</td>\n",
              "      <td>v</td>\n",
              "      <td>1.71</td>\n",
              "      <td>t</td>\n",
              "      <td>f</td>\n",
              "      <td>0</td>\n",
              "      <td>f</td>\n",
              "      <td>s</td>\n",
              "      <td>00120</td>\n",
              "      <td>0</td>\n",
              "      <td>+</td>\n",
              "    </tr>\n",
              "  </tbody>\n",
              "</table>\n",
              "</div>"
            ],
            "text/plain": [
              "  0      1      2  3  4  5  6     7  8  9   10 11 12     13   14 15\n",
              "0  b  30.83  0.000  u  g  w  v  1.25  t  t   1  f  g  00202    0  +\n",
              "1  a  58.67  4.460  u  g  q  h  3.04  t  t   6  f  g  00043  560  +\n",
              "2  a  24.50  0.500  u  g  q  h  1.50  t  f   0  f  g  00280  824  +\n",
              "3  b  27.83  1.540  u  g  w  v  3.75  t  t   5  t  g  00100    3  +\n",
              "4  b  20.17  5.625  u  g  w  v  1.71  t  f   0  f  s  00120    0  +"
            ]
          },
          "metadata": {},
          "execution_count": 192
        }
      ],
      "metadata": {
        "colab": {
          "base_uri": "https://localhost:8080/",
          "height": 0
        },
        "id": "G-oUkE2VUA8P",
        "outputId": "0255382c-6df7-4078-be24-06ab9d563a29"
      }
    },
    {
      "cell_type": "code",
      "execution_count": 193,
      "source": [
        "#full description of the dataset\r\n",
        "credit_card_app.describe(include='all')"
      ],
      "outputs": [
        {
          "output_type": "execute_result",
          "data": {
            "text/html": [
              "<div>\n",
              "<style scoped>\n",
              "    .dataframe tbody tr th:only-of-type {\n",
              "        vertical-align: middle;\n",
              "    }\n",
              "\n",
              "    .dataframe tbody tr th {\n",
              "        vertical-align: top;\n",
              "    }\n",
              "\n",
              "    .dataframe thead th {\n",
              "        text-align: right;\n",
              "    }\n",
              "</style>\n",
              "<table border=\"1\" class=\"dataframe\">\n",
              "  <thead>\n",
              "    <tr style=\"text-align: right;\">\n",
              "      <th></th>\n",
              "      <th>0</th>\n",
              "      <th>1</th>\n",
              "      <th>2</th>\n",
              "      <th>3</th>\n",
              "      <th>4</th>\n",
              "      <th>5</th>\n",
              "      <th>6</th>\n",
              "      <th>7</th>\n",
              "      <th>8</th>\n",
              "      <th>9</th>\n",
              "      <th>10</th>\n",
              "      <th>11</th>\n",
              "      <th>12</th>\n",
              "      <th>13</th>\n",
              "      <th>14</th>\n",
              "      <th>15</th>\n",
              "    </tr>\n",
              "  </thead>\n",
              "  <tbody>\n",
              "    <tr>\n",
              "      <th>count</th>\n",
              "      <td>690</td>\n",
              "      <td>690</td>\n",
              "      <td>690.000000</td>\n",
              "      <td>690</td>\n",
              "      <td>690</td>\n",
              "      <td>690</td>\n",
              "      <td>690</td>\n",
              "      <td>690.000000</td>\n",
              "      <td>690</td>\n",
              "      <td>690</td>\n",
              "      <td>690.00000</td>\n",
              "      <td>690</td>\n",
              "      <td>690</td>\n",
              "      <td>690</td>\n",
              "      <td>690.000000</td>\n",
              "      <td>690</td>\n",
              "    </tr>\n",
              "    <tr>\n",
              "      <th>unique</th>\n",
              "      <td>3</td>\n",
              "      <td>350</td>\n",
              "      <td>NaN</td>\n",
              "      <td>4</td>\n",
              "      <td>4</td>\n",
              "      <td>15</td>\n",
              "      <td>10</td>\n",
              "      <td>NaN</td>\n",
              "      <td>2</td>\n",
              "      <td>2</td>\n",
              "      <td>NaN</td>\n",
              "      <td>2</td>\n",
              "      <td>3</td>\n",
              "      <td>171</td>\n",
              "      <td>NaN</td>\n",
              "      <td>2</td>\n",
              "    </tr>\n",
              "    <tr>\n",
              "      <th>top</th>\n",
              "      <td>b</td>\n",
              "      <td>?</td>\n",
              "      <td>NaN</td>\n",
              "      <td>u</td>\n",
              "      <td>g</td>\n",
              "      <td>c</td>\n",
              "      <td>v</td>\n",
              "      <td>NaN</td>\n",
              "      <td>t</td>\n",
              "      <td>f</td>\n",
              "      <td>NaN</td>\n",
              "      <td>f</td>\n",
              "      <td>g</td>\n",
              "      <td>00000</td>\n",
              "      <td>NaN</td>\n",
              "      <td>-</td>\n",
              "    </tr>\n",
              "    <tr>\n",
              "      <th>freq</th>\n",
              "      <td>468</td>\n",
              "      <td>12</td>\n",
              "      <td>NaN</td>\n",
              "      <td>519</td>\n",
              "      <td>519</td>\n",
              "      <td>137</td>\n",
              "      <td>399</td>\n",
              "      <td>NaN</td>\n",
              "      <td>361</td>\n",
              "      <td>395</td>\n",
              "      <td>NaN</td>\n",
              "      <td>374</td>\n",
              "      <td>625</td>\n",
              "      <td>132</td>\n",
              "      <td>NaN</td>\n",
              "      <td>383</td>\n",
              "    </tr>\n",
              "    <tr>\n",
              "      <th>mean</th>\n",
              "      <td>NaN</td>\n",
              "      <td>NaN</td>\n",
              "      <td>4.758725</td>\n",
              "      <td>NaN</td>\n",
              "      <td>NaN</td>\n",
              "      <td>NaN</td>\n",
              "      <td>NaN</td>\n",
              "      <td>2.223406</td>\n",
              "      <td>NaN</td>\n",
              "      <td>NaN</td>\n",
              "      <td>2.40000</td>\n",
              "      <td>NaN</td>\n",
              "      <td>NaN</td>\n",
              "      <td>NaN</td>\n",
              "      <td>1017.385507</td>\n",
              "      <td>NaN</td>\n",
              "    </tr>\n",
              "    <tr>\n",
              "      <th>std</th>\n",
              "      <td>NaN</td>\n",
              "      <td>NaN</td>\n",
              "      <td>4.978163</td>\n",
              "      <td>NaN</td>\n",
              "      <td>NaN</td>\n",
              "      <td>NaN</td>\n",
              "      <td>NaN</td>\n",
              "      <td>3.346513</td>\n",
              "      <td>NaN</td>\n",
              "      <td>NaN</td>\n",
              "      <td>4.86294</td>\n",
              "      <td>NaN</td>\n",
              "      <td>NaN</td>\n",
              "      <td>NaN</td>\n",
              "      <td>5210.102598</td>\n",
              "      <td>NaN</td>\n",
              "    </tr>\n",
              "    <tr>\n",
              "      <th>min</th>\n",
              "      <td>NaN</td>\n",
              "      <td>NaN</td>\n",
              "      <td>0.000000</td>\n",
              "      <td>NaN</td>\n",
              "      <td>NaN</td>\n",
              "      <td>NaN</td>\n",
              "      <td>NaN</td>\n",
              "      <td>0.000000</td>\n",
              "      <td>NaN</td>\n",
              "      <td>NaN</td>\n",
              "      <td>0.00000</td>\n",
              "      <td>NaN</td>\n",
              "      <td>NaN</td>\n",
              "      <td>NaN</td>\n",
              "      <td>0.000000</td>\n",
              "      <td>NaN</td>\n",
              "    </tr>\n",
              "    <tr>\n",
              "      <th>25%</th>\n",
              "      <td>NaN</td>\n",
              "      <td>NaN</td>\n",
              "      <td>1.000000</td>\n",
              "      <td>NaN</td>\n",
              "      <td>NaN</td>\n",
              "      <td>NaN</td>\n",
              "      <td>NaN</td>\n",
              "      <td>0.165000</td>\n",
              "      <td>NaN</td>\n",
              "      <td>NaN</td>\n",
              "      <td>0.00000</td>\n",
              "      <td>NaN</td>\n",
              "      <td>NaN</td>\n",
              "      <td>NaN</td>\n",
              "      <td>0.000000</td>\n",
              "      <td>NaN</td>\n",
              "    </tr>\n",
              "    <tr>\n",
              "      <th>50%</th>\n",
              "      <td>NaN</td>\n",
              "      <td>NaN</td>\n",
              "      <td>2.750000</td>\n",
              "      <td>NaN</td>\n",
              "      <td>NaN</td>\n",
              "      <td>NaN</td>\n",
              "      <td>NaN</td>\n",
              "      <td>1.000000</td>\n",
              "      <td>NaN</td>\n",
              "      <td>NaN</td>\n",
              "      <td>0.00000</td>\n",
              "      <td>NaN</td>\n",
              "      <td>NaN</td>\n",
              "      <td>NaN</td>\n",
              "      <td>5.000000</td>\n",
              "      <td>NaN</td>\n",
              "    </tr>\n",
              "    <tr>\n",
              "      <th>75%</th>\n",
              "      <td>NaN</td>\n",
              "      <td>NaN</td>\n",
              "      <td>7.207500</td>\n",
              "      <td>NaN</td>\n",
              "      <td>NaN</td>\n",
              "      <td>NaN</td>\n",
              "      <td>NaN</td>\n",
              "      <td>2.625000</td>\n",
              "      <td>NaN</td>\n",
              "      <td>NaN</td>\n",
              "      <td>3.00000</td>\n",
              "      <td>NaN</td>\n",
              "      <td>NaN</td>\n",
              "      <td>NaN</td>\n",
              "      <td>395.500000</td>\n",
              "      <td>NaN</td>\n",
              "    </tr>\n",
              "    <tr>\n",
              "      <th>max</th>\n",
              "      <td>NaN</td>\n",
              "      <td>NaN</td>\n",
              "      <td>28.000000</td>\n",
              "      <td>NaN</td>\n",
              "      <td>NaN</td>\n",
              "      <td>NaN</td>\n",
              "      <td>NaN</td>\n",
              "      <td>28.500000</td>\n",
              "      <td>NaN</td>\n",
              "      <td>NaN</td>\n",
              "      <td>67.00000</td>\n",
              "      <td>NaN</td>\n",
              "      <td>NaN</td>\n",
              "      <td>NaN</td>\n",
              "      <td>100000.000000</td>\n",
              "      <td>NaN</td>\n",
              "    </tr>\n",
              "  </tbody>\n",
              "</table>\n",
              "</div>"
            ],
            "text/plain": [
              "         0    1           2    3    4    5    6           7    8    9   \\\n",
              "count   690  690  690.000000  690  690  690  690  690.000000  690  690   \n",
              "unique    3  350         NaN    4    4   15   10         NaN    2    2   \n",
              "top       b    ?         NaN    u    g    c    v         NaN    t    f   \n",
              "freq    468   12         NaN  519  519  137  399         NaN  361  395   \n",
              "mean    NaN  NaN    4.758725  NaN  NaN  NaN  NaN    2.223406  NaN  NaN   \n",
              "std     NaN  NaN    4.978163  NaN  NaN  NaN  NaN    3.346513  NaN  NaN   \n",
              "min     NaN  NaN    0.000000  NaN  NaN  NaN  NaN    0.000000  NaN  NaN   \n",
              "25%     NaN  NaN    1.000000  NaN  NaN  NaN  NaN    0.165000  NaN  NaN   \n",
              "50%     NaN  NaN    2.750000  NaN  NaN  NaN  NaN    1.000000  NaN  NaN   \n",
              "75%     NaN  NaN    7.207500  NaN  NaN  NaN  NaN    2.625000  NaN  NaN   \n",
              "max     NaN  NaN   28.000000  NaN  NaN  NaN  NaN   28.500000  NaN  NaN   \n",
              "\n",
              "               10   11   12     13             14   15  \n",
              "count   690.00000  690  690    690     690.000000  690  \n",
              "unique        NaN    2    3    171            NaN    2  \n",
              "top           NaN    f    g  00000            NaN    -  \n",
              "freq          NaN  374  625    132            NaN  383  \n",
              "mean      2.40000  NaN  NaN    NaN    1017.385507  NaN  \n",
              "std       4.86294  NaN  NaN    NaN    5210.102598  NaN  \n",
              "min       0.00000  NaN  NaN    NaN       0.000000  NaN  \n",
              "25%       0.00000  NaN  NaN    NaN       0.000000  NaN  \n",
              "50%       0.00000  NaN  NaN    NaN       5.000000  NaN  \n",
              "75%       3.00000  NaN  NaN    NaN     395.500000  NaN  \n",
              "max      67.00000  NaN  NaN    NaN  100000.000000  NaN  "
            ]
          },
          "metadata": {},
          "execution_count": 193
        }
      ],
      "metadata": {
        "colab": {
          "base_uri": "https://localhost:8080/",
          "height": 0
        },
        "id": "7YL-JrGGUA8Q",
        "outputId": "882a6e71-edf8-457a-d12e-88bf59cc0807"
      }
    },
    {
      "cell_type": "markdown",
      "source": [
        "As seen in the above summary statistics, the dataset contains missing values represented with a \"?\""
      ],
      "metadata": {
        "id": "gqoWxYhmUA8R"
      }
    },
    {
      "cell_type": "code",
      "execution_count": 194,
      "source": [
        "#replacing \"?\" with NaN for easy computation\r\n",
        "credit_card_app = credit_card_app.replace(\"?\", np.nan)"
      ],
      "outputs": [],
      "metadata": {
        "id": "ugjoMfZxUA8S"
      }
    },
    {
      "cell_type": "code",
      "execution_count": 195,
      "source": [
        "# inspecting to be sure all '?' has been replaced\r\n",
        "credit_card_app.describe(include = 'all')"
      ],
      "outputs": [
        {
          "output_type": "execute_result",
          "data": {
            "text/html": [
              "<div>\n",
              "<style scoped>\n",
              "    .dataframe tbody tr th:only-of-type {\n",
              "        vertical-align: middle;\n",
              "    }\n",
              "\n",
              "    .dataframe tbody tr th {\n",
              "        vertical-align: top;\n",
              "    }\n",
              "\n",
              "    .dataframe thead th {\n",
              "        text-align: right;\n",
              "    }\n",
              "</style>\n",
              "<table border=\"1\" class=\"dataframe\">\n",
              "  <thead>\n",
              "    <tr style=\"text-align: right;\">\n",
              "      <th></th>\n",
              "      <th>0</th>\n",
              "      <th>1</th>\n",
              "      <th>2</th>\n",
              "      <th>3</th>\n",
              "      <th>4</th>\n",
              "      <th>5</th>\n",
              "      <th>6</th>\n",
              "      <th>7</th>\n",
              "      <th>8</th>\n",
              "      <th>9</th>\n",
              "      <th>10</th>\n",
              "      <th>11</th>\n",
              "      <th>12</th>\n",
              "      <th>13</th>\n",
              "      <th>14</th>\n",
              "      <th>15</th>\n",
              "    </tr>\n",
              "  </thead>\n",
              "  <tbody>\n",
              "    <tr>\n",
              "      <th>count</th>\n",
              "      <td>678</td>\n",
              "      <td>678</td>\n",
              "      <td>690.000000</td>\n",
              "      <td>684</td>\n",
              "      <td>684</td>\n",
              "      <td>681</td>\n",
              "      <td>681</td>\n",
              "      <td>690.000000</td>\n",
              "      <td>690</td>\n",
              "      <td>690</td>\n",
              "      <td>690.00000</td>\n",
              "      <td>690</td>\n",
              "      <td>690</td>\n",
              "      <td>677</td>\n",
              "      <td>690.000000</td>\n",
              "      <td>690</td>\n",
              "    </tr>\n",
              "    <tr>\n",
              "      <th>unique</th>\n",
              "      <td>2</td>\n",
              "      <td>349</td>\n",
              "      <td>NaN</td>\n",
              "      <td>3</td>\n",
              "      <td>3</td>\n",
              "      <td>14</td>\n",
              "      <td>9</td>\n",
              "      <td>NaN</td>\n",
              "      <td>2</td>\n",
              "      <td>2</td>\n",
              "      <td>NaN</td>\n",
              "      <td>2</td>\n",
              "      <td>3</td>\n",
              "      <td>170</td>\n",
              "      <td>NaN</td>\n",
              "      <td>2</td>\n",
              "    </tr>\n",
              "    <tr>\n",
              "      <th>top</th>\n",
              "      <td>b</td>\n",
              "      <td>22.67</td>\n",
              "      <td>NaN</td>\n",
              "      <td>u</td>\n",
              "      <td>g</td>\n",
              "      <td>c</td>\n",
              "      <td>v</td>\n",
              "      <td>NaN</td>\n",
              "      <td>t</td>\n",
              "      <td>f</td>\n",
              "      <td>NaN</td>\n",
              "      <td>f</td>\n",
              "      <td>g</td>\n",
              "      <td>00000</td>\n",
              "      <td>NaN</td>\n",
              "      <td>-</td>\n",
              "    </tr>\n",
              "    <tr>\n",
              "      <th>freq</th>\n",
              "      <td>468</td>\n",
              "      <td>9</td>\n",
              "      <td>NaN</td>\n",
              "      <td>519</td>\n",
              "      <td>519</td>\n",
              "      <td>137</td>\n",
              "      <td>399</td>\n",
              "      <td>NaN</td>\n",
              "      <td>361</td>\n",
              "      <td>395</td>\n",
              "      <td>NaN</td>\n",
              "      <td>374</td>\n",
              "      <td>625</td>\n",
              "      <td>132</td>\n",
              "      <td>NaN</td>\n",
              "      <td>383</td>\n",
              "    </tr>\n",
              "    <tr>\n",
              "      <th>mean</th>\n",
              "      <td>NaN</td>\n",
              "      <td>NaN</td>\n",
              "      <td>4.758725</td>\n",
              "      <td>NaN</td>\n",
              "      <td>NaN</td>\n",
              "      <td>NaN</td>\n",
              "      <td>NaN</td>\n",
              "      <td>2.223406</td>\n",
              "      <td>NaN</td>\n",
              "      <td>NaN</td>\n",
              "      <td>2.40000</td>\n",
              "      <td>NaN</td>\n",
              "      <td>NaN</td>\n",
              "      <td>NaN</td>\n",
              "      <td>1017.385507</td>\n",
              "      <td>NaN</td>\n",
              "    </tr>\n",
              "    <tr>\n",
              "      <th>std</th>\n",
              "      <td>NaN</td>\n",
              "      <td>NaN</td>\n",
              "      <td>4.978163</td>\n",
              "      <td>NaN</td>\n",
              "      <td>NaN</td>\n",
              "      <td>NaN</td>\n",
              "      <td>NaN</td>\n",
              "      <td>3.346513</td>\n",
              "      <td>NaN</td>\n",
              "      <td>NaN</td>\n",
              "      <td>4.86294</td>\n",
              "      <td>NaN</td>\n",
              "      <td>NaN</td>\n",
              "      <td>NaN</td>\n",
              "      <td>5210.102598</td>\n",
              "      <td>NaN</td>\n",
              "    </tr>\n",
              "    <tr>\n",
              "      <th>min</th>\n",
              "      <td>NaN</td>\n",
              "      <td>NaN</td>\n",
              "      <td>0.000000</td>\n",
              "      <td>NaN</td>\n",
              "      <td>NaN</td>\n",
              "      <td>NaN</td>\n",
              "      <td>NaN</td>\n",
              "      <td>0.000000</td>\n",
              "      <td>NaN</td>\n",
              "      <td>NaN</td>\n",
              "      <td>0.00000</td>\n",
              "      <td>NaN</td>\n",
              "      <td>NaN</td>\n",
              "      <td>NaN</td>\n",
              "      <td>0.000000</td>\n",
              "      <td>NaN</td>\n",
              "    </tr>\n",
              "    <tr>\n",
              "      <th>25%</th>\n",
              "      <td>NaN</td>\n",
              "      <td>NaN</td>\n",
              "      <td>1.000000</td>\n",
              "      <td>NaN</td>\n",
              "      <td>NaN</td>\n",
              "      <td>NaN</td>\n",
              "      <td>NaN</td>\n",
              "      <td>0.165000</td>\n",
              "      <td>NaN</td>\n",
              "      <td>NaN</td>\n",
              "      <td>0.00000</td>\n",
              "      <td>NaN</td>\n",
              "      <td>NaN</td>\n",
              "      <td>NaN</td>\n",
              "      <td>0.000000</td>\n",
              "      <td>NaN</td>\n",
              "    </tr>\n",
              "    <tr>\n",
              "      <th>50%</th>\n",
              "      <td>NaN</td>\n",
              "      <td>NaN</td>\n",
              "      <td>2.750000</td>\n",
              "      <td>NaN</td>\n",
              "      <td>NaN</td>\n",
              "      <td>NaN</td>\n",
              "      <td>NaN</td>\n",
              "      <td>1.000000</td>\n",
              "      <td>NaN</td>\n",
              "      <td>NaN</td>\n",
              "      <td>0.00000</td>\n",
              "      <td>NaN</td>\n",
              "      <td>NaN</td>\n",
              "      <td>NaN</td>\n",
              "      <td>5.000000</td>\n",
              "      <td>NaN</td>\n",
              "    </tr>\n",
              "    <tr>\n",
              "      <th>75%</th>\n",
              "      <td>NaN</td>\n",
              "      <td>NaN</td>\n",
              "      <td>7.207500</td>\n",
              "      <td>NaN</td>\n",
              "      <td>NaN</td>\n",
              "      <td>NaN</td>\n",
              "      <td>NaN</td>\n",
              "      <td>2.625000</td>\n",
              "      <td>NaN</td>\n",
              "      <td>NaN</td>\n",
              "      <td>3.00000</td>\n",
              "      <td>NaN</td>\n",
              "      <td>NaN</td>\n",
              "      <td>NaN</td>\n",
              "      <td>395.500000</td>\n",
              "      <td>NaN</td>\n",
              "    </tr>\n",
              "    <tr>\n",
              "      <th>max</th>\n",
              "      <td>NaN</td>\n",
              "      <td>NaN</td>\n",
              "      <td>28.000000</td>\n",
              "      <td>NaN</td>\n",
              "      <td>NaN</td>\n",
              "      <td>NaN</td>\n",
              "      <td>NaN</td>\n",
              "      <td>28.500000</td>\n",
              "      <td>NaN</td>\n",
              "      <td>NaN</td>\n",
              "      <td>67.00000</td>\n",
              "      <td>NaN</td>\n",
              "      <td>NaN</td>\n",
              "      <td>NaN</td>\n",
              "      <td>100000.000000</td>\n",
              "      <td>NaN</td>\n",
              "    </tr>\n",
              "  </tbody>\n",
              "</table>\n",
              "</div>"
            ],
            "text/plain": [
              "         0      1           2    3    4    5    6           7    8    9   \\\n",
              "count   678    678  690.000000  684  684  681  681  690.000000  690  690   \n",
              "unique    2    349         NaN    3    3   14    9         NaN    2    2   \n",
              "top       b  22.67         NaN    u    g    c    v         NaN    t    f   \n",
              "freq    468      9         NaN  519  519  137  399         NaN  361  395   \n",
              "mean    NaN    NaN    4.758725  NaN  NaN  NaN  NaN    2.223406  NaN  NaN   \n",
              "std     NaN    NaN    4.978163  NaN  NaN  NaN  NaN    3.346513  NaN  NaN   \n",
              "min     NaN    NaN    0.000000  NaN  NaN  NaN  NaN    0.000000  NaN  NaN   \n",
              "25%     NaN    NaN    1.000000  NaN  NaN  NaN  NaN    0.165000  NaN  NaN   \n",
              "50%     NaN    NaN    2.750000  NaN  NaN  NaN  NaN    1.000000  NaN  NaN   \n",
              "75%     NaN    NaN    7.207500  NaN  NaN  NaN  NaN    2.625000  NaN  NaN   \n",
              "max     NaN    NaN   28.000000  NaN  NaN  NaN  NaN   28.500000  NaN  NaN   \n",
              "\n",
              "               10   11   12     13             14   15  \n",
              "count   690.00000  690  690    677     690.000000  690  \n",
              "unique        NaN    2    3    170            NaN    2  \n",
              "top           NaN    f    g  00000            NaN    -  \n",
              "freq          NaN  374  625    132            NaN  383  \n",
              "mean      2.40000  NaN  NaN    NaN    1017.385507  NaN  \n",
              "std       4.86294  NaN  NaN    NaN    5210.102598  NaN  \n",
              "min       0.00000  NaN  NaN    NaN       0.000000  NaN  \n",
              "25%       0.00000  NaN  NaN    NaN       0.000000  NaN  \n",
              "50%       0.00000  NaN  NaN    NaN       5.000000  NaN  \n",
              "75%       3.00000  NaN  NaN    NaN     395.500000  NaN  \n",
              "max      67.00000  NaN  NaN    NaN  100000.000000  NaN  "
            ]
          },
          "metadata": {},
          "execution_count": 195
        }
      ],
      "metadata": {
        "colab": {
          "base_uri": "https://localhost:8080/",
          "height": 0
        },
        "id": "QDepVDoLUA8S",
        "outputId": "d126ef9d-4067-4b15-d939-3d63a6667c68"
      }
    },
    {
      "cell_type": "markdown",
      "source": [
        "The missing values repreented with '?' have all been replaced with NaN  "
      ],
      "metadata": {
        "id": "SjvvJCzMUA8T"
      }
    },
    {
      "cell_type": "code",
      "execution_count": 196,
      "source": [
        "#type conversion of numerical columns stored as object type\r\n",
        "credit_card_app = credit_card_app.astype({1:'float', 13:'float'})"
      ],
      "outputs": [],
      "metadata": {
        "id": "JlqBT7m8UA8T"
      }
    },
    {
      "cell_type": "code",
      "execution_count": 197,
      "source": [
        "#Fill the numerical missing values using the mean inputation\r\n",
        "credit_card_app.fillna(credit_card_app.mean(), inplace = True)"
      ],
      "outputs": [],
      "metadata": {
        "id": "XYjN81LMUA8U"
      }
    },
    {
      "cell_type": "code",
      "execution_count": 198,
      "source": [
        "credit_card_app.isnull().sum()"
      ],
      "outputs": [
        {
          "output_type": "execute_result",
          "data": {
            "text/plain": [
              "0     12\n",
              "1      0\n",
              "2      0\n",
              "3      6\n",
              "4      6\n",
              "5      9\n",
              "6      9\n",
              "7      0\n",
              "8      0\n",
              "9      0\n",
              "10     0\n",
              "11     0\n",
              "12     0\n",
              "13     0\n",
              "14     0\n",
              "15     0\n",
              "dtype: int64"
            ]
          },
          "metadata": {},
          "execution_count": 198
        }
      ],
      "metadata": {
        "colab": {
          "base_uri": "https://localhost:8080/"
        },
        "id": "_Be2hxDfUA8U",
        "outputId": "9f7eb44e-94bf-4c66-9c2d-0fcf26831ade"
      }
    },
    {
      "cell_type": "markdown",
      "source": [
        "The column containing missing values are categorical columns that could not be filled with mean inputation.\n",
        "To fix this, we are going to use mode inputation method."
      ],
      "metadata": {
        "id": "gGI0Io0sUA8V"
      }
    },
    {
      "cell_type": "code",
      "execution_count": 199,
      "source": [
        "#iterating over each column of the dataset\r\n",
        "for col in credit_card_app:\r\n",
        "    #check if any column is categorical (object)\r\n",
        "    if credit_card_app[col].dtype == 'object':\r\n",
        "        #if colmn is categorical, input missing vales with the most frequent value\r\n",
        "        credit_card_app = credit_card_app.fillna(credit_card_app[col].value_counts().index[0])"
      ],
      "outputs": [],
      "metadata": {
        "id": "uHWs0q6DUA8V"
      }
    },
    {
      "cell_type": "code",
      "execution_count": 200,
      "source": [
        "#check to see if there are stll missing values\r\n",
        "credit_card_app.isnull().sum()"
      ],
      "outputs": [
        {
          "output_type": "execute_result",
          "data": {
            "text/plain": [
              "0     0\n",
              "1     0\n",
              "2     0\n",
              "3     0\n",
              "4     0\n",
              "5     0\n",
              "6     0\n",
              "7     0\n",
              "8     0\n",
              "9     0\n",
              "10    0\n",
              "11    0\n",
              "12    0\n",
              "13    0\n",
              "14    0\n",
              "15    0\n",
              "dtype: int64"
            ]
          },
          "metadata": {},
          "execution_count": 200
        }
      ],
      "metadata": {
        "colab": {
          "base_uri": "https://localhost:8080/"
        },
        "id": "ZZdBTTvXUA8V",
        "outputId": "10388d65-1912-494a-d868-e35befa398af"
      }
    },
    {
      "cell_type": "markdown",
      "source": [
        "All missing values both numerical and categorical have been filled."
      ],
      "metadata": {
        "id": "pK8FRkSbUA8W"
      }
    },
    {
      "cell_type": "markdown",
      "source": [
        "# Renaming the columns"
      ],
      "metadata": {
        "id": "E3iZkcwSUA8W"
      }
    },
    {
      "cell_type": "code",
      "execution_count": 201,
      "source": [
        "d = {0: 'Gender', 1: 'Age', 2: 'Debt', 3: 'Married', 4: 'BankCustomer', 5: 'EducationLevel', 6: 'Ethnicity', 7: 'YearsEmployed', 8: 'PriorDefault',\r\n",
        "9: 'Employed', 10: 'CreditScore', 11: 'DriversLicense', 12: 'Citizen', 13: 'ZipCode', 14:'Income', 15: 'ApprovalStatus' }\r\n",
        "\r\n",
        "credit_card_app.rename(columns = d, inplace = True)"
      ],
      "outputs": [],
      "metadata": {
        "id": "zmfGsoT1UA8W"
      }
    },
    {
      "cell_type": "code",
      "execution_count": 202,
      "source": [
        "credit_card_app.describe(include = 'all')"
      ],
      "outputs": [
        {
          "output_type": "execute_result",
          "data": {
            "text/html": [
              "<div>\n",
              "<style scoped>\n",
              "    .dataframe tbody tr th:only-of-type {\n",
              "        vertical-align: middle;\n",
              "    }\n",
              "\n",
              "    .dataframe tbody tr th {\n",
              "        vertical-align: top;\n",
              "    }\n",
              "\n",
              "    .dataframe thead th {\n",
              "        text-align: right;\n",
              "    }\n",
              "</style>\n",
              "<table border=\"1\" class=\"dataframe\">\n",
              "  <thead>\n",
              "    <tr style=\"text-align: right;\">\n",
              "      <th></th>\n",
              "      <th>Gender</th>\n",
              "      <th>Age</th>\n",
              "      <th>Debt</th>\n",
              "      <th>Married</th>\n",
              "      <th>BankCustomer</th>\n",
              "      <th>EducationLevel</th>\n",
              "      <th>Ethnicity</th>\n",
              "      <th>YearsEmployed</th>\n",
              "      <th>PriorDefault</th>\n",
              "      <th>Employed</th>\n",
              "      <th>CreditScore</th>\n",
              "      <th>DriversLicense</th>\n",
              "      <th>Citizen</th>\n",
              "      <th>ZipCode</th>\n",
              "      <th>Income</th>\n",
              "      <th>ApprovalStatus</th>\n",
              "    </tr>\n",
              "  </thead>\n",
              "  <tbody>\n",
              "    <tr>\n",
              "      <th>count</th>\n",
              "      <td>690</td>\n",
              "      <td>690.000000</td>\n",
              "      <td>690.000000</td>\n",
              "      <td>690</td>\n",
              "      <td>690</td>\n",
              "      <td>690</td>\n",
              "      <td>690</td>\n",
              "      <td>690.000000</td>\n",
              "      <td>690</td>\n",
              "      <td>690</td>\n",
              "      <td>690.00000</td>\n",
              "      <td>690</td>\n",
              "      <td>690</td>\n",
              "      <td>690.000000</td>\n",
              "      <td>690.000000</td>\n",
              "      <td>690</td>\n",
              "    </tr>\n",
              "    <tr>\n",
              "      <th>unique</th>\n",
              "      <td>2</td>\n",
              "      <td>NaN</td>\n",
              "      <td>NaN</td>\n",
              "      <td>4</td>\n",
              "      <td>4</td>\n",
              "      <td>15</td>\n",
              "      <td>10</td>\n",
              "      <td>NaN</td>\n",
              "      <td>2</td>\n",
              "      <td>2</td>\n",
              "      <td>NaN</td>\n",
              "      <td>2</td>\n",
              "      <td>3</td>\n",
              "      <td>NaN</td>\n",
              "      <td>NaN</td>\n",
              "      <td>2</td>\n",
              "    </tr>\n",
              "    <tr>\n",
              "      <th>top</th>\n",
              "      <td>b</td>\n",
              "      <td>NaN</td>\n",
              "      <td>NaN</td>\n",
              "      <td>u</td>\n",
              "      <td>g</td>\n",
              "      <td>c</td>\n",
              "      <td>v</td>\n",
              "      <td>NaN</td>\n",
              "      <td>t</td>\n",
              "      <td>f</td>\n",
              "      <td>NaN</td>\n",
              "      <td>f</td>\n",
              "      <td>g</td>\n",
              "      <td>NaN</td>\n",
              "      <td>NaN</td>\n",
              "      <td>-</td>\n",
              "    </tr>\n",
              "    <tr>\n",
              "      <th>freq</th>\n",
              "      <td>480</td>\n",
              "      <td>NaN</td>\n",
              "      <td>NaN</td>\n",
              "      <td>519</td>\n",
              "      <td>519</td>\n",
              "      <td>137</td>\n",
              "      <td>399</td>\n",
              "      <td>NaN</td>\n",
              "      <td>361</td>\n",
              "      <td>395</td>\n",
              "      <td>NaN</td>\n",
              "      <td>374</td>\n",
              "      <td>625</td>\n",
              "      <td>NaN</td>\n",
              "      <td>NaN</td>\n",
              "      <td>383</td>\n",
              "    </tr>\n",
              "    <tr>\n",
              "      <th>mean</th>\n",
              "      <td>NaN</td>\n",
              "      <td>31.568171</td>\n",
              "      <td>4.758725</td>\n",
              "      <td>NaN</td>\n",
              "      <td>NaN</td>\n",
              "      <td>NaN</td>\n",
              "      <td>NaN</td>\n",
              "      <td>2.223406</td>\n",
              "      <td>NaN</td>\n",
              "      <td>NaN</td>\n",
              "      <td>2.40000</td>\n",
              "      <td>NaN</td>\n",
              "      <td>NaN</td>\n",
              "      <td>184.014771</td>\n",
              "      <td>1017.385507</td>\n",
              "      <td>NaN</td>\n",
              "    </tr>\n",
              "    <tr>\n",
              "      <th>std</th>\n",
              "      <td>NaN</td>\n",
              "      <td>11.853273</td>\n",
              "      <td>4.978163</td>\n",
              "      <td>NaN</td>\n",
              "      <td>NaN</td>\n",
              "      <td>NaN</td>\n",
              "      <td>NaN</td>\n",
              "      <td>3.346513</td>\n",
              "      <td>NaN</td>\n",
              "      <td>NaN</td>\n",
              "      <td>4.86294</td>\n",
              "      <td>NaN</td>\n",
              "      <td>NaN</td>\n",
              "      <td>172.159274</td>\n",
              "      <td>5210.102598</td>\n",
              "      <td>NaN</td>\n",
              "    </tr>\n",
              "    <tr>\n",
              "      <th>min</th>\n",
              "      <td>NaN</td>\n",
              "      <td>13.750000</td>\n",
              "      <td>0.000000</td>\n",
              "      <td>NaN</td>\n",
              "      <td>NaN</td>\n",
              "      <td>NaN</td>\n",
              "      <td>NaN</td>\n",
              "      <td>0.000000</td>\n",
              "      <td>NaN</td>\n",
              "      <td>NaN</td>\n",
              "      <td>0.00000</td>\n",
              "      <td>NaN</td>\n",
              "      <td>NaN</td>\n",
              "      <td>0.000000</td>\n",
              "      <td>0.000000</td>\n",
              "      <td>NaN</td>\n",
              "    </tr>\n",
              "    <tr>\n",
              "      <th>25%</th>\n",
              "      <td>NaN</td>\n",
              "      <td>22.670000</td>\n",
              "      <td>1.000000</td>\n",
              "      <td>NaN</td>\n",
              "      <td>NaN</td>\n",
              "      <td>NaN</td>\n",
              "      <td>NaN</td>\n",
              "      <td>0.165000</td>\n",
              "      <td>NaN</td>\n",
              "      <td>NaN</td>\n",
              "      <td>0.00000</td>\n",
              "      <td>NaN</td>\n",
              "      <td>NaN</td>\n",
              "      <td>80.000000</td>\n",
              "      <td>0.000000</td>\n",
              "      <td>NaN</td>\n",
              "    </tr>\n",
              "    <tr>\n",
              "      <th>50%</th>\n",
              "      <td>NaN</td>\n",
              "      <td>28.625000</td>\n",
              "      <td>2.750000</td>\n",
              "      <td>NaN</td>\n",
              "      <td>NaN</td>\n",
              "      <td>NaN</td>\n",
              "      <td>NaN</td>\n",
              "      <td>1.000000</td>\n",
              "      <td>NaN</td>\n",
              "      <td>NaN</td>\n",
              "      <td>0.00000</td>\n",
              "      <td>NaN</td>\n",
              "      <td>NaN</td>\n",
              "      <td>160.000000</td>\n",
              "      <td>5.000000</td>\n",
              "      <td>NaN</td>\n",
              "    </tr>\n",
              "    <tr>\n",
              "      <th>75%</th>\n",
              "      <td>NaN</td>\n",
              "      <td>37.707500</td>\n",
              "      <td>7.207500</td>\n",
              "      <td>NaN</td>\n",
              "      <td>NaN</td>\n",
              "      <td>NaN</td>\n",
              "      <td>NaN</td>\n",
              "      <td>2.625000</td>\n",
              "      <td>NaN</td>\n",
              "      <td>NaN</td>\n",
              "      <td>3.00000</td>\n",
              "      <td>NaN</td>\n",
              "      <td>NaN</td>\n",
              "      <td>272.000000</td>\n",
              "      <td>395.500000</td>\n",
              "      <td>NaN</td>\n",
              "    </tr>\n",
              "    <tr>\n",
              "      <th>max</th>\n",
              "      <td>NaN</td>\n",
              "      <td>80.250000</td>\n",
              "      <td>28.000000</td>\n",
              "      <td>NaN</td>\n",
              "      <td>NaN</td>\n",
              "      <td>NaN</td>\n",
              "      <td>NaN</td>\n",
              "      <td>28.500000</td>\n",
              "      <td>NaN</td>\n",
              "      <td>NaN</td>\n",
              "      <td>67.00000</td>\n",
              "      <td>NaN</td>\n",
              "      <td>NaN</td>\n",
              "      <td>2000.000000</td>\n",
              "      <td>100000.000000</td>\n",
              "      <td>NaN</td>\n",
              "    </tr>\n",
              "  </tbody>\n",
              "</table>\n",
              "</div>"
            ],
            "text/plain": [
              "       Gender         Age        Debt Married BankCustomer EducationLevel  \\\n",
              "count     690  690.000000  690.000000     690          690            690   \n",
              "unique      2         NaN         NaN       4            4             15   \n",
              "top         b         NaN         NaN       u            g              c   \n",
              "freq      480         NaN         NaN     519          519            137   \n",
              "mean      NaN   31.568171    4.758725     NaN          NaN            NaN   \n",
              "std       NaN   11.853273    4.978163     NaN          NaN            NaN   \n",
              "min       NaN   13.750000    0.000000     NaN          NaN            NaN   \n",
              "25%       NaN   22.670000    1.000000     NaN          NaN            NaN   \n",
              "50%       NaN   28.625000    2.750000     NaN          NaN            NaN   \n",
              "75%       NaN   37.707500    7.207500     NaN          NaN            NaN   \n",
              "max       NaN   80.250000   28.000000     NaN          NaN            NaN   \n",
              "\n",
              "       Ethnicity  YearsEmployed PriorDefault Employed  CreditScore  \\\n",
              "count        690     690.000000          690      690    690.00000   \n",
              "unique        10            NaN            2        2          NaN   \n",
              "top            v            NaN            t        f          NaN   \n",
              "freq         399            NaN          361      395          NaN   \n",
              "mean         NaN       2.223406          NaN      NaN      2.40000   \n",
              "std          NaN       3.346513          NaN      NaN      4.86294   \n",
              "min          NaN       0.000000          NaN      NaN      0.00000   \n",
              "25%          NaN       0.165000          NaN      NaN      0.00000   \n",
              "50%          NaN       1.000000          NaN      NaN      0.00000   \n",
              "75%          NaN       2.625000          NaN      NaN      3.00000   \n",
              "max          NaN      28.500000          NaN      NaN     67.00000   \n",
              "\n",
              "       DriversLicense Citizen      ZipCode         Income ApprovalStatus  \n",
              "count             690     690   690.000000     690.000000            690  \n",
              "unique              2       3          NaN            NaN              2  \n",
              "top                 f       g          NaN            NaN              -  \n",
              "freq              374     625          NaN            NaN            383  \n",
              "mean              NaN     NaN   184.014771    1017.385507            NaN  \n",
              "std               NaN     NaN   172.159274    5210.102598            NaN  \n",
              "min               NaN     NaN     0.000000       0.000000            NaN  \n",
              "25%               NaN     NaN    80.000000       0.000000            NaN  \n",
              "50%               NaN     NaN   160.000000       5.000000            NaN  \n",
              "75%               NaN     NaN   272.000000     395.500000            NaN  \n",
              "max               NaN     NaN  2000.000000  100000.000000            NaN  "
            ]
          },
          "metadata": {},
          "execution_count": 202
        }
      ],
      "metadata": {}
    },
    {
      "cell_type": "code",
      "execution_count": 203,
      "source": [
        "# check to see if it has effected the changes\r\n",
        "credit_card_app.info()"
      ],
      "outputs": [
        {
          "output_type": "stream",
          "name": "stdout",
          "text": [
            "<class 'pandas.core.frame.DataFrame'>\n",
            "RangeIndex: 690 entries, 0 to 689\n",
            "Data columns (total 16 columns):\n",
            " #   Column          Non-Null Count  Dtype  \n",
            "---  ------          --------------  -----  \n",
            " 0   Gender          690 non-null    object \n",
            " 1   Age             690 non-null    float64\n",
            " 2   Debt            690 non-null    float64\n",
            " 3   Married         690 non-null    object \n",
            " 4   BankCustomer    690 non-null    object \n",
            " 5   EducationLevel  690 non-null    object \n",
            " 6   Ethnicity       690 non-null    object \n",
            " 7   YearsEmployed   690 non-null    float64\n",
            " 8   PriorDefault    690 non-null    object \n",
            " 9   Employed        690 non-null    object \n",
            " 10  CreditScore     690 non-null    int64  \n",
            " 11  DriversLicense  690 non-null    object \n",
            " 12  Citizen         690 non-null    object \n",
            " 13  ZipCode         690 non-null    float64\n",
            " 14  Income          690 non-null    int64  \n",
            " 15  ApprovalStatus  690 non-null    object \n",
            "dtypes: float64(4), int64(2), object(10)\n",
            "memory usage: 86.4+ KB\n"
          ]
        }
      ],
      "metadata": {
        "colab": {
          "base_uri": "https://localhost:8080/"
        },
        "id": "EauPB4kSUA8X",
        "outputId": "8c5f9a61-9b7f-451e-b71c-4e47f1427df2"
      }
    },
    {
      "cell_type": "markdown",
      "source": [
        "# DATA ANALYSIS\n",
        "\n",
        "## 1. Univariate Analysis\n",
        "## 2. Bivariate Analysis\n",
        "## 3. Correlation Plot"
      ],
      "metadata": {
        "id": "qLVuyN6hUA8Z"
      }
    },
    {
      "cell_type": "markdown",
      "source": [
        "# UNIVARIATE ANALYSIS"
      ],
      "metadata": {
        "id": "ou2CaOi3UA8Z"
      }
    },
    {
      "cell_type": "code",
      "execution_count": 204,
      "source": [
        "# Check the noise and biasness in the target column\r\n",
        "credit_card_app['ApprovalStatus'].value_counts().plot(kind= 'bar')\r\n",
        "\r\n",
        "plt.xticks(rotation= 0)\r\n"
      ],
      "outputs": [
        {
          "output_type": "execute_result",
          "data": {
            "text/plain": [
              "(array([0, 1]), [Text(0, 0, '-'), Text(1, 0, '+')])"
            ]
          },
          "metadata": {},
          "execution_count": 204
        },
        {
          "output_type": "display_data",
          "data": {
            "image/png": "[encoded data removed]",
            "text/plain": [
              "<Figure size 432x288 with 1 Axes>"
            ]
          },
          "metadata": {
            "needs_background": "light"
          }
        }
      ],
      "metadata": {
        "scrolled": true,
        "colab": {
          "base_uri": "https://localhost:8080/",
          "height": 0
        },
        "id": "0XL1S8_tUA8a",
        "outputId": "9056869b-f4e5-4741-9a6b-bd27b89c4dda"
      }
    },
    {
      "cell_type": "markdown",
      "source": [
        "### The chart above shows that there is little noise in the target column, whuch means it is not biased."
      ],
      "metadata": {
        "id": "4AyNwaF1UA8a"
      }
    },
    {
      "cell_type": "code",
      "execution_count": 205,
      "source": [
        "# Check which of the gender applied more for the credit card\r\n",
        "credit_card_app['Gender'].value_counts().plot(kind= 'bar')\r\n",
        "\r\n",
        "plt.xticks(rotation= 0)"
      ],
      "outputs": [
        {
          "output_type": "execute_result",
          "data": {
            "text/plain": [
              "(array([0, 1]), [Text(0, 0, 'b'), Text(1, 0, 'a')])"
            ]
          },
          "metadata": {},
          "execution_count": 205
        },
        {
          "output_type": "display_data",
          "data": {
            "image/png": "[encoded data removed]",
            "text/plain": [
              "<Figure size 432x288 with 1 Axes>"
            ]
          },
          "metadata": {
            "needs_background": "light"
          }
        }
      ],
      "metadata": {
        "colab": {
          "base_uri": "https://localhost:8080/",
          "height": 0
        },
        "id": "OdARSCvFUA8b",
        "outputId": "e8716249-5b75-4e81-984f-a9b73ac582e1"
      }
    },
    {
      "cell_type": "markdown",
      "source": [
        "### The chart above shows that Gender_b applied more than Gender_a"
      ],
      "metadata": {
        "id": "p4Yu855EUA8b"
      }
    },
    {
      "cell_type": "code",
      "execution_count": 206,
      "source": [
        "# Check which category of BankCustomers apllied more for the creditcard\r\n",
        "credit_card_app['BankCustomer'].value_counts().plot(kind= 'bar')\r\n",
        "\r\n",
        "plt.xticks(rotation= 0)"
      ],
      "outputs": [
        {
          "output_type": "execute_result",
          "data": {
            "text/plain": [
              "(array([0, 1, 2, 3]),\n",
              " [Text(0, 0, 'g'), Text(1, 0, 'p'), Text(2, 0, 'b'), Text(3, 0, 'gg')])"
            ]
          },
          "metadata": {},
          "execution_count": 206
        },
        {
          "output_type": "display_data",
          "data": {
            "image/png": "[encoded data removed]",
            "text/plain": [
              "<Figure size 432x288 with 1 Axes>"
            ]
          },
          "metadata": {
            "needs_background": "light"
          }
        }
      ],
      "metadata": {
        "colab": {
          "base_uri": "https://localhost:8080/",
          "height": 0
        },
        "id": "-wipR3l6UA8b",
        "outputId": "40817870-0a26-4af9-b258-70ce1a016d15"
      }
    },
    {
      "cell_type": "markdown",
      "source": [
        "### BankCustomers of category_g apllied more for creditcard, those of category_p aplled less for creditcard and Customers of category_gg was almost is insignificant\r\n",
        "### Here, we have an hypothesis that category_gg is an oultlier and should probably be removed"
      ],
      "metadata": {
        "id": "G6mPxjkZUA8c"
      }
    },
    {
      "cell_type": "code",
      "execution_count": 207,
      "source": [
        "# Check for the educational level of applicants\r\n",
        "credit_card_app['EducationLevel'].value_counts().plot(kind= 'bar')\r\n",
        "\r\n",
        "plt.xticks(rotation= 0)"
      ],
      "outputs": [
        {
          "output_type": "execute_result",
          "data": {
            "text/plain": [
              "(array([ 0,  1,  2,  3,  4,  5,  6,  7,  8,  9, 10, 11, 12, 13, 14]),\n",
              " [Text(0, 0, 'c'),\n",
              "  Text(1, 0, 'q'),\n",
              "  Text(2, 0, 'w'),\n",
              "  Text(3, 0, 'i'),\n",
              "  Text(4, 0, 'aa'),\n",
              "  Text(5, 0, 'ff'),\n",
              "  Text(6, 0, 'k'),\n",
              "  Text(7, 0, 'cc'),\n",
              "  Text(8, 0, 'x'),\n",
              "  Text(9, 0, 'm'),\n",
              "  Text(10, 0, 'd'),\n",
              "  Text(11, 0, 'e'),\n",
              "  Text(12, 0, 'j'),\n",
              "  Text(13, 0, 'b'),\n",
              "  Text(14, 0, 'r')])"
            ]
          },
          "metadata": {},
          "execution_count": 207
        },
        {
          "output_type": "display_data",
          "data": {
            "image/png": "[encoded data removed]",
            "text/plain": [
              "<Figure size 432x288 with 1 Axes>"
            ]
          },
          "metadata": {
            "needs_background": "light"
          }
        }
      ],
      "metadata": {
        "colab": {
          "base_uri": "https://localhost:8080/",
          "height": 0
        },
        "id": "tLJDBioQUA8c",
        "outputId": "c8b756c4-7385-44f4-a9f7-cf3e9a73a95e"
      }
    },
    {
      "cell_type": "code",
      "execution_count": 208,
      "source": [
        "# Check for the age range of applicants\r\n",
        "credit_card_app['Age'].plot(kind= 'hist')"
      ],
      "outputs": [
        {
          "output_type": "execute_result",
          "data": {
            "text/plain": [
              "<AxesSubplot:ylabel='Frequency'>"
            ]
          },
          "metadata": {},
          "execution_count": 208
        },
        {
          "output_type": "display_data",
          "data": {
            "image/png": "[encoded data removed]",
            "text/plain": [
              "<Figure size 432x288 with 1 Axes>"
            ]
          },
          "metadata": {
            "needs_background": "light"
          }
        }
      ],
      "metadata": {
        "colab": {
          "base_uri": "https://localhost:8080/",
          "height": 0
        },
        "id": "SwN7Akt4UA8c",
        "outputId": "95339686-87f0-4ead-dbc8-2b0c73eda7fa"
      }
    },
    {
      "cell_type": "markdown",
      "source": [
        "### The chart above shows that applicants within the age bracket of 20-30 had more creditcard request"
      ],
      "metadata": {
        "id": "w_-1gF55UA8c"
      }
    },
    {
      "cell_type": "code",
      "execution_count": 209,
      "source": [
        "# Check the years of employment of applicants\r\n",
        "credit_card_app['YearsEmployed'].plot(kind= 'hist')"
      ],
      "outputs": [
        {
          "output_type": "execute_result",
          "data": {
            "text/plain": [
              "<AxesSubplot:ylabel='Frequency'>"
            ]
          },
          "metadata": {},
          "execution_count": 209
        },
        {
          "output_type": "display_data",
          "data": {
            "image/png": "[encoded data removed]",
            "text/plain": [
              "<Figure size 432x288 with 1 Axes>"
            ]
          },
          "metadata": {
            "needs_background": "light"
          }
        }
      ],
      "metadata": {
        "colab": {
          "base_uri": "https://localhost:8080/",
          "height": 0
        },
        "id": "h0OG4A5WUA8c",
        "outputId": "0afa61ce-bb8c-4aeb-e38b-f72de855b876"
      }
    },
    {
      "cell_type": "markdown",
      "source": [
        "### The chart above shows that applicants with below 5 years post employment had more creeditcard request"
      ],
      "metadata": {
        "id": "9aySLXdbUA8d"
      }
    },
    {
      "cell_type": "code",
      "execution_count": 210,
      "source": [
        "# Check the income of applicants\r\n",
        "credit_card_app['Income'].plot(kind= 'hist')"
      ],
      "outputs": [
        {
          "output_type": "execute_result",
          "data": {
            "text/plain": [
              "<AxesSubplot:ylabel='Frequency'>"
            ]
          },
          "metadata": {},
          "execution_count": 210
        },
        {
          "output_type": "display_data",
          "data": {
            "image/png": "[encoded data removed]",
            "text/plain": [
              "<Figure size 432x288 with 1 Axes>"
            ]
          },
          "metadata": {
            "needs_background": "light"
          }
        }
      ],
      "metadata": {
        "colab": {
          "base_uri": "https://localhost:8080/",
          "height": 0
        },
        "id": "xQmQrgmOUA8d",
        "outputId": "54030795-7de4-4a25-fd20-acc905b17568"
      }
    },
    {
      "cell_type": "markdown",
      "source": [
        "### The chart above shows that majority of the applicants receive less than 20,000 as income"
      ],
      "metadata": {
        "id": "04jriDM5UA8d"
      }
    },
    {
      "cell_type": "markdown",
      "source": [
        "# BIVARIATE ANALYSIS"
      ],
      "metadata": {
        "id": "2mxv3SueUA8d"
      }
    },
    {
      "cell_type": "markdown",
      "source": [
        "### The following columns were given top priority based on the information gotten with the dataset [prior default, years employed, credit score and income level]"
      ],
      "metadata": {
        "id": "T6rOWIKfUA8e"
      }
    },
    {
      "cell_type": "code",
      "execution_count": 173,
      "source": [
        "# Check the relationship between gender and approval status\r\n",
        "gender = pd.crosstab(credit_card_app['ApprovalStatus'], credit_card_app['Gender'])\r\n",
        "gender.div(gender.sum().astype(float), axis=1).plot(kind='bar', stacked=False)\r\n",
        "\r\n",
        "\r\n",
        "\r\n",
        "plt.xticks(rotation= 0)\r\n",
        "plt.figure(figsize= (10,7))"
      ],
      "outputs": [
        {
          "output_type": "execute_result",
          "data": {
            "text/plain": [
              "<Figure size 720x504 with 0 Axes>"
            ]
          },
          "metadata": {},
          "execution_count": 173
        },
        {
          "output_type": "display_data",
          "data": {
            "image/png": "[encoded data removed]",
            "text/plain": [
              "<Figure size 432x288 with 1 Axes>"
            ]
          },
          "metadata": {
            "needs_background": "light"
          }
        },
        {
          "output_type": "display_data",
          "data": {
            "text/plain": [
              "<Figure size 720x504 with 0 Axes>"
            ]
          },
          "metadata": {}
        }
      ],
      "metadata": {
        "colab": {
          "base_uri": "https://localhost:8080/",
          "height": 0
        },
        "id": "SbCd-4xPUA8e",
        "outputId": "4898e847-aac3-43c8-ef37-15fecd603f86"
      }
    },
    {
      "cell_type": "markdown",
      "source": [
        "### No significant relationship between gender and approvalstatus. It means gender is not a criteria for awarding creditcard"
      ],
      "metadata": {
        "id": "iNI0UiWsUA8e"
      }
    },
    {
      "cell_type": "code",
      "execution_count": 174,
      "source": [
        "# Check relationship between educationlevel and approved status\r\n",
        "education = pd.crosstab(credit_card_app['ApprovalStatus'], credit_card_app['EducationLevel'])\r\n",
        "education\r\n",
        "education.div(education.sum(0).astype(float), axis=1).plot(kind='bar', stacked=False)\r\n",
        "\r\n",
        "plt.legend(bbox_to_anchor= (1,1.5))"
      ],
      "outputs": [
        {
          "output_type": "execute_result",
          "data": {
            "text/plain": [
              "<matplotlib.legend.Legend at 0x2198ac8c460>"
            ]
          },
          "metadata": {},
          "execution_count": 174
        },
        {
          "output_type": "display_data",
          "data": {
            "image/png": "[encoded data removed]",
            "text/plain": [
              "<Figure size 432x288 with 1 Axes>"
            ]
          },
          "metadata": {
            "needs_background": "light"
          }
        }
      ],
      "metadata": {
        "colab": {
          "base_uri": "https://localhost:8080/",
          "height": 0
        },
        "id": "wSSG7lm9UA8e",
        "outputId": "4eceb40f-422d-4a51-b09b-bfc36c87332c"
      }
    },
    {
      "cell_type": "markdown",
      "source": [
        "### The chart shows no significant relationship"
      ],
      "metadata": {
        "id": "IMBm-iRdUA8e"
      }
    },
    {
      "cell_type": "code",
      "execution_count": 175,
      "source": [
        "# check relationship between PriorDefault and ApprovalStatus\r\n",
        "PriorDefault = pd.crosstab(credit_card_app['ApprovalStatus'], credit_card_app['PriorDefault'])\r\n",
        "PriorDefault\r\n",
        "PriorDefault.div(PriorDefault.sum(0).astype(float), axis=1).plot(kind='bar', stacked=False)\r\n",
        "\r\n",
        "\r\n",
        "plt.xticks(rotation= 0)\r\n",
        "\r\n",
        "plt.legend(bbox_to_anchor = (1, 1.02))"
      ],
      "outputs": [
        {
          "output_type": "execute_result",
          "data": {
            "text/plain": [
              "<matplotlib.legend.Legend at 0x219875d1cd0>"
            ]
          },
          "metadata": {},
          "execution_count": 175
        },
        {
          "output_type": "display_data",
          "data": {
            "image/png": "[encoded data removed]",
            "text/plain": [
              "<Figure size 432x288 with 1 Axes>"
            ]
          },
          "metadata": {
            "needs_background": "light"
          }
        }
      ],
      "metadata": {
        "colab": {
          "base_uri": "https://localhost:8080/",
          "height": 0
        },
        "id": "cD4NntXlUA8e",
        "outputId": "04de2d89-d1a6-4ce6-f6ac-0b1896971c84"
      }
    },
    {
      "cell_type": "markdown",
      "source": [
        "### PriorDefault has a significant relationship with ApprovalStatus which means those without a PriorDefault are prone to getting their loan approved"
      ],
      "metadata": {
        "id": "EBkgAvEqUA8f"
      }
    },
    {
      "cell_type": "code",
      "execution_count": 176,
      "source": [
        "# Check relationship between creditscore and approval status\r\n",
        "CreditScore = pd.crosstab(credit_card_app['ApprovalStatus'], credit_card_app['CreditScore'])\r\n",
        "CreditScore\r\n",
        "CreditScore.div(CreditScore.sum(0).astype(float), axis=1).plot(kind='bar', stacked=False, figsize=(10,5))\r\n",
        "\r\n",
        "\r\n",
        "plt.xticks(rotation= 0)\r\n",
        "\r\n",
        "plt.legend(bbox_to_anchor = (1, 1.02))"
      ],
      "outputs": [
        {
          "output_type": "execute_result",
          "data": {
            "text/plain": [
              "<matplotlib.legend.Legend at 0x21984ecee50>"
            ]
          },
          "metadata": {},
          "execution_count": 176
        },
        {
          "output_type": "display_data",
          "data": {
            "image/png": "[encoded data removed]",
            "text/plain": [
              "<Figure size 720x360 with 1 Axes>"
            ]
          },
          "metadata": {
            "needs_background": "light"
          }
        }
      ],
      "metadata": {
        "colab": {
          "base_uri": "https://localhost:8080/",
          "height": 0
        },
        "id": "2l9TetD_UA8f",
        "outputId": "9d36675a-701f-44bb-abc5-c1daf8fa30ad"
      }
    },
    {
      "cell_type": "markdown",
      "source": [
        "### Creditscore has a significant relationship with approval status. Applicants with higher creditscores are more likely to get creditcard approval while those with lower creditscores are less likely to get creditcard approval\n"
      ],
      "metadata": {
        "id": "rUhdpYS8UA8f"
      }
    },
    {
      "cell_type": "code",
      "execution_count": 177,
      "source": [
        "# Check relationship between creditcard and drivers license\r\n",
        "DriversLicense = pd.crosstab(credit_card_app['ApprovalStatus'], credit_card_app['DriversLicense'])\r\n",
        "DriversLicense\r\n",
        "DriversLicense.div(DriversLicense.sum(0).astype(float), axis=1).plot(kind='bar', stacked=False)\r\n",
        "\r\n",
        "\r\n",
        "plt.xticks(rotation= 0)\r\n",
        "\r\n",
        "plt.legend(bbox_to_anchor = (1, 1.02))"
      ],
      "outputs": [
        {
          "output_type": "execute_result",
          "data": {
            "text/plain": [
              "<matplotlib.legend.Legend at 0x2198686a2e0>"
            ]
          },
          "metadata": {},
          "execution_count": 177
        },
        {
          "output_type": "display_data",
          "data": {
            "image/png": "[encoded data removed]",
            "text/plain": [
              "<Figure size 432x288 with 1 Axes>"
            ]
          },
          "metadata": {
            "needs_background": "light"
          }
        }
      ],
      "metadata": {
        "colab": {
          "base_uri": "https://localhost:8080/",
          "height": 0
        },
        "id": "5MuUPozBUA8f",
        "outputId": "8679d6c4-6247-4151-c177-74ddcb3e0a8f"
      }
    },
    {
      "cell_type": "markdown",
      "source": [
        "### The chart above shows no significant relationship"
      ],
      "metadata": {
        "id": "nJ6FmvudUA8f"
      }
    },
    {
      "cell_type": "code",
      "execution_count": 178,
      "source": [
        "# Check relationship between creditcard and citizenship\r\n",
        "Citizenship = pd.crosstab(credit_card_app['ApprovalStatus'], credit_card_app['Citizen'])\r\n",
        "Citizenship\r\n",
        "Citizenship.div(Citizenship.sum(0).astype(float), axis=1).plot(kind='bar', stacked=False)\r\n",
        "plt.xticks(rotation= 0)\r\n",
        "plt.legend(bbox_to_anchor = (1, 1.02))"
      ],
      "outputs": [
        {
          "output_type": "execute_result",
          "data": {
            "text/plain": [
              "<matplotlib.legend.Legend at 0x2198adee430>"
            ]
          },
          "metadata": {},
          "execution_count": 178
        },
        {
          "output_type": "display_data",
          "data": {
            "image/png": "[encoded data removed]",
            "text/plain": [
              "<Figure size 432x288 with 1 Axes>"
            ]
          },
          "metadata": {
            "needs_background": "light"
          }
        }
      ],
      "metadata": {
        "colab": {
          "base_uri": "https://localhost:8080/",
          "height": 0
        },
        "id": "TGRSpCPfUA8g",
        "outputId": "812ba3ef-9743-4bf2-aed1-a0acafd3eff7"
      }
    },
    {
      "cell_type": "markdown",
      "source": [
        "### The chart above shows no significant relationship"
      ],
      "metadata": {
        "id": "_yVWQDvcUA8g"
      }
    },
    {
      "cell_type": "markdown",
      "source": [
        "## Checking for outliers"
      ],
      "metadata": {
        "id": "hfveMuhpUA8h"
      }
    },
    {
      "cell_type": "code",
      "execution_count": 179,
      "source": [
        "credit_card_app.plot(kind= 'box', subplots= True, figsize=(10,5))\r\n"
      ],
      "outputs": [
        {
          "output_type": "execute_result",
          "data": {
            "text/plain": [
              "Age                 AxesSubplot(0.125,0.125;0.110714x0.755)\n",
              "Debt             AxesSubplot(0.257857,0.125;0.110714x0.755)\n",
              "YearsEmployed    AxesSubplot(0.390714,0.125;0.110714x0.755)\n",
              "CreditScore      AxesSubplot(0.523571,0.125;0.110714x0.755)\n",
              "ZipCode          AxesSubplot(0.656429,0.125;0.110714x0.755)\n",
              "Income           AxesSubplot(0.789286,0.125;0.110714x0.755)\n",
              "dtype: object"
            ]
          },
          "metadata": {},
          "execution_count": 179
        },
        {
          "output_type": "display_data",
          "data": {
            "image/png": "[encoded data removed]",
            "text/plain": [
              "<Figure size 720x360 with 6 Axes>"
            ]
          },
          "metadata": {
            "needs_background": "light"
          }
        }
      ],
      "metadata": {
        "colab": {
          "base_uri": "https://localhost:8080/",
          "height": 0
        },
        "id": "_kSQOCxiUA8h",
        "outputId": "3b51f249-7f45-4fae-ff59-50c2962a8bd8"
      }
    },
    {
      "cell_type": "markdown",
      "source": [
        "### The chart shows that there are extrenous outliers in Income, Creditscore, ZipCode and Years Employed columns. That might be an indication to singularly remove the outlier data from dataframe"
      ],
      "metadata": {
        "id": "osXN03O3UA8i"
      }
    },
    {
      "cell_type": "markdown",
      "source": [
        "# CORRELATION PLOTS"
      ],
      "metadata": {
        "id": "Jw1o_n9VUA8i"
      }
    },
    {
      "cell_type": "code",
      "execution_count": 180,
      "source": [
        "#shows how each of the attributes are related to each other\r\n",
        "sns.pairplot(credit_card_app)"
      ],
      "outputs": [
        {
          "output_type": "execute_result",
          "data": {
            "text/plain": [
              "<seaborn.axisgrid.PairGrid at 0x21989b57a60>"
            ]
          },
          "metadata": {},
          "execution_count": 180
        },
        {
          "output_type": "display_data",
          "data": {
            "image/png": "[encoded data removed]",
            "text/plain": [
              "<Figure size 1080x1080 with 42 Axes>"
            ]
          },
          "metadata": {
            "needs_background": "light"
          }
        }
      ],
      "metadata": {
        "colab": {
          "base_uri": "https://localhost:8080/",
          "height": 0
        },
        "id": "tqxSU4wbUA8i",
        "outputId": "781cfcf2-b3c1-49c0-ae83-46b51be8b73b"
      }
    },
    {
      "cell_type": "markdown",
      "source": [
        "# Conclusion\n",
        "### The following columns has a high correlation with the target variable\n",
        "\n",
        "1. PriorDefault\n",
        "2. CreditScore\n",
        "3. Citizen\n",
        "### The following has not shown high correlation but contains significant values\n",
        "1. Age\n",
        "2. Income\n",
        "3. Education\n",
        "\n",
        "### The following were not found to have any significant correlation with target variable\n",
        "1. Gender\n",
        "2. YearsEmployed\n",
        "3. IncomeLevel\n",
        "4. Debt\n",
        "5. DriversLicense\n",
        "\n"
      ],
      "metadata": {
        "id": "cqR2h9QEUA8m"
      }
    },
    {
      "cell_type": "markdown",
      "source": [
        "# Preprocessing the Data "
      ],
      "metadata": {
        "id": "2Tfam7NPUA8n"
      }
    },
    {
      "cell_type": "code",
      "execution_count": 181,
      "source": [
        "#Function to convert the categorical variables to numerical data for further analysis\r\n",
        "def Encoder(credit_card_app):\r\n",
        "    to_encode = list(credit_card_app.select_dtypes(include = ['category', 'object']))\r\n",
        "    \r\n",
        "    #created a LabelEncoder object\r\n",
        "    enc = LabelEncoder()\r\n",
        "    \r\n",
        "    for col in to_encode:\r\n",
        "        try:\r\n",
        "            credit_card_app[col] = enc.fit_transform(credit_card_app[col])\r\n",
        "        except:\r\n",
        "            print(\"Error while encoding \" + col)\r\n",
        "            \r\n",
        "    return credit_card_app"
      ],
      "outputs": [],
      "metadata": {
        "tags": [],
        "id": "qGi719KaUA8n"
      }
    },
    {
      "cell_type": "code",
      "execution_count": 240,
      "source": [
        "#Convert the data into numerical data\r\n",
        "credit_card_app = Encoder(credit_card_app)"
      ],
      "outputs": [],
      "metadata": {
        "tags": [],
        "id": "zTk69QqTUA8o"
      }
    },
    {
      "cell_type": "code",
      "execution_count": 183,
      "source": [
        "#Check to see if the conversion is successful\r\n",
        "credit_card_app.info()"
      ],
      "outputs": [
        {
          "output_type": "stream",
          "name": "stdout",
          "text": [
            "<class 'pandas.core.frame.DataFrame'>\n",
            "RangeIndex: 690 entries, 0 to 689\n",
            "Data columns (total 16 columns):\n",
            " #   Column          Non-Null Count  Dtype  \n",
            "---  ------          --------------  -----  \n",
            " 0   Gender          690 non-null    int32  \n",
            " 1   Age             690 non-null    float64\n",
            " 2   Debt            690 non-null    float64\n",
            " 3   Married         690 non-null    int32  \n",
            " 4   BankCustomer    690 non-null    int32  \n",
            " 5   EducationLevel  690 non-null    int32  \n",
            " 6   Ethnicity       690 non-null    int32  \n",
            " 7   YearsEmployed   690 non-null    float64\n",
            " 8   PriorDefault    690 non-null    int32  \n",
            " 9   Employed        690 non-null    int32  \n",
            " 10  CreditScore     690 non-null    int64  \n",
            " 11  DriversLicense  690 non-null    int32  \n",
            " 12  Citizen         690 non-null    int32  \n",
            " 13  ZipCode         690 non-null    float64\n",
            " 14  Income          690 non-null    int64  \n",
            " 15  ApprovalStatus  690 non-null    int32  \n",
            "dtypes: float64(4), int32(10), int64(2)\n",
            "memory usage: 59.4 KB\n"
          ]
        }
      ],
      "metadata": {
        "tags": [],
        "colab": {
          "base_uri": "https://localhost:8080/"
        },
        "id": "7w1NBF7YUA8o",
        "outputId": "352faa4d-4cab-4249-e699-88e4f6232cac"
      }
    },
    {
      "cell_type": "code",
      "execution_count": 184,
      "source": [
        "credit_card_app.head()"
      ],
      "outputs": [
        {
          "output_type": "execute_result",
          "data": {
            "text/html": [
              "<div>\n",
              "<style scoped>\n",
              "    .dataframe tbody tr th:only-of-type {\n",
              "        vertical-align: middle;\n",
              "    }\n",
              "\n",
              "    .dataframe tbody tr th {\n",
              "        vertical-align: top;\n",
              "    }\n",
              "\n",
              "    .dataframe thead th {\n",
              "        text-align: right;\n",
              "    }\n",
              "</style>\n",
              "<table border=\"1\" class=\"dataframe\">\n",
              "  <thead>\n",
              "    <tr style=\"text-align: right;\">\n",
              "      <th></th>\n",
              "      <th>Gender</th>\n",
              "      <th>Age</th>\n",
              "      <th>Debt</th>\n",
              "      <th>Married</th>\n",
              "      <th>BankCustomer</th>\n",
              "      <th>EducationLevel</th>\n",
              "      <th>Ethnicity</th>\n",
              "      <th>YearsEmployed</th>\n",
              "      <th>PriorDefault</th>\n",
              "      <th>Employed</th>\n",
              "      <th>CreditScore</th>\n",
              "      <th>DriversLicense</th>\n",
              "      <th>Citizen</th>\n",
              "      <th>ZipCode</th>\n",
              "      <th>Income</th>\n",
              "      <th>ApprovalStatus</th>\n",
              "    </tr>\n",
              "  </thead>\n",
              "  <tbody>\n",
              "    <tr>\n",
              "      <th>0</th>\n",
              "      <td>1</td>\n",
              "      <td>30.83</td>\n",
              "      <td>0.000</td>\n",
              "      <td>2</td>\n",
              "      <td>1</td>\n",
              "      <td>13</td>\n",
              "      <td>8</td>\n",
              "      <td>1.25</td>\n",
              "      <td>1</td>\n",
              "      <td>1</td>\n",
              "      <td>1</td>\n",
              "      <td>0</td>\n",
              "      <td>0</td>\n",
              "      <td>202.0</td>\n",
              "      <td>0</td>\n",
              "      <td>0</td>\n",
              "    </tr>\n",
              "    <tr>\n",
              "      <th>1</th>\n",
              "      <td>0</td>\n",
              "      <td>58.67</td>\n",
              "      <td>4.460</td>\n",
              "      <td>2</td>\n",
              "      <td>1</td>\n",
              "      <td>11</td>\n",
              "      <td>4</td>\n",
              "      <td>3.04</td>\n",
              "      <td>1</td>\n",
              "      <td>1</td>\n",
              "      <td>6</td>\n",
              "      <td>0</td>\n",
              "      <td>0</td>\n",
              "      <td>43.0</td>\n",
              "      <td>560</td>\n",
              "      <td>0</td>\n",
              "    </tr>\n",
              "    <tr>\n",
              "      <th>2</th>\n",
              "      <td>0</td>\n",
              "      <td>24.50</td>\n",
              "      <td>0.500</td>\n",
              "      <td>2</td>\n",
              "      <td>1</td>\n",
              "      <td>11</td>\n",
              "      <td>4</td>\n",
              "      <td>1.50</td>\n",
              "      <td>1</td>\n",
              "      <td>0</td>\n",
              "      <td>0</td>\n",
              "      <td>0</td>\n",
              "      <td>0</td>\n",
              "      <td>280.0</td>\n",
              "      <td>824</td>\n",
              "      <td>0</td>\n",
              "    </tr>\n",
              "    <tr>\n",
              "      <th>3</th>\n",
              "      <td>1</td>\n",
              "      <td>27.83</td>\n",
              "      <td>1.540</td>\n",
              "      <td>2</td>\n",
              "      <td>1</td>\n",
              "      <td>13</td>\n",
              "      <td>8</td>\n",
              "      <td>3.75</td>\n",
              "      <td>1</td>\n",
              "      <td>1</td>\n",
              "      <td>5</td>\n",
              "      <td>1</td>\n",
              "      <td>0</td>\n",
              "      <td>100.0</td>\n",
              "      <td>3</td>\n",
              "      <td>0</td>\n",
              "    </tr>\n",
              "    <tr>\n",
              "      <th>4</th>\n",
              "      <td>1</td>\n",
              "      <td>20.17</td>\n",
              "      <td>5.625</td>\n",
              "      <td>2</td>\n",
              "      <td>1</td>\n",
              "      <td>13</td>\n",
              "      <td>8</td>\n",
              "      <td>1.71</td>\n",
              "      <td>1</td>\n",
              "      <td>0</td>\n",
              "      <td>0</td>\n",
              "      <td>0</td>\n",
              "      <td>2</td>\n",
              "      <td>120.0</td>\n",
              "      <td>0</td>\n",
              "      <td>0</td>\n",
              "    </tr>\n",
              "  </tbody>\n",
              "</table>\n",
              "</div>"
            ],
            "text/plain": [
              "   Gender    Age   Debt  Married  BankCustomer  EducationLevel  Ethnicity  \\\n",
              "0       1  30.83  0.000        2             1              13          8   \n",
              "1       0  58.67  4.460        2             1              11          4   \n",
              "2       0  24.50  0.500        2             1              11          4   \n",
              "3       1  27.83  1.540        2             1              13          8   \n",
              "4       1  20.17  5.625        2             1              13          8   \n",
              "\n",
              "   YearsEmployed  PriorDefault  Employed  CreditScore  DriversLicense  \\\n",
              "0           1.25             1         1            1               0   \n",
              "1           3.04             1         1            6               0   \n",
              "2           1.50             1         0            0               0   \n",
              "3           3.75             1         1            5               1   \n",
              "4           1.71             1         0            0               0   \n",
              "\n",
              "   Citizen  ZipCode  Income  ApprovalStatus  \n",
              "0        0    202.0       0               0  \n",
              "1        0     43.0     560               0  \n",
              "2        0    280.0     824               0  \n",
              "3        0    100.0       3               0  \n",
              "4        2    120.0       0               0  "
            ]
          },
          "metadata": {},
          "execution_count": 184
        }
      ],
      "metadata": {
        "colab": {
          "base_uri": "https://localhost:8080/",
          "height": 0
        },
        "id": "hna9MPRkUA8o",
        "outputId": "ca0d28ba-8bea-46e9-fa98-b4535c0a6b2e"
      }
    },
    {
      "cell_type": "markdown",
      "source": [
        "### All the categorical features have been convert to numerical data.\n",
        "\n",
        "### The following changes were done :\n",
        "     Gender - i) a is converted to 0\n",
        "              ii) b is converted to 1 \n",
        "           \n",
        "     Married - i) b is converted to 0\n",
        "               ii) l is converted to 1\n",
        "               iii) u is converted to 2\n",
        "               iv) y is converted to 3\n",
        "     \n",
        "     BankCustomer - i) b is converted to 0\n",
        "                    ii) g is converted to 1\n",
        "                    iii) gg is converted to 2\n",
        "                    iv) p is converted to 3\n",
        "     \n",
        "     EducationLevel - i) aa is converted to 0\n",
        "                      ii) b is converted to 1\n",
        "                      iii) c is converted to 2\n",
        "                      iv) cc is converted to 3\n",
        "                      v) d is converted to 4\n",
        "                      vi) e is converted to 5\n",
        "                      vii) ff is converted to 6\n",
        "                      viii) i is converted to 7\n",
        "                      ix) j is converted to 8\n",
        "                      x) k is converted to 9\n",
        "                      xi) m is converted to 10\n",
        "                      xii) q is converted to 11\n",
        "                      xiii) r is converted to 12\n",
        "                      xiv) w is converted to 13\n",
        "                      xv) x is converted to 14\n",
        "                      \n",
        "     Ethnicity - i) b is converted to 0\n",
        "                 ii) bb is converted to 1\n",
        "                 iii) dd is converted to 2\n",
        "                 iv) ff is converted to 3\n",
        "                 v) h is converted to 4\n",
        "                 vi) j is converted to 5\n",
        "                 vii) n is converted to 6\n",
        "                 viii) o is converted to 7\n",
        "                 ix) v is converted to 8\n",
        "                 x) z is converted to 9\n",
        "     \n",
        "     PriorDefault - i) f is converted to 0\n",
        "                    ii) t is converted to 1\n",
        "                    \n",
        "     Employed - i) f is converted to 0\n",
        "                ii) t is converted to 1\n",
        "                \n",
        "     DriversLicense - i) f is converted to 0\n",
        "                      ii) t is converted to 1\n",
        "                      \n",
        "     Citizen - i) g is converted to 0\n",
        "               ii) p is converted to 1\n",
        "               iii) s is converted to 2\n",
        "               \n",
        "     ApprovalStatus - i) + is converted to 0\n",
        "                      ii) - is converted to 1"
      ],
      "metadata": {
        "id": "w05uB3IQUA8p"
      }
    },
    {
      "cell_type": "markdown",
      "source": [
        "# Splitting data into training and testing"
      ],
      "metadata": {
        "id": "PPs0VPjKUA8p"
      }
    },
    {
      "cell_type": "code",
      "execution_count": 185,
      "source": [
        "#Assigning the features to X and target column  to Y. \r\n",
        "X = credit_card_app.iloc[:,0:15]\r\n",
        "Y = credit_card_app.iloc[:,15]"
      ],
      "outputs": [],
      "metadata": {
        "id": "A9E8c9sLUA8p"
      }
    },
    {
      "cell_type": "code",
      "execution_count": 186,
      "source": [
        "X.head()"
      ],
      "outputs": [
        {
          "output_type": "execute_result",
          "data": {
            "text/html": [
              "<div>\n",
              "<style scoped>\n",
              "    .dataframe tbody tr th:only-of-type {\n",
              "        vertical-align: middle;\n",
              "    }\n",
              "\n",
              "    .dataframe tbody tr th {\n",
              "        vertical-align: top;\n",
              "    }\n",
              "\n",
              "    .dataframe thead th {\n",
              "        text-align: right;\n",
              "    }\n",
              "</style>\n",
              "<table border=\"1\" class=\"dataframe\">\n",
              "  <thead>\n",
              "    <tr style=\"text-align: right;\">\n",
              "      <th></th>\n",
              "      <th>Gender</th>\n",
              "      <th>Age</th>\n",
              "      <th>Debt</th>\n",
              "      <th>Married</th>\n",
              "      <th>BankCustomer</th>\n",
              "      <th>EducationLevel</th>\n",
              "      <th>Ethnicity</th>\n",
              "      <th>YearsEmployed</th>\n",
              "      <th>PriorDefault</th>\n",
              "      <th>Employed</th>\n",
              "      <th>CreditScore</th>\n",
              "      <th>DriversLicense</th>\n",
              "      <th>Citizen</th>\n",
              "      <th>ZipCode</th>\n",
              "      <th>Income</th>\n",
              "    </tr>\n",
              "  </thead>\n",
              "  <tbody>\n",
              "    <tr>\n",
              "      <th>0</th>\n",
              "      <td>1</td>\n",
              "      <td>30.83</td>\n",
              "      <td>0.000</td>\n",
              "      <td>2</td>\n",
              "      <td>1</td>\n",
              "      <td>13</td>\n",
              "      <td>8</td>\n",
              "      <td>1.25</td>\n",
              "      <td>1</td>\n",
              "      <td>1</td>\n",
              "      <td>1</td>\n",
              "      <td>0</td>\n",
              "      <td>0</td>\n",
              "      <td>202.0</td>\n",
              "      <td>0</td>\n",
              "    </tr>\n",
              "    <tr>\n",
              "      <th>1</th>\n",
              "      <td>0</td>\n",
              "      <td>58.67</td>\n",
              "      <td>4.460</td>\n",
              "      <td>2</td>\n",
              "      <td>1</td>\n",
              "      <td>11</td>\n",
              "      <td>4</td>\n",
              "      <td>3.04</td>\n",
              "      <td>1</td>\n",
              "      <td>1</td>\n",
              "      <td>6</td>\n",
              "      <td>0</td>\n",
              "      <td>0</td>\n",
              "      <td>43.0</td>\n",
              "      <td>560</td>\n",
              "    </tr>\n",
              "    <tr>\n",
              "      <th>2</th>\n",
              "      <td>0</td>\n",
              "      <td>24.50</td>\n",
              "      <td>0.500</td>\n",
              "      <td>2</td>\n",
              "      <td>1</td>\n",
              "      <td>11</td>\n",
              "      <td>4</td>\n",
              "      <td>1.50</td>\n",
              "      <td>1</td>\n",
              "      <td>0</td>\n",
              "      <td>0</td>\n",
              "      <td>0</td>\n",
              "      <td>0</td>\n",
              "      <td>280.0</td>\n",
              "      <td>824</td>\n",
              "    </tr>\n",
              "    <tr>\n",
              "      <th>3</th>\n",
              "      <td>1</td>\n",
              "      <td>27.83</td>\n",
              "      <td>1.540</td>\n",
              "      <td>2</td>\n",
              "      <td>1</td>\n",
              "      <td>13</td>\n",
              "      <td>8</td>\n",
              "      <td>3.75</td>\n",
              "      <td>1</td>\n",
              "      <td>1</td>\n",
              "      <td>5</td>\n",
              "      <td>1</td>\n",
              "      <td>0</td>\n",
              "      <td>100.0</td>\n",
              "      <td>3</td>\n",
              "    </tr>\n",
              "    <tr>\n",
              "      <th>4</th>\n",
              "      <td>1</td>\n",
              "      <td>20.17</td>\n",
              "      <td>5.625</td>\n",
              "      <td>2</td>\n",
              "      <td>1</td>\n",
              "      <td>13</td>\n",
              "      <td>8</td>\n",
              "      <td>1.71</td>\n",
              "      <td>1</td>\n",
              "      <td>0</td>\n",
              "      <td>0</td>\n",
              "      <td>0</td>\n",
              "      <td>2</td>\n",
              "      <td>120.0</td>\n",
              "      <td>0</td>\n",
              "    </tr>\n",
              "  </tbody>\n",
              "</table>\n",
              "</div>"
            ],
            "text/plain": [
              "   Gender    Age   Debt  Married  BankCustomer  EducationLevel  Ethnicity  \\\n",
              "0       1  30.83  0.000        2             1              13          8   \n",
              "1       0  58.67  4.460        2             1              11          4   \n",
              "2       0  24.50  0.500        2             1              11          4   \n",
              "3       1  27.83  1.540        2             1              13          8   \n",
              "4       1  20.17  5.625        2             1              13          8   \n",
              "\n",
              "   YearsEmployed  PriorDefault  Employed  CreditScore  DriversLicense  \\\n",
              "0           1.25             1         1            1               0   \n",
              "1           3.04             1         1            6               0   \n",
              "2           1.50             1         0            0               0   \n",
              "3           3.75             1         1            5               1   \n",
              "4           1.71             1         0            0               0   \n",
              "\n",
              "   Citizen  ZipCode  Income  \n",
              "0        0    202.0       0  \n",
              "1        0     43.0     560  \n",
              "2        0    280.0     824  \n",
              "3        0    100.0       3  \n",
              "4        2    120.0       0  "
            ]
          },
          "metadata": {},
          "execution_count": 186
        }
      ],
      "metadata": {
        "colab": {
          "base_uri": "https://localhost:8080/",
          "height": 0
        },
        "id": "xvJ3CVv9UA8q",
        "outputId": "4387b386-7f37-4842-dfc8-e642ca08bf0d"
      }
    },
    {
      "cell_type": "code",
      "execution_count": 187,
      "source": [
        "# To understand the feature importance of the attributes\r\n",
        "# check for feature Importance\r\n",
        "\r\n",
        "from sklearn.ensemble import ExtraTreesRegressor\r\n",
        "Extreg_model = ExtraTreesRegressor()\r\n",
        "Extreg_model.fit(X,Y)"
      ],
      "outputs": [
        {
          "output_type": "execute_result",
          "data": {
            "text/plain": [
              "ExtraTreesRegressor()"
            ]
          },
          "metadata": {},
          "execution_count": 187
        }
      ],
      "metadata": {}
    },
    {
      "cell_type": "code",
      "execution_count": 188,
      "source": [
        "print(Extreg_model.feature_importances_)"
      ],
      "outputs": [
        {
          "output_type": "stream",
          "name": "stdout",
          "text": [
            "[0.01606934 0.04918573 0.04916196 0.02377017 0.01113807 0.05121554\n",
            " 0.03180441 0.04357315 0.51898598 0.05547171 0.0116041  0.0196189\n",
            " 0.01421686 0.06857814 0.03560594]\n"
          ]
        }
      ],
      "metadata": {
        "colab": {
          "base_uri": "https://localhost:8080/"
        },
        "id": "Y54r7f9UUA8r",
        "outputId": "3d37f383-a4fe-47d5-d366-c1d87043168e"
      }
    },
    {
      "cell_type": "markdown",
      "source": [
        "### These are the importance of different features for predicting the values of Y"
      ],
      "metadata": {
        "id": "QCVSlnCrUA8r"
      }
    },
    {
      "cell_type": "code",
      "execution_count": 189,
      "source": [
        "# Splitting the dataset into training and testing with a test size of 0.3\r\n",
        "from sklearn.model_selection import train_test_split\r\n",
        "X_train, X_test, y_train, y_test = train_test_split(X, Y, test_size=0.3, random_state=40)"
      ],
      "outputs": [],
      "metadata": {
        "id": "tShwFGSQUA8r"
      }
    },
    {
      "cell_type": "markdown",
      "source": [
        "### The total dataset here is split into training dataset and testing dataset with the size 0.3 for testing dataset. Random state was used for reproduceability.\r\n"
      ],
      "metadata": {
        "id": "PU78pWmcUA8r"
      }
    },
    {
      "cell_type": "markdown",
      "source": [
        "# Scaling data to fit ML model"
      ],
      "metadata": {
        "id": "bVjOHvgTUA8s"
      }
    },
    {
      "cell_type": "code",
      "execution_count": 211,
      "source": [
        "# Importing MinMaxScalar\r\n",
        "from sklearn.preprocessing import MinMaxScaler\r\n",
        "# Instantiate MinMaxScaler and use it to rescale\r\n",
        "scaler = MinMaxScaler(feature_range=(0,1))\r\n",
        "rescaled_X_train = scaler.fit_transform(X_train)\r\n",
        "rescaled_X_test = scaler.transform(X_test)"
      ],
      "outputs": [],
      "metadata": {
        "id": "LpyhsT6hUA8s"
      }
    },
    {
      "cell_type": "markdown",
      "source": [
        "# Fitting a Logistic Regression model to the train dataset"
      ],
      "metadata": {
        "id": "u6c8f1WQUA8s"
      }
    },
    {
      "cell_type": "code",
      "execution_count": 212,
      "source": [
        "#import the logistic regression model to train the dataset\r\n",
        "from sklearn.linear_model import LogisticRegression\r\n",
        "\r\n",
        "# Instantiate a LogisticRegression classifier\r\n",
        "logreg = LogisticRegression(random_state=0)\r\n",
        "logreg.fit(rescaled_X_train, y_train)"
      ],
      "outputs": [
        {
          "output_type": "execute_result",
          "data": {
            "text/plain": [
              "LogisticRegression(random_state=0)"
            ]
          },
          "metadata": {},
          "execution_count": 212
        }
      ],
      "metadata": {
        "colab": {
          "base_uri": "https://localhost:8080/"
        },
        "id": "B19yZFPeUA8s",
        "outputId": "109afb2c-f6d5-4465-8bc5-beeb772cdf9f"
      }
    },
    {
      "cell_type": "markdown",
      "source": [
        "# Prediction and Performance Evaluation\n"
      ],
      "metadata": {
        "id": "qD4QSCNfUA8t"
      }
    },
    {
      "cell_type": "code",
      "execution_count": 231,
      "source": [
        "# Using the predict function to predict the rescaled_X_test\r\n",
        "\r\n",
        "logreg_prediction = logreg.predict(rescaled_X_test)"
      ],
      "outputs": [],
      "metadata": {
        "id": "-BDGlybSUA8t"
      }
    },
    {
      "cell_type": "code",
      "execution_count": 214,
      "source": [
        "# Importing Confusion matrix and accuracy score to evaluate the performance of the model\r\n",
        "\r\n",
        "from sklearn.metrics import confusion_matrix, accuracy_score, precision_score, recall_score, f1_score\r\n",
        "\r\n",
        "matrix = confusion_matrix(y_test, logreg_prediction)"
      ],
      "outputs": [],
      "metadata": {
        "id": "1a7U6LjdUA8t"
      }
    },
    {
      "cell_type": "code",
      "execution_count": 215,
      "source": [
        "print(matrix)"
      ],
      "outputs": [
        {
          "output_type": "stream",
          "name": "stdout",
          "text": [
            "[[87 12]\n",
            " [13 95]]\n"
          ]
        }
      ],
      "metadata": {
        "colab": {
          "base_uri": "https://localhost:8080/"
        },
        "id": "Sx6Omj96UA8u",
        "outputId": "e54c69e2-6809-4bdc-f819-92beb72604bc"
      }
    },
    {
      "cell_type": "code",
      "execution_count": 232,
      "source": [
        "accuracy_score(y_test, logreg_prediction)*100"
      ],
      "outputs": [
        {
          "output_type": "execute_result",
          "data": {
            "text/plain": [
              "87.92270531400966"
            ]
          },
          "metadata": {},
          "execution_count": 232
        }
      ],
      "metadata": {
        "colab": {
          "base_uri": "https://localhost:8080/"
        },
        "id": "kX_WoZG5UA8u",
        "outputId": "f03234a6-352f-4935-82ac-834189094022"
      }
    },
    {
      "cell_type": "code",
      "execution_count": 233,
      "source": [
        "recall_score(y_test, logreg_prediction)*100"
      ],
      "outputs": [
        {
          "output_type": "execute_result",
          "data": {
            "text/plain": [
              "87.96296296296296"
            ]
          },
          "metadata": {},
          "execution_count": 233
        }
      ],
      "metadata": {}
    },
    {
      "cell_type": "code",
      "execution_count": 234,
      "source": [
        "precision_score(y_test, logreg_prediction)*100"
      ],
      "outputs": [
        {
          "output_type": "execute_result",
          "data": {
            "text/plain": [
              "88.78504672897196"
            ]
          },
          "metadata": {},
          "execution_count": 234
        }
      ],
      "metadata": {}
    },
    {
      "cell_type": "markdown",
      "source": [
        "# Model Performance Tuning"
      ],
      "metadata": {
        "id": "ZWv33vcZYRuE"
      }
    },
    {
      "cell_type": "code",
      "execution_count": 220,
      "source": [
        "from sklearn.model_selection import RepeatedStratifiedKFold\r\n",
        "from sklearn.model_selection import GridSearchCV\r\n",
        "\r\n",
        "# define models and parameters\r\n",
        "model = LogisticRegression()\r\n",
        "solvers = ['newton-cg', 'lbfgs', 'liblinear','sag','saga']\r\n",
        "penalty = ['l2']\r\n",
        "random_state=[0]\r\n",
        "dual=[False,True]\r\n",
        "class_weight=[None,dict,'balanced']\r\n",
        "multi_class = ['auto', 'ovr', 'multinomial']\r\n",
        "c_values = [100, 10, 1.0, 0.1, 0.01]\r\n",
        "# define grid search\r\n",
        "grid = dict(solver=solvers,penalty=penalty,dual = dual,class_weight = class_weight,multi_class = multi_class, C=c_values,random_state = random_state)\r\n",
        "cv = RepeatedStratifiedKFold(n_splits=10, n_repeats=4, random_state=5)\r\n",
        "grid_search = GridSearchCV(estimator=model, param_grid=grid, n_jobs=-1, cv=cv, scoring='accuracy',error_score=0)\r\n",
        "grid_result = grid_search.fit(rescaled_X_train, y_train)\r\n",
        "\r\n",
        "# summarize results\r\n",
        "print(\"Best: %f using %s\" % (grid_result.best_score_, grid_result.best_params_))"
      ],
      "outputs": [
        {
          "output_type": "stream",
          "name": "stdout",
          "text": [
            "Best: 0.869664 using {'C': 100, 'class_weight': None, 'dual': False, 'multi_class': 'multinomial', 'penalty': 'l2', 'random_state': 0, 'solver': 'newton-cg'}\n"
          ]
        }
      ],
      "metadata": {
        "colab": {
          "base_uri": "https://localhost:8080/"
        },
        "id": "wNjFBCixc30A",
        "outputId": "676dc3fc-010f-4d27-e188-36dceb665dc6"
      }
    },
    {
      "cell_type": "markdown",
      "source": [
        "### Testing the best model from Grid Search CV "
      ],
      "metadata": {
        "id": "Db7J2eLM57HO"
      }
    },
    {
      "cell_type": "code",
      "execution_count": 222,
      "source": [
        "logreg2 = LogisticRegression(C = 100, class_weight = None, dual = False,\r\n",
        "                            multi_class = 'multinomial', penalty = 'l2', random_state = 0, solver = 'newton-cg')"
      ],
      "outputs": [],
      "metadata": {
        "id": "GtPDqVQXc4qJ"
      }
    },
    {
      "cell_type": "code",
      "execution_count": 223,
      "source": [
        "logreg2.fit(rescaled_X_train, y_train)"
      ],
      "outputs": [
        {
          "output_type": "execute_result",
          "data": {
            "text/plain": [
              "LogisticRegression(C=100, multi_class='multinomial', random_state=0,\n",
              "                   solver='newton-cg')"
            ]
          },
          "metadata": {},
          "execution_count": 223
        }
      ],
      "metadata": {
        "colab": {
          "base_uri": "https://localhost:8080/"
        },
        "id": "QIn63patkize",
        "outputId": "857e7dd8-5b51-410f-fd27-b847b26fca5f"
      }
    },
    {
      "cell_type": "code",
      "execution_count": 225,
      "source": [
        "logreg2_prediciton = logreg2.predict(rescaled_X_test)"
      ],
      "outputs": [],
      "metadata": {
        "id": "9zbVZGLfkw_2"
      }
    },
    {
      "cell_type": "code",
      "execution_count": 226,
      "source": [
        "logreg2_matrix = confusion_matrix(y_test, logreg2_prediciton)\r\n",
        "logreg2_matrix"
      ],
      "outputs": [
        {
          "output_type": "execute_result",
          "data": {
            "text/plain": [
              "array([[85, 14],\n",
              "       [12, 96]], dtype=int64)"
            ]
          },
          "metadata": {},
          "execution_count": 226
        }
      ],
      "metadata": {
        "colab": {
          "base_uri": "https://localhost:8080/"
        },
        "id": "wRBcDrk7lZob",
        "outputId": "3d2c3783-8db2-4c83-d7c0-1431c1ec4138"
      }
    },
    {
      "cell_type": "code",
      "execution_count": 227,
      "source": [
        "logreg2_accuracy = accuracy_score(y_test, logreg2_prediciton)*100\r\n",
        "logreg2_accuracy"
      ],
      "outputs": [
        {
          "output_type": "execute_result",
          "data": {
            "text/plain": [
              "87.43961352657004"
            ]
          },
          "metadata": {},
          "execution_count": 227
        }
      ],
      "metadata": {
        "colab": {
          "base_uri": "https://localhost:8080/"
        },
        "id": "2F0_2p6ulbz6",
        "outputId": "c08efb0b-b3c4-46f8-a80e-dbda8aa45923"
      }
    },
    {
      "cell_type": "code",
      "execution_count": 228,
      "source": [
        "logreg2_recall = recall_score(y_test, logreg2_prediciton)*100\r\n",
        "logreg2_recall"
      ],
      "outputs": [
        {
          "output_type": "execute_result",
          "data": {
            "text/plain": [
              "88.88888888888889"
            ]
          },
          "metadata": {},
          "execution_count": 228
        }
      ],
      "metadata": {}
    },
    {
      "cell_type": "code",
      "execution_count": 229,
      "source": [
        "logreg2_precision = precision_score(y_test, logreg2_prediciton)*100\r\n",
        "logreg2_precision"
      ],
      "outputs": [
        {
          "output_type": "execute_result",
          "data": {
            "text/plain": [
              "87.27272727272727"
            ]
          },
          "metadata": {},
          "execution_count": 229
        }
      ],
      "metadata": {}
    },
    {
      "cell_type": "markdown",
      "source": [
        "### Using Grid Search CV in tuning hyperperameters but it seems that the initial model(logreg) is still the best."
      ],
      "metadata": {
        "id": "ppqerMkp5Jnw"
      }
    },
    {
      "cell_type": "markdown",
      "source": [
        "# Feature selection\r\n",
        "### Lets select the relevant features that affect the target variable most and see if the model will improve"
      ],
      "metadata": {}
    },
    {
      "cell_type": "code",
      "execution_count": 241,
      "source": [
        "#get correlations of each features in dataset\r\n",
        "corrmat = credit_card_app.corr()\r\n",
        "top_corr_features = corrmat.index\r\n",
        "plt.figure(figsize=(10,5))\r\n",
        "#plot heat map\r\n",
        "g=sns.heatmap(credit_card_app[top_corr_features].corr(),annot=True,cmap=\"RdYlGn\")"
      ],
      "outputs": [
        {
          "output_type": "display_data",
          "data": {
            "image/png": "[encoded data removed]",
            "text/plain": [
              "<Figure size 720x360 with 2 Axes>"
            ]
          },
          "metadata": {
            "needs_background": "light"
          }
        }
      ],
      "metadata": {}
    },
    {
      "cell_type": "markdown",
      "source": [
        "### The above correlation plot shows the relationship of features with one another.\r\n",
        "### Colums having high correlation with the target variable and will be selected and other relevant columns using domain knowledge."
      ],
      "metadata": {}
    },
    {
      "cell_type": "code",
      "execution_count": 242,
      "source": [
        "#absolute value of correlcation with ApprovalStatus\r\n",
        "approvalStatus_corr = np.abs(corrmat['ApprovalStatus'])\r\n",
        "#selecting columns with correlaction of 0.19 and above\r\n",
        "mask = approvalStatus_corr >= 0.17\r\n",
        "approvalStatus_corr = approvalStatus_corr[mask]\r\n",
        "approvalStatus_corr.drop(index=['BankCustomer','Married','ApprovalStatus'], inplace=True)\r\n",
        "approvalStatus_corr"
      ],
      "outputs": [
        {
          "output_type": "execute_result",
          "data": {
            "text/plain": [
              "Debt             0.206294\n",
              "YearsEmployed    0.322475\n",
              "PriorDefault     0.720407\n",
              "Employed         0.458301\n",
              "CreditScore      0.406410\n",
              "Income           0.175657\n",
              "Name: ApprovalStatus, dtype: float64"
            ]
          },
          "metadata": {},
          "execution_count": 242
        }
      ],
      "metadata": {}
    },
    {
      "cell_type": "code",
      "execution_count": 243,
      "source": [
        "features = approvalStatus_corr.index\r\n",
        "X = credit_card_app[features]\r\n",
        "y = credit_card_app['ApprovalStatus']\r\n",
        "\r\n",
        "#split the dataset into train and test set\r\n",
        "from sklearn.model_selection import train_test_split\r\n",
        "X_train, X_test, y_train, y_test = train_test_split(X, Y, test_size=0.3, random_state=40)"
      ],
      "outputs": [],
      "metadata": {}
    },
    {
      "cell_type": "code",
      "execution_count": 244,
      "source": [
        "# Importing MinMaxScalar\r\n",
        "from sklearn.preprocessing import MinMaxScaler\r\n",
        "# Instantiate MinMaxScaler and use it to rescale\r\n",
        "scaler = MinMaxScaler(feature_range=(0,1))\r\n",
        "rescaled_X_train = scaler.fit_transform(X_train)\r\n",
        "rescaled_X_test = scaler.transform(X_test)"
      ],
      "outputs": [],
      "metadata": {}
    },
    {
      "cell_type": "code",
      "execution_count": 245,
      "source": [
        "#import the logistic regression model to train the dataset\r\n",
        "from sklearn.linear_model import LogisticRegression\r\n",
        "\r\n",
        "# Instantiate a LogisticRegression classifier\r\n",
        "logreg3 = LogisticRegression(random_state=0)\r\n",
        "logreg3.fit(rescaled_X_train, y_train)"
      ],
      "outputs": [
        {
          "output_type": "execute_result",
          "data": {
            "text/plain": [
              "LogisticRegression(random_state=0)"
            ]
          },
          "metadata": {},
          "execution_count": 245
        }
      ],
      "metadata": {}
    },
    {
      "cell_type": "code",
      "execution_count": 257,
      "source": [
        "# Using the predict function to predict the rescaled_X_test\r\n",
        "logreg3_prediction = logreg3.predict(rescaled_X_test)\r\n",
        "\r\n",
        "# Importing Confusion matrix and accuracy score to evaluate the performance of the model\r\n",
        "from sklearn.metrics import confusion_matrix, accuracy_score, precision_score, recall_score, f1_score\r\n",
        "matrix = confusion_matrix(y_test, logreg3_prediction)\r\n",
        "matrix"
      ],
      "outputs": [
        {
          "output_type": "execute_result",
          "data": {
            "text/plain": [
              "array([[90,  9],\n",
              "       [18, 90]], dtype=int64)"
            ]
          },
          "metadata": {},
          "execution_count": 257
        }
      ],
      "metadata": {}
    },
    {
      "cell_type": "code",
      "execution_count": 258,
      "source": [
        "#accuracy score\r\n",
        "accuracy_score(y_test, logreg3_prediction)*100"
      ],
      "outputs": [
        {
          "output_type": "execute_result",
          "data": {
            "text/plain": [
              "86.95652173913044"
            ]
          },
          "metadata": {},
          "execution_count": 258
        }
      ],
      "metadata": {}
    },
    {
      "cell_type": "code",
      "execution_count": 259,
      "source": [
        "#recall score\r\n",
        "recall_score(y_test, y_pred)*100"
      ],
      "outputs": [
        {
          "output_type": "execute_result",
          "data": {
            "text/plain": [
              "83.33333333333334"
            ]
          },
          "metadata": {},
          "execution_count": 259
        }
      ],
      "metadata": {}
    },
    {
      "cell_type": "code",
      "execution_count": 260,
      "source": [
        "#precision score\r\n",
        "precision_score(y_test, logreg3_prediction)*100"
      ],
      "outputs": [
        {
          "output_type": "execute_result",
          "data": {
            "text/plain": [
              "90.9090909090909"
            ]
          },
          "metadata": {},
          "execution_count": 260
        }
      ],
      "metadata": {}
    },
    {
      "cell_type": "markdown",
      "source": [
        "### From the 3 models:\r\n",
        "- logreg\r\n",
        "- logreg2; and\r\n",
        "- logreg3\r\n",
        "\r\n",
        "### Logreg3 has the highest precision of 91% and we would be prioritising precision for this model, to avoid granting approval to a potential defaulter."
      ],
      "metadata": {}
    },
    {
      "cell_type": "code",
      "execution_count": 255,
      "source": [
        "#saving the model to disk\r\n",
        "import pickle\r\n",
        "filename = \"creditApproval_model.sav\"\r\n",
        "pickle.dump(logreg3, open(filename, 'wb'))"
      ],
      "outputs": [],
      "metadata": {}
    },
    {
      "cell_type": "markdown",
      "source": [
        "### We saved the best model to be deployed"
      ],
      "metadata": {}
    }
  ]
}