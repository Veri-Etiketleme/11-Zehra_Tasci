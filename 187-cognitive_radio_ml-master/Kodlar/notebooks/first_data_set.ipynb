{
 "cells": [
  {
   "cell_type": "code",
   "execution_count": 4,
   "metadata": {},
   "outputs": [
    {
     "name": "stdout",
     "output_type": "stream",
     "text": [
      "Python Version: 3.6.2 | packaged by conda-forge | (default, Jul 23 2017, 22:59:30) \n",
      "[GCC 4.8.2 20140120 (Red Hat 4.8.2-15)]\n",
      "Pandas Version: 0.20.3\n",
      "matplotlib Version: 2.0.2\n",
      "NumPy Version: 1.13.1\n",
      "SciPy Version: 0.19.1\n",
      "IPython Version: 6.1.0\n",
      "Scikit-learn Version: 0.18.2\n",
      "graphviz Version: 0.5.2\n"
     ]
    }
   ],
   "source": [
    "# Required modules\n",
    "import scipy as sp\n",
    "import numpy as np\n",
    "import pandas as pd\n",
    "import matplotlib\n",
    "import matplotlib.pyplot as plt\n",
    "import IPython\n",
    "import sklearn\n",
    "import graphviz\n",
    "import sys\n",
    "\n",
    "print(\"Python Version: {}\".format(sys.version))\n",
    "print(\"Pandas Version: {}\".format(pd.__version__))\n",
    "print(\"matplotlib Version: {}\".format(matplotlib.__version__))\n",
    "print(\"NumPy Version: {}\".format(np.__version__))\n",
    "print(\"SciPy Version: {}\".format(sp.__version__))\n",
    "print(\"IPython Version: {}\".format(IPython.__version__))\n",
    "print(\"Scikit-learn Version: {}\".format(sklearn.__version__))\n",
    "print(\"graphviz Version: {}\".format(graphviz.__version__))"
   ]
  },
  {
   "cell_type": "code",
   "execution_count": 2,
   "metadata": {
    "collapsed": true
   },
   "outputs": [],
   "source": [
    "# Constant parameters given by the DySpan PU setup                              \n",
    "DELAY_1 = 0.005 # tau1                                                          \n",
    "DELAY_2 = 0.01  # tau2                                                          \n",
    "TCONST = 0.002                                                                  \n",
    "MEAN1 = 0.02    # lambda1                                                       \n",
    "MEAN2 = 0.01    # lambda2                                                       \n",
    "MEAN3 = 0.005   # lambda3 \n",
    "N_CHAN = 4      # Number of channels\n",
    "N_SCN = 10      # Number of scenarios"
   ]
  },
  {
   "cell_type": "code",
   "execution_count": 3,
   "metadata": {
    "collapsed": true
   },
   "outputs": [],
   "source": [
    "# save the recorded data in variables                                           \n",
    "# interframe time per channel\n",
    "# Scenario 0\n",
    "if_time_ch1_scn_0 = sp.fromfile(open(\"../../data/feature_extraction/interframe_time_ch_1_scn_0.dat\"),\n",
    "                                dtype=sp.float32)                   \n",
    "if_time_ch2_scn_0 = sp.fromfile(open(\"../../data/feature_extraction/interframe_time_ch_2_scn_0.dat\"),\n",
    "                                dtype=sp.float32)                   \n",
    "if_time_ch3_scn_0 = sp.fromfile(open(\"../../data/feature_extraction/interframe_time_ch_3_scn_0.dat\"),\n",
    "                                dtype=sp.float32)                   \n",
    "if_time_ch4_scn_0 = sp.fromfile(open(\"../../data/feature_extraction/interframe_time_ch_4_scn_0.dat\"),\n",
    "                                dtype=sp.float32)\n",
    "# Scenario 1\n",
    "if_time_ch1_scn_1 = sp.fromfile(open(\"../../data/feature_extraction/interframe_time_ch_1_scn_1.dat\"),\n",
    "                                dtype=sp.float32)                   \n",
    "if_time_ch2_scn_1 = sp.fromfile(open(\"../../data/feature_extraction/interframe_time_ch_2_scn_1.dat\"),\n",
    "                                dtype=sp.float32)                   \n",
    "if_time_ch3_scn_1 = sp.fromfile(open(\"../../data/feature_extraction/interframe_time_ch_3_scn_1.dat\"),\n",
    "                                dtype=sp.float32)                   \n",
    "if_time_ch4_scn_1 = sp.fromfile(open(\"../../data/feature_extraction/interframe_time_ch_4_scn_1.dat\"),\n",
    "                                dtype=sp.float32)\n",
    "# Scenario 2\n",
    "if_time_ch1_scn_2 = sp.fromfile(open(\"../../data/feature_extraction/interframe_time_ch_1_scn_2.dat\"),\n",
    "                                dtype=sp.float32)                   \n",
    "if_time_ch2_scn_2 = sp.fromfile(open(\"../../data/feature_extraction/interframe_time_ch_2_scn_2.dat\"),\n",
    "                                dtype=sp.float32)                   \n",
    "if_time_ch3_scn_2 = sp.fromfile(open(\"../../data/feature_extraction/interframe_time_ch_3_scn_2.dat\"),\n",
    "                                dtype=sp.float32)                   \n",
    "if_time_ch4_scn_2 = sp.fromfile(open(\"../../data/feature_extraction/interframe_time_ch_4_scn_2.dat\"),\n",
    "                                dtype=sp.float32)\n",
    "# Scenario 3\n",
    "if_time_ch1_scn_3 = sp.fromfile(open(\"../../data/feature_extraction/interframe_time_ch_1_scn_3.dat\"),\n",
    "                                dtype=sp.float32)                   \n",
    "if_time_ch2_scn_3 = sp.fromfile(open(\"../../data/feature_extraction/interframe_time_ch_2_scn_3.dat\"),\n",
    "                                dtype=sp.float32)                   \n",
    "if_time_ch3_scn_3 = sp.fromfile(open(\"../../data/feature_extraction/interframe_time_ch_3_scn_3.dat\"),\n",
    "                                dtype=sp.float32)                   \n",
    "if_time_ch4_scn_3 = sp.fromfile(open(\"../../data/feature_extraction/interframe_time_ch_4_scn_3.dat\"),\n",
    "                                dtype=sp.float32)\n",
    "# Scenario 4\n",
    "if_time_ch1_scn_4 = sp.fromfile(open(\"../../data/feature_extraction/interframe_time_ch_1_scn_4.dat\"),\n",
    "                                dtype=sp.float32)                   \n",
    "if_time_ch2_scn_4 = sp.fromfile(open(\"../../data/feature_extraction/interframe_time_ch_2_scn_4.dat\"),\n",
    "                                dtype=sp.float32)                   \n",
    "if_time_ch3_scn_4 = sp.fromfile(open(\"../../data/feature_extraction/interframe_time_ch_3_scn_4.dat\"),\n",
    "                                dtype=sp.float32)                   \n",
    "if_time_ch4_scn_4 = sp.fromfile(open(\"../../data/feature_extraction/interframe_time_ch_4_scn_4.dat\"),\n",
    "                                dtype=sp.float32)\n",
    "# Scenario 5\n",
    "if_time_ch1_scn_5 = sp.fromfile(open(\"../../data/feature_extraction/interframe_time_ch_1_scn_5.dat\"),\n",
    "                                dtype=sp.float32)                   \n",
    "if_time_ch2_scn_5 = sp.fromfile(open(\"../../data/feature_extraction/interframe_time_ch_2_scn_5.dat\"),\n",
    "                                dtype=sp.float32)                   \n",
    "if_time_ch3_scn_5 = sp.fromfile(open(\"../../data/feature_extraction/interframe_time_ch_3_scn_5.dat\"),\n",
    "                                dtype=sp.float32)                   \n",
    "if_time_ch4_scn_5 = sp.fromfile(open(\"../../data/feature_extraction/interframe_time_ch_4_scn_5.dat\"),\n",
    "                                dtype=sp.float32)\n",
    "# Scenario 6\n",
    "if_time_ch1_scn_6 = sp.fromfile(open(\"../../data/feature_extraction/interframe_time_ch_1_scn_6.dat\"),\n",
    "                                dtype=sp.float32)                   \n",
    "if_time_ch2_scn_6 = sp.fromfile(open(\"../../data/feature_extraction/interframe_time_ch_2_scn_6.dat\"),\n",
    "                                dtype=sp.float32)                   \n",
    "if_time_ch3_scn_6 = sp.fromfile(open(\"../../data/feature_extraction/interframe_time_ch_3_scn_6.dat\"),\n",
    "                                dtype=sp.float32)                   \n",
    "if_time_ch4_scn_6 = sp.fromfile(open(\"../../data/feature_extraction/interframe_time_ch_4_scn_6.dat\"),\n",
    "                                dtype=sp.float32)\n",
    "# Scenario 7\n",
    "if_time_ch1_scn_7 = sp.fromfile(open(\"../../data/feature_extraction/interframe_time_ch_1_scn_7.dat\"),\n",
    "                                dtype=sp.float32)                   \n",
    "if_time_ch2_scn_7 = sp.fromfile(open(\"../../data/feature_extraction/interframe_time_ch_2_scn_7.dat\"),\n",
    "                                dtype=sp.float32)                   \n",
    "if_time_ch3_scn_7 = sp.fromfile(open(\"../../data/feature_extraction/interframe_time_ch_3_scn_7.dat\"),\n",
    "                                dtype=sp.float32)                   \n",
    "if_time_ch4_scn_7 = sp.fromfile(open(\"../../data/feature_extraction/interframe_time_ch_4_scn_7.dat\"),\n",
    "                                dtype=sp.float32)\n",
    "# Scenario 8\n",
    "if_time_ch1_scn_8 = sp.fromfile(open(\"../../data/feature_extraction/interframe_time_ch_1_scn_8.dat\"),\n",
    "                                dtype=sp.float32)                   \n",
    "if_time_ch2_scn_8 = sp.fromfile(open(\"../../data/feature_extraction/interframe_time_ch_2_scn_8.dat\"),\n",
    "                                dtype=sp.float32)                   \n",
    "if_time_ch3_scn_8 = sp.fromfile(open(\"../../data/feature_extraction/interframe_time_ch_3_scn_8.dat\"),\n",
    "                                dtype=sp.float32)                   \n",
    "if_time_ch4_scn_8 = sp.fromfile(open(\"../../data/feature_extraction/interframe_time_ch_4_scn_8.dat\"),\n",
    "                                dtype=sp.float32)\n",
    "# Scenario 9\n",
    "if_time_ch1_scn_9 = sp.fromfile(open(\"../../data/feature_extraction/interframe_time_ch_1_scn_9.dat\"),\n",
    "                                dtype=sp.float32)                   \n",
    "if_time_ch2_scn_9 = sp.fromfile(open(\"../../data/feature_extraction/interframe_time_ch_2_scn_9.dat\"),\n",
    "                                dtype=sp.float32)                   \n",
    "if_time_ch3_scn_9 = sp.fromfile(open(\"../../data/feature_extraction/interframe_time_ch_3_scn_9.dat\"),\n",
    "                                dtype=sp.float32)                   \n",
    "if_time_ch4_scn_9 = sp.fromfile(open(\"../../data/feature_extraction/interframe_time_ch_4_scn_9.dat\"),\n",
    "                                dtype=sp.float32)"
   ]
  },
  {
   "cell_type": "code",
   "execution_count": 5,
   "metadata": {
    "collapsed": true
   },
   "outputs": [],
   "source": [
    "# save the recorded data in variables                                           \n",
    "# interframe time per channel\n",
    "# Scenario 0\n",
    "test_if_time_ch1_scn_0 = sp.fromfile(open(\"../../data/feature_extraction/2/interframe_time_ch_1_scn_0.dat\"),\n",
    "                                dtype=sp.float32)                   \n",
    "test_if_time_ch2_scn_0 = sp.fromfile(open(\"../../data/feature_extraction/2/interframe_time_ch_2_scn_0.dat\"),\n",
    "                                dtype=sp.float32)                   \n",
    "test_if_time_ch3_scn_0 = sp.fromfile(open(\"../../data/feature_extraction/2/interframe_time_ch_3_scn_0.dat\"),\n",
    "                                dtype=sp.float32)                   \n",
    "test_if_time_ch4_scn_0 = sp.fromfile(open(\"../../data/feature_extraction/2/interframe_time_ch_4_scn_0.dat\"),\n",
    "                                dtype=sp.float32)\n",
    "# Packet rate                                                                   \n",
    "test_packet_rate_scn_0 = sp.fromfile(open(\"../../data/feature_extraction/2/packet_rate_scn_0.dat\"), dtype=sp.float32)\n",
    "# Variance inter frame delay                                                    \n",
    "test_variance_scn_0 = sp.fromfile(open(\"../../data/feature_extraction/2/variance_scn_0.dat\"), dtype=sp.float32)"
   ]
  },
  {
   "cell_type": "code",
   "execution_count": null,
   "metadata": {
    "collapsed": true
   },
   "outputs": [],
   "source": [
    "# Be sure all the interframe delays have the same shape\n",
    "print(type(test_if_time_ch1_scn_0))\n",
    "print(\"Shape interframe delays for scenario 0: {}\".format(test_if_time_ch1_scn_0.shape))\n",
    "print(\"Shape interframe delays for scenario 0: {}\".format(test_if_time_ch2_scn_0.shape))\n",
    "print(\"Shape interframe delays for scenario 0: {}\".format(test_if_time_ch3_scn_0.shape))\n",
    "print(\"Shape interframe delays for scenario 0: {}\".format(test_if_time_ch4_scn_0.shape))\n",
    "print(\"Shape interframe delays for scenario 0: {}\".format(test_packet_rate_scn_0.shape))\n",
    "print(\"Shape interframe delays for scenario 0: {}\".format(test_variance_scn_0.shape))"
   ]
  },
  {
   "cell_type": "code",
   "execution_count": 6,
   "metadata": {
    "collapsed": true
   },
   "outputs": [],
   "source": [
    "# save the recorded data in variables                                           \n",
    "# interframe time per channel\n",
    "# Scenario 0\n",
    "test_if_time_ch1_scn_1 = sp.fromfile(open(\"../../data/feature_extraction/2/interframe_time_ch_1_scn_1.dat\"),\n",
    "                                dtype=sp.float32)                   \n",
    "test_if_time_ch2_scn_1 = sp.fromfile(open(\"../../data/feature_extraction/2/interframe_time_ch_2_scn_1.dat\"),\n",
    "                                dtype=sp.float32)                   \n",
    "test_if_time_ch3_scn_1 = sp.fromfile(open(\"../../data/feature_extraction/2/interframe_time_ch_3_scn_1.dat\"),\n",
    "                                dtype=sp.float32)                   \n",
    "test_if_time_ch4_scn_1 = sp.fromfile(open(\"../../data/feature_extraction/2/interframe_time_ch_4_scn_1.dat\"),\n",
    "                                dtype=sp.float32)\n",
    "# Packet rate                                                                   \n",
    "test_packet_rate_scn_1 = sp.fromfile(open(\"../../data/feature_extraction/2/packet_rate_scn_1.dat\"), dtype=sp.float32)\n",
    "# Variance inter frame delay                                                    \n",
    "test_variance_scn_1 = sp.fromfile(open(\"../../data/feature_extraction/2/variance_scn_1.dat\"), dtype=sp.float32)"
   ]
  },
  {
   "cell_type": "code",
   "execution_count": null,
   "metadata": {
    "collapsed": true
   },
   "outputs": [],
   "source": [
    "# Be sure all the interframe delays have the same shape\n",
    "print(type(test_if_time_ch1_scn_0))\n",
    "print(\"Shape interframe delays for scenario 1: {}\".format(test_if_time_ch1_scn_1.shape))\n",
    "print(\"Shape interframe delays for scenario 1: {}\".format(test_if_time_ch2_scn_1.shape))\n",
    "print(\"Shape interframe delays for scenario 1: {}\".format(test_if_time_ch3_scn_1.shape))\n",
    "print(\"Shape interframe delays for scenario 1: {}\".format(test_if_time_ch4_scn_1.shape))\n",
    "print(\"Shape interframe delays for scenario 1: {}\".format(test_packet_rate_scn_1.shape))\n",
    "print(\"Shape interframe delays for scenario 1: {}\".format(test_variance_scn_1.shape))"
   ]
  },
  {
   "cell_type": "code",
   "execution_count": 7,
   "metadata": {},
   "outputs": [
    {
     "name": "stdout",
     "output_type": "stream",
     "text": [
      "Shape:  4280\n"
     ]
    }
   ],
   "source": [
    "# save the recorded data in variables                                           \n",
    "# interframe time per channel\n",
    "# Scenario 0\n",
    "test_if_time_ch1_scn_2 = sp.fromfile(open(\"../../data/feature_extraction/with_dc/SNR_0/interframe_time_ch_1_scn_2.dat\"),\n",
    "                                dtype=sp.float32)                   \n",
    "print(\"Shape: \", test_if_time_ch1_scn_2.shape[0])\n",
    "\n",
    "# test_if_time_ch2_scn_2 = sp.fromfile(open(\"../../data/feature_extraction/2/interframe_time_ch_2_scn_2.dat\"),\n",
    "#                                 dtype=sp.float32)                   \n",
    "# test_if_time_ch3_scn_2 = sp.fromfile(open(\"../../data/feature_extraction/2/interframe_time_ch_3_scn_2.dat\"),\n",
    "#                                 dtype=sp.float32)                   \n",
    "# test_if_time_ch4_scn_2 = sp.fromfile(open(\"../../data/feature_extraction/2/interframe_time_ch4_scn_2.dat\"),\n",
    "#                                 dtype=sp.float32)\n",
    "# Packet rate                                                                   \n",
    "# test_packet_rate_scn_2 = sp.fromfile(open(\"../../data/feature_extraction/2/packet_rate_scn_2.dat\"), dtype=sp.float32)\n",
    "# Variance inter frame delay                                                    \n",
    "# test_variance_scn_2 = sp.fromfile(open(\"../../data/feature_extraction/2/variance_scn_2.dat\"), dtype=sp.float32)"
   ]
  },
  {
   "cell_type": "code",
   "execution_count": null,
   "metadata": {
    "collapsed": true,
    "scrolled": true
   },
   "outputs": [],
   "source": [
    "# Be sure all the interframe delays have the same shape\n",
    "print(type(test_if_time_ch1_scn_0))\n",
    "print(\"Shape interframe delays for scenario 2: {}\".format(test_if_time_ch1_scn_2.shape))\n",
    "print(\"Shape interframe delays for scenario 2: {}\".format(test_if_time_ch2_scn_2.shape))\n",
    "print(\"Shape interframe delays for scenario 2: {}\".format(test_if_time_ch3_scn_2.shape))\n",
    "print(\"Shape interframe delays for scenario 2: {}\".format(test_if_time_ch4_scn_2.shape))\n",
    "print(\"Shape interframe delays for scenario 2: {}\".format(test_packet_rate_scn_2.shape))\n",
    "print(\"Shape interframe delays for scenario 2: {}\".format(test_variance_scn_2.shape))"
   ]
  },
  {
   "cell_type": "code",
   "execution_count": null,
   "metadata": {
    "collapsed": true
   },
   "outputs": [],
   "source": [
    "# save the recorded data in variables                                           \n",
    "# interframe time per channel\n",
    "# Scenario 0\n",
    "test_if_time_ch1_scn_3 = sp.fromfile(open(\"../../data/feature_extraction/2/interframe_time_ch_1_scn_3.dat\"),\n",
    "                                dtype=sp.float32)                   \n",
    "test_if_time_ch2_scn_3 = sp.fromfile(open(\"../../data/feature_extraction/2/interframe_time_ch_2_scn_3.dat\"),\n",
    "                                dtype=sp.float32)                   \n",
    "test_if_time_ch3_scn_3 = sp.fromfile(open(\"../../data/feature_extraction/2/interframe_time_ch_3_scn_3.dat\"),\n",
    "                                dtype=sp.float32)                   \n",
    "test_if_time_ch4_scn_3 = sp.fromfile(open(\"../../data/feature_extraction/2/interframe_time_ch4_scn_3.dat\"),\n",
    "                                dtype=sp.float32)\n",
    "# Packet rate                                                                   \n",
    "test_packet_rate_scn_3 = sp.fromfile(open(\"../../data/feature_extraction/2/packet_rate_scn_3.dat\"), dtype=sp.float32)\n",
    "# Variance inter frame delay                                                    \n",
    "test_variance_scn_3 = sp.fromfile(open(\"../../data/feature_extraction/2/variance_scn_3.dat\"), dtype=sp.float32)"
   ]
  },
  {
   "cell_type": "code",
   "execution_count": null,
   "metadata": {
    "collapsed": true,
    "scrolled": true
   },
   "outputs": [],
   "source": [
    "# Be sure all the interframe delays have the same shape\n",
    "print(type(test_if_time_ch1_scn_0))\n",
    "print(\"Shape interframe delays for scenario 3: {}\".format(test_if_time_ch1_scn_3.shape))\n",
    "print(\"Shape interframe delays for scenario 3: {}\".format(test_if_time_ch2_scn_3.shape))\n",
    "print(\"Shape interframe delays for scenario 3: {}\".format(test_if_time_ch3_scn_3.shape))\n",
    "print(\"Shape interframe delays for scenario 3: {}\".format(test_if_time_ch4_scn_3.shape))\n",
    "print(\"Shape interframe delays for scenario 3: {}\".format(test_packet_rate_scn_3.shape))\n",
    "print(\"Shape interframe delays for scenario 3: {}\".format(test_variance_scn_3.shape))"
   ]
  },
  {
   "cell_type": "code",
   "execution_count": null,
   "metadata": {
    "collapsed": true
   },
   "outputs": [],
   "source": [
    "# save the recorded data in variables                                           \n",
    "# interframe time per channel\n",
    "# Scenario 0\n",
    "test_if_time_ch1_scn_4 = sp.fromfile(open(\"../../data/feature_extraction/2/interframe_time_ch_1_scn_4.dat\"),\n",
    "                                dtype=sp.float32)                   \n",
    "test_if_time_ch2_scn_4 = sp.fromfile(open(\"../../data/feature_extraction/2/interframe_time_ch_2_scn_4.dat\"),\n",
    "                                dtype=sp.float32)                   \n",
    "test_if_time_ch3_scn_4 = sp.fromfile(open(\"../../data/feature_extraction/2/interframe_time_ch_3_scn_4.dat\"),\n",
    "                                dtype=sp.float32)                   \n",
    "test_if_time_ch4_scn_4 = sp.fromfile(open(\"../../data/feature_extraction/2/interframe_time_ch4_scn_4.dat\"),\n",
    "                                dtype=sp.float32)\n",
    "# Packet rate                                                                   \n",
    "test_packet_rate_scn_4 = sp.fromfile(open(\"../../data/feature_extraction/2/packet_rate_scn_4.dat\"), dtype=sp.float32)\n",
    "# Variance inter frame delay                                                    \n",
    "test_variance_scn_4 = sp.fromfile(open(\"../../data/feature_extraction/2/variance_scn_4.dat\"), dtype=sp.float32)"
   ]
  },
  {
   "cell_type": "code",
   "execution_count": null,
   "metadata": {
    "collapsed": true,
    "scrolled": true
   },
   "outputs": [],
   "source": [
    "# Be sure all the interframe delays have the same shape\n",
    "print(type(test_if_time_ch1_scn_0))\n",
    "print(\"Shape interframe delays for scenario 4: {}\".format(test_if_time_ch1_scn_4.shape))\n",
    "print(\"Shape interframe delays for scenario 4: {}\".format(test_if_time_ch2_scn_4.shape))\n",
    "print(\"Shape interframe delays for scenario 4: {}\".format(test_if_time_ch3_scn_4.shape))\n",
    "print(\"Shape interframe delays for scenario 4: {}\".format(test_if_time_ch4_scn_4.shape))\n",
    "print(\"Shape interframe delays for scenario 4: {}\".format(test_packet_rate_scn_4.shape))\n",
    "print(\"Shape interframe delays for scenario 4: {}\".format(test_variance_scn_4.shape))"
   ]
  },
  {
   "cell_type": "code",
   "execution_count": null,
   "metadata": {
    "collapsed": true
   },
   "outputs": [],
   "source": [
    "# save the recorded data in variables                                           \n",
    "# interframe time per channel\n",
    "# Scenario 0\n",
    "test_if_time_ch1_scn_5 = sp.fromfile(open(\"../../data/feature_extraction/2/interframe_time_ch_1_scn_5.dat\"),\n",
    "                                dtype=sp.float32)                   \n",
    "test_if_time_ch2_scn_5 = sp.fromfile(open(\"../../data/feature_extraction/2/interframe_time_ch_2_scn_5.dat\"),\n",
    "                                dtype=sp.float32)                   \n",
    "test_if_time_ch3_scn_5 = sp.fromfile(open(\"../../data/feature_extraction/2/interframe_time_ch_3_scn_5.dat\"),\n",
    "                                dtype=sp.float32)                   \n",
    "test_if_time_ch4_scn_5 = sp.fromfile(open(\"../../data/feature_extraction/2/interframe_time_ch4_scn_5.dat\"),\n",
    "                                dtype=sp.float32)\n",
    "# Packet rate                                                                   \n",
    "test_packet_rate_scn_5 = sp.fromfile(open(\"../../data/feature_extraction/2/packet_rate_scn_5.dat\"), dtype=sp.float32)\n",
    "# Variance inter frame delay                                                    \n",
    "test_variance_scn_5 = sp.fromfile(open(\"../../data/feature_extraction/2/variance_scn_5.dat\"), dtype=sp.float32)"
   ]
  },
  {
   "cell_type": "code",
   "execution_count": null,
   "metadata": {
    "collapsed": true,
    "scrolled": true
   },
   "outputs": [],
   "source": [
    "# Be sure all the interframe delays have the same shape\n",
    "print(type(test_if_time_ch1_scn_0))\n",
    "print(\"Shape interframe delays for scenario 5: {}\".format(test_if_time_ch1_scn_5.shape))\n",
    "print(\"Shape interframe delays for scenario 5: {}\".format(test_if_time_ch2_scn_5.shape))\n",
    "print(\"Shape interframe delays for scenario 5: {}\".format(test_if_time_ch3_scn_5.shape))\n",
    "print(\"Shape interframe delays for scenario 5: {}\".format(test_if_time_ch4_scn_5.shape))\n",
    "print(\"Shape interframe delays for scenario 5: {}\".format(test_packet_rate_scn_5.shape))\n",
    "print(\"Shape interframe delays for scenario 5: {}\".format(test_variance_scn_5.shape))"
   ]
  },
  {
   "cell_type": "code",
   "execution_count": null,
   "metadata": {
    "collapsed": true
   },
   "outputs": [],
   "source": [
    "# save the recorded data in variables                                           \n",
    "# interframe time per channel\n",
    "# Scenario 0\n",
    "test_if_time_ch1_scn_6 = sp.fromfile(open(\"../../data/feature_extraction/2/interframe_time_ch_1_scn_6.dat\"),\n",
    "                                dtype=sp.float32)                   \n",
    "test_if_time_ch2_scn_6 = sp.fromfile(open(\"../../data/feature_extraction/2/interframe_time_ch_2_scn_6.dat\"),\n",
    "                                dtype=sp.float32)                   \n",
    "test_if_time_ch3_scn_6 = sp.fromfile(open(\"../../data/feature_extraction/2/interframe_time_ch_3_scn_6.dat\"),\n",
    "                                dtype=sp.float32)                   \n",
    "test_if_time_ch4_scn_6 = sp.fromfile(open(\"../../data/feature_extraction/2/interframe_time_ch4_scn_6.dat\"),\n",
    "                                dtype=sp.float32)\n",
    "# Packet rate                                                                   \n",
    "test_packet_rate_scn_6 = sp.fromfile(open(\"../../data/feature_extraction/2/packet_rate_scn_6.dat\"), dtype=sp.float32)\n",
    "# Variance inter frame delay                                                    \n",
    "test_variance_scn_6 = sp.fromfile(open(\"../../data/feature_extraction/2/variance_scn_6.dat\"), dtype=sp.float32)"
   ]
  },
  {
   "cell_type": "code",
   "execution_count": null,
   "metadata": {
    "collapsed": true,
    "scrolled": false
   },
   "outputs": [],
   "source": [
    "# Be sure all the interframe delays have the same shape\n",
    "print(type(test_if_time_ch1_scn_0))\n",
    "print(\"Shape interframe delays for scenario 6: {}\".format(test_if_time_ch1_scn_6.shape))\n",
    "print(\"Shape interframe delays for scenario 6: {}\".format(test_if_time_ch2_scn_6.shape))\n",
    "print(\"Shape interframe delays for scenario 6: {}\".format(test_if_time_ch3_scn_6.shape))\n",
    "print(\"Shape interframe delays for scenario 6: {}\".format(test_if_time_ch4_scn_6.shape))\n",
    "print(\"Shape interframe delays for scenario 6: {}\".format(test_packet_rate_scn_6.shape))\n",
    "print(\"Shape interframe delays for scenario 6: {}\".format(test_variance_scn_6.shape))"
   ]
  },
  {
   "cell_type": "code",
   "execution_count": null,
   "metadata": {
    "collapsed": true
   },
   "outputs": [],
   "source": [
    "# save the recorded data in variables                                           \n",
    "# interframe time per channel\n",
    "# Scenario 0\n",
    "test_if_time_ch1_scn_7 = sp.fromfile(open(\"../../data/feature_extraction/2/interframe_time_ch_1_scn_7.dat\"),\n",
    "                                dtype=sp.float32)                   \n",
    "test_if_time_ch2_scn_7 = sp.fromfile(open(\"../../data/feature_extraction/2/interframe_time_ch_2_scn_7.dat\"),\n",
    "                                dtype=sp.float32)                   \n",
    "test_if_time_ch3_scn_7 = sp.fromfile(open(\"../../data/feature_extraction/2/interframe_time_ch_3_scn_7.dat\"),\n",
    "                                dtype=sp.float32)                   \n",
    "test_if_time_ch4_scn_7 = sp.fromfile(open(\"../../data/feature_extraction/2/interframe_time_ch4_scn_7.dat\"),\n",
    "                                dtype=sp.float32)\n",
    "# Packet rate                                                                   \n",
    "test_packet_rate_scn_7 = sp.fromfile(open(\"../../data/feature_extraction/2/packet_rate_scn_7.dat\"), dtype=sp.float32)\n",
    "# Variance inter frame delay                                                    \n",
    "test_variance_scn_7 = sp.fromfile(open(\"../../data/feature_extraction/2/variance_scn_7.dat\"), dtype=sp.float32)"
   ]
  },
  {
   "cell_type": "code",
   "execution_count": null,
   "metadata": {
    "collapsed": true,
    "scrolled": false
   },
   "outputs": [],
   "source": [
    "# Be sure all the interframe delays have the same shape\n",
    "print(type(test_if_time_ch1_scn_0))\n",
    "print(\"Shape interframe delays for scenario 7: {}\".format(test_if_time_ch1_scn_7.shape))\n",
    "print(\"Shape interframe delays for scenario 7: {}\".format(test_if_time_ch2_scn_7.shape))\n",
    "print(\"Shape interframe delays for scenario 7: {}\".format(test_if_time_ch3_scn_7.shape))\n",
    "print(\"Shape interframe delays for scenario 7: {}\".format(test_if_time_ch4_scn_7.shape))\n",
    "print(\"Shape interframe delays for scenario 7: {}\".format(test_packet_rate_scn_7.shape))\n",
    "print(\"Shape interframe delays for scenario 7: {}\".format(test_variance_scn_7.shape))"
   ]
  },
  {
   "cell_type": "code",
   "execution_count": null,
   "metadata": {
    "collapsed": true
   },
   "outputs": [],
   "source": [
    "# save the recorded data in variables                                           \n",
    "# interframe time per channel\n",
    "# Scenario 0\n",
    "test_if_time_ch1_scn_8 = sp.fromfile(open(\"../../data/feature_extraction/2/interframe_time_ch_1_scn_8.dat\"),\n",
    "                                dtype=sp.float32)                   \n",
    "test_if_time_ch2_scn_8 = sp.fromfile(open(\"../../data/feature_extraction/2/interframe_time_ch_2_scn_8.dat\"),\n",
    "                                dtype=sp.float32)                   \n",
    "test_if_time_ch3_scn_8 = sp.fromfile(open(\"../../data/feature_extraction/2/interframe_time_ch_3_scn_8.dat\"),\n",
    "                                dtype=sp.float32)                   \n",
    "test_if_time_ch4_scn_8 = sp.fromfile(open(\"../../data/feature_extraction/2/interframe_time_ch4_scn_8.dat\"),\n",
    "                                dtype=sp.float32)\n",
    "# Packet rate                                                                   \n",
    "test_packet_rate_scn_8 = sp.fromfile(open(\"../../data/feature_extraction/2/packet_rate_scn_8.dat\"), dtype=sp.float32)\n",
    "# Variance inter frame delay                                                    \n",
    "test_variance_scn_8 = sp.fromfile(open(\"../../data/feature_extraction/2/variance_scn_8.dat\"), dtype=sp.float32)"
   ]
  },
  {
   "cell_type": "code",
   "execution_count": null,
   "metadata": {
    "collapsed": true,
    "scrolled": false
   },
   "outputs": [],
   "source": [
    "# Be sure all the interframe delays have the same shape\n",
    "print(type(test_if_time_ch1_scn_0))\n",
    "print(\"Shape interframe delays for scenario 8: {}\".format(test_if_time_ch1_scn_8.shape))\n",
    "print(\"Shape interframe delays for scenario 8: {}\".format(test_if_time_ch2_scn_8.shape))\n",
    "print(\"Shape interframe delays for scenario 8: {}\".format(test_if_time_ch3_scn_8.shape))\n",
    "print(\"Shape interframe delays for scenario 8: {}\".format(test_if_time_ch4_scn_8.shape))\n",
    "print(\"Shape interframe delays for scenario 8: {}\".format(test_packet_rate_scn_8.shape))\n",
    "print(\"Shape interframe delays for scenario 8: {}\".format(test_variance_scn_8.shape))"
   ]
  },
  {
   "cell_type": "code",
   "execution_count": null,
   "metadata": {
    "collapsed": true
   },
   "outputs": [],
   "source": [
    "# save the recorded data in variables                                           \n",
    "# interframe time per channel\n",
    "# Scenario 0\n",
    "test_if_time_ch1_scn_9 = sp.fromfile(open(\"../../data/feature_extraction/2/interframe_time_ch_1_scn_9.dat\"),\n",
    "                                dtype=sp.float32)                   \n",
    "test_if_time_ch2_scn_9 = sp.fromfile(open(\"../../data/feature_extraction/2/interframe_time_ch_2_scn_9.dat\"),\n",
    "                                dtype=sp.float32)                   \n",
    "test_if_time_ch3_scn_9 = sp.fromfile(open(\"../../data/feature_extraction/2/interframe_time_ch_3_scn_9.dat\"),\n",
    "                                dtype=sp.float32)                   \n",
    "test_if_time_ch4_scn_9 = sp.fromfile(open(\"../../data/feature_extraction/2/interframe_time_ch4_scn_9.dat\"),\n",
    "                                dtype=sp.float32)\n",
    "# Packet rate                                                                   \n",
    "test_packet_rate_scn_9 = sp.fromfile(open(\"../../data/feature_extraction/2/packet_rate_scn_8.dat\"), dtype=sp.float32)\n",
    "# Variance inter frame delay                                                    \n",
    "test_variance_scn_9 = sp.fromfile(open(\"../../data/feature_extraction/2/variance_scn_8.dat\"), dtype=sp.float32)"
   ]
  },
  {
   "cell_type": "code",
   "execution_count": null,
   "metadata": {
    "collapsed": true,
    "scrolled": false
   },
   "outputs": [],
   "source": [
    "# Be sure all the interframe delays have the same shape\n",
    "print(type(test_if_time_ch1_scn_0))\n",
    "print(\"Shape interframe delays for scenario 8: {}\".format(test_if_time_ch1_scn_8.shape))\n",
    "print(\"Shape interframe delays for scenario 8: {}\".format(test_if_time_ch2_scn_8.shape))\n",
    "print(\"Shape interframe delays for scenario 8: {}\".format(test_if_time_ch3_scn_8.shape))\n",
    "print(\"Shape interframe delays for scenario 8: {}\".format(test_if_time_ch4_scn_8.shape))\n",
    "print(\"Shape interframe delays for scenario 8: {}\".format(test_packet_rate_scn_8.shape))\n",
    "print(\"Shape interframe delays for scenario 8: {}\".format(test_variance_scn_8.shape))"
   ]
  },
  {
   "cell_type": "code",
   "execution_count": null,
   "metadata": {
    "collapsed": true
   },
   "outputs": [],
   "source": [
    "# Or avoid doing that per hand and create a list with the following format:\n",
    "# if_time_scn_[]_ch_[]\n",
    "# [[scenario 0, channel 1], [scenario 0, channel 2], ..., [scenario 0, channel 4]],\n",
    "# [[scenario 1, channel 1], [scenario 1, channel 2], ..., [scenario 1, channel 4]],\n",
    "# .\n",
    "# .\n",
    "# .\n",
    "# [[scenario 9, channel 1], [scenario 9, channel 2], ..., [scenario 9, channel 4]],\n",
    "\n",
    "# BETTER TO START THINKING IN CHANNEL 0 TO 3\n",
    "\n",
    "if_time_scn_ch = [[[channel] for channel in range(N_CHAN)] \n",
    "                  for scenario in range(N_SCN)]\n",
    "\n",
    "for scenario in range(N_SCN):\n",
    "    for channel in range(N_CHAN):\n",
    "        if_time_scn_ch[scenario][channel] = sp.fromfile(open(\n",
    "            \"../../data/feature_extraction/interframe_time_ch_{}_scn_{}.dat\".format(channel+1, scenario)),\n",
    "                                                        dtype=sp.float32)      \n",
    "        "
   ]
  },
  {
   "cell_type": "code",
   "execution_count": null,
   "metadata": {
    "collapsed": true
   },
   "outputs": [],
   "source": [
    "# Check if the assignment is according in the two methods\n",
    "\n",
    "if_time_scn_ch[0][0] == if_time_ch1_scn_0"
   ]
  },
  {
   "cell_type": "code",
   "execution_count": null,
   "metadata": {
    "collapsed": true
   },
   "outputs": [],
   "source": [
    "# set up an array that contains the all the interframe delays, one array per scenario \n",
    "# Scenario 0\n",
    "interframe_delays_scn_0 = np.transpose(np.array([if_time_ch1_scn_0,\n",
    "                                                 if_time_ch2_scn_0,\n",
    "                                                 if_time_ch3_scn_0,\n",
    "                                                 if_time_ch4_scn_0])) \n",
    "# Scenario 1\n",
    "interframe_delays_scn_1 = np.transpose(np.array([if_time_ch1_scn_1,\n",
    "                                                 if_time_ch2_scn_1,\n",
    "                                                 if_time_ch3_scn_1,\n",
    "                                                 if_time_ch4_scn_1])) \n",
    "# Scenario 2\n",
    "interframe_delays_scn_2 = np.transpose(np.array([if_time_ch1_scn_2,\n",
    "                                                 if_time_ch2_scn_2,\n",
    "                                                 if_time_ch3_scn_2,\n",
    "                                                 if_time_ch4_scn_2]))\n",
    "# Scenario 3\n",
    "interframe_delays_scn_3 = np.transpose(np.array([if_time_ch1_scn_3,\n",
    "                                                 if_time_ch2_scn_3,\n",
    "                                                 if_time_ch3_scn_3,\n",
    "                                                 if_time_ch4_scn_3]))\n",
    "# Scenario 4\n",
    "interframe_delays_scn_4 = np.transpose(np.array([if_time_ch1_scn_4,\n",
    "                                                 if_time_ch2_scn_4,\n",
    "                                                 if_time_ch3_scn_4,\n",
    "                                                 if_time_ch4_scn_4]))\n",
    "# Scenario 5\n",
    "interframe_delays_scn_5 = np.transpose(np.array([if_time_ch1_scn_5,\n",
    "                                                 if_time_ch2_scn_5,\n",
    "                                                 if_time_ch3_scn_5,\n",
    "                                                 if_time_ch4_scn_5]))\n",
    "# Scenario 6\n",
    "interframe_delays_scn_6 = np.transpose(np.array([if_time_ch1_scn_6,\n",
    "                                                 if_time_ch2_scn_6,\n",
    "                                                 if_time_ch3_scn_6,\n",
    "                                                 if_time_ch4_scn_6]))\n",
    "# Scenario 7\n",
    "interframe_delays_scn_7 = np.transpose(np.array([if_time_ch1_scn_7,\n",
    "                                                 if_time_ch2_scn_7,\n",
    "                                                 if_time_ch3_scn_7,\n",
    "                                                 if_time_ch4_scn_7]))\n",
    "# Scenario 8\n",
    "interframe_delays_scn_8 = np.transpose(np.array([if_time_ch1_scn_8,\n",
    "                                                 if_time_ch2_scn_8,\n",
    "                                                 if_time_ch3_scn_8,\n",
    "                                                 if_time_ch4_scn_8]))\n",
    "# Scenario 9\n",
    "interframe_delays_scn_9 = np.transpose(np.array([if_time_ch1_scn_9,\n",
    "                                                 if_time_ch2_scn_9,\n",
    "                                                 if_time_ch3_scn_9,\n",
    "                                                 if_time_ch4_scn_9]))                                "
   ]
  },
  {
   "cell_type": "code",
   "execution_count": null,
   "metadata": {
    "collapsed": true
   },
   "outputs": [],
   "source": [
    "# Do the same automation for the interframe_delays in a list\n",
    "interframe_delays_scn = [[] for i in range(N_SCN)]\n",
    "for scenario in range(N_SCN):\n",
    "    interframe_delays_scn[scenario] = np.transpose(np.array([if_time_scn_ch[scenario][channel] for channel in range(N_CHAN)]))"
   ]
  },
  {
   "cell_type": "code",
   "execution_count": null,
   "metadata": {
    "collapsed": true
   },
   "outputs": [],
   "source": [
    "# Check that the assignment is according with a random choice\n",
    "interframe_delays_scn[4] == interframe_delays_scn_4"
   ]
  },
  {
   "cell_type": "code",
   "execution_count": null,
   "metadata": {
    "collapsed": true
   },
   "outputs": [],
   "source": [
    "# Be sure all the interframe delays have the same shape\n",
    "print(type(interframe_delays_scn_0))\n",
    "print(\"Shape interframe delays for scenario 0: {}\".format(interframe_delays_scn_0.shape))\n",
    "print(\"Shape interframe delays for scenario 1: {}\".format(interframe_delays_scn_1.shape))\n",
    "print(\"Shape interframe delays for scenario 2: {}\".format(interframe_delays_scn_2.shape))\n",
    "print(\"Shape interframe delays for scenario 3: {}\".format(interframe_delays_scn_3.shape))\n",
    "print(\"Shape interframe delays for scenario 4: {}\".format(interframe_delays_scn_4.shape))\n",
    "print(\"Shape interframe delays for scenario 5: {}\".format(interframe_delays_scn_5.shape))\n",
    "print(\"Shape interframe delays for scenario 6: {}\".format(interframe_delays_scn_6.shape))\n",
    "print(\"Shape interframe delays for scenario 7: {}\".format(interframe_delays_scn_7.shape))\n",
    "print(\"Shape interframe delays for scenario 8: {}\".format(interframe_delays_scn_8.shape))\n",
    "print(\"Shape interframe delays for scenario 9: {}\".format(interframe_delays_scn_9.shape))"
   ]
  },
  {
   "cell_type": "code",
   "execution_count": null,
   "metadata": {
    "collapsed": true
   },
   "outputs": [],
   "source": [
    "# Be sure all the interframe delays have the same shape\n",
    "print(type(interframe_delays_scn))\n",
    "print(type(interframe_delays_scn[0]))\n",
    "total_data = 0\n",
    "for scenario in range(N_SCN):\n",
    "    print(\"Shape Interframe delays for scenario {}: {}\".format(scenario, interframe_delays_scn[scenario].shape))\n",
    "    total_data += interframe_delays_scn[scenario].shape[0]\n",
    "print(\"total data: {}\".format(total_data))"
   ]
  },
  {
   "cell_type": "code",
   "execution_count": null,
   "metadata": {
    "collapsed": true
   },
   "outputs": [],
   "source": [
    "# Packet rate                                                                   \n",
    "packet_rate_scn_0 = sp.fromfile(open(\"../../data/feature_extraction/packet_rate_scn_0.dat\"), dtype=sp.float32) # Scenario 0  \n",
    "packet_rate_scn_1 = sp.fromfile(open(\"../../data/feature_extraction/packet_rate_scn_1.dat\"), dtype=sp.float32) # Scenario 1  \n",
    "packet_rate_scn_2 = sp.fromfile(open(\"../../data/feature_extraction/packet_rate_scn_2.dat\"), dtype=sp.float32) # Scenario 2  \n",
    "packet_rate_scn_3 = sp.fromfile(open(\"../../data/feature_extraction/packet_rate_scn_3.dat\"), dtype=sp.float32) # Scenario 3  \n",
    "packet_rate_scn_4 = sp.fromfile(open(\"../../data/feature_extraction/packet_rate_scn_4.dat\"), dtype=sp.float32) # Scenario 4  \n",
    "packet_rate_scn_5 = sp.fromfile(open(\"../../data/feature_extraction/packet_rate_scn_5.dat\"), dtype=sp.float32) # Scenario 5  \n",
    "packet_rate_scn_6 = sp.fromfile(open(\"../../data/feature_extraction/packet_rate_scn_6.dat\"), dtype=sp.float32) # Scenario 6  \n",
    "packet_rate_scn_7 = sp.fromfile(open(\"../../data/feature_extraction/packet_rate_scn_7.dat\"), dtype=sp.float32) # Scenario 7  \n",
    "packet_rate_scn_8 = sp.fromfile(open(\"../../data/feature_extraction/packet_rate_scn_8.dat\"), dtype=sp.float32) # Scenario 8  \n",
    "packet_rate_scn_9 = sp.fromfile(open(\"../../data/feature_extraction/packet_rate_scn_9.dat\"), dtype=sp.float32) # Scenario 9  \n",
    "                                                                                \n",
    "# Variance inter frame delay                                                    \n",
    "variance_scn_0 = sp.fromfile(open(\"../../data/feature_extraction/variance_scn_0.dat\"), dtype=sp.float32)       # Scenario 0                \n",
    "variance_scn_1 = sp.fromfile(open(\"../../data/feature_extraction/variance_scn_1.dat\"), dtype=sp.float32)       # Scenario 1                \n",
    "variance_scn_2 = sp.fromfile(open(\"../../data/feature_extraction/variance_scn_2.dat\"), dtype=sp.float32)       # Scenario 2                \n",
    "variance_scn_3 = sp.fromfile(open(\"../../data/feature_extraction/variance_scn_3.dat\"), dtype=sp.float32)       # Scenario 3                \n",
    "variance_scn_4 = sp.fromfile(open(\"../../data/feature_extraction/variance_scn_4.dat\"), dtype=sp.float32)       # Scenario 4                \n",
    "variance_scn_5 = sp.fromfile(open(\"../../data/feature_extraction/variance_scn_5.dat\"), dtype=sp.float32)       # Scenario 5                \n",
    "variance_scn_6 = sp.fromfile(open(\"../../data/feature_extraction/variance_scn_6.dat\"), dtype=sp.float32)       # Scenario 6                \n",
    "variance_scn_7 = sp.fromfile(open(\"../../data/feature_extraction/variance_scn_7.dat\"), dtype=sp.float32)       # Scenario 7                \n",
    "variance_scn_8 = sp.fromfile(open(\"../../data/feature_extraction/variance_scn_8.dat\"), dtype=sp.float32)       # Scenario 8                \n",
    "variance_scn_9 = sp.fromfile(open(\"../../data/feature_extraction/variance_scn_9.dat\"), dtype=sp.float32)       # Scenario 9   "
   ]
  },
  {
   "cell_type": "code",
   "execution_count": null,
   "metadata": {
    "collapsed": true
   },
   "outputs": [],
   "source": [
    "# Create iterables for packet rate and variance\n",
    "packet_rate_scn = [[] for scenario in range(N_SCN)]\n",
    "variance_scn = [[] for scenario in range(N_SCN)]\n",
    "\n",
    "for scenario in range(N_SCN):\n",
    "    packet_rate_scn[scenario] = sp.fromfile(open(\"../../data/feature_extraction/packet_rate_scn_{}.dat\".format(scenario)),\n",
    "                                                dtype=sp.float32)\n",
    "    variance_scn[scenario] = sp.fromfile(open(\"../../data/feature_extraction/variance_scn_{}.dat\".format(scenario)),\n",
    "                                             dtype=sp.float32)"
   ]
  },
  {
   "cell_type": "code",
   "execution_count": null,
   "metadata": {
    "collapsed": true
   },
   "outputs": [],
   "source": [
    "# Check validity of iterable again\n",
    "\n",
    "print(packet_rate_scn[4] == packet_rate_scn_4)\n",
    "print(variance_scn[4] == variance_scn_4)"
   ]
  },
  {
   "cell_type": "code",
   "execution_count": null,
   "metadata": {
    "collapsed": true,
    "scrolled": true
   },
   "outputs": [],
   "source": [
    "# Generate a channel ocupation feature\n",
    "channel_ocupation_scn = [[] for scenario in range(N_SCN)]\n",
    "for scenario in range(N_SCN):\n",
    "    channel_ocupation_scn[scenario] = interframe_delays_scn[scenario] > 0\n",
    "print(len(channel_ocupation_scn))"
   ]
  },
  {
   "cell_type": "code",
   "execution_count": null,
   "metadata": {
    "collapsed": true
   },
   "outputs": [],
   "source": [
    "# create lists to describe dataset\n",
    "features_names = ['Interframe delay ch 1', 'Interframe delay ch 2', 'Interframe delay ch 3', 'Interframe delay ch 4', 'Packet Rate', 'Variance IFD', 'channel ocupation']\n",
    "target_names = [\"Scenario {}\".format(i) for i in range(N_SCN)]\n",
    "# target = np.array([scenario for scenario in range(N_SCN)])\n",
    "data = np.array(list(zip(if_time_scn_ch, packet_rate_scn, variance_scn, channel_ocupation_scn)))"
   ]
  },
  {
   "cell_type": "code",
   "execution_count": null,
   "metadata": {
    "collapsed": true
   },
   "outputs": [],
   "source": [
    "# Generate target\n",
    "# List\n",
    "target = []\n",
    "for scenario in range(N_SCN): \n",
    "    target += interframe_delays_scn[scenario].shape[0]*[scenario]\n",
    "    \n",
    "# Array\n",
    "# target = np.array()\n",
    "target_array = np.array(target)"
   ]
  },
  {
   "cell_type": "code",
   "execution_count": null,
   "metadata": {
    "collapsed": true
   },
   "outputs": [],
   "source": [
    "# unrolling data\n",
    "ext_data = "
   ]
  },
  {
   "cell_type": "code",
   "execution_count": null,
   "metadata": {
    "collapsed": true
   },
   "outputs": [],
   "source": [
    "# Checking data structure\n",
    "\n",
    "print(\"Data type: {}, lenght: {}\\n\".format(type(data), len(data)))\n",
    "print(\"if time type: {}, lenght: {}\\n\".format(type(if_time_scn_ch), len(if_time_scn_ch)))\n"
   ]
  },
  {
   "cell_type": "code",
   "execution_count": null,
   "metadata": {
    "collapsed": true
   },
   "outputs": [],
   "source": [
    "# DEBUG: Testing lists concatenation and data validity\n",
    "\n",
    "print(if_time_scn_ch[0][0])\n",
    "test_1 = list(if_time_scn_ch[0][0])\n",
    "test_2 = list(if_time_scn_ch[1][0])\n",
    "#print(test)\n",
    "#trying \n",
    "#print(type(if_time_scn_ch[0][0]), len(if_time_scn_ch[0][0]))\n",
    "print(type(test_1), len(test_1))\n",
    "print(type(test_2), len(test_2))\n",
    "test_3 = test_1 + test_2\n",
    "print(type(test_3), len(test_3))\n",
    "print(test_2[0], test_3[1110])"
   ]
  },
  {
   "cell_type": "code",
   "execution_count": null,
   "metadata": {
    "collapsed": true,
    "scrolled": false
   },
   "outputs": [],
   "source": [
    "# DEBUG: Testing array into lists casting for if_time_scn_ch\n",
    "\n",
    "test_4 = list(if_time_scn_ch)\n",
    "print(type(test_4), len(test_4))\n",
    "print(test_4)"
   ]
  },
  {
   "cell_type": "code",
   "execution_count": null,
   "metadata": {
    "collapsed": true
   },
   "outputs": [],
   "source": [
    "print(len(packet_rate_scn[0]))"
   ]
  },
  {
   "cell_type": "code",
   "execution_count": null,
   "metadata": {
    "collapsed": true
   },
   "outputs": [],
   "source": [
    "# Concatenating data\n",
    "#data_ifn = [[] for channel in range(N_CHAN)]\n",
    "data_ifn = [[] for channel in range(N_CHAN)]\n",
    "concat_packet = []\n",
    "concat_var = []\n",
    "concat_chan = []\n",
    "for scenario in range(N_SCN):\n",
    "    for channel in range(N_CHAN):\n",
    "        data_ifn[channel] += list(if_time_scn_ch[scenario][channel])\n",
    "    concat_packet += list(packet_rate_scn[scenario])\n",
    "    concat_var += list(variance_scn[scenario])\n",
    "    concat_chan += list(channel_ocupation_scn[scenario])\n",
    "#    data_ifn.extend(packet_rate_scn[scenario])\n",
    "#    data_ifn.append(packet_rate_scn[scenario])\n",
    "#    data_ifn.extend(variance_scn[scenario])\n",
    "#for element in range(len(concat_packet)):\n",
    "#    data_ifn = [row + [0] for row in data_ifn]\n",
    "#data_ifn = [[row + concat_packet[item] for row in data_ifn] for item in range(len(concat_packet))]\n",
    "# L = [x + [0] for x in L]\n",
    "data_ifn.append(concat_packet)\n",
    "data_ifn.append(concat_var)\n",
    "data_ifn.append(concat_chan)"
   ]
  },
  {
   "cell_type": "code",
   "execution_count": null,
   "metadata": {
    "collapsed": true
   },
   "outputs": [],
   "source": [
    "print(len(features_names))\n",
    "print(len(target_names))\n",
    "print(len(target))\n",
    "print(len(data_ifn))"
   ]
  },
  {
   "cell_type": "code",
   "execution_count": null,
   "metadata": {
    "collapsed": true
   },
   "outputs": [],
   "source": [
    "# generate a dict to use as dataset\n",
    "\n",
    "# unfuckup\n",
    "data_ifn_what = list(data_ifn)\n",
    "print(data_ifn_what == data_ifn)\n",
    "data_ifn_what = list(zip(*data_ifn_what))\n",
    "print(data_ifn_what == data_ifn)\n",
    "print(type(data_ifn_what))\n",
    "print(len(data_ifn))\n",
    "print(len(data_ifn_what))\n",
    "\n",
    "ml_dataset = {}\n",
    "ml_dataset['feature_names'] = features_names\n",
    "ml_dataset['target_names'] = target_names\n",
    "ml_dataset['target'] = target\n",
    "ml_dataset['data'] = data_ifn_what"
   ]
  },
  {
   "cell_type": "code",
   "execution_count": null,
   "metadata": {
    "collapsed": true
   },
   "outputs": [],
   "source": [
    "# Start MLearning with train_test_split\n",
    "from sklearn.model_selection import train_test_split\n",
    "X_train, X_test, y_train, y_test = train_test_split(ml_dataset['data'], ml_dataset['target'], random_state=0)"
   ]
  },
  {
   "cell_type": "code",
   "execution_count": null,
   "metadata": {
    "collapsed": true
   },
   "outputs": [],
   "source": [
    "print(if_time_ch2_scn_5)\n",
    "print(len(if_time_ch3_scn_6))\n",
    "print(len(if_time_ch2_scn_5))"
   ]
  },
  {
   "cell_type": "code",
   "execution_count": null,
   "metadata": {
    "collapsed": true
   },
   "outputs": [],
   "source": [
    "print(\"Shape of data: {}\".format(ml_dataset['data'].shape))"
   ]
  },
  {
   "cell_type": "code",
   "execution_count": null,
   "metadata": {
    "collapsed": true
   },
   "outputs": [],
   "source": [
    "print(\"Shape of target: {}\".format(ml_dataset['target'].shape))"
   ]
  },
  {
   "cell_type": "code",
   "execution_count": null,
   "metadata": {
    "collapsed": true
   },
   "outputs": [],
   "source": [
    "print(\"X_train shape: {}\".format(X_train.shape))\n",
    "print(\"y_train shape: {}\".format(y_train.shape))\n",
    "#print(ml_dataset['feature_names'])"
   ]
  },
  {
   "cell_type": "code",
   "execution_count": null,
   "metadata": {
    "collapsed": true
   },
   "outputs": [],
   "source": [
    "# Create a dataframe from data in X_train\n",
    "# Label de columns using the strings in ml_dataset.feature_names\n",
    "ml_dataframe = pd.DataFrame(X_train, columns=ml_dataset['feature_names'])\n",
    "# create a scatter matrix from the dataframe, color by y_train\n",
    "grr = pd.plotting.scatter_matrix(ml_dataframe, c=y_train, figsize=(15, 15), marker='o',\n",
    "                                hist_kwds={'bins': 20}, s=60, alpha=.8, cmap=mglearn.cm3)\n",
    "plt.show()"
   ]
  },
  {
   "cell_type": "code",
   "execution_count": null,
   "metadata": {
    "collapsed": true
   },
   "outputs": [],
   "source": [
    "from sklearn.neighbors import KNeighborsClassifier\n",
    "knn = KNeighborsClassifier(n_neighbors=1)"
   ]
  },
  {
   "cell_type": "code",
   "execution_count": null,
   "metadata": {
    "collapsed": true
   },
   "outputs": [],
   "source": [
    "knn.fit(X_train, y_train)"
   ]
  },
  {
   "cell_type": "code",
   "execution_count": null,
   "metadata": {
    "collapsed": true
   },
   "outputs": [],
   "source": []
  }
 ],
 "metadata": {
  "anaconda-cloud": {},
  "kernelspec": {
   "display_name": "Python [default]",
   "language": "python",
   "name": "python3"
  },
  "language_info": {
   "codemirror_mode": {
    "name": "ipython",
    "version": 3
   },
   "file_extension": ".py",
   "mimetype": "text/x-python",
   "name": "python",
   "nbconvert_exporter": "python",
   "pygments_lexer": "ipython3",
   "version": "3.6.2"
  }
 },
 "nbformat": 4,
 "nbformat_minor": 2
}
