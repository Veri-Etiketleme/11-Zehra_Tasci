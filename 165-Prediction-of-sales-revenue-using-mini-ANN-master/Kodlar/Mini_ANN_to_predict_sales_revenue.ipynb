{
  "nbformat": 4,
  "nbformat_minor": 0,
  "metadata": {
    "colab": {
      "name": "Mini ANN to predict sales revenue.ipynb",
      "provenance": [],
      "collapsed_sections": [],
      "authorship_tag": "ABX9TyMo6Sj+jOHy0A1BB8GtdfTq",
      "include_colab_link": true
    },
    "kernelspec": {
      "name": "python3",
      "display_name": "Python 3"
    },
    "accelerator": "GPU"
  },
  "cells": [
    {
      "cell_type": "markdown",
      "metadata": {
        "id": "view-in-github",
        "colab_type": "text"
      },
      "source": [
        "<a href=\"https://colab.research.google.com/github/sushantkumar-estech/Prediction-of-sales-revenue-using-mini-ANN/blob/master/Mini_ANN_to_predict_sales_revenue.ipynb\" target=\"_parent\"><img src=\"https://colab.research.google.com/assets/colab-badge.svg\" alt=\"Open In Colab\"/></a>"
      ]
    },
    {
      "cell_type": "markdown",
      "metadata": {
        "id": "lE9eFxhs5baX",
        "colab_type": "text"
      },
      "source": [
        "## STEP#0: Import Libraries"
      ]
    },
    {
      "cell_type": "code",
      "metadata": {
        "id": "XjEM_6CP5bvw",
        "colab_type": "code",
        "colab": {
          "base_uri": "https://localhost:8080/",
          "height": 663
        },
        "outputId": "a021495c-4ad2-4430-f050-c73c9332585b"
      },
      "source": [
        "!pip install tensorflow\n",
        "try:\n",
        "  %tensorflow_version 1.x\n",
        "except Exception:\n",
        "  pass"
      ],
      "execution_count": 3,
      "outputs": [
        {
          "output_type": "stream",
          "text": [
            "Requirement already satisfied: tensorflow in /usr/local/lib/python3.6/dist-packages (2.3.0)\n",
            "Requirement already satisfied: tensorflow-estimator<2.4.0,>=2.3.0 in /usr/local/lib/python3.6/dist-packages (from tensorflow) (2.3.0)\n",
            "Requirement already satisfied: wheel>=0.26 in /usr/local/lib/python3.6/dist-packages (from tensorflow) (0.35.1)\n",
            "Requirement already satisfied: keras-preprocessing<1.2,>=1.1.1 in /usr/local/lib/python3.6/dist-packages (from tensorflow) (1.1.2)\n",
            "Requirement already satisfied: astunparse==1.6.3 in /usr/local/lib/python3.6/dist-packages (from tensorflow) (1.6.3)\n",
            "Requirement already satisfied: opt-einsum>=2.3.2 in /usr/local/lib/python3.6/dist-packages (from tensorflow) (3.3.0)\n",
            "Requirement already satisfied: termcolor>=1.1.0 in /usr/local/lib/python3.6/dist-packages (from tensorflow) (1.1.0)\n",
            "Requirement already satisfied: google-pasta>=0.1.8 in /usr/local/lib/python3.6/dist-packages (from tensorflow) (0.2.0)\n",
            "Requirement already satisfied: absl-py>=0.7.0 in /usr/local/lib/python3.6/dist-packages (from tensorflow) (0.8.1)\n",
            "Requirement already satisfied: scipy==1.4.1 in /usr/local/lib/python3.6/dist-packages (from tensorflow) (1.4.1)\n",
            "Requirement already satisfied: tensorboard<3,>=2.3.0 in /usr/local/lib/python3.6/dist-packages (from tensorflow) (2.3.0)\n",
            "Requirement already satisfied: numpy<1.19.0,>=1.16.0 in /usr/local/lib/python3.6/dist-packages (from tensorflow) (1.18.5)\n",
            "Requirement already satisfied: wrapt>=1.11.1 in /usr/local/lib/python3.6/dist-packages (from tensorflow) (1.12.1)\n",
            "Requirement already satisfied: grpcio>=1.8.6 in /usr/local/lib/python3.6/dist-packages (from tensorflow) (1.31.0)\n",
            "Requirement already satisfied: six>=1.12.0 in /usr/local/lib/python3.6/dist-packages (from tensorflow) (1.15.0)\n",
            "Requirement already satisfied: gast==0.3.3 in /usr/local/lib/python3.6/dist-packages (from tensorflow) (0.3.3)\n",
            "Requirement already satisfied: protobuf>=3.9.2 in /usr/local/lib/python3.6/dist-packages (from tensorflow) (3.12.4)\n",
            "Requirement already satisfied: h5py<2.11.0,>=2.10.0 in /usr/local/lib/python3.6/dist-packages (from tensorflow) (2.10.0)\n",
            "Requirement already satisfied: requests<3,>=2.21.0 in /usr/local/lib/python3.6/dist-packages (from tensorboard<3,>=2.3.0->tensorflow) (2.23.0)\n",
            "Requirement already satisfied: google-auth-oauthlib<0.5,>=0.4.1 in /usr/local/lib/python3.6/dist-packages (from tensorboard<3,>=2.3.0->tensorflow) (0.4.1)\n",
            "Requirement already satisfied: google-auth<2,>=1.6.3 in /usr/local/lib/python3.6/dist-packages (from tensorboard<3,>=2.3.0->tensorflow) (1.17.2)\n",
            "Requirement already satisfied: setuptools>=41.0.0 in /usr/local/lib/python3.6/dist-packages (from tensorboard<3,>=2.3.0->tensorflow) (49.6.0)\n",
            "Requirement already satisfied: tensorboard-plugin-wit>=1.6.0 in /usr/local/lib/python3.6/dist-packages (from tensorboard<3,>=2.3.0->tensorflow) (1.7.0)\n",
            "Requirement already satisfied: markdown>=2.6.8 in /usr/local/lib/python3.6/dist-packages (from tensorboard<3,>=2.3.0->tensorflow) (3.2.2)\n",
            "Requirement already satisfied: werkzeug>=0.11.15 in /usr/local/lib/python3.6/dist-packages (from tensorboard<3,>=2.3.0->tensorflow) (1.0.1)\n",
            "Requirement already satisfied: urllib3!=1.25.0,!=1.25.1,<1.26,>=1.21.1 in /usr/local/lib/python3.6/dist-packages (from requests<3,>=2.21.0->tensorboard<3,>=2.3.0->tensorflow) (1.24.3)\n",
            "Requirement already satisfied: certifi>=2017.4.17 in /usr/local/lib/python3.6/dist-packages (from requests<3,>=2.21.0->tensorboard<3,>=2.3.0->tensorflow) (2020.6.20)\n",
            "Requirement already satisfied: idna<3,>=2.5 in /usr/local/lib/python3.6/dist-packages (from requests<3,>=2.21.0->tensorboard<3,>=2.3.0->tensorflow) (2.10)\n",
            "Requirement already satisfied: chardet<4,>=3.0.2 in /usr/local/lib/python3.6/dist-packages (from requests<3,>=2.21.0->tensorboard<3,>=2.3.0->tensorflow) (3.0.4)\n",
            "Requirement already satisfied: requests-oauthlib>=0.7.0 in /usr/local/lib/python3.6/dist-packages (from google-auth-oauthlib<0.5,>=0.4.1->tensorboard<3,>=2.3.0->tensorflow) (1.3.0)\n",
            "Requirement already satisfied: rsa<5,>=3.1.4; python_version >= \"3\" in /usr/local/lib/python3.6/dist-packages (from google-auth<2,>=1.6.3->tensorboard<3,>=2.3.0->tensorflow) (4.6)\n",
            "Requirement already satisfied: cachetools<5.0,>=2.0.0 in /usr/local/lib/python3.6/dist-packages (from google-auth<2,>=1.6.3->tensorboard<3,>=2.3.0->tensorflow) (4.1.1)\n",
            "Requirement already satisfied: pyasn1-modules>=0.2.1 in /usr/local/lib/python3.6/dist-packages (from google-auth<2,>=1.6.3->tensorboard<3,>=2.3.0->tensorflow) (0.2.8)\n",
            "Requirement already satisfied: importlib-metadata; python_version < \"3.8\" in /usr/local/lib/python3.6/dist-packages (from markdown>=2.6.8->tensorboard<3,>=2.3.0->tensorflow) (1.7.0)\n",
            "Requirement already satisfied: oauthlib>=3.0.0 in /usr/local/lib/python3.6/dist-packages (from requests-oauthlib>=0.7.0->google-auth-oauthlib<0.5,>=0.4.1->tensorboard<3,>=2.3.0->tensorflow) (3.1.0)\n",
            "Requirement already satisfied: pyasn1>=0.1.3 in /usr/local/lib/python3.6/dist-packages (from rsa<5,>=3.1.4; python_version >= \"3\"->google-auth<2,>=1.6.3->tensorboard<3,>=2.3.0->tensorflow) (0.4.8)\n",
            "Requirement already satisfied: zipp>=0.5 in /usr/local/lib/python3.6/dist-packages (from importlib-metadata; python_version < \"3.8\"->markdown>=2.6.8->tensorboard<3,>=2.3.0->tensorflow) (3.1.0)\n",
            "TensorFlow 1.x selected.\n"
          ],
          "name": "stdout"
        }
      ]
    },
    {
      "cell_type": "code",
      "metadata": {
        "id": "yuf2rRdyNPI0",
        "colab_type": "code",
        "colab": {
          "base_uri": "https://localhost:8080/",
          "height": 51
        },
        "outputId": "2d44fb59-9e7d-4e4b-d710-a7b14111079c"
      },
      "source": [
        "import tensorflow as tf\n",
        "import pandas as pd\n",
        "import seaborn as sns  # to plot images and statical version of data\n",
        "import numpy as np\n",
        "import matplotlib.pyplot as plt"
      ],
      "execution_count": 4,
      "outputs": [
        {
          "output_type": "stream",
          "text": [
            "/usr/local/lib/python3.6/dist-packages/statsmodels/tools/_testing.py:19: FutureWarning: pandas.util.testing is deprecated. Use the functions in the public API at pandas.testing instead.\n",
            "  import pandas.util.testing as tm\n"
          ],
          "name": "stderr"
        }
      ]
    },
    {
      "cell_type": "markdown",
      "metadata": {
        "id": "HcQdQ-yi6FO5",
        "colab_type": "text"
      },
      "source": [
        "## STEP #1: Import *Dataset*"
      ]
    },
    {
      "cell_type": "code",
      "metadata": {
        "id": "diMdgwzU5ISc",
        "colab_type": "code",
        "colab": {
          "base_uri": "https://localhost:8080/",
          "height": 122
        },
        "outputId": "128c3185-b175-43a9-cc62-2e8d01731ca9"
      },
      "source": [
        "from google.colab import drive\n",
        "drive.mount('/content/drive')"
      ],
      "execution_count": 5,
      "outputs": [
        {
          "output_type": "stream",
          "text": [
            "Go to this URL in a browser: https://accounts.google.com/o/oauth2/auth?client_id=947318989803-6bn6qk8qdgf4n4g3pfee6491hc0brc4i.apps.googleusercontent.com&redirect_uri=urn%3aietf%3awg%3aoauth%3a2.0%3aoob&scope=email%20https%3a%2f%2fwww.googleapis.com%2fauth%2fdocs.test%20https%3a%2f%2fwww.googleapis.com%2fauth%2fdrive%20https%3a%2f%2fwww.googleapis.com%2fauth%2fdrive.photos.readonly%20https%3a%2f%2fwww.googleapis.com%2fauth%2fpeopleapi.readonly&response_type=code\n",
            "\n",
            "Enter your authorization code:\n",
            "··········\n",
            "Mounted at /content/drive\n"
          ],
          "name": "stdout"
        }
      ]
    },
    {
      "cell_type": "code",
      "metadata": {
        "id": "lzkLeqe652dC",
        "colab_type": "code",
        "colab": {}
      },
      "source": [
        "sales_df = pd.read_csv('/content/drive/My Drive/ML_Dataset/Revenue Prediction/SalesData.csv')"
      ],
      "execution_count": 6,
      "outputs": []
    },
    {
      "cell_type": "code",
      "metadata": {
        "id": "dV6AsLPt6eAC",
        "colab_type": "code",
        "colab": {
          "base_uri": "https://localhost:8080/",
          "height": 204
        },
        "outputId": "50717521-d47e-48f5-a040-363ac2fe2c59"
      },
      "source": [
        "sales_df.head()"
      ],
      "execution_count": 9,
      "outputs": [
        {
          "output_type": "execute_result",
          "data": {
            "text/html": [
              "<div>\n",
              "<style scoped>\n",
              "    .dataframe tbody tr th:only-of-type {\n",
              "        vertical-align: middle;\n",
              "    }\n",
              "\n",
              "    .dataframe tbody tr th {\n",
              "        vertical-align: top;\n",
              "    }\n",
              "\n",
              "    .dataframe thead th {\n",
              "        text-align: right;\n",
              "    }\n",
              "</style>\n",
              "<table border=\"1\" class=\"dataframe\">\n",
              "  <thead>\n",
              "    <tr style=\"text-align: right;\">\n",
              "      <th></th>\n",
              "      <th>Temperature</th>\n",
              "      <th>Revenue</th>\n",
              "    </tr>\n",
              "  </thead>\n",
              "  <tbody>\n",
              "    <tr>\n",
              "      <th>0</th>\n",
              "      <td>24.566884</td>\n",
              "      <td>534.799028</td>\n",
              "    </tr>\n",
              "    <tr>\n",
              "      <th>1</th>\n",
              "      <td>26.005191</td>\n",
              "      <td>625.190122</td>\n",
              "    </tr>\n",
              "    <tr>\n",
              "      <th>2</th>\n",
              "      <td>27.790554</td>\n",
              "      <td>660.632289</td>\n",
              "    </tr>\n",
              "    <tr>\n",
              "      <th>3</th>\n",
              "      <td>20.595335</td>\n",
              "      <td>487.706960</td>\n",
              "    </tr>\n",
              "    <tr>\n",
              "      <th>4</th>\n",
              "      <td>11.503498</td>\n",
              "      <td>316.240194</td>\n",
              "    </tr>\n",
              "  </tbody>\n",
              "</table>\n",
              "</div>"
            ],
            "text/plain": [
              "   Temperature     Revenue\n",
              "0    24.566884  534.799028\n",
              "1    26.005191  625.190122\n",
              "2    27.790554  660.632289\n",
              "3    20.595335  487.706960\n",
              "4    11.503498  316.240194"
            ]
          },
          "metadata": {
            "tags": []
          },
          "execution_count": 9
        }
      ]
    },
    {
      "cell_type": "code",
      "metadata": {
        "id": "-V1qGsm56rnI",
        "colab_type": "code",
        "colab": {
          "base_uri": "https://localhost:8080/",
          "height": 204
        },
        "outputId": "86403f4c-37e7-4fc1-8fd2-f60e4d15df32"
      },
      "source": [
        "sales_df.tail()"
      ],
      "execution_count": 10,
      "outputs": [
        {
          "output_type": "execute_result",
          "data": {
            "text/html": [
              "<div>\n",
              "<style scoped>\n",
              "    .dataframe tbody tr th:only-of-type {\n",
              "        vertical-align: middle;\n",
              "    }\n",
              "\n",
              "    .dataframe tbody tr th {\n",
              "        vertical-align: top;\n",
              "    }\n",
              "\n",
              "    .dataframe thead th {\n",
              "        text-align: right;\n",
              "    }\n",
              "</style>\n",
              "<table border=\"1\" class=\"dataframe\">\n",
              "  <thead>\n",
              "    <tr style=\"text-align: right;\">\n",
              "      <th></th>\n",
              "      <th>Temperature</th>\n",
              "      <th>Revenue</th>\n",
              "    </tr>\n",
              "  </thead>\n",
              "  <tbody>\n",
              "    <tr>\n",
              "      <th>495</th>\n",
              "      <td>22.274899</td>\n",
              "      <td>524.746364</td>\n",
              "    </tr>\n",
              "    <tr>\n",
              "      <th>496</th>\n",
              "      <td>32.893092</td>\n",
              "      <td>755.818399</td>\n",
              "    </tr>\n",
              "    <tr>\n",
              "      <th>497</th>\n",
              "      <td>12.588157</td>\n",
              "      <td>306.090719</td>\n",
              "    </tr>\n",
              "    <tr>\n",
              "      <th>498</th>\n",
              "      <td>22.362402</td>\n",
              "      <td>566.217304</td>\n",
              "    </tr>\n",
              "    <tr>\n",
              "      <th>499</th>\n",
              "      <td>28.957736</td>\n",
              "      <td>655.660388</td>\n",
              "    </tr>\n",
              "  </tbody>\n",
              "</table>\n",
              "</div>"
            ],
            "text/plain": [
              "     Temperature     Revenue\n",
              "495    22.274899  524.746364\n",
              "496    32.893092  755.818399\n",
              "497    12.588157  306.090719\n",
              "498    22.362402  566.217304\n",
              "499    28.957736  655.660388"
            ]
          },
          "metadata": {
            "tags": []
          },
          "execution_count": 10
        }
      ]
    },
    {
      "cell_type": "code",
      "metadata": {
        "id": "ZjNDn9lI63gk",
        "colab_type": "code",
        "colab": {
          "base_uri": "https://localhost:8080/",
          "height": 297
        },
        "outputId": "a616e15e-9272-4493-c0a8-984e3689bee2"
      },
      "source": [
        "sales_df.describe()"
      ],
      "execution_count": 11,
      "outputs": [
        {
          "output_type": "execute_result",
          "data": {
            "text/html": [
              "<div>\n",
              "<style scoped>\n",
              "    .dataframe tbody tr th:only-of-type {\n",
              "        vertical-align: middle;\n",
              "    }\n",
              "\n",
              "    .dataframe tbody tr th {\n",
              "        vertical-align: top;\n",
              "    }\n",
              "\n",
              "    .dataframe thead th {\n",
              "        text-align: right;\n",
              "    }\n",
              "</style>\n",
              "<table border=\"1\" class=\"dataframe\">\n",
              "  <thead>\n",
              "    <tr style=\"text-align: right;\">\n",
              "      <th></th>\n",
              "      <th>Temperature</th>\n",
              "      <th>Revenue</th>\n",
              "    </tr>\n",
              "  </thead>\n",
              "  <tbody>\n",
              "    <tr>\n",
              "      <th>count</th>\n",
              "      <td>500.000000</td>\n",
              "      <td>500.000000</td>\n",
              "    </tr>\n",
              "    <tr>\n",
              "      <th>mean</th>\n",
              "      <td>22.232225</td>\n",
              "      <td>521.570777</td>\n",
              "    </tr>\n",
              "    <tr>\n",
              "      <th>std</th>\n",
              "      <td>8.096388</td>\n",
              "      <td>175.404751</td>\n",
              "    </tr>\n",
              "    <tr>\n",
              "      <th>min</th>\n",
              "      <td>0.000000</td>\n",
              "      <td>10.000000</td>\n",
              "    </tr>\n",
              "    <tr>\n",
              "      <th>25%</th>\n",
              "      <td>17.122258</td>\n",
              "      <td>405.558681</td>\n",
              "    </tr>\n",
              "    <tr>\n",
              "      <th>50%</th>\n",
              "      <td>22.392791</td>\n",
              "      <td>529.368565</td>\n",
              "    </tr>\n",
              "    <tr>\n",
              "      <th>75%</th>\n",
              "      <td>27.740674</td>\n",
              "      <td>642.257922</td>\n",
              "    </tr>\n",
              "    <tr>\n",
              "      <th>max</th>\n",
              "      <td>45.000000</td>\n",
              "      <td>1000.000000</td>\n",
              "    </tr>\n",
              "  </tbody>\n",
              "</table>\n",
              "</div>"
            ],
            "text/plain": [
              "       Temperature      Revenue\n",
              "count   500.000000   500.000000\n",
              "mean     22.232225   521.570777\n",
              "std       8.096388   175.404751\n",
              "min       0.000000    10.000000\n",
              "25%      17.122258   405.558681\n",
              "50%      22.392791   529.368565\n",
              "75%      27.740674   642.257922\n",
              "max      45.000000  1000.000000"
            ]
          },
          "metadata": {
            "tags": []
          },
          "execution_count": 11
        }
      ]
    },
    {
      "cell_type": "code",
      "metadata": {
        "id": "CdlE53PJ65--",
        "colab_type": "code",
        "colab": {
          "base_uri": "https://localhost:8080/",
          "height": 170
        },
        "outputId": "b3a9a460-21b3-48b0-9a23-160456e62fc5"
      },
      "source": [
        "sales_df.info()"
      ],
      "execution_count": 12,
      "outputs": [
        {
          "output_type": "stream",
          "text": [
            "<class 'pandas.core.frame.DataFrame'>\n",
            "RangeIndex: 500 entries, 0 to 499\n",
            "Data columns (total 2 columns):\n",
            " #   Column       Non-Null Count  Dtype  \n",
            "---  ------       --------------  -----  \n",
            " 0   Temperature  500 non-null    float64\n",
            " 1   Revenue      500 non-null    float64\n",
            "dtypes: float64(2)\n",
            "memory usage: 7.9 KB\n"
          ],
          "name": "stdout"
        }
      ]
    },
    {
      "cell_type": "markdown",
      "metadata": {
        "id": "CM3ojHIu7vh1",
        "colab_type": "text"
      },
      "source": [
        "## STEP #2: Visualization of Dataset"
      ]
    },
    {
      "cell_type": "code",
      "metadata": {
        "id": "xTS2o-Op6-ba",
        "colab_type": "code",
        "colab": {
          "base_uri": "https://localhost:8080/",
          "height": 296
        },
        "outputId": "4e566f6a-5e21-43a3-d727-16b39ed4361d"
      },
      "source": [
        "sns.scatterplot(sales_df['Temperature'], sales_df['Revenue'])"
      ],
      "execution_count": 13,
      "outputs": [
        {
          "output_type": "execute_result",
          "data": {
            "text/plain": [
              "<matplotlib.axes._subplots.AxesSubplot at 0x7fd09b6cd5c0>"
            ]
          },
          "metadata": {
            "tags": []
          },
          "execution_count": 13
        },
        {
          "output_type": "display_data",
          "data": {
            "image/png": "[encoded data removed]",
            "text/plain": [
              "<Figure size 432x288 with 1 Axes>"
            ]
          },
          "metadata": {
            "tags": [],
            "needs_background": "light"
          }
        }
      ]
    },
    {
      "cell_type": "markdown",
      "metadata": {
        "id": "_44UgAUy7Uqo",
        "colab_type": "text"
      },
      "source": [
        "## STEP #3: Creating Training & Testing Dataset"
      ]
    },
    {
      "cell_type": "code",
      "metadata": {
        "id": "cU-1HM5m7KFL",
        "colab_type": "code",
        "colab": {}
      },
      "source": [
        "X_train = sales_df['Temperature']\n",
        "y_train = sales_df['Revenue']"
      ],
      "execution_count": 14,
      "outputs": []
    },
    {
      "cell_type": "markdown",
      "metadata": {
        "id": "O_akqGIK8Dzb",
        "colab_type": "text"
      },
      "source": [
        "## STEP #4: Build & Train the Model"
      ]
    },
    {
      "cell_type": "code",
      "metadata": {
        "id": "6ZSiHN0v7iuj",
        "colab_type": "code",
        "colab": {
          "base_uri": "https://localhost:8080/",
          "height": 34
        },
        "outputId": "11f59c7a-31f4-47ad-9561-dd877b75b2e6"
      },
      "source": [
        "X_train.shape"
      ],
      "execution_count": 15,
      "outputs": [
        {
          "output_type": "execute_result",
          "data": {
            "text/plain": [
              "(500,)"
            ]
          },
          "metadata": {
            "tags": []
          },
          "execution_count": 15
        }
      ]
    },
    {
      "cell_type": "code",
      "metadata": {
        "id": "dvsZo8kR8ILK",
        "colab_type": "code",
        "colab": {
          "base_uri": "https://localhost:8080/",
          "height": 34
        },
        "outputId": "7b560915-42e1-41c2-a059-c1471858d67d"
      },
      "source": [
        "y_train.shape"
      ],
      "execution_count": 16,
      "outputs": [
        {
          "output_type": "execute_result",
          "data": {
            "text/plain": [
              "(500,)"
            ]
          },
          "metadata": {
            "tags": []
          },
          "execution_count": 16
        }
      ]
    },
    {
      "cell_type": "code",
      "metadata": {
        "id": "me7wCFk78Kwk",
        "colab_type": "code",
        "colab": {
          "base_uri": "https://localhost:8080/",
          "height": 88
        },
        "outputId": "4cda7dcf-2e24-472a-96f5-e59095413e74"
      },
      "source": [
        "model = tf.keras.Sequential()\n",
        "model.add(tf.keras.layers.Dense(units= 1, input_shape = [1]))\n",
        "#model.add(tf.keras.layers.Dense(units=1))"
      ],
      "execution_count": 17,
      "outputs": [
        {
          "output_type": "stream",
          "text": [
            "WARNING:tensorflow:From /tensorflow-1.15.2/python3.6/tensorflow_core/python/ops/resource_variable_ops.py:1630: calling BaseResourceVariable.__init__ (from tensorflow.python.ops.resource_variable_ops) with constraint is deprecated and will be removed in a future version.\n",
            "Instructions for updating:\n",
            "If using Keras pass *_constraint arguments to layers.\n"
          ],
          "name": "stdout"
        }
      ]
    },
    {
      "cell_type": "code",
      "metadata": {
        "id": "twNeAgtQ8Pc2",
        "colab_type": "code",
        "colab": {
          "base_uri": "https://localhost:8080/",
          "height": 187
        },
        "outputId": "bbc34de5-c1dd-41e0-8ae1-b0ed866d56df"
      },
      "source": [
        "model.summary()"
      ],
      "execution_count": 18,
      "outputs": [
        {
          "output_type": "stream",
          "text": [
            "Model: \"sequential\"\n",
            "_________________________________________________________________\n",
            "Layer (type)                 Output Shape              Param #   \n",
            "=================================================================\n",
            "dense (Dense)                (None, 1)                 2         \n",
            "=================================================================\n",
            "Total params: 2\n",
            "Trainable params: 2\n",
            "Non-trainable params: 0\n",
            "_________________________________________________________________\n"
          ],
          "name": "stdout"
        }
      ]
    },
    {
      "cell_type": "code",
      "metadata": {
        "id": "6caf0jHN8WGT",
        "colab_type": "code",
        "colab": {}
      },
      "source": [
        "model.compile(optimizer= tf.keras.optimizers.Adam(0.1), loss = 'mean_squared_error')"
      ],
      "execution_count": 19,
      "outputs": []
    },
    {
      "cell_type": "code",
      "metadata": {
        "id": "9ZupyzWP8fvB",
        "colab_type": "code",
        "colab": {
          "base_uri": "https://localhost:8080/",
          "height": 1000
        },
        "outputId": "f18e4c06-7662-4f8d-a66c-d8252e9edf63"
      },
      "source": [
        "epochs_hist = model.fit(X_train, y_train, epochs=100, validation_split = 0.2)"
      ],
      "execution_count": 20,
      "outputs": [
        {
          "output_type": "stream",
          "text": [
            "Train on 400 samples, validate on 100 samples\n",
            "Epoch 1/100\n",
            "400/400 [==============================] - 11s 27ms/sample - loss: 312605.4725 - val_loss: 336566.4600\n",
            "Epoch 2/100\n",
            "400/400 [==============================] - 0s 91us/sample - loss: 279196.2875 - val_loss: 299432.9325\n",
            "Epoch 3/100\n",
            "400/400 [==============================] - 0s 66us/sample - loss: 247784.0687 - val_loss: 265489.6113\n",
            "Epoch 4/100\n",
            "400/400 [==============================] - 0s 78us/sample - loss: 218967.4238 - val_loss: 234333.8981\n",
            "Epoch 5/100\n",
            "400/400 [==============================] - 0s 81us/sample - loss: 192833.8987 - val_loss: 206149.1000\n",
            "Epoch 6/100\n",
            "400/400 [==============================] - 0s 68us/sample - loss: 169015.9606 - val_loss: 180479.2575\n",
            "Epoch 7/100\n",
            "400/400 [==============================] - 0s 76us/sample - loss: 147669.7769 - val_loss: 157348.6925\n",
            "Epoch 8/100\n",
            "400/400 [==============================] - 0s 77us/sample - loss: 128336.0562 - val_loss: 136635.3056\n",
            "Epoch 9/100\n",
            "400/400 [==============================] - 0s 76us/sample - loss: 110955.8000 - val_loss: 118424.9219\n",
            "Epoch 10/100\n",
            "400/400 [==============================] - 0s 71us/sample - loss: 95858.0894 - val_loss: 101842.1759\n",
            "Epoch 11/100\n",
            "400/400 [==============================] - 0s 69us/sample - loss: 82236.5331 - val_loss: 87274.3061\n",
            "Epoch 12/100\n",
            "400/400 [==============================] - 0s 67us/sample - loss: 70151.0344 - val_loss: 74829.9194\n",
            "Epoch 13/100\n",
            "400/400 [==============================] - 0s 68us/sample - loss: 59894.9409 - val_loss: 63569.4762\n",
            "Epoch 14/100\n",
            "400/400 [==============================] - 0s 67us/sample - loss: 50664.3284 - val_loss: 53769.0928\n",
            "Epoch 15/100\n",
            "400/400 [==============================] - 0s 71us/sample - loss: 42671.1167 - val_loss: 45227.8227\n",
            "Epoch 16/100\n",
            "400/400 [==============================] - 0s 80us/sample - loss: 35778.3002 - val_loss: 37877.0877\n",
            "Epoch 17/100\n",
            "400/400 [==============================] - 0s 65us/sample - loss: 29808.3644 - val_loss: 31713.8636\n",
            "Epoch 18/100\n",
            "400/400 [==============================] - 0s 74us/sample - loss: 24841.4708 - val_loss: 26387.7619\n",
            "Epoch 19/100\n",
            "400/400 [==============================] - 0s 70us/sample - loss: 20514.8717 - val_loss: 21947.6720\n",
            "Epoch 20/100\n",
            "400/400 [==============================] - 0s 66us/sample - loss: 17022.4238 - val_loss: 18070.7936\n",
            "Epoch 21/100\n",
            "400/400 [==============================] - 0s 64us/sample - loss: 13937.0086 - val_loss: 14915.4679\n",
            "Epoch 22/100\n",
            "400/400 [==============================] - 0s 79us/sample - loss: 11426.9823 - val_loss: 12297.2932\n",
            "Epoch 23/100\n",
            "400/400 [==============================] - 0s 72us/sample - loss: 9325.6253 - val_loss: 10135.2303\n",
            "Epoch 24/100\n",
            "400/400 [==============================] - 0s 70us/sample - loss: 7619.9039 - val_loss: 8323.5087\n",
            "Epoch 25/100\n",
            "400/400 [==============================] - 0s 75us/sample - loss: 6205.1586 - val_loss: 6842.8901\n",
            "Epoch 26/100\n",
            "400/400 [==============================] - 0s 68us/sample - loss: 5059.2468 - val_loss: 5627.0060\n",
            "Epoch 27/100\n",
            "400/400 [==============================] - 0s 79us/sample - loss: 4125.2575 - val_loss: 4646.2812\n",
            "Epoch 28/100\n",
            "400/400 [==============================] - 0s 80us/sample - loss: 3370.1204 - val_loss: 3857.5535\n",
            "Epoch 29/100\n",
            "400/400 [==============================] - 0s 95us/sample - loss: 2767.3344 - val_loss: 3216.2172\n",
            "Epoch 30/100\n",
            "400/400 [==============================] - 0s 79us/sample - loss: 2291.4022 - val_loss: 2702.3817\n",
            "Epoch 31/100\n",
            "400/400 [==============================] - 0s 79us/sample - loss: 1908.1006 - val_loss: 2296.0865\n",
            "Epoch 32/100\n",
            "400/400 [==============================] - 0s 77us/sample - loss: 1611.5598 - val_loss: 1971.4313\n",
            "Epoch 33/100\n",
            "400/400 [==============================] - 0s 81us/sample - loss: 1376.0334 - val_loss: 1724.9670\n",
            "Epoch 34/100\n",
            "400/400 [==============================] - 0s 82us/sample - loss: 1199.7337 - val_loss: 1526.4567\n",
            "Epoch 35/100\n",
            "400/400 [==============================] - 0s 114us/sample - loss: 1060.9358 - val_loss: 1372.5654\n",
            "Epoch 36/100\n",
            "400/400 [==============================] - 0s 84us/sample - loss: 953.7499 - val_loss: 1255.8452\n",
            "Epoch 37/100\n",
            "400/400 [==============================] - 0s 95us/sample - loss: 871.3739 - val_loss: 1165.8672\n",
            "Epoch 38/100\n",
            "400/400 [==============================] - 0s 74us/sample - loss: 812.3247 - val_loss: 1091.1041\n",
            "Epoch 39/100\n",
            "400/400 [==============================] - 0s 77us/sample - loss: 763.7891 - val_loss: 1034.7891\n",
            "Epoch 40/100\n",
            "400/400 [==============================] - 0s 87us/sample - loss: 728.1296 - val_loss: 991.6290\n",
            "Epoch 41/100\n",
            "400/400 [==============================] - 0s 77us/sample - loss: 702.4819 - val_loss: 957.3235\n",
            "Epoch 42/100\n",
            "400/400 [==============================] - 0s 78us/sample - loss: 682.6405 - val_loss: 931.7815\n",
            "Epoch 43/100\n",
            "400/400 [==============================] - 0s 77us/sample - loss: 667.8057 - val_loss: 912.5954\n",
            "Epoch 44/100\n",
            "400/400 [==============================] - 0s 75us/sample - loss: 657.5814 - val_loss: 897.0849\n",
            "Epoch 45/100\n",
            "400/400 [==============================] - 0s 74us/sample - loss: 649.7788 - val_loss: 885.5071\n",
            "Epoch 46/100\n",
            "400/400 [==============================] - 0s 77us/sample - loss: 644.7025 - val_loss: 876.7715\n",
            "Epoch 47/100\n",
            "400/400 [==============================] - 0s 90us/sample - loss: 640.6223 - val_loss: 869.8404\n",
            "Epoch 48/100\n",
            "400/400 [==============================] - 0s 81us/sample - loss: 638.1425 - val_loss: 863.4736\n",
            "Epoch 49/100\n",
            "400/400 [==============================] - 0s 80us/sample - loss: 635.7511 - val_loss: 859.4680\n",
            "Epoch 50/100\n",
            "400/400 [==============================] - 0s 66us/sample - loss: 634.3027 - val_loss: 856.5961\n",
            "Epoch 51/100\n",
            "400/400 [==============================] - 0s 65us/sample - loss: 633.3410 - val_loss: 853.5590\n",
            "Epoch 52/100\n",
            "400/400 [==============================] - 0s 67us/sample - loss: 632.5952 - val_loss: 851.7400\n",
            "Epoch 53/100\n",
            "400/400 [==============================] - 0s 78us/sample - loss: 632.0185 - val_loss: 850.5264\n",
            "Epoch 54/100\n",
            "400/400 [==============================] - 0s 65us/sample - loss: 631.7107 - val_loss: 848.9688\n",
            "Epoch 55/100\n",
            "400/400 [==============================] - 0s 66us/sample - loss: 631.3749 - val_loss: 847.5917\n",
            "Epoch 56/100\n",
            "400/400 [==============================] - 0s 78us/sample - loss: 631.0796 - val_loss: 846.4368\n",
            "Epoch 57/100\n",
            "400/400 [==============================] - 0s 80us/sample - loss: 630.8230 - val_loss: 845.8074\n",
            "Epoch 58/100\n",
            "400/400 [==============================] - 0s 67us/sample - loss: 630.5624 - val_loss: 844.8807\n",
            "Epoch 59/100\n",
            "400/400 [==============================] - 0s 64us/sample - loss: 630.4136 - val_loss: 844.3399\n",
            "Epoch 60/100\n",
            "400/400 [==============================] - 0s 65us/sample - loss: 630.2815 - val_loss: 843.7309\n",
            "Epoch 61/100\n",
            "400/400 [==============================] - 0s 80us/sample - loss: 630.1504 - val_loss: 843.2910\n",
            "Epoch 62/100\n",
            "400/400 [==============================] - 0s 64us/sample - loss: 630.0218 - val_loss: 843.3235\n",
            "Epoch 63/100\n",
            "400/400 [==============================] - 0s 71us/sample - loss: 629.9697 - val_loss: 843.1511\n",
            "Epoch 64/100\n",
            "400/400 [==============================] - 0s 68us/sample - loss: 629.8154 - val_loss: 843.0289\n",
            "Epoch 65/100\n",
            "400/400 [==============================] - 0s 67us/sample - loss: 629.6976 - val_loss: 842.4505\n",
            "Epoch 66/100\n",
            "400/400 [==============================] - 0s 69us/sample - loss: 629.6015 - val_loss: 842.3804\n",
            "Epoch 67/100\n",
            "400/400 [==============================] - 0s 76us/sample - loss: 629.4967 - val_loss: 842.3013\n",
            "Epoch 68/100\n",
            "400/400 [==============================] - 0s 96us/sample - loss: 629.4378 - val_loss: 842.4794\n",
            "Epoch 69/100\n",
            "400/400 [==============================] - 0s 77us/sample - loss: 629.3293 - val_loss: 842.1541\n",
            "Epoch 70/100\n",
            "400/400 [==============================] - 0s 78us/sample - loss: 629.2888 - val_loss: 842.5583\n",
            "Epoch 71/100\n",
            "400/400 [==============================] - 0s 77us/sample - loss: 629.1531 - val_loss: 841.4891\n",
            "Epoch 72/100\n",
            "400/400 [==============================] - 0s 65us/sample - loss: 628.9805 - val_loss: 841.3871\n",
            "Epoch 73/100\n",
            "400/400 [==============================] - 0s 70us/sample - loss: 628.8578 - val_loss: 841.2119\n",
            "Epoch 74/100\n",
            "400/400 [==============================] - 0s 68us/sample - loss: 628.7308 - val_loss: 841.2329\n",
            "Epoch 75/100\n",
            "400/400 [==============================] - 0s 71us/sample - loss: 628.6820 - val_loss: 841.3154\n",
            "Epoch 76/100\n",
            "400/400 [==============================] - 0s 72us/sample - loss: 628.7533 - val_loss: 840.2417\n",
            "Epoch 77/100\n",
            "400/400 [==============================] - 0s 65us/sample - loss: 628.4518 - val_loss: 840.7711\n",
            "Epoch 78/100\n",
            "400/400 [==============================] - 0s 67us/sample - loss: 628.2648 - val_loss: 840.7362\n",
            "Epoch 79/100\n",
            "400/400 [==============================] - 0s 70us/sample - loss: 628.1936 - val_loss: 840.3526\n",
            "Epoch 80/100\n",
            "400/400 [==============================] - 0s 73us/sample - loss: 628.0505 - val_loss: 840.5724\n",
            "Epoch 81/100\n",
            "400/400 [==============================] - 0s 71us/sample - loss: 628.0205 - val_loss: 840.3528\n",
            "Epoch 82/100\n",
            "400/400 [==============================] - 0s 76us/sample - loss: 627.8834 - val_loss: 841.2105\n",
            "Epoch 83/100\n",
            "400/400 [==============================] - 0s 81us/sample - loss: 627.6628 - val_loss: 841.0122\n",
            "Epoch 84/100\n",
            "400/400 [==============================] - 0s 70us/sample - loss: 627.5916 - val_loss: 840.2131\n",
            "Epoch 85/100\n",
            "400/400 [==============================] - 0s 66us/sample - loss: 627.5488 - val_loss: 840.3438\n",
            "Epoch 86/100\n",
            "400/400 [==============================] - 0s 69us/sample - loss: 627.2891 - val_loss: 840.0180\n",
            "Epoch 87/100\n",
            "400/400 [==============================] - 0s 67us/sample - loss: 627.1577 - val_loss: 840.4158\n",
            "Epoch 88/100\n",
            "400/400 [==============================] - 0s 76us/sample - loss: 627.0118 - val_loss: 840.5636\n",
            "Epoch 89/100\n",
            "400/400 [==============================] - 0s 67us/sample - loss: 626.9449 - val_loss: 840.8930\n",
            "Epoch 90/100\n",
            "400/400 [==============================] - 0s 84us/sample - loss: 626.9466 - val_loss: 840.1989\n",
            "Epoch 91/100\n",
            "400/400 [==============================] - 0s 77us/sample - loss: 626.6235 - val_loss: 840.0652\n",
            "Epoch 92/100\n",
            "400/400 [==============================] - 0s 68us/sample - loss: 626.5076 - val_loss: 839.9041\n",
            "Epoch 93/100\n",
            "400/400 [==============================] - 0s 70us/sample - loss: 626.4862 - val_loss: 840.2512\n",
            "Epoch 94/100\n",
            "400/400 [==============================] - 0s 75us/sample - loss: 626.2446 - val_loss: 840.0433\n",
            "Epoch 95/100\n",
            "400/400 [==============================] - 0s 72us/sample - loss: 626.0848 - val_loss: 839.7455\n",
            "Epoch 96/100\n",
            "400/400 [==============================] - 0s 72us/sample - loss: 626.2202 - val_loss: 838.8368\n",
            "Epoch 97/100\n",
            "400/400 [==============================] - 0s 74us/sample - loss: 625.8222 - val_loss: 840.1280\n",
            "Epoch 98/100\n",
            "400/400 [==============================] - 0s 69us/sample - loss: 625.7174 - val_loss: 840.5020\n",
            "Epoch 99/100\n",
            "400/400 [==============================] - 0s 66us/sample - loss: 625.6825 - val_loss: 839.6781\n",
            "Epoch 100/100\n",
            "400/400 [==============================] - 0s 69us/sample - loss: 625.5088 - val_loss: 840.4341\n"
          ],
          "name": "stdout"
        }
      ]
    },
    {
      "cell_type": "code",
      "metadata": {
        "id": "rR8sX3IS8gbK",
        "colab_type": "code",
        "colab": {}
      },
      "source": [
        ""
      ],
      "execution_count": 20,
      "outputs": []
    },
    {
      "cell_type": "markdown",
      "metadata": {
        "id": "fx5yTuzZ8nfl",
        "colab_type": "text"
      },
      "source": [
        "## STEP #5: Evaluating the Model"
      ]
    },
    {
      "cell_type": "code",
      "metadata": {
        "id": "3ie5z3qi8oHS",
        "colab_type": "code",
        "colab": {
          "base_uri": "https://localhost:8080/",
          "height": 34
        },
        "outputId": "5a5b9773-a0f1-4b47-91c4-f4509935b97b"
      },
      "source": [
        "epochs_hist.history.keys()"
      ],
      "execution_count": 21,
      "outputs": [
        {
          "output_type": "execute_result",
          "data": {
            "text/plain": [
              "dict_keys(['loss', 'val_loss'])"
            ]
          },
          "metadata": {
            "tags": []
          },
          "execution_count": 21
        }
      ]
    },
    {
      "cell_type": "code",
      "metadata": {
        "id": "UWhmNgJ68rHg",
        "colab_type": "code",
        "colab": {
          "base_uri": "https://localhost:8080/",
          "height": 295
        },
        "outputId": "72a3caf8-6e71-4f4f-ea45-95d1129f396b"
      },
      "source": [
        "plt.plot(epochs_hist.history['loss'], color='blue')\n",
        "plt.title('Model loss Progress during training')\n",
        "plt.xlabel('Epochs')\n",
        "plt.ylabel('Training loss')\n",
        "plt.legend('Training loss')\n",
        "plt.show()"
      ],
      "execution_count": 22,
      "outputs": [
        {
          "output_type": "display_data",
          "data": {
            "image/png": "[encoded data removed]",
            "text/plain": [
              "<Figure size 432x288 with 1 Axes>"
            ]
          },
          "metadata": {
            "tags": [],
            "needs_background": "light"
          }
        }
      ]
    },
    {
      "cell_type": "code",
      "metadata": {
        "id": "Pg-lJ5XBbhUb",
        "colab_type": "code",
        "colab": {
          "base_uri": "https://localhost:8080/",
          "height": 312
        },
        "outputId": "2a80f241-d9b2-425f-8a83-a2916465f035"
      },
      "source": [
        "plt.plot(epochs_hist.history['loss'], color='blue', label='Training loss')\n",
        "plt.plot(epochs_hist.history['val_loss'], color='red', label='Validation loss')\n",
        "\n",
        "plt.title('Model loss progress during training the model')\n",
        "plt.xlabel('Epochs')\n",
        "plt.ylabel('Training loss / Validation Loss')"
      ],
      "execution_count": 23,
      "outputs": [
        {
          "output_type": "execute_result",
          "data": {
            "text/plain": [
              "Text(0, 0.5, 'Training loss / Validation Loss')"
            ]
          },
          "metadata": {
            "tags": []
          },
          "execution_count": 23
        },
        {
          "output_type": "display_data",
          "data": {
            "image/png": "[encoded data removed]",
            "text/plain": [
              "<Figure size 432x288 with 1 Axes>"
            ]
          },
          "metadata": {
            "tags": [],
            "needs_background": "light"
          }
        }
      ]
    },
    {
      "cell_type": "code",
      "metadata": {
        "id": "WRs-PwxS8tXH",
        "colab_type": "code",
        "colab": {
          "base_uri": "https://localhost:8080/",
          "height": 34
        },
        "outputId": "d8289d2e-54e0-4617-878c-53ab94e896d5"
      },
      "source": [
        "model.get_weights()"
      ],
      "execution_count": 24,
      "outputs": [
        {
          "output_type": "execute_result",
          "data": {
            "text/plain": [
              "[array([[22.191706]], dtype=float32), array([25.261503], dtype=float32)]"
            ]
          },
          "metadata": {
            "tags": []
          },
          "execution_count": 24
        }
      ]
    },
    {
      "cell_type": "code",
      "metadata": {
        "id": "LtdU6r1a_kIg",
        "colab_type": "code",
        "colab": {
          "base_uri": "https://localhost:8080/",
          "height": 34
        },
        "outputId": "b6829617-c166-46aa-c91d-32eceea9ed85"
      },
      "source": [
        "# Use the same model to perform predictions\n",
        "Temperature = 5\n",
        "Revenue = model.predict([Temperature])\n",
        "print('Revenue Prediction using trained ANN=', Revenue)"
      ],
      "execution_count": 25,
      "outputs": [
        {
          "output_type": "stream",
          "text": [
            "Revenue Prediction using trained ANN= [[136.22003]]\n"
          ],
          "name": "stdout"
        }
      ]
    },
    {
      "cell_type": "code",
      "metadata": {
        "id": "q2xFN8pI_6MS",
        "colab_type": "code",
        "colab": {
          "base_uri": "https://localhost:8080/",
          "height": 295
        },
        "outputId": "e2eb5399-7f3d-4859-b57a-530f41c4a62b"
      },
      "source": [
        "plt.scatter(X_train, y_train, color = 'g', label = 'actual revenue')\n",
        "plt.plot(X_train, model.predict(X_train), color = 'r', label = 'predicted revenue (regression)')\n",
        "plt.ylabel(\"Revenue collection (in dollars)\")\n",
        "plt.xlabel(\"Outdoor temprature (in Celsius)\")\n",
        "plt.title(\"Revenue vs Temperature plot for Ice Sale\")\n",
        "plt.legend()\n",
        "plt.show()"
      ],
      "execution_count": 26,
      "outputs": [
        {
          "output_type": "display_data",
          "data": {
            "image/png": "[encoded data removed]",
            "text/plain": [
              "<Figure size 432x288 with 1 Axes>"
            ]
          },
          "metadata": {
            "tags": [],
            "needs_background": "light"
          }
        }
      ]
    },
    {
      "cell_type": "code",
      "metadata": {
        "id": "-eFAj1brBDnR",
        "colab_type": "code",
        "colab": {}
      },
      "source": [
        ""
      ],
      "execution_count": 26,
      "outputs": []
    },
    {
      "cell_type": "markdown",
      "metadata": {
        "id": "m9C369Y5GuwP",
        "colab_type": "text"
      },
      "source": [
        "## STEP #6 (Optional): Confirming the model using Regression Kit in Scikit learn! "
      ]
    },
    {
      "cell_type": "code",
      "metadata": {
        "id": "H0S3XpTGG83Z",
        "colab_type": "code",
        "colab": {}
      },
      "source": [
        "# making dataset in batch\n",
        "\n",
        "X_train = X_train.values.reshape(-1,1)"
      ],
      "execution_count": 27,
      "outputs": []
    },
    {
      "cell_type": "code",
      "metadata": {
        "id": "mY6CyjS2HKej",
        "colab_type": "code",
        "colab": {
          "base_uri": "https://localhost:8080/",
          "height": 34
        },
        "outputId": "af884af6-96f9-426d-af6f-651c28e95982"
      },
      "source": [
        "X_train.shape"
      ],
      "execution_count": 28,
      "outputs": [
        {
          "output_type": "execute_result",
          "data": {
            "text/plain": [
              "(500, 1)"
            ]
          },
          "metadata": {
            "tags": []
          },
          "execution_count": 28
        }
      ]
    },
    {
      "cell_type": "code",
      "metadata": {
        "id": "Av16dOwGHMmc",
        "colab_type": "code",
        "colab": {}
      },
      "source": [
        "y_train = y_train.values.reshape(-1,1)"
      ],
      "execution_count": 29,
      "outputs": []
    },
    {
      "cell_type": "code",
      "metadata": {
        "id": "kcAeXkOQHQYk",
        "colab_type": "code",
        "colab": {
          "base_uri": "https://localhost:8080/",
          "height": 34
        },
        "outputId": "1b30cde9-1cf2-458e-fa7f-5de8f872648d"
      },
      "source": [
        "y_train.shape"
      ],
      "execution_count": 30,
      "outputs": [
        {
          "output_type": "execute_result",
          "data": {
            "text/plain": [
              "(500, 1)"
            ]
          },
          "metadata": {
            "tags": []
          },
          "execution_count": 30
        }
      ]
    },
    {
      "cell_type": "code",
      "metadata": {
        "id": "jYKIUTPTHSgw",
        "colab_type": "code",
        "colab": {}
      },
      "source": [
        "from sklearn.linear_model import  LinearRegression"
      ],
      "execution_count": 31,
      "outputs": []
    },
    {
      "cell_type": "code",
      "metadata": {
        "id": "sFkYKz3SHZR-",
        "colab_type": "code",
        "colab": {
          "base_uri": "https://localhost:8080/",
          "height": 34
        },
        "outputId": "12ef68b8-a2e3-438a-88d2-dc88e92d5d5d"
      },
      "source": [
        "regressor = LinearRegression(fit_intercept= True) # asking LinearRegression to return the slope along with the Y-intercept\n",
        "regressor.fit(X_train, y_train)"
      ],
      "execution_count": 32,
      "outputs": [
        {
          "output_type": "execute_result",
          "data": {
            "text/plain": [
              "LinearRegression(copy_X=True, fit_intercept=True, n_jobs=None, normalize=False)"
            ]
          },
          "metadata": {
            "tags": []
          },
          "execution_count": 32
        }
      ]
    },
    {
      "cell_type": "code",
      "metadata": {
        "id": "RRe7qd61H9sp",
        "colab_type": "code",
        "colab": {
          "base_uri": "https://localhost:8080/",
          "height": 51
        },
        "outputId": "95430280-17bd-4bf2-afbe-c3deaa74930d"
      },
      "source": [
        "print('Linear Model Coeff(m)', regressor.coef_)\n",
        "print('Linear Model Coeff(b)', regressor.intercept_) "
      ],
      "execution_count": 33,
      "outputs": [
        {
          "output_type": "stream",
          "text": [
            "Linear Model Coeff(m) [[21.44362551]]\n",
            "Linear Model Coeff(b) [44.83126709]\n"
          ],
          "name": "stdout"
        }
      ]
    },
    {
      "cell_type": "code",
      "metadata": {
        "id": "KOV1Pe0xINzE",
        "colab_type": "code",
        "colab": {
          "base_uri": "https://localhost:8080/",
          "height": 295
        },
        "outputId": "f95c47dd-f4a4-4709-db1b-a3b688f7fd64"
      },
      "source": [
        "plt.scatter(X_train, y_train, color = 'y', label = 'actual revenue')\n",
        "plt.plot(X_train, regressor.predict(X_train), color = 'b', label = 'predicted revenue (regression)')\n",
        "plt.ylabel(\"Revenue collection (in dollars)\")\n",
        "plt.xlabel(\"Outdoor temprature (in Celsius)\")\n",
        "plt.title(\"Revenue vs Temperature plot for Ice Sale\")\n",
        "plt.legend()\n",
        "plt.show()"
      ],
      "execution_count": 34,
      "outputs": [
        {
          "output_type": "display_data",
          "data": {
            "image/png": "[encoded data removed]",
            "text/plain": [
              "<Figure size 432x288 with 1 Axes>"
            ]
          },
          "metadata": {
            "tags": [],
            "needs_background": "light"
          }
        }
      ]
    },
    {
      "cell_type": "code",
      "metadata": {
        "id": "TmKdWh7KI14M",
        "colab_type": "code",
        "colab": {
          "base_uri": "https://localhost:8080/",
          "height": 34
        },
        "outputId": "6e9cf857-c747-4359-c264-ae50eb79dddd"
      },
      "source": [
        "# Use the same model to perform predictions\n",
        "Temperature = [5]\n",
        "Revenue = regressor.predict([Temperature])\n",
        "print('Revenue Prediction using regressor model=', Revenue)"
      ],
      "execution_count": 35,
      "outputs": [
        {
          "output_type": "stream",
          "text": [
            "Revenue Prediction using regressor model= [[152.04939464]]\n"
          ],
          "name": "stdout"
        }
      ]
    },
    {
      "cell_type": "code",
      "metadata": {
        "id": "SqZ5k0witEOw",
        "colab_type": "code",
        "colab": {}
      },
      "source": [
        ""
      ],
      "execution_count": 35,
      "outputs": []
    }
  ]
}